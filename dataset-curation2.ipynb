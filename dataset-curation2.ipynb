{
 "cells": [
  {
   "cell_type": "code",
   "execution_count": 2,
   "outputs": [],
   "source": [
    "import pandas as pd\n",
    "\n",
    "data_dir = \"./dataset/APItoStaging/testresult-1.csv\""
   ],
   "metadata": {
    "collapsed": false,
    "pycharm": {
     "name": "#%%\n"
    }
   }
  },
  {
   "cell_type": "code",
   "execution_count": 3,
   "metadata": {
    "collapsed": true
   },
   "outputs": [
    {
     "name": "stderr",
     "output_type": "stream",
     "text": [
      "C:\\Users\\ASUS\\AppData\\Local\\Temp\\ipykernel_15488\\253280230.py:3: DtypeWarning: Columns (14) have mixed types. Specify dtype option on import or set low_memory=False.\n",
      "  df = pd.read_csv(\"./dataset/APItoStaging/testresult-1.csv\")\n"
     ]
    }
   ],
   "source": [
    "## Read test\n",
    "\n",
    "df = pd.read_csv(\"./dataset/APItoStaging/testresult-1.csv\")"
   ]
  },
  {
   "cell_type": "code",
   "execution_count": 4,
   "outputs": [
    {
     "data": {
      "text/plain": "                                                      PIK  \\\n0       0694a9758a8733b8cd51e4259d3235d30ad56b1bed19c1...   \n1       0694a9758a8733b8cd51e4259d3235d30ad56b1bed19c1...   \n2       0694a9758a8733b8cd51e4259d3235d30ad56b1bed19c1...   \n3       0694a9758a8733b8cd51e4259d3235d30ad56b1bed19c1...   \n4       0694a9758a8733b8cd51e4259d3235d30ad56b1bed19c1...   \n...                                                   ...   \n178546  a3841d9ebaa3c7e54b91ea3a5f349c9105d01ea196e107...   \n178547  a3841d9ebaa3c7e54b91ea3a5f349c9105d01ea196e107...   \n178548  a3841d9ebaa3c7e54b91ea3a5f349c9105d01ea196e107...   \n178549  a3841d9ebaa3c7e54b91ea3a5f349c9105d01ea196e107...   \n178550  67c6496296e90da51e0481fe8fd22a9f4d86d73bb27e0a...   \n\n                                   address          age  age_yy analyzer  \\\n0              KARANIGONJ, ATIBAZAR, DHAKA    76Y 7M 1D    76.0      NaN   \n1              KARANIGONJ, ATIBAZAR, DHAKA    76Y 7M 1D    76.0      NaN   \n2              KARANIGONJ, ATIBAZAR, DHAKA    76Y 7M 1D    76.0      NaN   \n3              KARANIGONJ, ATIBAZAR, DHAKA    76Y 7M 1D    76.0      NaN   \n4              KARANIGONJ, ATIBAZAR, DHAKA    76Y 7M 1D    76.0      NaN   \n...                                    ...          ...     ...      ...   \n178546            ABDULLAHPUR, KERANIGONJ.  49Y 10M 29D    49.0      NaN   \n178547            ABDULLAHPUR, KERANIGONJ.  49Y 10M 29D    49.0      NaN   \n178548            ABDULLAHPUR, KERANIGONJ.  49Y 10M 29D    49.0      NaN   \n178549            ABDULLAHPUR, KERANIGONJ.  49Y 10M 29D    49.0      NaN   \n178550   178/179, NORTH SOUTH ROAD, DHAKA.   29Y 1M 10D    29.0      NaN   \n\n          attr_id                         attr_name blood_group  comments  \\\n0        101518.0                              Urea         NaN       NaN   \n1        102046.0                        Creatinine         NaN       NaN   \n2        102182.0                     Triglycerides         NaN       NaN   \n3        102181.0                   LDL Cholesterol         NaN       NaN   \n4        102180.0                   HDL Cholesterol         NaN       NaN   \n...           ...                               ...         ...       ...   \n178546   100081.0                             Blast                   NaN   \n178547   100082.0  Atypical and hairy looking cells                   NaN   \n178548   100083.0                       Others (DC)                   NaN   \n178549   104291.0                               ESR                   NaN   \n178550  3002238.0     Skin Biopsy (HISTO-PATHOLOGY)         NaN       NaN   \n\n       district  ... refrage_id             reg_date  \\\n0         DHAKA  ...        NaN  11/18/2018 12:29 PM   \n1         DHAKA  ...        NaN  11/18/2018 12:29 PM   \n2         DHAKA  ...        NaN  11/18/2018 12:29 PM   \n3         DHAKA  ...        NaN  11/18/2018 12:29 PM   \n4         DHAKA  ...        NaN  11/18/2018 12:29 PM   \n...         ...  ...        ...                  ...   \n178546    DHAKA  ...        NaN            12/1/2018   \n178547    DHAKA  ...        NaN            12/1/2018   \n178548    DHAKA  ...        NaN            12/1/2018   \n178549    DHAKA  ...        NaN            12/1/2018   \n178550    DHAKA  ...        NaN  11/18/2018 12:29 PM   \n\n                          report_date  result result_type  test_group_id  \\\n0       Sat, 01 Dec 2018 00:00:00 GMT    73.2           G            NaN   \n1       Sat, 01 Dec 2018 00:00:00 GMT     2.4           G            NaN   \n2       Sat, 01 Dec 2018 00:00:00 GMT     280           G         1114.0   \n3       Sat, 01 Dec 2018 00:00:00 GMT     264           G         1114.0   \n4       Sat, 01 Dec 2018 00:00:00 GMT      47           G         1114.0   \n...                               ...     ...         ...            ...   \n178546  Mon, 31 Dec 2018 00:00:00 GMT     NaN           G         1090.0   \n178547  Mon, 31 Dec 2018 00:00:00 GMT     NaN           G         1090.0   \n178548  Mon, 31 Dec 2018 00:00:00 GMT     NaN           G         1090.0   \n178549  Mon, 31 Dec 2018 00:00:00 GMT     NaN           G            NaN   \n178550  Mon, 17 Dec 2018 00:00:00 GMT     NaN         NaN            NaN   \n\n            test_group_name test_id            unit     upazila  \n0                       NaN  101301           mg/dl   TATIBAZAR  \n1                       NaN  101302           mg/dl   TATIBAZAR  \n2       Lipid Profile Serum  100441           mg/dL   TATIBAZAR  \n3       Lipid Profile Serum  100441           mg/dL   TATIBAZAR  \n4       Lipid Profile Serum  100441           mg/dL   TATIBAZAR  \n...                     ...     ...             ...         ...  \n178546   Differential Count  101497               %  KERANIGANJ  \n178547   Differential Count  101497               %  KERANIGANJ  \n178548   Differential Count  101497               %  KERANIGANJ  \n178549                  NaN  101497  mm in 1st hour  KERANIGANJ  \n178550                  NaN  101495             NaN    SUTRAPUR  \n\n[178551 rows x 31 columns]",
      "text/html": "<div>\n<style scoped>\n    .dataframe tbody tr th:only-of-type {\n        vertical-align: middle;\n    }\n\n    .dataframe tbody tr th {\n        vertical-align: top;\n    }\n\n    .dataframe thead th {\n        text-align: right;\n    }\n</style>\n<table border=\"1\" class=\"dataframe\">\n  <thead>\n    <tr style=\"text-align: right;\">\n      <th></th>\n      <th>PIK</th>\n      <th>address</th>\n      <th>age</th>\n      <th>age_yy</th>\n      <th>analyzer</th>\n      <th>attr_id</th>\n      <th>attr_name</th>\n      <th>blood_group</th>\n      <th>comments</th>\n      <th>district</th>\n      <th>...</th>\n      <th>refrage_id</th>\n      <th>reg_date</th>\n      <th>report_date</th>\n      <th>result</th>\n      <th>result_type</th>\n      <th>test_group_id</th>\n      <th>test_group_name</th>\n      <th>test_id</th>\n      <th>unit</th>\n      <th>upazila</th>\n    </tr>\n  </thead>\n  <tbody>\n    <tr>\n      <th>0</th>\n      <td>0694a9758a8733b8cd51e4259d3235d30ad56b1bed19c1...</td>\n      <td>KARANIGONJ, ATIBAZAR, DHAKA</td>\n      <td>76Y 7M 1D</td>\n      <td>76.0</td>\n      <td>NaN</td>\n      <td>101518.0</td>\n      <td>Urea</td>\n      <td>NaN</td>\n      <td>NaN</td>\n      <td>DHAKA</td>\n      <td>...</td>\n      <td>NaN</td>\n      <td>11/18/2018 12:29 PM</td>\n      <td>Sat, 01 Dec 2018 00:00:00 GMT</td>\n      <td>73.2</td>\n      <td>G</td>\n      <td>NaN</td>\n      <td>NaN</td>\n      <td>101301</td>\n      <td>mg/dl</td>\n      <td>TATIBAZAR</td>\n    </tr>\n    <tr>\n      <th>1</th>\n      <td>0694a9758a8733b8cd51e4259d3235d30ad56b1bed19c1...</td>\n      <td>KARANIGONJ, ATIBAZAR, DHAKA</td>\n      <td>76Y 7M 1D</td>\n      <td>76.0</td>\n      <td>NaN</td>\n      <td>102046.0</td>\n      <td>Creatinine</td>\n      <td>NaN</td>\n      <td>NaN</td>\n      <td>DHAKA</td>\n      <td>...</td>\n      <td>NaN</td>\n      <td>11/18/2018 12:29 PM</td>\n      <td>Sat, 01 Dec 2018 00:00:00 GMT</td>\n      <td>2.4</td>\n      <td>G</td>\n      <td>NaN</td>\n      <td>NaN</td>\n      <td>101302</td>\n      <td>mg/dl</td>\n      <td>TATIBAZAR</td>\n    </tr>\n    <tr>\n      <th>2</th>\n      <td>0694a9758a8733b8cd51e4259d3235d30ad56b1bed19c1...</td>\n      <td>KARANIGONJ, ATIBAZAR, DHAKA</td>\n      <td>76Y 7M 1D</td>\n      <td>76.0</td>\n      <td>NaN</td>\n      <td>102182.0</td>\n      <td>Triglycerides</td>\n      <td>NaN</td>\n      <td>NaN</td>\n      <td>DHAKA</td>\n      <td>...</td>\n      <td>NaN</td>\n      <td>11/18/2018 12:29 PM</td>\n      <td>Sat, 01 Dec 2018 00:00:00 GMT</td>\n      <td>280</td>\n      <td>G</td>\n      <td>1114.0</td>\n      <td>Lipid Profile Serum</td>\n      <td>100441</td>\n      <td>mg/dL</td>\n      <td>TATIBAZAR</td>\n    </tr>\n    <tr>\n      <th>3</th>\n      <td>0694a9758a8733b8cd51e4259d3235d30ad56b1bed19c1...</td>\n      <td>KARANIGONJ, ATIBAZAR, DHAKA</td>\n      <td>76Y 7M 1D</td>\n      <td>76.0</td>\n      <td>NaN</td>\n      <td>102181.0</td>\n      <td>LDL Cholesterol</td>\n      <td>NaN</td>\n      <td>NaN</td>\n      <td>DHAKA</td>\n      <td>...</td>\n      <td>NaN</td>\n      <td>11/18/2018 12:29 PM</td>\n      <td>Sat, 01 Dec 2018 00:00:00 GMT</td>\n      <td>264</td>\n      <td>G</td>\n      <td>1114.0</td>\n      <td>Lipid Profile Serum</td>\n      <td>100441</td>\n      <td>mg/dL</td>\n      <td>TATIBAZAR</td>\n    </tr>\n    <tr>\n      <th>4</th>\n      <td>0694a9758a8733b8cd51e4259d3235d30ad56b1bed19c1...</td>\n      <td>KARANIGONJ, ATIBAZAR, DHAKA</td>\n      <td>76Y 7M 1D</td>\n      <td>76.0</td>\n      <td>NaN</td>\n      <td>102180.0</td>\n      <td>HDL Cholesterol</td>\n      <td>NaN</td>\n      <td>NaN</td>\n      <td>DHAKA</td>\n      <td>...</td>\n      <td>NaN</td>\n      <td>11/18/2018 12:29 PM</td>\n      <td>Sat, 01 Dec 2018 00:00:00 GMT</td>\n      <td>47</td>\n      <td>G</td>\n      <td>1114.0</td>\n      <td>Lipid Profile Serum</td>\n      <td>100441</td>\n      <td>mg/dL</td>\n      <td>TATIBAZAR</td>\n    </tr>\n    <tr>\n      <th>...</th>\n      <td>...</td>\n      <td>...</td>\n      <td>...</td>\n      <td>...</td>\n      <td>...</td>\n      <td>...</td>\n      <td>...</td>\n      <td>...</td>\n      <td>...</td>\n      <td>...</td>\n      <td>...</td>\n      <td>...</td>\n      <td>...</td>\n      <td>...</td>\n      <td>...</td>\n      <td>...</td>\n      <td>...</td>\n      <td>...</td>\n      <td>...</td>\n      <td>...</td>\n      <td>...</td>\n    </tr>\n    <tr>\n      <th>178546</th>\n      <td>a3841d9ebaa3c7e54b91ea3a5f349c9105d01ea196e107...</td>\n      <td>ABDULLAHPUR, KERANIGONJ.</td>\n      <td>49Y 10M 29D</td>\n      <td>49.0</td>\n      <td>NaN</td>\n      <td>100081.0</td>\n      <td>Blast</td>\n      <td></td>\n      <td>NaN</td>\n      <td>DHAKA</td>\n      <td>...</td>\n      <td>NaN</td>\n      <td>12/1/2018</td>\n      <td>Mon, 31 Dec 2018 00:00:00 GMT</td>\n      <td>NaN</td>\n      <td>G</td>\n      <td>1090.0</td>\n      <td>Differential Count</td>\n      <td>101497</td>\n      <td>%</td>\n      <td>KERANIGANJ</td>\n    </tr>\n    <tr>\n      <th>178547</th>\n      <td>a3841d9ebaa3c7e54b91ea3a5f349c9105d01ea196e107...</td>\n      <td>ABDULLAHPUR, KERANIGONJ.</td>\n      <td>49Y 10M 29D</td>\n      <td>49.0</td>\n      <td>NaN</td>\n      <td>100082.0</td>\n      <td>Atypical and hairy looking cells</td>\n      <td></td>\n      <td>NaN</td>\n      <td>DHAKA</td>\n      <td>...</td>\n      <td>NaN</td>\n      <td>12/1/2018</td>\n      <td>Mon, 31 Dec 2018 00:00:00 GMT</td>\n      <td>NaN</td>\n      <td>G</td>\n      <td>1090.0</td>\n      <td>Differential Count</td>\n      <td>101497</td>\n      <td>%</td>\n      <td>KERANIGANJ</td>\n    </tr>\n    <tr>\n      <th>178548</th>\n      <td>a3841d9ebaa3c7e54b91ea3a5f349c9105d01ea196e107...</td>\n      <td>ABDULLAHPUR, KERANIGONJ.</td>\n      <td>49Y 10M 29D</td>\n      <td>49.0</td>\n      <td>NaN</td>\n      <td>100083.0</td>\n      <td>Others (DC)</td>\n      <td></td>\n      <td>NaN</td>\n      <td>DHAKA</td>\n      <td>...</td>\n      <td>NaN</td>\n      <td>12/1/2018</td>\n      <td>Mon, 31 Dec 2018 00:00:00 GMT</td>\n      <td>NaN</td>\n      <td>G</td>\n      <td>1090.0</td>\n      <td>Differential Count</td>\n      <td>101497</td>\n      <td>%</td>\n      <td>KERANIGANJ</td>\n    </tr>\n    <tr>\n      <th>178549</th>\n      <td>a3841d9ebaa3c7e54b91ea3a5f349c9105d01ea196e107...</td>\n      <td>ABDULLAHPUR, KERANIGONJ.</td>\n      <td>49Y 10M 29D</td>\n      <td>49.0</td>\n      <td>NaN</td>\n      <td>104291.0</td>\n      <td>ESR</td>\n      <td></td>\n      <td>NaN</td>\n      <td>DHAKA</td>\n      <td>...</td>\n      <td>NaN</td>\n      <td>12/1/2018</td>\n      <td>Mon, 31 Dec 2018 00:00:00 GMT</td>\n      <td>NaN</td>\n      <td>G</td>\n      <td>NaN</td>\n      <td>NaN</td>\n      <td>101497</td>\n      <td>mm in 1st hour</td>\n      <td>KERANIGANJ</td>\n    </tr>\n    <tr>\n      <th>178550</th>\n      <td>67c6496296e90da51e0481fe8fd22a9f4d86d73bb27e0a...</td>\n      <td>178/179, NORTH SOUTH ROAD, DHAKA.</td>\n      <td>29Y 1M 10D</td>\n      <td>29.0</td>\n      <td>NaN</td>\n      <td>3002238.0</td>\n      <td>Skin Biopsy (HISTO-PATHOLOGY)</td>\n      <td>NaN</td>\n      <td>NaN</td>\n      <td>DHAKA</td>\n      <td>...</td>\n      <td>NaN</td>\n      <td>11/18/2018 12:29 PM</td>\n      <td>Mon, 17 Dec 2018 00:00:00 GMT</td>\n      <td>NaN</td>\n      <td>NaN</td>\n      <td>NaN</td>\n      <td>NaN</td>\n      <td>101495</td>\n      <td>NaN</td>\n      <td>SUTRAPUR</td>\n    </tr>\n  </tbody>\n</table>\n<p>178551 rows × 31 columns</p>\n</div>"
     },
     "execution_count": 4,
     "metadata": {},
     "output_type": "execute_result"
    }
   ],
   "source": [
    "df"
   ],
   "metadata": {
    "collapsed": false,
    "pycharm": {
     "name": "#%%\n"
    }
   }
  },
  {
   "cell_type": "code",
   "execution_count": 5,
   "outputs": [],
   "source": [
    "df = df[['attr_id', 'attr_name', 'result', 'test_group_name']]"
   ],
   "metadata": {
    "collapsed": false,
    "pycharm": {
     "name": "#%%\n"
    }
   }
  },
  {
   "cell_type": "code",
   "execution_count": 6,
   "outputs": [
    {
     "data": {
      "text/plain": "(178551, 4)"
     },
     "execution_count": 6,
     "metadata": {},
     "output_type": "execute_result"
    }
   ],
   "source": [
    "df.shape"
   ],
   "metadata": {
    "collapsed": false,
    "pycharm": {
     "name": "#%%\n"
    }
   }
  },
  {
   "cell_type": "code",
   "execution_count": 7,
   "outputs": [
    {
     "name": "stderr",
     "output_type": "stream",
     "text": [
      "C:\\Users\\ASUS\\AppData\\Local\\Temp\\ipykernel_15488\\659366647.py:1: SettingWithCopyWarning: \n",
      "A value is trying to be set on a copy of a slice from a DataFrame.\n",
      "Try using .loc[row_indexer,col_indexer] = value instead\n",
      "\n",
      "See the caveats in the documentation: https://pandas.pydata.org/pandas-docs/stable/user_guide/indexing.html#returning-a-view-versus-a-copy\n",
      "  df['result'] = df['result'].astype(str);\n"
     ]
    }
   ],
   "source": [
    "df['result'] = df['result'].astype(str);\n",
    "# df['result'] = df['result'].apply(lambda x : x.strip())\n",
    "# df['result'] = df['result'].apply(lambda  x : np.nan if x == 'Null' else x)"
   ],
   "metadata": {
    "collapsed": false,
    "pycharm": {
     "name": "#%%\n"
    }
   }
  },
  {
   "cell_type": "code",
   "execution_count": 8,
   "outputs": [
    {
     "data": {
      "text/plain": "(178551, 4)"
     },
     "execution_count": 8,
     "metadata": {},
     "output_type": "execute_result"
    }
   ],
   "source": [
    "df.shape"
   ],
   "metadata": {
    "collapsed": false,
    "pycharm": {
     "name": "#%%\n"
    }
   }
  },
  {
   "cell_type": "code",
   "execution_count": 9,
   "outputs": [
    {
     "data": {
      "text/plain": "          attr_id                         attr_name result  \\\n0        101518.0                              Urea   73.2   \n1        102046.0                        Creatinine    2.4   \n2        102182.0                     Triglycerides    280   \n3        102181.0                   LDL Cholesterol    264   \n4        102180.0                   HDL Cholesterol     47   \n...           ...                               ...    ...   \n178546   100081.0                             Blast    nan   \n178547   100082.0  Atypical and hairy looking cells    nan   \n178548   100083.0                       Others (DC)    nan   \n178549   104291.0                               ESR    nan   \n178550  3002238.0     Skin Biopsy (HISTO-PATHOLOGY)    nan   \n\n            test_group_name  \n0                       NaN  \n1                       NaN  \n2       Lipid Profile Serum  \n3       Lipid Profile Serum  \n4       Lipid Profile Serum  \n...                     ...  \n178546   Differential Count  \n178547   Differential Count  \n178548   Differential Count  \n178549                  NaN  \n178550                  NaN  \n\n[178551 rows x 4 columns]",
      "text/html": "<div>\n<style scoped>\n    .dataframe tbody tr th:only-of-type {\n        vertical-align: middle;\n    }\n\n    .dataframe tbody tr th {\n        vertical-align: top;\n    }\n\n    .dataframe thead th {\n        text-align: right;\n    }\n</style>\n<table border=\"1\" class=\"dataframe\">\n  <thead>\n    <tr style=\"text-align: right;\">\n      <th></th>\n      <th>attr_id</th>\n      <th>attr_name</th>\n      <th>result</th>\n      <th>test_group_name</th>\n    </tr>\n  </thead>\n  <tbody>\n    <tr>\n      <th>0</th>\n      <td>101518.0</td>\n      <td>Urea</td>\n      <td>73.2</td>\n      <td>NaN</td>\n    </tr>\n    <tr>\n      <th>1</th>\n      <td>102046.0</td>\n      <td>Creatinine</td>\n      <td>2.4</td>\n      <td>NaN</td>\n    </tr>\n    <tr>\n      <th>2</th>\n      <td>102182.0</td>\n      <td>Triglycerides</td>\n      <td>280</td>\n      <td>Lipid Profile Serum</td>\n    </tr>\n    <tr>\n      <th>3</th>\n      <td>102181.0</td>\n      <td>LDL Cholesterol</td>\n      <td>264</td>\n      <td>Lipid Profile Serum</td>\n    </tr>\n    <tr>\n      <th>4</th>\n      <td>102180.0</td>\n      <td>HDL Cholesterol</td>\n      <td>47</td>\n      <td>Lipid Profile Serum</td>\n    </tr>\n    <tr>\n      <th>...</th>\n      <td>...</td>\n      <td>...</td>\n      <td>...</td>\n      <td>...</td>\n    </tr>\n    <tr>\n      <th>178546</th>\n      <td>100081.0</td>\n      <td>Blast</td>\n      <td>nan</td>\n      <td>Differential Count</td>\n    </tr>\n    <tr>\n      <th>178547</th>\n      <td>100082.0</td>\n      <td>Atypical and hairy looking cells</td>\n      <td>nan</td>\n      <td>Differential Count</td>\n    </tr>\n    <tr>\n      <th>178548</th>\n      <td>100083.0</td>\n      <td>Others (DC)</td>\n      <td>nan</td>\n      <td>Differential Count</td>\n    </tr>\n    <tr>\n      <th>178549</th>\n      <td>104291.0</td>\n      <td>ESR</td>\n      <td>nan</td>\n      <td>NaN</td>\n    </tr>\n    <tr>\n      <th>178550</th>\n      <td>3002238.0</td>\n      <td>Skin Biopsy (HISTO-PATHOLOGY)</td>\n      <td>nan</td>\n      <td>NaN</td>\n    </tr>\n  </tbody>\n</table>\n<p>178551 rows × 4 columns</p>\n</div>"
     },
     "execution_count": 9,
     "metadata": {},
     "output_type": "execute_result"
    }
   ],
   "source": [
    "df"
   ],
   "metadata": {
    "collapsed": false,
    "pycharm": {
     "name": "#%%\n"
    }
   }
  },
  {
   "cell_type": "code",
   "execution_count": 10,
   "outputs": [
    {
     "name": "stdout",
     "output_type": "stream",
     "text": [
      "178551 (178551, 4)\n"
     ]
    },
    {
     "name": "stderr",
     "output_type": "stream",
     "text": [
      "C:\\Users\\ASUS\\AppData\\Local\\Temp\\ipykernel_15488\\907563708.py:13: SettingWithCopyWarning: \n",
      "A value is trying to be set on a copy of a slice from a DataFrame.\n",
      "Try using .loc[row_indexer,col_indexer] = value instead\n",
      "\n",
      "See the caveats in the documentation: https://pandas.pydata.org/pandas-docs/stable/user_guide/indexing.html#returning-a-view-versus-a-copy\n",
      "  df['data_type'] = pd.DataFrame(types)\n"
     ]
    },
    {
     "data": {
      "text/plain": "          attr_id                         attr_name result  \\\n0        101518.0                              Urea   73.2   \n1        102046.0                        Creatinine    2.4   \n2        102182.0                     Triglycerides    280   \n3        102181.0                   LDL Cholesterol    264   \n4        102180.0                   HDL Cholesterol     47   \n...           ...                               ...    ...   \n178546   100081.0                             Blast    nan   \n178547   100082.0  Atypical and hairy looking cells    nan   \n178548   100083.0                       Others (DC)    nan   \n178549   104291.0                               ESR    nan   \n178550  3002238.0     Skin Biopsy (HISTO-PATHOLOGY)    nan   \n\n            test_group_name   data_type  \n0                       NaN  Neumerical  \n1                       NaN  Neumerical  \n2       Lipid Profile Serum  Neumerical  \n3       Lipid Profile Serum  Neumerical  \n4       Lipid Profile Serum  Neumerical  \n...                     ...         ...  \n178546   Differential Count  Neumerical  \n178547   Differential Count  Neumerical  \n178548   Differential Count  Neumerical  \n178549                  NaN  Neumerical  \n178550                  NaN  Neumerical  \n\n[178551 rows x 5 columns]",
      "text/html": "<div>\n<style scoped>\n    .dataframe tbody tr th:only-of-type {\n        vertical-align: middle;\n    }\n\n    .dataframe tbody tr th {\n        vertical-align: top;\n    }\n\n    .dataframe thead th {\n        text-align: right;\n    }\n</style>\n<table border=\"1\" class=\"dataframe\">\n  <thead>\n    <tr style=\"text-align: right;\">\n      <th></th>\n      <th>attr_id</th>\n      <th>attr_name</th>\n      <th>result</th>\n      <th>test_group_name</th>\n      <th>data_type</th>\n    </tr>\n  </thead>\n  <tbody>\n    <tr>\n      <th>0</th>\n      <td>101518.0</td>\n      <td>Urea</td>\n      <td>73.2</td>\n      <td>NaN</td>\n      <td>Neumerical</td>\n    </tr>\n    <tr>\n      <th>1</th>\n      <td>102046.0</td>\n      <td>Creatinine</td>\n      <td>2.4</td>\n      <td>NaN</td>\n      <td>Neumerical</td>\n    </tr>\n    <tr>\n      <th>2</th>\n      <td>102182.0</td>\n      <td>Triglycerides</td>\n      <td>280</td>\n      <td>Lipid Profile Serum</td>\n      <td>Neumerical</td>\n    </tr>\n    <tr>\n      <th>3</th>\n      <td>102181.0</td>\n      <td>LDL Cholesterol</td>\n      <td>264</td>\n      <td>Lipid Profile Serum</td>\n      <td>Neumerical</td>\n    </tr>\n    <tr>\n      <th>4</th>\n      <td>102180.0</td>\n      <td>HDL Cholesterol</td>\n      <td>47</td>\n      <td>Lipid Profile Serum</td>\n      <td>Neumerical</td>\n    </tr>\n    <tr>\n      <th>...</th>\n      <td>...</td>\n      <td>...</td>\n      <td>...</td>\n      <td>...</td>\n      <td>...</td>\n    </tr>\n    <tr>\n      <th>178546</th>\n      <td>100081.0</td>\n      <td>Blast</td>\n      <td>nan</td>\n      <td>Differential Count</td>\n      <td>Neumerical</td>\n    </tr>\n    <tr>\n      <th>178547</th>\n      <td>100082.0</td>\n      <td>Atypical and hairy looking cells</td>\n      <td>nan</td>\n      <td>Differential Count</td>\n      <td>Neumerical</td>\n    </tr>\n    <tr>\n      <th>178548</th>\n      <td>100083.0</td>\n      <td>Others (DC)</td>\n      <td>nan</td>\n      <td>Differential Count</td>\n      <td>Neumerical</td>\n    </tr>\n    <tr>\n      <th>178549</th>\n      <td>104291.0</td>\n      <td>ESR</td>\n      <td>nan</td>\n      <td>NaN</td>\n      <td>Neumerical</td>\n    </tr>\n    <tr>\n      <th>178550</th>\n      <td>3002238.0</td>\n      <td>Skin Biopsy (HISTO-PATHOLOGY)</td>\n      <td>nan</td>\n      <td>NaN</td>\n      <td>Neumerical</td>\n    </tr>\n  </tbody>\n</table>\n<p>178551 rows × 5 columns</p>\n</div>"
     },
     "execution_count": 10,
     "metadata": {},
     "output_type": "execute_result"
    }
   ],
   "source": [
    "types = []\n",
    "for index, row in df.iterrows():\n",
    "\n",
    "#     print(row['test_name'], row['attribute'], row['result'], type(row['result']))\n",
    "    try:\n",
    "        val = float(row['result'])\n",
    "        types.append('Neumerical')\n",
    "    except:\n",
    "        types.append('Categorical')\n",
    "#         print(\"That's not an int!\")\n",
    "print(len(types), df.shape)\n",
    "# print(types)\n",
    "df['data_type'] = pd.DataFrame(types)\n",
    "df"
   ],
   "metadata": {
    "collapsed": false,
    "pycharm": {
     "name": "#%%\n"
    }
   }
  },
  {
   "cell_type": "code",
   "execution_count": 20,
   "outputs": [
    {
     "data": {
      "text/plain": "0                                     Urea\n1                               Creatinine\n2                            Triglycerides\n3                          LDL Cholesterol\n4                          HDL Cholesterol\n                        ...               \n178546                               Blast\n178547    Atypical and hairy looking cells\n178548                         Others (DC)\n178549                                 ESR\n178550       Skin Biopsy (HISTO-PATHOLOGY)\nName: attr_name, Length: 178551, dtype: object"
     },
     "execution_count": 20,
     "metadata": {},
     "output_type": "execute_result"
    }
   ],
   "source": [
    "df['attr_name'].astype(str)"
   ],
   "metadata": {
    "collapsed": false,
    "pycharm": {
     "name": "#%%\n"
    }
   }
  },
  {
   "cell_type": "code",
   "execution_count": 21,
   "outputs": [],
   "source": [
    "df_catagorical = df[df['data_type'] == 'Categorical']\n"
   ],
   "metadata": {
    "collapsed": false,
    "pycharm": {
     "name": "#%%\n"
    }
   }
  },
  {
   "cell_type": "code",
   "execution_count": 22,
   "outputs": [
    {
     "data": {
      "text/plain": "         attr_id         attr_name  result          test_group_name  \\\n94      102115.0  Epithelial Cells     2-4  MICROSCOPIC EXAMINATION   \n95      102114.0         Pus Cells     2-4  MICROSCOPIC EXAMINATION   \n96      102112.0             R B C     Nil  MICROSCOPIC EXAMINATION   \n99      102110.0          Sediment     Nil     PHYSICAL EXAMINATION   \n100     102108.0        Appearance   Clear     PHYSICAL EXAMINATION   \n...          ...               ...     ...                      ...   \n178481  102115.0  Epithelial Cells   2 - 3  MICROSCOPIC EXAMINATION   \n178482  102116.0          Reaction  Acidic     CHEMICAL EXAMINATION   \n178483  102117.0           Albumin     Nil     CHEMICAL EXAMINATION   \n178484  102118.0             Sugar     Nil     CHEMICAL EXAMINATION   \n178485  102119.0     Ex. Phosphate     Nil     CHEMICAL EXAMINATION   \n\n          data_type  \n94      Categorical  \n95      Categorical  \n96      Categorical  \n99      Categorical  \n100     Categorical  \n...             ...  \n178481  Categorical  \n178482  Categorical  \n178483  Categorical  \n178484  Categorical  \n178485  Categorical  \n\n[26009 rows x 5 columns]",
      "text/html": "<div>\n<style scoped>\n    .dataframe tbody tr th:only-of-type {\n        vertical-align: middle;\n    }\n\n    .dataframe tbody tr th {\n        vertical-align: top;\n    }\n\n    .dataframe thead th {\n        text-align: right;\n    }\n</style>\n<table border=\"1\" class=\"dataframe\">\n  <thead>\n    <tr style=\"text-align: right;\">\n      <th></th>\n      <th>attr_id</th>\n      <th>attr_name</th>\n      <th>result</th>\n      <th>test_group_name</th>\n      <th>data_type</th>\n    </tr>\n  </thead>\n  <tbody>\n    <tr>\n      <th>94</th>\n      <td>102115.0</td>\n      <td>Epithelial Cells</td>\n      <td>2-4</td>\n      <td>MICROSCOPIC EXAMINATION</td>\n      <td>Categorical</td>\n    </tr>\n    <tr>\n      <th>95</th>\n      <td>102114.0</td>\n      <td>Pus Cells</td>\n      <td>2-4</td>\n      <td>MICROSCOPIC EXAMINATION</td>\n      <td>Categorical</td>\n    </tr>\n    <tr>\n      <th>96</th>\n      <td>102112.0</td>\n      <td>R B C</td>\n      <td>Nil</td>\n      <td>MICROSCOPIC EXAMINATION</td>\n      <td>Categorical</td>\n    </tr>\n    <tr>\n      <th>99</th>\n      <td>102110.0</td>\n      <td>Sediment</td>\n      <td>Nil</td>\n      <td>PHYSICAL EXAMINATION</td>\n      <td>Categorical</td>\n    </tr>\n    <tr>\n      <th>100</th>\n      <td>102108.0</td>\n      <td>Appearance</td>\n      <td>Clear</td>\n      <td>PHYSICAL EXAMINATION</td>\n      <td>Categorical</td>\n    </tr>\n    <tr>\n      <th>...</th>\n      <td>...</td>\n      <td>...</td>\n      <td>...</td>\n      <td>...</td>\n      <td>...</td>\n    </tr>\n    <tr>\n      <th>178481</th>\n      <td>102115.0</td>\n      <td>Epithelial Cells</td>\n      <td>2 - 3</td>\n      <td>MICROSCOPIC EXAMINATION</td>\n      <td>Categorical</td>\n    </tr>\n    <tr>\n      <th>178482</th>\n      <td>102116.0</td>\n      <td>Reaction</td>\n      <td>Acidic</td>\n      <td>CHEMICAL EXAMINATION</td>\n      <td>Categorical</td>\n    </tr>\n    <tr>\n      <th>178483</th>\n      <td>102117.0</td>\n      <td>Albumin</td>\n      <td>Nil</td>\n      <td>CHEMICAL EXAMINATION</td>\n      <td>Categorical</td>\n    </tr>\n    <tr>\n      <th>178484</th>\n      <td>102118.0</td>\n      <td>Sugar</td>\n      <td>Nil</td>\n      <td>CHEMICAL EXAMINATION</td>\n      <td>Categorical</td>\n    </tr>\n    <tr>\n      <th>178485</th>\n      <td>102119.0</td>\n      <td>Ex. Phosphate</td>\n      <td>Nil</td>\n      <td>CHEMICAL EXAMINATION</td>\n      <td>Categorical</td>\n    </tr>\n  </tbody>\n</table>\n<p>26009 rows × 5 columns</p>\n</div>"
     },
     "execution_count": 22,
     "metadata": {},
     "output_type": "execute_result"
    }
   ],
   "source": [
    "df_catagorical"
   ],
   "metadata": {
    "collapsed": false,
    "pycharm": {
     "name": "#%%\n"
    }
   }
  },
  {
   "cell_type": "code",
   "execution_count": 59,
   "outputs": [
    {
     "data": {
      "text/plain": "         attr_id   attr_name    result       test_group_name    data_type\n100     102108.0  Appearance     Clear  PHYSICAL EXAMINATION  Categorical\n101     102107.0      Colour     Straw  PHYSICAL EXAMINATION  Categorical\n108     102117.0     Albumin       Nil  CHEMICAL EXAMINATION  Categorical\n156     101239.0      HBs Ag  Negative                   NaN  Categorical\n158     100744.0    Anti-HCV  Negative                   NaN  Categorical\n...          ...         ...       ...                   ...          ...\n178423  102108.0  Appearance     Clear  PHYSICAL EXAMINATION  Categorical\n178430  102117.0     Albumin       Nil  CHEMICAL EXAMINATION  Categorical\n178475  102107.0      Colour     Straw  PHYSICAL EXAMINATION  Categorical\n178476  102108.0  Appearance     Clear  PHYSICAL EXAMINATION  Categorical\n178483  102117.0     Albumin       Nil  CHEMICAL EXAMINATION  Categorical\n\n[4281 rows x 5 columns]",
      "text/html": "<div>\n<style scoped>\n    .dataframe tbody tr th:only-of-type {\n        vertical-align: middle;\n    }\n\n    .dataframe tbody tr th {\n        vertical-align: top;\n    }\n\n    .dataframe thead th {\n        text-align: right;\n    }\n</style>\n<table border=\"1\" class=\"dataframe\">\n  <thead>\n    <tr style=\"text-align: right;\">\n      <th></th>\n      <th>attr_id</th>\n      <th>attr_name</th>\n      <th>result</th>\n      <th>test_group_name</th>\n      <th>data_type</th>\n    </tr>\n  </thead>\n  <tbody>\n    <tr>\n      <th>100</th>\n      <td>102108.0</td>\n      <td>Appearance</td>\n      <td>Clear</td>\n      <td>PHYSICAL EXAMINATION</td>\n      <td>Categorical</td>\n    </tr>\n    <tr>\n      <th>101</th>\n      <td>102107.0</td>\n      <td>Colour</td>\n      <td>Straw</td>\n      <td>PHYSICAL EXAMINATION</td>\n      <td>Categorical</td>\n    </tr>\n    <tr>\n      <th>108</th>\n      <td>102117.0</td>\n      <td>Albumin</td>\n      <td>Nil</td>\n      <td>CHEMICAL EXAMINATION</td>\n      <td>Categorical</td>\n    </tr>\n    <tr>\n      <th>156</th>\n      <td>101239.0</td>\n      <td>HBs Ag</td>\n      <td>Negative</td>\n      <td>NaN</td>\n      <td>Categorical</td>\n    </tr>\n    <tr>\n      <th>158</th>\n      <td>100744.0</td>\n      <td>Anti-HCV</td>\n      <td>Negative</td>\n      <td>NaN</td>\n      <td>Categorical</td>\n    </tr>\n    <tr>\n      <th>...</th>\n      <td>...</td>\n      <td>...</td>\n      <td>...</td>\n      <td>...</td>\n      <td>...</td>\n    </tr>\n    <tr>\n      <th>178423</th>\n      <td>102108.0</td>\n      <td>Appearance</td>\n      <td>Clear</td>\n      <td>PHYSICAL EXAMINATION</td>\n      <td>Categorical</td>\n    </tr>\n    <tr>\n      <th>178430</th>\n      <td>102117.0</td>\n      <td>Albumin</td>\n      <td>Nil</td>\n      <td>CHEMICAL EXAMINATION</td>\n      <td>Categorical</td>\n    </tr>\n    <tr>\n      <th>178475</th>\n      <td>102107.0</td>\n      <td>Colour</td>\n      <td>Straw</td>\n      <td>PHYSICAL EXAMINATION</td>\n      <td>Categorical</td>\n    </tr>\n    <tr>\n      <th>178476</th>\n      <td>102108.0</td>\n      <td>Appearance</td>\n      <td>Clear</td>\n      <td>PHYSICAL EXAMINATION</td>\n      <td>Categorical</td>\n    </tr>\n    <tr>\n      <th>178483</th>\n      <td>102117.0</td>\n      <td>Albumin</td>\n      <td>Nil</td>\n      <td>CHEMICAL EXAMINATION</td>\n      <td>Categorical</td>\n    </tr>\n  </tbody>\n</table>\n<p>4281 rows × 5 columns</p>\n</div>"
     },
     "execution_count": 59,
     "metadata": {},
     "output_type": "execute_result"
    }
   ],
   "source": [
    "df_cat =df_catagorical.loc[df_catagorical['attr_name'].isin(['Anti-HAV IgM','Anti-HBe' ,'Blood Group :','Blood Group','Blood Group: ABO','Chikungunya Antibody IgM','Color','Colour','Anti-HCV','HBs Ag',  'Fat Globules','Toxoplasma IgM','M.P.V','Mucus','Albumin','Appearance','Anti-HCV','Anti-HBc Total','Dengue Ag NS1 (ICT)','Malaria Ag (ICT)','IgG Against Dengue Virus','Rh (D)','Rh Type :','VDRL',])]\n",
    "df_cat\n",
    "\n",
    "\n"
   ],
   "metadata": {
    "collapsed": false,
    "pycharm": {
     "name": "#%%\n"
    }
   }
  },
  {
   "cell_type": "code",
   "execution_count": 60,
   "outputs": [],
   "source": [
    "df_cat.to_csv(\"./dataset/Choose_Atribute/attribute_2.csv\")"
   ],
   "metadata": {
    "collapsed": false,
    "pycharm": {
     "name": "#%%\n"
    }
   }
  },
  {
   "cell_type": "code",
   "execution_count": 14,
   "outputs": [],
   "source": [
    "g = df_catagorical.groupby('attr_name', as_index = False)['result'].agg(['unique'])"
   ],
   "metadata": {
    "collapsed": false,
    "pycharm": {
     "name": "#%%\n"
    }
   }
  },
  {
   "cell_type": "code",
   "execution_count": 15,
   "outputs": [
    {
     "data": {
      "text/plain": "                                                                        unique\nattr_name                                                                     \n\\nCorresponding urine sugar                                       [N/S, Trace]\n    1.  HBsAg                                             [Negative, Positive]\n    2.  Anti HCV                                          [Negative, Negaitve]\n    3.  HIV I & II                                                  [Negative]\n    4.  Syphilis (VDRL)      [Negative, Non-Reactive, Non Reactive, Non rea...\n...                                                                        ...\nWhite Blood Cells                                                 [7.0., <1.0]\nWound Swab for AFB                                                 [Not found]\nYeast                                                                  [Trace]\nYeasts                                                       [Nil, Trace, (+)]\n�hCG                                                           [< 1.20, <1.20]\n\n[232 rows x 1 columns]",
      "text/html": "<div>\n<style scoped>\n    .dataframe tbody tr th:only-of-type {\n        vertical-align: middle;\n    }\n\n    .dataframe tbody tr th {\n        vertical-align: top;\n    }\n\n    .dataframe thead th {\n        text-align: right;\n    }\n</style>\n<table border=\"1\" class=\"dataframe\">\n  <thead>\n    <tr style=\"text-align: right;\">\n      <th></th>\n      <th>unique</th>\n    </tr>\n    <tr>\n      <th>attr_name</th>\n      <th></th>\n    </tr>\n  </thead>\n  <tbody>\n    <tr>\n      <th>\\nCorresponding urine sugar</th>\n      <td>[N/S, Trace]</td>\n    </tr>\n    <tr>\n      <th>1.  HBsAg</th>\n      <td>[Negative, Positive]</td>\n    </tr>\n    <tr>\n      <th>2.  Anti HCV</th>\n      <td>[Negative, Negaitve]</td>\n    </tr>\n    <tr>\n      <th>3.  HIV I &amp; II</th>\n      <td>[Negative]</td>\n    </tr>\n    <tr>\n      <th>4.  Syphilis (VDRL)</th>\n      <td>[Negative, Non-Reactive, Non Reactive, Non rea...</td>\n    </tr>\n    <tr>\n      <th>...</th>\n      <td>...</td>\n    </tr>\n    <tr>\n      <th>White Blood Cells</th>\n      <td>[7.0., &lt;1.0]</td>\n    </tr>\n    <tr>\n      <th>Wound Swab for AFB</th>\n      <td>[Not found]</td>\n    </tr>\n    <tr>\n      <th>Yeast</th>\n      <td>[Trace]</td>\n    </tr>\n    <tr>\n      <th>Yeasts</th>\n      <td>[Nil, Trace, (+)]</td>\n    </tr>\n    <tr>\n      <th>�hCG</th>\n      <td>[&lt; 1.20, &lt;1.20]</td>\n    </tr>\n  </tbody>\n</table>\n<p>232 rows × 1 columns</p>\n</div>"
     },
     "execution_count": 15,
     "metadata": {},
     "output_type": "execute_result"
    }
   ],
   "source": [
    "                                                                                                                                                                                                                                                                                                                                                                                                                    g"
   ],
   "metadata": {
    "collapsed": false,
    "pycharm": {
     "name": "#%%\n"
    }
   }
  },
  {
   "cell_type": "code",
   "execution_count": null,
   "outputs": [],
   "source": [
    "df_catagorical\n"
   ],
   "metadata": {
    "collapsed": false,
    "pycharm": {
     "name": "#%%\n"
    }
   }
  },
  {
   "cell_type": "code",
   "execution_count": 61,
   "outputs": [],
   "source": [
    "g['unique_count']  = g['unique']"
   ],
   "metadata": {
    "collapsed": false,
    "pycharm": {
     "name": "#%%\n"
    }
   }
  },
  {
   "cell_type": "code",
   "execution_count": 63,
   "outputs": [
    {
     "data": {
      "text/plain": "                                                                        unique  \\\nattr_name                                                                        \n\\nCorresponding urine sugar                                  [N/S, Trace, nan]   \n    1.  HBsAg                                        [Negative, nan, Positive]   \n    2.  Anti HCV                                     [nan, Negative, Negaitve]   \n    3.  HIV I & II                                             [nan, Negative]   \n    4.  Syphilis (VDRL)      [nan, Negative, Non-Reactive, Non Reactive, No...   \n...                                                                        ...   \nmono                                                                     [nan]   \npCO2                                                                     [nan]   \npH                                                                       [nan]   \npO2                                                                      [nan]   \n�hCG                         [7934.13, < 1.20, <1.20, 295.23, 14859.11, 520...   \n\n                                                                  unique_count  \nattr_name                                                                       \n\\nCorresponding urine sugar                                  [N/S, Trace, nan]  \n    1.  HBsAg                                        [Negative, nan, Positive]  \n    2.  Anti HCV                                     [nan, Negative, Negaitve]  \n    3.  HIV I & II                                             [nan, Negative]  \n    4.  Syphilis (VDRL)      [nan, Negative, Non-Reactive, Non Reactive, No...  \n...                                                                        ...  \nmono                                                                     [nan]  \npCO2                                                                     [nan]  \npH                                                                       [nan]  \npO2                                                                      [nan]  \n�hCG                         [7934.13, < 1.20, <1.20, 295.23, 14859.11, 520...  \n\n[624 rows x 2 columns]",
      "text/html": "<div>\n<style scoped>\n    .dataframe tbody tr th:only-of-type {\n        vertical-align: middle;\n    }\n\n    .dataframe tbody tr th {\n        vertical-align: top;\n    }\n\n    .dataframe thead th {\n        text-align: right;\n    }\n</style>\n<table border=\"1\" class=\"dataframe\">\n  <thead>\n    <tr style=\"text-align: right;\">\n      <th></th>\n      <th>unique</th>\n      <th>unique_count</th>\n    </tr>\n    <tr>\n      <th>attr_name</th>\n      <th></th>\n      <th></th>\n    </tr>\n  </thead>\n  <tbody>\n    <tr>\n      <th>\\nCorresponding urine sugar</th>\n      <td>[N/S, Trace, nan]</td>\n      <td>[N/S, Trace, nan]</td>\n    </tr>\n    <tr>\n      <th>1.  HBsAg</th>\n      <td>[Negative, nan, Positive]</td>\n      <td>[Negative, nan, Positive]</td>\n    </tr>\n    <tr>\n      <th>2.  Anti HCV</th>\n      <td>[nan, Negative, Negaitve]</td>\n      <td>[nan, Negative, Negaitve]</td>\n    </tr>\n    <tr>\n      <th>3.  HIV I &amp; II</th>\n      <td>[nan, Negative]</td>\n      <td>[nan, Negative]</td>\n    </tr>\n    <tr>\n      <th>4.  Syphilis (VDRL)</th>\n      <td>[nan, Negative, Non-Reactive, Non Reactive, No...</td>\n      <td>[nan, Negative, Non-Reactive, Non Reactive, No...</td>\n    </tr>\n    <tr>\n      <th>...</th>\n      <td>...</td>\n      <td>...</td>\n    </tr>\n    <tr>\n      <th>mono</th>\n      <td>[nan]</td>\n      <td>[nan]</td>\n    </tr>\n    <tr>\n      <th>pCO2</th>\n      <td>[nan]</td>\n      <td>[nan]</td>\n    </tr>\n    <tr>\n      <th>pH</th>\n      <td>[nan]</td>\n      <td>[nan]</td>\n    </tr>\n    <tr>\n      <th>pO2</th>\n      <td>[nan]</td>\n      <td>[nan]</td>\n    </tr>\n    <tr>\n      <th>�hCG</th>\n      <td>[7934.13, &lt; 1.20, &lt;1.20, 295.23, 14859.11, 520...</td>\n      <td>[7934.13, &lt; 1.20, &lt;1.20, 295.23, 14859.11, 520...</td>\n    </tr>\n  </tbody>\n</table>\n<p>624 rows × 2 columns</p>\n</div>"
     },
     "execution_count": 63,
     "metadata": {},
     "output_type": "execute_result"
    }
   ],
   "source": [
    "g"
   ],
   "metadata": {
    "collapsed": false,
    "pycharm": {
     "name": "#%%\n"
    }
   }
  },
  {
   "cell_type": "code",
   "execution_count": 66,
   "outputs": [
    {
     "data": {
      "text/plain": "attr_name\n\\nCorresponding urine sugar     3\n    1.  HBsAg                   3\n    2.  Anti HCV                3\n    3.  HIV I & II              2\n    4.  Syphilis (VDRL)         6\n                               ..\nmono                            1\npCO2                            1\npH                              1\npO2                             1\n�hCG                           10\nName: unique_count, Length: 624, dtype: int64"
     },
     "execution_count": 66,
     "metadata": {},
     "output_type": "execute_result"
    }
   ],
   "source": [
    "g['unique_count'].apply( lambda  x : x.size)"
   ],
   "metadata": {
    "collapsed": false,
    "pycharm": {
     "name": "#%%\n"
    }
   }
  },
  {
   "cell_type": "code",
   "execution_count": 16,
   "outputs": [
    {
     "data": {
      "text/plain": "                                                                        unique\nattr_name                                                                     \n\\nCorresponding urine sugar                                       [N/S, Trace]\n    1.  HBsAg                                             [Negative, Positive]\n    2.  Anti HCV                                          [Negative, Negaitve]\n    3.  HIV I & II                                                  [Negative]\n    4.  Syphilis (VDRL)      [Negative, Non-Reactive, Non Reactive, Non rea...",
      "text/html": "<div>\n<style scoped>\n    .dataframe tbody tr th:only-of-type {\n        vertical-align: middle;\n    }\n\n    .dataframe tbody tr th {\n        vertical-align: top;\n    }\n\n    .dataframe thead th {\n        text-align: right;\n    }\n</style>\n<table border=\"1\" class=\"dataframe\">\n  <thead>\n    <tr style=\"text-align: right;\">\n      <th></th>\n      <th>unique</th>\n    </tr>\n    <tr>\n      <th>attr_name</th>\n      <th></th>\n    </tr>\n  </thead>\n  <tbody>\n    <tr>\n      <th>\\nCorresponding urine sugar</th>\n      <td>[N/S, Trace]</td>\n    </tr>\n    <tr>\n      <th>1.  HBsAg</th>\n      <td>[Negative, Positive]</td>\n    </tr>\n    <tr>\n      <th>2.  Anti HCV</th>\n      <td>[Negative, Negaitve]</td>\n    </tr>\n    <tr>\n      <th>3.  HIV I &amp; II</th>\n      <td>[Negative]</td>\n    </tr>\n    <tr>\n      <th>4.  Syphilis (VDRL)</th>\n      <td>[Negative, Non-Reactive, Non Reactive, Non rea...</td>\n    </tr>\n  </tbody>\n</table>\n</div>"
     },
     "execution_count": 16,
     "metadata": {},
     "output_type": "execute_result"
    }
   ],
   "source": [
    "g.head()"
   ],
   "metadata": {
    "collapsed": false,
    "pycharm": {
     "name": "#%%\n"
    }
   }
  },
  {
   "cell_type": "code",
   "execution_count": 68,
   "outputs": [],
   "source": [
    "df_white_blood_cell = df[df['attr_name'] == \"White Blood Cells\"]"
   ],
   "metadata": {
    "collapsed": false,
    "pycharm": {
     "name": "#%%\n"
    }
   }
  },
  {
   "cell_type": "code",
   "execution_count": 69,
   "outputs": [
    {
     "data": {
      "text/plain": "         attr_id          attr_name result test_group_name   data_type\n31      102223.0  White Blood Cells  11.91     Total Count  Neumerical\n66      102223.0  White Blood Cells    6.6     Total Count  Neumerical\n132     100211.0  White Blood Cells   8.80     Total Count  Neumerical\n166     102223.0  White Blood Cells    1.0     Total Count  Neumerical\n231     102223.0  White Blood Cells   13.0     Total Count  Neumerical\n...          ...                ...    ...             ...         ...\n178019  102223.0  White Blood Cells   13.5     Total Count  Neumerical\n178114  102223.0  White Blood Cells     20     Total Count  Neumerical\n178257  102223.0  White Blood Cells     11     Total Count  Neumerical\n178365  102223.0  White Blood Cells    7.0     Total Count  Neumerical\n178530  102223.0  White Blood Cells    nan     Total Count  Neumerical\n\n[2143 rows x 5 columns]",
      "text/html": "<div>\n<style scoped>\n    .dataframe tbody tr th:only-of-type {\n        vertical-align: middle;\n    }\n\n    .dataframe tbody tr th {\n        vertical-align: top;\n    }\n\n    .dataframe thead th {\n        text-align: right;\n    }\n</style>\n<table border=\"1\" class=\"dataframe\">\n  <thead>\n    <tr style=\"text-align: right;\">\n      <th></th>\n      <th>attr_id</th>\n      <th>attr_name</th>\n      <th>result</th>\n      <th>test_group_name</th>\n      <th>data_type</th>\n    </tr>\n  </thead>\n  <tbody>\n    <tr>\n      <th>31</th>\n      <td>102223.0</td>\n      <td>White Blood Cells</td>\n      <td>11.91</td>\n      <td>Total Count</td>\n      <td>Neumerical</td>\n    </tr>\n    <tr>\n      <th>66</th>\n      <td>102223.0</td>\n      <td>White Blood Cells</td>\n      <td>6.6</td>\n      <td>Total Count</td>\n      <td>Neumerical</td>\n    </tr>\n    <tr>\n      <th>132</th>\n      <td>100211.0</td>\n      <td>White Blood Cells</td>\n      <td>8.80</td>\n      <td>Total Count</td>\n      <td>Neumerical</td>\n    </tr>\n    <tr>\n      <th>166</th>\n      <td>102223.0</td>\n      <td>White Blood Cells</td>\n      <td>1.0</td>\n      <td>Total Count</td>\n      <td>Neumerical</td>\n    </tr>\n    <tr>\n      <th>231</th>\n      <td>102223.0</td>\n      <td>White Blood Cells</td>\n      <td>13.0</td>\n      <td>Total Count</td>\n      <td>Neumerical</td>\n    </tr>\n    <tr>\n      <th>...</th>\n      <td>...</td>\n      <td>...</td>\n      <td>...</td>\n      <td>...</td>\n      <td>...</td>\n    </tr>\n    <tr>\n      <th>178019</th>\n      <td>102223.0</td>\n      <td>White Blood Cells</td>\n      <td>13.5</td>\n      <td>Total Count</td>\n      <td>Neumerical</td>\n    </tr>\n    <tr>\n      <th>178114</th>\n      <td>102223.0</td>\n      <td>White Blood Cells</td>\n      <td>20</td>\n      <td>Total Count</td>\n      <td>Neumerical</td>\n    </tr>\n    <tr>\n      <th>178257</th>\n      <td>102223.0</td>\n      <td>White Blood Cells</td>\n      <td>11</td>\n      <td>Total Count</td>\n      <td>Neumerical</td>\n    </tr>\n    <tr>\n      <th>178365</th>\n      <td>102223.0</td>\n      <td>White Blood Cells</td>\n      <td>7.0</td>\n      <td>Total Count</td>\n      <td>Neumerical</td>\n    </tr>\n    <tr>\n      <th>178530</th>\n      <td>102223.0</td>\n      <td>White Blood Cells</td>\n      <td>nan</td>\n      <td>Total Count</td>\n      <td>Neumerical</td>\n    </tr>\n  </tbody>\n</table>\n<p>2143 rows × 5 columns</p>\n</div>"
     },
     "execution_count": 69,
     "metadata": {},
     "output_type": "execute_result"
    }
   ],
   "source": [
    "df_white_blood_cell"
   ],
   "metadata": {
    "collapsed": false,
    "pycharm": {
     "name": "#%%\n"
    }
   }
  },
  {
   "cell_type": "code",
   "execution_count": 70,
   "outputs": [],
   "source": [
    "df_sperm_via= df[df['attr_name'] == \"Sperm viability\"]"
   ],
   "metadata": {
    "collapsed": false,
    "pycharm": {
     "name": "#%%\n"
    }
   }
  },
  {
   "cell_type": "code",
   "execution_count": 71,
   "outputs": [
    {
     "data": {
      "text/plain": "         attr_id        attr_name           result test_group_name  \\\n25303   102214.0  Sperm viability              nan             NaN   \n30013   102214.0  Sperm viability  Normozoospermia             NaN   \n58322   102214.0  Sperm viability              nan             NaN   \n72504   102214.0  Sperm viability              nan             NaN   \n91432   102214.0  Sperm viability              nan             NaN   \n95919   102214.0  Sperm viability              nan             NaN   \n112259  102214.0  Sperm viability              nan             NaN   \n165186  102214.0  Sperm viability              nan             NaN   \n\n          data_type  \n25303    Neumerical  \n30013   Categorical  \n58322    Neumerical  \n72504    Neumerical  \n91432    Neumerical  \n95919    Neumerical  \n112259   Neumerical  \n165186   Neumerical  ",
      "text/html": "<div>\n<style scoped>\n    .dataframe tbody tr th:only-of-type {\n        vertical-align: middle;\n    }\n\n    .dataframe tbody tr th {\n        vertical-align: top;\n    }\n\n    .dataframe thead th {\n        text-align: right;\n    }\n</style>\n<table border=\"1\" class=\"dataframe\">\n  <thead>\n    <tr style=\"text-align: right;\">\n      <th></th>\n      <th>attr_id</th>\n      <th>attr_name</th>\n      <th>result</th>\n      <th>test_group_name</th>\n      <th>data_type</th>\n    </tr>\n  </thead>\n  <tbody>\n    <tr>\n      <th>25303</th>\n      <td>102214.0</td>\n      <td>Sperm viability</td>\n      <td>nan</td>\n      <td>NaN</td>\n      <td>Neumerical</td>\n    </tr>\n    <tr>\n      <th>30013</th>\n      <td>102214.0</td>\n      <td>Sperm viability</td>\n      <td>Normozoospermia</td>\n      <td>NaN</td>\n      <td>Categorical</td>\n    </tr>\n    <tr>\n      <th>58322</th>\n      <td>102214.0</td>\n      <td>Sperm viability</td>\n      <td>nan</td>\n      <td>NaN</td>\n      <td>Neumerical</td>\n    </tr>\n    <tr>\n      <th>72504</th>\n      <td>102214.0</td>\n      <td>Sperm viability</td>\n      <td>nan</td>\n      <td>NaN</td>\n      <td>Neumerical</td>\n    </tr>\n    <tr>\n      <th>91432</th>\n      <td>102214.0</td>\n      <td>Sperm viability</td>\n      <td>nan</td>\n      <td>NaN</td>\n      <td>Neumerical</td>\n    </tr>\n    <tr>\n      <th>95919</th>\n      <td>102214.0</td>\n      <td>Sperm viability</td>\n      <td>nan</td>\n      <td>NaN</td>\n      <td>Neumerical</td>\n    </tr>\n    <tr>\n      <th>112259</th>\n      <td>102214.0</td>\n      <td>Sperm viability</td>\n      <td>nan</td>\n      <td>NaN</td>\n      <td>Neumerical</td>\n    </tr>\n    <tr>\n      <th>165186</th>\n      <td>102214.0</td>\n      <td>Sperm viability</td>\n      <td>nan</td>\n      <td>NaN</td>\n      <td>Neumerical</td>\n    </tr>\n  </tbody>\n</table>\n</div>"
     },
     "execution_count": 71,
     "metadata": {},
     "output_type": "execute_result"
    }
   ],
   "source": [
    "df_sperm_via"
   ],
   "metadata": {
    "collapsed": false,
    "pycharm": {
     "name": "#%%\n"
    }
   }
  },
  {
   "cell_type": "code",
   "execution_count": 72,
   "outputs": [],
   "source": [
    "df_c= df[df['attr_name'] == \"CRP (C-Reactive Protein)\"]"
   ],
   "metadata": {
    "collapsed": false,
    "pycharm": {
     "name": "#%%\n"
    }
   }
  },
  {
   "cell_type": "code",
   "execution_count": 73,
   "outputs": [
    {
     "data": {
      "text/plain": "         attr_id                 attr_name result test_group_name   data_type\n794     100638.0  CRP (C-Reactive Protein)  112.3             NaN  Neumerical\n815     100638.0  CRP (C-Reactive Protein)   15.0             NaN  Neumerical\n2917    100638.0  CRP (C-Reactive Protein)  240.7             NaN  Neumerical\n3344    100638.0  CRP (C-Reactive Protein)    2.8             NaN  Neumerical\n3715    100638.0  CRP (C-Reactive Protein)    6.3             NaN  Neumerical\n...          ...                       ...    ...             ...         ...\n176960  100638.0  CRP (C-Reactive Protein)   21.0             NaN  Neumerical\n177023  100638.0  CRP (C-Reactive Protein)   12.5             NaN  Neumerical\n177342  100638.0  CRP (C-Reactive Protein)   10.2             NaN  Neumerical\n177943  100638.0  CRP (C-Reactive Protein)   78.9             NaN  Neumerical\n178152  100638.0  CRP (C-Reactive Protein)    0.9             NaN  Neumerical\n\n[482 rows x 5 columns]",
      "text/html": "<div>\n<style scoped>\n    .dataframe tbody tr th:only-of-type {\n        vertical-align: middle;\n    }\n\n    .dataframe tbody tr th {\n        vertical-align: top;\n    }\n\n    .dataframe thead th {\n        text-align: right;\n    }\n</style>\n<table border=\"1\" class=\"dataframe\">\n  <thead>\n    <tr style=\"text-align: right;\">\n      <th></th>\n      <th>attr_id</th>\n      <th>attr_name</th>\n      <th>result</th>\n      <th>test_group_name</th>\n      <th>data_type</th>\n    </tr>\n  </thead>\n  <tbody>\n    <tr>\n      <th>794</th>\n      <td>100638.0</td>\n      <td>CRP (C-Reactive Protein)</td>\n      <td>112.3</td>\n      <td>NaN</td>\n      <td>Neumerical</td>\n    </tr>\n    <tr>\n      <th>815</th>\n      <td>100638.0</td>\n      <td>CRP (C-Reactive Protein)</td>\n      <td>15.0</td>\n      <td>NaN</td>\n      <td>Neumerical</td>\n    </tr>\n    <tr>\n      <th>2917</th>\n      <td>100638.0</td>\n      <td>CRP (C-Reactive Protein)</td>\n      <td>240.7</td>\n      <td>NaN</td>\n      <td>Neumerical</td>\n    </tr>\n    <tr>\n      <th>3344</th>\n      <td>100638.0</td>\n      <td>CRP (C-Reactive Protein)</td>\n      <td>2.8</td>\n      <td>NaN</td>\n      <td>Neumerical</td>\n    </tr>\n    <tr>\n      <th>3715</th>\n      <td>100638.0</td>\n      <td>CRP (C-Reactive Protein)</td>\n      <td>6.3</td>\n      <td>NaN</td>\n      <td>Neumerical</td>\n    </tr>\n    <tr>\n      <th>...</th>\n      <td>...</td>\n      <td>...</td>\n      <td>...</td>\n      <td>...</td>\n      <td>...</td>\n    </tr>\n    <tr>\n      <th>176960</th>\n      <td>100638.0</td>\n      <td>CRP (C-Reactive Protein)</td>\n      <td>21.0</td>\n      <td>NaN</td>\n      <td>Neumerical</td>\n    </tr>\n    <tr>\n      <th>177023</th>\n      <td>100638.0</td>\n      <td>CRP (C-Reactive Protein)</td>\n      <td>12.5</td>\n      <td>NaN</td>\n      <td>Neumerical</td>\n    </tr>\n    <tr>\n      <th>177342</th>\n      <td>100638.0</td>\n      <td>CRP (C-Reactive Protein)</td>\n      <td>10.2</td>\n      <td>NaN</td>\n      <td>Neumerical</td>\n    </tr>\n    <tr>\n      <th>177943</th>\n      <td>100638.0</td>\n      <td>CRP (C-Reactive Protein)</td>\n      <td>78.9</td>\n      <td>NaN</td>\n      <td>Neumerical</td>\n    </tr>\n    <tr>\n      <th>178152</th>\n      <td>100638.0</td>\n      <td>CRP (C-Reactive Protein)</td>\n      <td>0.9</td>\n      <td>NaN</td>\n      <td>Neumerical</td>\n    </tr>\n  </tbody>\n</table>\n<p>482 rows × 5 columns</p>\n</div>"
     },
     "execution_count": 73,
     "metadata": {},
     "output_type": "execute_result"
    }
   ],
   "source": [
    "df_c"
   ],
   "metadata": {
    "collapsed": false,
    "pycharm": {
     "name": "#%%\n"
    }
   }
  },
  {
   "cell_type": "code",
   "execution_count": null,
   "outputs": [],
   "source": [
    "df_mcv= df[df['attr_name'] == \"M.C.V.\"]"
   ],
   "metadata": {
    "collapsed": false,
    "pycharm": {
     "name": "#%%\n",
     "is_executing": true
    }
   }
  },
  {
   "cell_type": "code",
   "execution_count": null,
   "outputs": [],
   "source": [
    "df_mcv"
   ],
   "metadata": {
    "collapsed": false,
    "pycharm": {
     "name": "#%%\n",
     "is_executing": true
    }
   }
  },
  {
   "cell_type": "code",
   "execution_count": null,
   "outputs": [],
   "source": [
    "for index, row in df.iterrows():\n",
    "    name = row['attr_name']\n",
    "    df[df['attr_name'] == name]\n",
    "    df\n",
    "\n",
    "\n",
    "\n",
    "     # df[df['attr_name'] == row['attr_name'].astype(str)]\n",
    "     # df"
   ],
   "metadata": {
    "collapsed": false,
    "pycharm": {
     "name": "#%%\n",
     "is_executing": true
    }
   }
  },
  {
   "cell_type": "code",
   "execution_count": 27,
   "outputs": [
    {
     "data": {
      "text/plain": "          attr_id                         attr_name result  \\\n0        101518.0                              Urea   73.2   \n1        102046.0                        Creatinine    2.4   \n2        102182.0                     Triglycerides    280   \n3        102181.0                   LDL Cholesterol    264   \n4        102180.0                   HDL Cholesterol     47   \n...           ...                               ...    ...   \n178546   100081.0                             Blast    NaN   \n178547   100082.0  Atypical and hairy looking cells    NaN   \n178548   100083.0                       Others (DC)    NaN   \n178549   104291.0                               ESR    NaN   \n178550  3002238.0     Skin Biopsy (HISTO-PATHOLOGY)    NaN   \n\n            test_group_name  \n0                       NaN  \n1                       NaN  \n2       Lipid Profile Serum  \n3       Lipid Profile Serum  \n4       Lipid Profile Serum  \n...                     ...  \n178546   Differential Count  \n178547   Differential Count  \n178548   Differential Count  \n178549                  NaN  \n178550                  NaN  \n\n[178551 rows x 4 columns]",
      "text/html": "<div>\n<style scoped>\n    .dataframe tbody tr th:only-of-type {\n        vertical-align: middle;\n    }\n\n    .dataframe tbody tr th {\n        vertical-align: top;\n    }\n\n    .dataframe thead th {\n        text-align: right;\n    }\n</style>\n<table border=\"1\" class=\"dataframe\">\n  <thead>\n    <tr style=\"text-align: right;\">\n      <th></th>\n      <th>attr_id</th>\n      <th>attr_name</th>\n      <th>result</th>\n      <th>test_group_name</th>\n    </tr>\n  </thead>\n  <tbody>\n    <tr>\n      <th>0</th>\n      <td>101518.0</td>\n      <td>Urea</td>\n      <td>73.2</td>\n      <td>NaN</td>\n    </tr>\n    <tr>\n      <th>1</th>\n      <td>102046.0</td>\n      <td>Creatinine</td>\n      <td>2.4</td>\n      <td>NaN</td>\n    </tr>\n    <tr>\n      <th>2</th>\n      <td>102182.0</td>\n      <td>Triglycerides</td>\n      <td>280</td>\n      <td>Lipid Profile Serum</td>\n    </tr>\n    <tr>\n      <th>3</th>\n      <td>102181.0</td>\n      <td>LDL Cholesterol</td>\n      <td>264</td>\n      <td>Lipid Profile Serum</td>\n    </tr>\n    <tr>\n      <th>4</th>\n      <td>102180.0</td>\n      <td>HDL Cholesterol</td>\n      <td>47</td>\n      <td>Lipid Profile Serum</td>\n    </tr>\n    <tr>\n      <th>...</th>\n      <td>...</td>\n      <td>...</td>\n      <td>...</td>\n      <td>...</td>\n    </tr>\n    <tr>\n      <th>178546</th>\n      <td>100081.0</td>\n      <td>Blast</td>\n      <td>NaN</td>\n      <td>Differential Count</td>\n    </tr>\n    <tr>\n      <th>178547</th>\n      <td>100082.0</td>\n      <td>Atypical and hairy looking cells</td>\n      <td>NaN</td>\n      <td>Differential Count</td>\n    </tr>\n    <tr>\n      <th>178548</th>\n      <td>100083.0</td>\n      <td>Others (DC)</td>\n      <td>NaN</td>\n      <td>Differential Count</td>\n    </tr>\n    <tr>\n      <th>178549</th>\n      <td>104291.0</td>\n      <td>ESR</td>\n      <td>NaN</td>\n      <td>NaN</td>\n    </tr>\n    <tr>\n      <th>178550</th>\n      <td>3002238.0</td>\n      <td>Skin Biopsy (HISTO-PATHOLOGY)</td>\n      <td>NaN</td>\n      <td>NaN</td>\n    </tr>\n  </tbody>\n</table>\n<p>178551 rows × 4 columns</p>\n</div>"
     },
     "execution_count": 27,
     "metadata": {},
     "output_type": "execute_result"
    }
   ],
   "source": [
    "df"
   ],
   "metadata": {
    "collapsed": false,
    "pycharm": {
     "name": "#%%\n"
    }
   }
  },
  {
   "cell_type": "code",
   "execution_count": 34,
   "outputs": [],
   "source": [
    "df_group = df.groupby(['attr_name', 'result'])['attr_name'].count()"
   ],
   "metadata": {
    "collapsed": false,
    "pycharm": {
     "name": "#%%\n"
    }
   }
  },
  {
   "cell_type": "code",
   "execution_count": 36,
   "outputs": [
    {
     "data": {
      "text/plain": "attr_name                    result  \n\\nCorresponding urine sugar  N/S           8\n                             Trace         1\n    1.  HBsAg                Negative    240\n                             Positive      1\n    2.  Anti HCV             Negaitve      1\n                                        ... \n�hCG                         520.34        1\n                             528.31        1\n                             7934.13       1\n                             < 1.20        8\n                             <1.20         3\nName: attr_name, Length: 10340, dtype: int64"
     },
     "execution_count": 36,
     "metadata": {},
     "output_type": "execute_result"
    }
   ],
   "source": [
    "df_group"
   ],
   "metadata": {
    "collapsed": false,
    "pycharm": {
     "name": "#%%\n"
    }
   }
  },
  {
   "cell_type": "code",
   "execution_count": null,
   "outputs": [],
   "source": [],
   "metadata": {
    "collapsed": false,
    "pycharm": {
     "name": "#%%\n"
    }
   }
  }
 ],
 "metadata": {
  "kernelspec": {
   "display_name": "Python 3",
   "language": "python",
   "name": "python3"
  },
  "language_info": {
   "codemirror_mode": {
    "name": "ipython",
    "version": 2
   },
   "file_extension": ".py",
   "mimetype": "text/x-python",
   "name": "python",
   "nbconvert_exporter": "python",
   "pygments_lexer": "ipython2",
   "version": "2.7.6"
  }
 },
 "nbformat": 4,
 "nbformat_minor": 0
}