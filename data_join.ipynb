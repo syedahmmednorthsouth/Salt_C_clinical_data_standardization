{
 "cells": [
  {
   "cell_type": "code",
   "execution_count": 46,
   "metadata": {
    "collapsed": true
   },
   "outputs": [],
   "source": [
    "import pandas as pd\n",
    "import numpy as np"
   ]
  },
  {
   "cell_type": "code",
   "execution_count": 47,
   "outputs": [],
   "source": [
    "df2 = pd.read_csv(\"./dataset/Choose_Atribute/attribute_2.csv\")\n",
    "df3 = pd.read_csv(\"./dataset/Choose_Atribute/attribute_3.csv\")\n",
    "df4 = pd.read_csv(\"./dataset/Choose_Atribute/attribute_4.csv\")\n",
    "df5 = pd.read_csv(\"./dataset/Choose_Atribute/attribute_5.csv\")\n",
    "df6 = pd.read_csv(\"./dataset/Choose_Atribute/attribute_6.csv\")"
   ],
   "metadata": {
    "collapsed": false,
    "pycharm": {
     "name": "#%%\n"
    }
   }
  },
  {
   "cell_type": "code",
   "execution_count": 48,
   "outputs": [],
   "source": [
    "result = pd.concat([df2,df3,df4,df5,df6], ignore_index=True, sort=False)"
   ],
   "metadata": {
    "collapsed": false,
    "pycharm": {
     "name": "#%%\n"
    }
   }
  },
  {
   "cell_type": "code",
   "execution_count": 49,
   "outputs": [
    {
     "data": {
      "text/plain": "       Unnamed: 0    attr_id      attr_name    result       test_group_name  \\\n0             100   102108.0     Appearance     Clear  PHYSICAL EXAMINATION   \n1             101   102107.0         Colour     Straw  PHYSICAL EXAMINATION   \n2             108   102117.0        Albumin       Nil  CHEMICAL EXAMINATION   \n3             156   101239.0         HBs Ag  Negative                   NaN   \n4             158   100744.0       Anti-HCV  Negative                   NaN   \n...           ...        ...            ...       ...                   ...   \n76634      533972  3002611.0      Rh Type :  Positive                   NaN   \n76635      533984  3002604.0  Blood Group :       \"B\"                   NaN   \n76636      533985  3002605.0      Rh Type :  Positive                   NaN   \n76637      533990  3002610.0  Blood Group :       \"B\"                   NaN   \n76638      533991  3002611.0      Rh Type :  Positive                   NaN   \n\n         data_type  \n0      Categorical  \n1      Categorical  \n2      Categorical  \n3      Categorical  \n4      Categorical  \n...            ...  \n76634  Categorical  \n76635  Categorical  \n76636  Categorical  \n76637  Categorical  \n76638  Categorical  \n\n[76639 rows x 6 columns]",
      "text/html": "<div>\n<style scoped>\n    .dataframe tbody tr th:only-of-type {\n        vertical-align: middle;\n    }\n\n    .dataframe tbody tr th {\n        vertical-align: top;\n    }\n\n    .dataframe thead th {\n        text-align: right;\n    }\n</style>\n<table border=\"1\" class=\"dataframe\">\n  <thead>\n    <tr style=\"text-align: right;\">\n      <th></th>\n      <th>Unnamed: 0</th>\n      <th>attr_id</th>\n      <th>attr_name</th>\n      <th>result</th>\n      <th>test_group_name</th>\n      <th>data_type</th>\n    </tr>\n  </thead>\n  <tbody>\n    <tr>\n      <th>0</th>\n      <td>100</td>\n      <td>102108.0</td>\n      <td>Appearance</td>\n      <td>Clear</td>\n      <td>PHYSICAL EXAMINATION</td>\n      <td>Categorical</td>\n    </tr>\n    <tr>\n      <th>1</th>\n      <td>101</td>\n      <td>102107.0</td>\n      <td>Colour</td>\n      <td>Straw</td>\n      <td>PHYSICAL EXAMINATION</td>\n      <td>Categorical</td>\n    </tr>\n    <tr>\n      <th>2</th>\n      <td>108</td>\n      <td>102117.0</td>\n      <td>Albumin</td>\n      <td>Nil</td>\n      <td>CHEMICAL EXAMINATION</td>\n      <td>Categorical</td>\n    </tr>\n    <tr>\n      <th>3</th>\n      <td>156</td>\n      <td>101239.0</td>\n      <td>HBs Ag</td>\n      <td>Negative</td>\n      <td>NaN</td>\n      <td>Categorical</td>\n    </tr>\n    <tr>\n      <th>4</th>\n      <td>158</td>\n      <td>100744.0</td>\n      <td>Anti-HCV</td>\n      <td>Negative</td>\n      <td>NaN</td>\n      <td>Categorical</td>\n    </tr>\n    <tr>\n      <th>...</th>\n      <td>...</td>\n      <td>...</td>\n      <td>...</td>\n      <td>...</td>\n      <td>...</td>\n      <td>...</td>\n    </tr>\n    <tr>\n      <th>76634</th>\n      <td>533972</td>\n      <td>3002611.0</td>\n      <td>Rh Type :</td>\n      <td>Positive</td>\n      <td>NaN</td>\n      <td>Categorical</td>\n    </tr>\n    <tr>\n      <th>76635</th>\n      <td>533984</td>\n      <td>3002604.0</td>\n      <td>Blood Group :</td>\n      <td>\"B\"</td>\n      <td>NaN</td>\n      <td>Categorical</td>\n    </tr>\n    <tr>\n      <th>76636</th>\n      <td>533985</td>\n      <td>3002605.0</td>\n      <td>Rh Type :</td>\n      <td>Positive</td>\n      <td>NaN</td>\n      <td>Categorical</td>\n    </tr>\n    <tr>\n      <th>76637</th>\n      <td>533990</td>\n      <td>3002610.0</td>\n      <td>Blood Group :</td>\n      <td>\"B\"</td>\n      <td>NaN</td>\n      <td>Categorical</td>\n    </tr>\n    <tr>\n      <th>76638</th>\n      <td>533991</td>\n      <td>3002611.0</td>\n      <td>Rh Type :</td>\n      <td>Positive</td>\n      <td>NaN</td>\n      <td>Categorical</td>\n    </tr>\n  </tbody>\n</table>\n<p>76639 rows × 6 columns</p>\n</div>"
     },
     "execution_count": 49,
     "metadata": {},
     "output_type": "execute_result"
    }
   ],
   "source": [
    "result"
   ],
   "metadata": {
    "collapsed": false,
    "pycharm": {
     "name": "#%%\n"
    }
   }
  },
  {
   "cell_type": "code",
   "execution_count": 51,
   "outputs": [],
   "source": [
    "result.to_csv(\"./dataset/Choose_Atribute/final_attribute.csv\")"
   ],
   "metadata": {
    "collapsed": false,
    "pycharm": {
     "name": "#%%\n"
    }
   }
  },
  {
   "cell_type": "code",
   "execution_count": null,
   "outputs": [],
   "source": [],
   "metadata": {
    "collapsed": false,
    "pycharm": {
     "name": "#%%\n"
    }
   }
  }
 ],
 "metadata": {
  "kernelspec": {
   "display_name": "Python 3",
   "language": "python",
   "name": "python3"
  },
  "language_info": {
   "codemirror_mode": {
    "name": "ipython",
    "version": 2
   },
   "file_extension": ".py",
   "mimetype": "text/x-python",
   "name": "python",
   "nbconvert_exporter": "python",
   "pygments_lexer": "ipython2",
   "version": "2.7.6"
  }
 },
 "nbformat": 4,
 "nbformat_minor": 0
}