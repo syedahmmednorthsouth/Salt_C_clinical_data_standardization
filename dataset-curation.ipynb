{
 "cells": [
  {
   "cell_type": "code",
   "execution_count": 3,
   "id": "51185892",
   "metadata": {},
   "outputs": [],
   "source": [
    "import pandas as pd\n",
    "import numpy as np"
   ]
  },
  {
   "cell_type": "code",
   "execution_count": 16,
   "id": "14970991",
   "metadata": {},
   "outputs": [],
   "source": [
    "data_dir = \"./dataset/\""
   ]
  },
  {
   "cell_type": "markdown",
   "id": "0f78cec4",
   "metadata": {},
   "source": [
    "### Dataset curation\n",
    "* Finding the types of data for each of the selected test\n",
    "* Finding the possible data points of each attribute of the test\n",
    "* store data in a csv file"
   ]
  },
  {
   "cell_type": "markdown",
   "id": "dc4d7232",
   "metadata": {},
   "source": [
    "## Source 1"
   ]
  },
  {
   "cell_type": "code",
   "execution_count": 21,
   "id": "5ac56888",
   "metadata": {},
   "outputs": [],
   "source": [
    "source1 = pd.read_csv(data_dir + \"source-1/all_testresult.csv\")"
   ]
  },
  {
   "cell_type": "code",
   "execution_count": 22,
   "id": "f2c65d44",
   "metadata": {},
   "outputs": [
    {
     "data": {
      "text/plain": "(16454, 7)"
     },
     "execution_count": 22,
     "metadata": {},
     "output_type": "execute_result"
    }
   ],
   "source": [
    "source1.shape"
   ]
  },
  {
   "cell_type": "code",
   "execution_count": 23,
   "id": "e6a17fb4",
   "metadata": {},
   "outputs": [
    {
     "name": "stdout",
     "output_type": "stream",
     "text": [
      "(16454, 7)\n"
     ]
    },
    {
     "data": {
      "text/plain": "       test_key        test_name  attr_key    attribute result  unit  \\\n0         10921  ALT(SGPT) Serum     14344   ALT (SGPT)     10   U/L   \n1         10921  ALT(SGPT) Serum     14344   ALT (SGPT)    100   U/L   \n2         10921  ALT(SGPT) Serum     14344   ALT (SGPT)   10.0   U/L   \n3         10921  ALT(SGPT) Serum     14344   ALT (SGPT)   1000   U/L   \n4         10921  ALT(SGPT) Serum     14344   ALT (SGPT)    101   U/L   \n...         ...              ...       ...          ...    ...   ...   \n16027     10616      Urine R/M/E     13028        Yeast  Trace  Null   \n16028     10616      Urine R/M/E     13029  Spermatozoa    (+)  Null   \n16029     10616      Urine R/M/E     13029  Spermatozoa   (++)  Null   \n16030     10616      Urine R/M/E     13029  Spermatozoa    Few  Null   \n16031     10616      Urine R/M/E     13029  Spermatozoa    Nil  Null   \n\n       record_count  \n0                14  \n1                 6  \n2                 1  \n3                 2  \n4                 3  \n...             ...  \n16027             3  \n16028             7  \n16029             3  \n16030             1  \n16031           420  \n\n[16032 rows x 7 columns]",
      "text/html": "<div>\n<style scoped>\n    .dataframe tbody tr th:only-of-type {\n        vertical-align: middle;\n    }\n\n    .dataframe tbody tr th {\n        vertical-align: top;\n    }\n\n    .dataframe thead th {\n        text-align: right;\n    }\n</style>\n<table border=\"1\" class=\"dataframe\">\n  <thead>\n    <tr style=\"text-align: right;\">\n      <th></th>\n      <th>test_key</th>\n      <th>test_name</th>\n      <th>attr_key</th>\n      <th>attribute</th>\n      <th>result</th>\n      <th>unit</th>\n      <th>record_count</th>\n    </tr>\n  </thead>\n  <tbody>\n    <tr>\n      <th>0</th>\n      <td>10921</td>\n      <td>ALT(SGPT) Serum</td>\n      <td>14344</td>\n      <td>ALT (SGPT)</td>\n      <td>10</td>\n      <td>U/L</td>\n      <td>14</td>\n    </tr>\n    <tr>\n      <th>1</th>\n      <td>10921</td>\n      <td>ALT(SGPT) Serum</td>\n      <td>14344</td>\n      <td>ALT (SGPT)</td>\n      <td>100</td>\n      <td>U/L</td>\n      <td>6</td>\n    </tr>\n    <tr>\n      <th>2</th>\n      <td>10921</td>\n      <td>ALT(SGPT) Serum</td>\n      <td>14344</td>\n      <td>ALT (SGPT)</td>\n      <td>10.0</td>\n      <td>U/L</td>\n      <td>1</td>\n    </tr>\n    <tr>\n      <th>3</th>\n      <td>10921</td>\n      <td>ALT(SGPT) Serum</td>\n      <td>14344</td>\n      <td>ALT (SGPT)</td>\n      <td>1000</td>\n      <td>U/L</td>\n      <td>2</td>\n    </tr>\n    <tr>\n      <th>4</th>\n      <td>10921</td>\n      <td>ALT(SGPT) Serum</td>\n      <td>14344</td>\n      <td>ALT (SGPT)</td>\n      <td>101</td>\n      <td>U/L</td>\n      <td>3</td>\n    </tr>\n    <tr>\n      <th>...</th>\n      <td>...</td>\n      <td>...</td>\n      <td>...</td>\n      <td>...</td>\n      <td>...</td>\n      <td>...</td>\n      <td>...</td>\n    </tr>\n    <tr>\n      <th>16027</th>\n      <td>10616</td>\n      <td>Urine R/M/E</td>\n      <td>13028</td>\n      <td>Yeast</td>\n      <td>Trace</td>\n      <td>Null</td>\n      <td>3</td>\n    </tr>\n    <tr>\n      <th>16028</th>\n      <td>10616</td>\n      <td>Urine R/M/E</td>\n      <td>13029</td>\n      <td>Spermatozoa</td>\n      <td>(+)</td>\n      <td>Null</td>\n      <td>7</td>\n    </tr>\n    <tr>\n      <th>16029</th>\n      <td>10616</td>\n      <td>Urine R/M/E</td>\n      <td>13029</td>\n      <td>Spermatozoa</td>\n      <td>(++)</td>\n      <td>Null</td>\n      <td>3</td>\n    </tr>\n    <tr>\n      <th>16030</th>\n      <td>10616</td>\n      <td>Urine R/M/E</td>\n      <td>13029</td>\n      <td>Spermatozoa</td>\n      <td>Few</td>\n      <td>Null</td>\n      <td>1</td>\n    </tr>\n    <tr>\n      <th>16031</th>\n      <td>10616</td>\n      <td>Urine R/M/E</td>\n      <td>13029</td>\n      <td>Spermatozoa</td>\n      <td>Nil</td>\n      <td>Null</td>\n      <td>420</td>\n    </tr>\n  </tbody>\n</table>\n<p>16032 rows × 7 columns</p>\n</div>"
     },
     "execution_count": 23,
     "metadata": {},
     "output_type": "execute_result"
    }
   ],
   "source": [
    "source1['result'] = source1['result'].astype(str)\n",
    "source1['result'] = source1['result'].apply(lambda x: x.strip())\n",
    "source1['result'] = source1['result'].apply(lambda x: np.nan if x == 'Null' else x)\n",
    "# source1['result'] = source1['result'].replace('Null', np.nan)\n",
    "# source1 = source1.replace('Null', np.nan)\n",
    "print(source1.shape)\n",
    "# source1 = source1.dropna(inplace=True)\n",
    "source1 = source1.dropna(how='any')\n",
    "# print(source1.shape)\n",
    "source1.index = np.arange(0, len(source1))\n",
    "source1"
   ]
  },
  {
   "cell_type": "code",
   "execution_count": 24,
   "id": "a6956bbe",
   "metadata": {},
   "outputs": [
    {
     "name": "stdout",
     "output_type": "stream",
     "text": [
      "16032 (16032, 7)\n",
      "       test_key        test_name  attr_key    attribute result  unit  \\\n",
      "0         10921  ALT(SGPT) Serum     14344   ALT (SGPT)     10   U/L   \n",
      "1         10921  ALT(SGPT) Serum     14344   ALT (SGPT)    100   U/L   \n",
      "2         10921  ALT(SGPT) Serum     14344   ALT (SGPT)   10.0   U/L   \n",
      "3         10921  ALT(SGPT) Serum     14344   ALT (SGPT)   1000   U/L   \n",
      "4         10921  ALT(SGPT) Serum     14344   ALT (SGPT)    101   U/L   \n",
      "...         ...              ...       ...          ...    ...   ...   \n",
      "16027     10616      Urine R/M/E     13028        Yeast  Trace  Null   \n",
      "16028     10616      Urine R/M/E     13029  Spermatozoa    (+)  Null   \n",
      "16029     10616      Urine R/M/E     13029  Spermatozoa   (++)  Null   \n",
      "16030     10616      Urine R/M/E     13029  Spermatozoa    Few  Null   \n",
      "16031     10616      Urine R/M/E     13029  Spermatozoa    Nil  Null   \n",
      "\n",
      "       record_count    data_type  \n",
      "0                14   Neumerical  \n",
      "1                 6   Neumerical  \n",
      "2                 1   Neumerical  \n",
      "3                 2   Neumerical  \n",
      "4                 3   Neumerical  \n",
      "...             ...          ...  \n",
      "16027             3  Categorical  \n",
      "16028             7  Categorical  \n",
      "16029             3  Categorical  \n",
      "16030             1  Categorical  \n",
      "16031           420  Categorical  \n",
      "\n",
      "[16032 rows x 8 columns]\n"
     ]
    }
   ],
   "source": [
    "types = []\n",
    "for index, row in source1.iterrows():\n",
    "#     print(row['test_name'], row['attribute'], row['result'], type(row['result']))\n",
    "    try:\n",
    "        val = float(row['result'])\n",
    "        types.append('Neumerical')\n",
    "    except:\n",
    "        types.append('Categorical')\n",
    "#         print(\"That's not an int!\")\n",
    "print(len(types), source1.shape)\n",
    "# print(types)\n",
    "source1['data_type'] = pd.DataFrame(types)\n",
    "print(source1)"
   ]
  },
  {
   "cell_type": "code",
   "execution_count": 25,
   "id": "99bb8530",
   "metadata": {},
   "outputs": [
    {
     "data": {
      "text/plain": "       test_key        test_name  attr_key    attribute result  unit  \\\n0         10921  ALT(SGPT) Serum     14344   ALT (SGPT)     10   U/L   \n1         10921  ALT(SGPT) Serum     14344   ALT (SGPT)    100   U/L   \n2         10921  ALT(SGPT) Serum     14344   ALT (SGPT)   10.0   U/L   \n3         10921  ALT(SGPT) Serum     14344   ALT (SGPT)   1000   U/L   \n4         10921  ALT(SGPT) Serum     14344   ALT (SGPT)    101   U/L   \n...         ...              ...       ...          ...    ...   ...   \n16027     10616      Urine R/M/E     13028        Yeast  Trace  Null   \n16028     10616      Urine R/M/E     13029  Spermatozoa    (+)  Null   \n16029     10616      Urine R/M/E     13029  Spermatozoa   (++)  Null   \n16030     10616      Urine R/M/E     13029  Spermatozoa    Few  Null   \n16031     10616      Urine R/M/E     13029  Spermatozoa    Nil  Null   \n\n       record_count    data_type  \n0                14   Neumerical  \n1                 6   Neumerical  \n2                 1   Neumerical  \n3                 2   Neumerical  \n4                 3   Neumerical  \n...             ...          ...  \n16027             3  Categorical  \n16028             7  Categorical  \n16029             3  Categorical  \n16030             1  Categorical  \n16031           420  Categorical  \n\n[16032 rows x 8 columns]",
      "text/html": "<div>\n<style scoped>\n    .dataframe tbody tr th:only-of-type {\n        vertical-align: middle;\n    }\n\n    .dataframe tbody tr th {\n        vertical-align: top;\n    }\n\n    .dataframe thead th {\n        text-align: right;\n    }\n</style>\n<table border=\"1\" class=\"dataframe\">\n  <thead>\n    <tr style=\"text-align: right;\">\n      <th></th>\n      <th>test_key</th>\n      <th>test_name</th>\n      <th>attr_key</th>\n      <th>attribute</th>\n      <th>result</th>\n      <th>unit</th>\n      <th>record_count</th>\n      <th>data_type</th>\n    </tr>\n  </thead>\n  <tbody>\n    <tr>\n      <th>0</th>\n      <td>10921</td>\n      <td>ALT(SGPT) Serum</td>\n      <td>14344</td>\n      <td>ALT (SGPT)</td>\n      <td>10</td>\n      <td>U/L</td>\n      <td>14</td>\n      <td>Neumerical</td>\n    </tr>\n    <tr>\n      <th>1</th>\n      <td>10921</td>\n      <td>ALT(SGPT) Serum</td>\n      <td>14344</td>\n      <td>ALT (SGPT)</td>\n      <td>100</td>\n      <td>U/L</td>\n      <td>6</td>\n      <td>Neumerical</td>\n    </tr>\n    <tr>\n      <th>2</th>\n      <td>10921</td>\n      <td>ALT(SGPT) Serum</td>\n      <td>14344</td>\n      <td>ALT (SGPT)</td>\n      <td>10.0</td>\n      <td>U/L</td>\n      <td>1</td>\n      <td>Neumerical</td>\n    </tr>\n    <tr>\n      <th>3</th>\n      <td>10921</td>\n      <td>ALT(SGPT) Serum</td>\n      <td>14344</td>\n      <td>ALT (SGPT)</td>\n      <td>1000</td>\n      <td>U/L</td>\n      <td>2</td>\n      <td>Neumerical</td>\n    </tr>\n    <tr>\n      <th>4</th>\n      <td>10921</td>\n      <td>ALT(SGPT) Serum</td>\n      <td>14344</td>\n      <td>ALT (SGPT)</td>\n      <td>101</td>\n      <td>U/L</td>\n      <td>3</td>\n      <td>Neumerical</td>\n    </tr>\n    <tr>\n      <th>...</th>\n      <td>...</td>\n      <td>...</td>\n      <td>...</td>\n      <td>...</td>\n      <td>...</td>\n      <td>...</td>\n      <td>...</td>\n      <td>...</td>\n    </tr>\n    <tr>\n      <th>16027</th>\n      <td>10616</td>\n      <td>Urine R/M/E</td>\n      <td>13028</td>\n      <td>Yeast</td>\n      <td>Trace</td>\n      <td>Null</td>\n      <td>3</td>\n      <td>Categorical</td>\n    </tr>\n    <tr>\n      <th>16028</th>\n      <td>10616</td>\n      <td>Urine R/M/E</td>\n      <td>13029</td>\n      <td>Spermatozoa</td>\n      <td>(+)</td>\n      <td>Null</td>\n      <td>7</td>\n      <td>Categorical</td>\n    </tr>\n    <tr>\n      <th>16029</th>\n      <td>10616</td>\n      <td>Urine R/M/E</td>\n      <td>13029</td>\n      <td>Spermatozoa</td>\n      <td>(++)</td>\n      <td>Null</td>\n      <td>3</td>\n      <td>Categorical</td>\n    </tr>\n    <tr>\n      <th>16030</th>\n      <td>10616</td>\n      <td>Urine R/M/E</td>\n      <td>13029</td>\n      <td>Spermatozoa</td>\n      <td>Few</td>\n      <td>Null</td>\n      <td>1</td>\n      <td>Categorical</td>\n    </tr>\n    <tr>\n      <th>16031</th>\n      <td>10616</td>\n      <td>Urine R/M/E</td>\n      <td>13029</td>\n      <td>Spermatozoa</td>\n      <td>Nil</td>\n      <td>Null</td>\n      <td>420</td>\n      <td>Categorical</td>\n    </tr>\n  </tbody>\n</table>\n<p>16032 rows × 8 columns</p>\n</div>"
     },
     "execution_count": 25,
     "metadata": {},
     "output_type": "execute_result"
    }
   ],
   "source": [
    "source1"
   ]
  },
  {
   "cell_type": "code",
   "execution_count": 26,
   "id": "c2e43c8e",
   "metadata": {},
   "outputs": [
    {
     "data": {
      "text/plain": "                                                     unique\nattr_key                                                   \n10428     [00, 02, 03, 10, 101, 102, 1044, 1053, 1075, 1...\n10429     [01, 01 Bag, 01  Bag, 01 Unit, 01- Unit, 1, 10...\n10430                                                 [Bag]\n10431            [\"A\", AB, \"AB\", ''B'', \"B\", O, ''O'', \"O\"]\n10432                        [Negative, positive, Positive]\n...                                                     ...\n15126     [0.3, 0.4, 0.5, 0.6, 0.7, 0.8, 0.9, 1, 1.0, 10...\n15127     [108, 113, 114, 117, 118, 119, 121, 122, 123, ...\n15128     [1.4, 1.7, 2.0, 2.1, 2.2, 2.3, 2.4, 2.5, 2.6, ...\n15129     [100, 101, 102, 103, 104, 105, 106, 107, 108, ...\n15130     [10, 11, 12, 13, 14, 15, 16, 17, 18, 19, 20, 2...\n\n[286 rows x 1 columns]",
      "text/html": "<div>\n<style scoped>\n    .dataframe tbody tr th:only-of-type {\n        vertical-align: middle;\n    }\n\n    .dataframe tbody tr th {\n        vertical-align: top;\n    }\n\n    .dataframe thead th {\n        text-align: right;\n    }\n</style>\n<table border=\"1\" class=\"dataframe\">\n  <thead>\n    <tr style=\"text-align: right;\">\n      <th></th>\n      <th>unique</th>\n    </tr>\n    <tr>\n      <th>attr_key</th>\n      <th></th>\n    </tr>\n  </thead>\n  <tbody>\n    <tr>\n      <th>10428</th>\n      <td>[00, 02, 03, 10, 101, 102, 1044, 1053, 1075, 1...</td>\n    </tr>\n    <tr>\n      <th>10429</th>\n      <td>[01, 01 Bag, 01  Bag, 01 Unit, 01- Unit, 1, 10...</td>\n    </tr>\n    <tr>\n      <th>10430</th>\n      <td>[Bag]</td>\n    </tr>\n    <tr>\n      <th>10431</th>\n      <td>[\"A\", AB, \"AB\", ''B'', \"B\", O, ''O'', \"O\"]</td>\n    </tr>\n    <tr>\n      <th>10432</th>\n      <td>[Negative, positive, Positive]</td>\n    </tr>\n    <tr>\n      <th>...</th>\n      <td>...</td>\n    </tr>\n    <tr>\n      <th>15126</th>\n      <td>[0.3, 0.4, 0.5, 0.6, 0.7, 0.8, 0.9, 1, 1.0, 10...</td>\n    </tr>\n    <tr>\n      <th>15127</th>\n      <td>[108, 113, 114, 117, 118, 119, 121, 122, 123, ...</td>\n    </tr>\n    <tr>\n      <th>15128</th>\n      <td>[1.4, 1.7, 2.0, 2.1, 2.2, 2.3, 2.4, 2.5, 2.6, ...</td>\n    </tr>\n    <tr>\n      <th>15129</th>\n      <td>[100, 101, 102, 103, 104, 105, 106, 107, 108, ...</td>\n    </tr>\n    <tr>\n      <th>15130</th>\n      <td>[10, 11, 12, 13, 14, 15, 16, 17, 18, 19, 20, 2...</td>\n    </tr>\n  </tbody>\n</table>\n<p>286 rows × 1 columns</p>\n</div>"
     },
     "execution_count": 26,
     "metadata": {},
     "output_type": "execute_result"
    }
   ],
   "source": [
    "g = source1.groupby('attr_key', as_index = False)['result'].agg(['unique'])\n",
    "g"
   ]
  },
  {
   "cell_type": "code",
   "execution_count": 27,
   "id": "d0d90130",
   "metadata": {},
   "outputs": [],
   "source": [
    "g = g.reset_index(level=0)"
   ]
  },
  {
   "cell_type": "code",
   "execution_count": 28,
   "id": "2c840808",
   "metadata": {},
   "outputs": [
    {
     "data": {
      "text/plain": "     attr_key                                             unique\n0       10428  [00, 02, 03, 10, 101, 102, 1044, 1053, 1075, 1...\n1       10429  [01, 01 Bag, 01  Bag, 01 Unit, 01- Unit, 1, 10...\n2       10430                                              [Bag]\n3       10431         [\"A\", AB, \"AB\", ''B'', \"B\", O, ''O'', \"O\"]\n4       10432                     [Negative, positive, Positive]\n..        ...                                                ...\n281     15126  [0.3, 0.4, 0.5, 0.6, 0.7, 0.8, 0.9, 1, 1.0, 10...\n282     15127  [108, 113, 114, 117, 118, 119, 121, 122, 123, ...\n283     15128  [1.4, 1.7, 2.0, 2.1, 2.2, 2.3, 2.4, 2.5, 2.6, ...\n284     15129  [100, 101, 102, 103, 104, 105, 106, 107, 108, ...\n285     15130  [10, 11, 12, 13, 14, 15, 16, 17, 18, 19, 20, 2...\n\n[286 rows x 2 columns]",
      "text/html": "<div>\n<style scoped>\n    .dataframe tbody tr th:only-of-type {\n        vertical-align: middle;\n    }\n\n    .dataframe tbody tr th {\n        vertical-align: top;\n    }\n\n    .dataframe thead th {\n        text-align: right;\n    }\n</style>\n<table border=\"1\" class=\"dataframe\">\n  <thead>\n    <tr style=\"text-align: right;\">\n      <th></th>\n      <th>attr_key</th>\n      <th>unique</th>\n    </tr>\n  </thead>\n  <tbody>\n    <tr>\n      <th>0</th>\n      <td>10428</td>\n      <td>[00, 02, 03, 10, 101, 102, 1044, 1053, 1075, 1...</td>\n    </tr>\n    <tr>\n      <th>1</th>\n      <td>10429</td>\n      <td>[01, 01 Bag, 01  Bag, 01 Unit, 01- Unit, 1, 10...</td>\n    </tr>\n    <tr>\n      <th>2</th>\n      <td>10430</td>\n      <td>[Bag]</td>\n    </tr>\n    <tr>\n      <th>3</th>\n      <td>10431</td>\n      <td>[\"A\", AB, \"AB\", ''B'', \"B\", O, ''O'', \"O\"]</td>\n    </tr>\n    <tr>\n      <th>4</th>\n      <td>10432</td>\n      <td>[Negative, positive, Positive]</td>\n    </tr>\n    <tr>\n      <th>...</th>\n      <td>...</td>\n      <td>...</td>\n    </tr>\n    <tr>\n      <th>281</th>\n      <td>15126</td>\n      <td>[0.3, 0.4, 0.5, 0.6, 0.7, 0.8, 0.9, 1, 1.0, 10...</td>\n    </tr>\n    <tr>\n      <th>282</th>\n      <td>15127</td>\n      <td>[108, 113, 114, 117, 118, 119, 121, 122, 123, ...</td>\n    </tr>\n    <tr>\n      <th>283</th>\n      <td>15128</td>\n      <td>[1.4, 1.7, 2.0, 2.1, 2.2, 2.3, 2.4, 2.5, 2.6, ...</td>\n    </tr>\n    <tr>\n      <th>284</th>\n      <td>15129</td>\n      <td>[100, 101, 102, 103, 104, 105, 106, 107, 108, ...</td>\n    </tr>\n    <tr>\n      <th>285</th>\n      <td>15130</td>\n      <td>[10, 11, 12, 13, 14, 15, 16, 17, 18, 19, 20, 2...</td>\n    </tr>\n  </tbody>\n</table>\n<p>286 rows × 2 columns</p>\n</div>"
     },
     "execution_count": 28,
     "metadata": {},
     "output_type": "execute_result"
    }
   ],
   "source": [
    "g"
   ]
  },
  {
   "cell_type": "code",
   "execution_count": 29,
   "outputs": [
    {
     "data": {
      "text/plain": "     attr_key                                             unique\n0       10428  [00, 02, 03, 10, 101, 102, 1044, 1053, 1075, 1...\n1       10429  [01, 01 Bag, 01  Bag, 01 Unit, 01- Unit, 1, 10...\n2       10430                                              [Bag]\n3       10431         [\"A\", AB, \"AB\", ''B'', \"B\", O, ''O'', \"O\"]\n4       10432                     [Negative, positive, Positive]\n..        ...                                                ...\n281     15126  [0.3, 0.4, 0.5, 0.6, 0.7, 0.8, 0.9, 1, 1.0, 10...\n282     15127  [108, 113, 114, 117, 118, 119, 121, 122, 123, ...\n283     15128  [1.4, 1.7, 2.0, 2.1, 2.2, 2.3, 2.4, 2.5, 2.6, ...\n284     15129  [100, 101, 102, 103, 104, 105, 106, 107, 108, ...\n285     15130  [10, 11, 12, 13, 14, 15, 16, 17, 18, 19, 20, 2...\n\n[286 rows x 2 columns]",
      "text/html": "<div>\n<style scoped>\n    .dataframe tbody tr th:only-of-type {\n        vertical-align: middle;\n    }\n\n    .dataframe tbody tr th {\n        vertical-align: top;\n    }\n\n    .dataframe thead th {\n        text-align: right;\n    }\n</style>\n<table border=\"1\" class=\"dataframe\">\n  <thead>\n    <tr style=\"text-align: right;\">\n      <th></th>\n      <th>attr_key</th>\n      <th>unique</th>\n    </tr>\n  </thead>\n  <tbody>\n    <tr>\n      <th>0</th>\n      <td>10428</td>\n      <td>[00, 02, 03, 10, 101, 102, 1044, 1053, 1075, 1...</td>\n    </tr>\n    <tr>\n      <th>1</th>\n      <td>10429</td>\n      <td>[01, 01 Bag, 01  Bag, 01 Unit, 01- Unit, 1, 10...</td>\n    </tr>\n    <tr>\n      <th>2</th>\n      <td>10430</td>\n      <td>[Bag]</td>\n    </tr>\n    <tr>\n      <th>3</th>\n      <td>10431</td>\n      <td>[\"A\", AB, \"AB\", ''B'', \"B\", O, ''O'', \"O\"]</td>\n    </tr>\n    <tr>\n      <th>4</th>\n      <td>10432</td>\n      <td>[Negative, positive, Positive]</td>\n    </tr>\n    <tr>\n      <th>...</th>\n      <td>...</td>\n      <td>...</td>\n    </tr>\n    <tr>\n      <th>281</th>\n      <td>15126</td>\n      <td>[0.3, 0.4, 0.5, 0.6, 0.7, 0.8, 0.9, 1, 1.0, 10...</td>\n    </tr>\n    <tr>\n      <th>282</th>\n      <td>15127</td>\n      <td>[108, 113, 114, 117, 118, 119, 121, 122, 123, ...</td>\n    </tr>\n    <tr>\n      <th>283</th>\n      <td>15128</td>\n      <td>[1.4, 1.7, 2.0, 2.1, 2.2, 2.3, 2.4, 2.5, 2.6, ...</td>\n    </tr>\n    <tr>\n      <th>284</th>\n      <td>15129</td>\n      <td>[100, 101, 102, 103, 104, 105, 106, 107, 108, ...</td>\n    </tr>\n    <tr>\n      <th>285</th>\n      <td>15130</td>\n      <td>[10, 11, 12, 13, 14, 15, 16, 17, 18, 19, 20, 2...</td>\n    </tr>\n  </tbody>\n</table>\n<p>286 rows × 2 columns</p>\n</div>"
     },
     "execution_count": 29,
     "metadata": {},
     "output_type": "execute_result"
    }
   ],
   "source": [
    "g"
   ],
   "metadata": {
    "collapsed": false,
    "pycharm": {
     "name": "#%%\n"
    }
   }
  },
  {
   "cell_type": "code",
   "execution_count": 30,
   "outputs": [],
   "source": [
    "source1 = source1.merge(g, how='outer', on='attr_key')"
   ],
   "metadata": {
    "collapsed": false,
    "pycharm": {
     "name": "#%%\n"
    }
   }
  },
  {
   "cell_type": "code",
   "execution_count": 31,
   "outputs": [
    {
     "data": {
      "text/plain": "['test_key',\n 'test_name',\n 'attr_key',\n 'attribute',\n 'result',\n 'unit',\n 'record_count',\n 'data_type',\n 'unique']"
     },
     "execution_count": 31,
     "metadata": {},
     "output_type": "execute_result"
    }
   ],
   "source": [
    "source1.columns.to_list()"
   ],
   "metadata": {
    "collapsed": false,
    "pycharm": {
     "name": "#%%\n"
    }
   }
  },
  {
   "cell_type": "code",
   "execution_count": 32,
   "id": "7e2617c9",
   "metadata": {},
   "outputs": [],
   "source": [
    "source1_df=source1.drop_duplicates(['test_key','attr_key', 'data_type'])[['test_key',\n",
    " 'test_name',\n",
    " 'attr_key',\n",
    " 'attribute',\n",
    " 'data_type', 'unit',\n",
    " 'unique']]"
   ]
  },
  {
   "cell_type": "code",
   "execution_count": 33,
   "id": "2c367e09",
   "metadata": {},
   "outputs": [
    {
     "data": {
      "text/plain": "       test_key         test_name  attr_key          attribute    data_type  \\\n0         10921   ALT(SGPT) Serum     14344         ALT (SGPT)   Neumerical   \n305       10664  Blood Film (PBF)     13425                WBC  Categorical   \n432       10664  Blood Film (PBF)     13426          Platelets  Categorical   \n474       10664  Blood Film (PBF)     13427  Malarial Parasite   Neumerical   \n475       10664  Blood Film (PBF)     13427  Malarial Parasite  Categorical   \n...         ...               ...       ...                ...          ...   \n16019     10616       Urine R/M/E     13025         Dead Sperm  Categorical   \n16020     10616       Urine R/M/E     13026    Cystine crystal  Categorical   \n16021     10616       Urine R/M/E     13027           Cellular  Categorical   \n16024     10616       Urine R/M/E     13028              Yeast  Categorical   \n16028     10616       Urine R/M/E     13029        Spermatozoa  Categorical   \n\n        unit                                             unique  \n0        U/L  [10, 100, 10.0, 1000, 101, 102, 103, 104, 105,...  \n305    NUNIT  [Increase in number with fair number of myeloc...  \n432    NUNIT  [Adequate, Adequate., Adequate with variable i...  \n474    NUNIT   [nan, Normal blood film., Not found, Not found.]  \n475    NUNIT   [nan, Normal blood film., Not found, Not found.]  \n...      ...                                                ...  \n16019   Null                                              [0-1]  \n16020   Null                                              [Nil]  \n16021   Null                                  [(+), a few, Nil]  \n16024   Null                            [(+), (++), Nil, Trace]  \n16028   Null                              [(+), (++), Few, Nil]  \n\n[309 rows x 7 columns]",
      "text/html": "<div>\n<style scoped>\n    .dataframe tbody tr th:only-of-type {\n        vertical-align: middle;\n    }\n\n    .dataframe tbody tr th {\n        vertical-align: top;\n    }\n\n    .dataframe thead th {\n        text-align: right;\n    }\n</style>\n<table border=\"1\" class=\"dataframe\">\n  <thead>\n    <tr style=\"text-align: right;\">\n      <th></th>\n      <th>test_key</th>\n      <th>test_name</th>\n      <th>attr_key</th>\n      <th>attribute</th>\n      <th>data_type</th>\n      <th>unit</th>\n      <th>unique</th>\n    </tr>\n  </thead>\n  <tbody>\n    <tr>\n      <th>0</th>\n      <td>10921</td>\n      <td>ALT(SGPT) Serum</td>\n      <td>14344</td>\n      <td>ALT (SGPT)</td>\n      <td>Neumerical</td>\n      <td>U/L</td>\n      <td>[10, 100, 10.0, 1000, 101, 102, 103, 104, 105,...</td>\n    </tr>\n    <tr>\n      <th>305</th>\n      <td>10664</td>\n      <td>Blood Film (PBF)</td>\n      <td>13425</td>\n      <td>WBC</td>\n      <td>Categorical</td>\n      <td>NUNIT</td>\n      <td>[Increase in number with fair number of myeloc...</td>\n    </tr>\n    <tr>\n      <th>432</th>\n      <td>10664</td>\n      <td>Blood Film (PBF)</td>\n      <td>13426</td>\n      <td>Platelets</td>\n      <td>Categorical</td>\n      <td>NUNIT</td>\n      <td>[Adequate, Adequate., Adequate with variable i...</td>\n    </tr>\n    <tr>\n      <th>474</th>\n      <td>10664</td>\n      <td>Blood Film (PBF)</td>\n      <td>13427</td>\n      <td>Malarial Parasite</td>\n      <td>Neumerical</td>\n      <td>NUNIT</td>\n      <td>[nan, Normal blood film., Not found, Not found.]</td>\n    </tr>\n    <tr>\n      <th>475</th>\n      <td>10664</td>\n      <td>Blood Film (PBF)</td>\n      <td>13427</td>\n      <td>Malarial Parasite</td>\n      <td>Categorical</td>\n      <td>NUNIT</td>\n      <td>[nan, Normal blood film., Not found, Not found.]</td>\n    </tr>\n    <tr>\n      <th>...</th>\n      <td>...</td>\n      <td>...</td>\n      <td>...</td>\n      <td>...</td>\n      <td>...</td>\n      <td>...</td>\n      <td>...</td>\n    </tr>\n    <tr>\n      <th>16019</th>\n      <td>10616</td>\n      <td>Urine R/M/E</td>\n      <td>13025</td>\n      <td>Dead Sperm</td>\n      <td>Categorical</td>\n      <td>Null</td>\n      <td>[0-1]</td>\n    </tr>\n    <tr>\n      <th>16020</th>\n      <td>10616</td>\n      <td>Urine R/M/E</td>\n      <td>13026</td>\n      <td>Cystine crystal</td>\n      <td>Categorical</td>\n      <td>Null</td>\n      <td>[Nil]</td>\n    </tr>\n    <tr>\n      <th>16021</th>\n      <td>10616</td>\n      <td>Urine R/M/E</td>\n      <td>13027</td>\n      <td>Cellular</td>\n      <td>Categorical</td>\n      <td>Null</td>\n      <td>[(+), a few, Nil]</td>\n    </tr>\n    <tr>\n      <th>16024</th>\n      <td>10616</td>\n      <td>Urine R/M/E</td>\n      <td>13028</td>\n      <td>Yeast</td>\n      <td>Categorical</td>\n      <td>Null</td>\n      <td>[(+), (++), Nil, Trace]</td>\n    </tr>\n    <tr>\n      <th>16028</th>\n      <td>10616</td>\n      <td>Urine R/M/E</td>\n      <td>13029</td>\n      <td>Spermatozoa</td>\n      <td>Categorical</td>\n      <td>Null</td>\n      <td>[(+), (++), Few, Nil]</td>\n    </tr>\n  </tbody>\n</table>\n<p>309 rows × 7 columns</p>\n</div>"
     },
     "execution_count": 33,
     "metadata": {},
     "output_type": "execute_result"
    }
   ],
   "source": [
    "source1_df"
   ]
  },
  {
   "cell_type": "markdown",
   "source": [
    "### Filter selectd attribute"
   ],
   "metadata": {
    "collapsed": false,
    "pycharm": {
     "name": "#%% md\n"
    }
   }
  },
  {
   "cell_type": "code",
   "id": "9103b295",
   "metadata": {
    "pycharm": {
     "name": "#%%\n"
    }
   },
   "source": [
    "selected_attr = pd.read_csv(data_dir +  \"source-1/SelectedAttribute.csv\")\n",
    "attr_l = selected_attr[\"attribute_key\"].to_list()"
   ],
   "execution_count": 34,
   "outputs": []
  },
  {
   "cell_type": "code",
   "execution_count": 35,
   "outputs": [
    {
     "data": {
      "text/plain": "[13387,\n 14491,\n 14498,\n 14499,\n 14501,\n 14512,\n 14517,\n 14521,\n 14522,\n 14526,\n 14366,\n 14367,\n 13498,\n 13952,\n 13070,\n 13069,\n 13071,\n 13068,\n 10431,\n 10432,\n 10440]"
     },
     "execution_count": 35,
     "metadata": {},
     "output_type": "execute_result"
    }
   ],
   "source": [
    "attr_l"
   ],
   "metadata": {
    "collapsed": false,
    "pycharm": {
     "name": "#%%\n"
    }
   }
  },
  {
   "cell_type": "code",
   "execution_count": 35,
   "outputs": [],
   "source": [],
   "metadata": {
    "collapsed": false,
    "pycharm": {
     "name": "#%%\n"
    }
   }
  },
  {
   "cell_type": "code",
   "execution_count": 36,
   "id": "1a6096fa",
   "metadata": {},
   "outputs": [],
   "source": [
    "# source1_df[source1_df['attr_key'].isin(attr_l)].to_csv(data_dir + \"source-1/data_categories.csv\", index=False)\n",
    "source1[source1['attr_key'].isin(attr_l)].to_csv(data_dir + \"source-1/selected_testresults.csv\", index=False)"
   ]
  },
  {
   "cell_type": "code",
   "execution_count": 37,
   "outputs": [],
   "source": [
    "# source1_df.to_csv(data_dir + \"source-1/data_categories.csv\", index=False)"
   ],
   "metadata": {
    "collapsed": false,
    "pycharm": {
     "name": "#%%\n"
    }
   }
  },
  {
   "cell_type": "markdown",
   "source": [
    "## Source 2"
   ],
   "metadata": {
    "collapsed": false,
    "pycharm": {
     "name": "#%% md\n"
    }
   }
  },
  {
   "cell_type": "code",
   "id": "7e2e4942",
   "metadata": {
    "pycharm": {
     "name": "#%%\n"
    }
   },
   "source": [
    "S2_DATA_DIR = \"./dataset/APItoStaging\""
   ],
   "execution_count": 38,
   "outputs": []
  },
  {
   "cell_type": "code",
   "execution_count": 39,
   "outputs": [],
   "source": [
    "## Read Labtest\n",
    "labtest_df = pd.read_csv(S2_DATA_DIR + \"/labtest.csv\")\n",
    "attr_df = pd.read_csv(S2_DATA_DIR + \"/attribute.csv\")"
   ],
   "metadata": {
    "collapsed": false,
    "pycharm": {
     "name": "#%%\n"
    }
   }
  },
  {
   "cell_type": "code",
   "execution_count": 40,
   "id": "0238837b",
   "metadata": {},
   "outputs": [
    {
     "data": {
      "text/plain": "Index(['attr_id', 'attr_name', 'default_value', 'healthcare_id',\n       'test_group_id', 'test_id', 'unit'],\n      dtype='object')"
     },
     "execution_count": 40,
     "metadata": {},
     "output_type": "execute_result"
    }
   ],
   "source": [
    "attr_df.columns"
   ]
  },
  {
   "cell_type": "code",
   "execution_count": 41,
   "outputs": [
    {
     "data": {
      "text/plain": "lab_name          object\ntest_key           int64\ntest_name         object\nattribute_key      int64\nattr_name         object\nsnomad_name      float64\nsnomed_ct_id     float64\ncode              object\nloinc_name        object\ncomponent         object\nshort_name        object\nclass_name        object\nunit(UCUM)        object\ndtype: object"
     },
     "execution_count": 41,
     "metadata": {},
     "output_type": "execute_result"
    }
   ],
   "source": [
    "selected_attr.dtypes"
   ],
   "metadata": {
    "collapsed": false,
    "pycharm": {
     "name": "#%%\n"
    }
   }
  },
  {
   "cell_type": "code",
   "execution_count": 42,
   "id": "037b6715",
   "metadata": {},
   "outputs": [],
   "source": [
    "test_attr_df = attr_df.merge(labtest_df, how='inner', on='test_id')"
   ]
  },
  {
   "cell_type": "code",
   "execution_count": 43,
   "id": "fd01a40a",
   "metadata": {},
   "outputs": [
    {
     "data": {
      "text/plain": "attr_id              int64\nattr_name           object\ndefault_value       object\nhealthcare_id_x      int64\ntest_group_id      float64\ntest_id              int64\nunit                object\nhealthcare_id_y      int64\nlab_id               int64\nsales_price          int64\nsample_id          float64\ntest_name           object\ntest_short_name     object\ntest_type            int64\ndtype: object"
     },
     "execution_count": 43,
     "metadata": {},
     "output_type": "execute_result"
    }
   ],
   "source": [
    "test_attr_df.dtypes"
   ]
  },
  {
   "cell_type": "code",
   "execution_count": 44,
   "id": "0adbe7ec",
   "metadata": {},
   "outputs": [],
   "source": [
    "test_attr_df['test_name'] = test_attr_df['test_name'].apply(lambda x: x.strip())\n",
    "test_attr_df['attr_name'] = test_attr_df['attr_name'].apply(lambda x: str(x).strip())\n",
    "selected_attr['test_name'] = selected_attr['test_name'].apply(lambda x: x.strip())\n",
    "selected_attr['attr_name'] = selected_attr['attr_name'].apply(lambda x: x.strip())"
   ]
  },
  {
   "cell_type": "code",
   "execution_count": 45,
   "id": "6fa30064",
   "metadata": {},
   "outputs": [],
   "source": [
    "test_attr_df = test_attr_df[['test_id', 'test_name', 'attr_id', 'attr_name', 'unit']]"
   ]
  },
  {
   "cell_type": "code",
   "execution_count": 46,
   "id": "e3c83545",
   "metadata": {},
   "outputs": [
    {
     "data": {
      "text/plain": "      test_id                             test_name  attr_id  \\\n0      100575  Immunohistochemistry trephine biopsy   100671   \n1      100490                           BAL for C/S   100190   \n2      100490                           BAL for C/S   100191   \n3      100490                           BAL for C/S   100192   \n4      100490                           BAL for C/S   100193   \n...       ...                                   ...      ...   \n6405  5040197                           CCP (400ml)  3003018   \n6406  5040197                           CCP (400ml)  3003019   \n6407  5040197                           CCP (400ml)  3003020   \n6408  5040197                           CCP (400ml)  3003021   \n6409  6169744            Real Time PCR for COVID-19  1004585   \n\n                       attr_name unit  \n0                   RENAL BIOPSY  NaN  \n1                       Imipenem  NaN  \n2                   Levofloxacin  NaN  \n3                      Linezolid  NaN  \n4                     Mecillinam  NaN  \n...                          ...  ...  \n6405                 2. Anti HCV  NaN  \n6406               3. HIV I & II  NaN  \n6407          4. Syphilis (VDRL)  NaN  \n6408  5. Malarial Parasite (ICT)  NaN  \n6409  Real Time PCR for COVID-19  NaN  \n\n[6410 rows x 5 columns]",
      "text/html": "<div>\n<style scoped>\n    .dataframe tbody tr th:only-of-type {\n        vertical-align: middle;\n    }\n\n    .dataframe tbody tr th {\n        vertical-align: top;\n    }\n\n    .dataframe thead th {\n        text-align: right;\n    }\n</style>\n<table border=\"1\" class=\"dataframe\">\n  <thead>\n    <tr style=\"text-align: right;\">\n      <th></th>\n      <th>test_id</th>\n      <th>test_name</th>\n      <th>attr_id</th>\n      <th>attr_name</th>\n      <th>unit</th>\n    </tr>\n  </thead>\n  <tbody>\n    <tr>\n      <th>0</th>\n      <td>100575</td>\n      <td>Immunohistochemistry trephine biopsy</td>\n      <td>100671</td>\n      <td>RENAL BIOPSY</td>\n      <td>NaN</td>\n    </tr>\n    <tr>\n      <th>1</th>\n      <td>100490</td>\n      <td>BAL for C/S</td>\n      <td>100190</td>\n      <td>Imipenem</td>\n      <td>NaN</td>\n    </tr>\n    <tr>\n      <th>2</th>\n      <td>100490</td>\n      <td>BAL for C/S</td>\n      <td>100191</td>\n      <td>Levofloxacin</td>\n      <td>NaN</td>\n    </tr>\n    <tr>\n      <th>3</th>\n      <td>100490</td>\n      <td>BAL for C/S</td>\n      <td>100192</td>\n      <td>Linezolid</td>\n      <td>NaN</td>\n    </tr>\n    <tr>\n      <th>4</th>\n      <td>100490</td>\n      <td>BAL for C/S</td>\n      <td>100193</td>\n      <td>Mecillinam</td>\n      <td>NaN</td>\n    </tr>\n    <tr>\n      <th>...</th>\n      <td>...</td>\n      <td>...</td>\n      <td>...</td>\n      <td>...</td>\n      <td>...</td>\n    </tr>\n    <tr>\n      <th>6405</th>\n      <td>5040197</td>\n      <td>CCP (400ml)</td>\n      <td>3003018</td>\n      <td>2. Anti HCV</td>\n      <td>NaN</td>\n    </tr>\n    <tr>\n      <th>6406</th>\n      <td>5040197</td>\n      <td>CCP (400ml)</td>\n      <td>3003019</td>\n      <td>3. HIV I &amp; II</td>\n      <td>NaN</td>\n    </tr>\n    <tr>\n      <th>6407</th>\n      <td>5040197</td>\n      <td>CCP (400ml)</td>\n      <td>3003020</td>\n      <td>4. Syphilis (VDRL)</td>\n      <td>NaN</td>\n    </tr>\n    <tr>\n      <th>6408</th>\n      <td>5040197</td>\n      <td>CCP (400ml)</td>\n      <td>3003021</td>\n      <td>5. Malarial Parasite (ICT)</td>\n      <td>NaN</td>\n    </tr>\n    <tr>\n      <th>6409</th>\n      <td>6169744</td>\n      <td>Real Time PCR for COVID-19</td>\n      <td>1004585</td>\n      <td>Real Time PCR for COVID-19</td>\n      <td>NaN</td>\n    </tr>\n  </tbody>\n</table>\n<p>6410 rows × 5 columns</p>\n</div>"
     },
     "execution_count": 46,
     "metadata": {},
     "output_type": "execute_result"
    }
   ],
   "source": [
    "test_attr_df"
   ]
  },
  {
   "cell_type": "code",
   "execution_count": 46,
   "outputs": [],
   "source": [],
   "metadata": {
    "collapsed": false,
    "pycharm": {
     "name": "#%%\n"
    }
   }
  },
  {
   "cell_type": "code",
   "execution_count": 47,
   "id": "b08d7a50",
   "metadata": {},
   "outputs": [
    {
     "data": {
      "text/plain": "Index(['lab_name', 'test_key', 'test_name', 'attribute_key', 'attr_name',\n       'snomad_name', 'snomed_ct_id', 'code', 'loinc_name', 'component',\n       'short_name', 'class_name', 'unit(UCUM)'],\n      dtype='object')"
     },
     "execution_count": 47,
     "metadata": {},
     "output_type": "execute_result"
    }
   ],
   "source": [
    "selected_attr.columns"
   ]
  },
  {
   "cell_type": "code",
   "execution_count": 48,
   "id": "90d5b2ae",
   "metadata": {},
   "outputs": [],
   "source": [
    "new_df = pd.merge(selected_attr, test_attr_df,  how='inner', on=['test_name','attr_name'])"
   ]
  },
  {
   "cell_type": "code",
   "execution_count": 49,
   "id": "79bd86ea",
   "metadata": {},
   "outputs": [],
   "source": [
    "new_df.to_csv(data_dir + '/source-2/selectedAttr.csv', index=False)"
   ]
  },
  {
   "cell_type": "markdown",
   "id": "7cbe93ce",
   "metadata": {},
   "source": [
    "### Retrieve manual validated data"
   ]
  },
  {
   "cell_type": "code",
   "execution_count": 54,
   "id": "d72209b6",
   "metadata": {},
   "outputs": [],
   "source": [
    "source2_attr = pd.read_csv(data_dir + '/source-2/selectedAttr-ALL.csv')"
   ]
  },
  {
   "cell_type": "code",
   "execution_count": 55,
   "id": "beb23179",
   "metadata": {
    "scrolled": true
   },
   "outputs": [
    {
     "data": {
      "text/plain": "              lab_name  test_key                              test_name  \\\n0          Haematology     10655                                    CBC   \n1   Clinical Pathology     10994    Complete Urine Analysis (Urine R/E)   \n2   Clinical Pathology     10994    Complete Urine Analysis (Urine R/E)   \n3   Clinical Pathology     10994    Complete Urine Analysis (Urine R/E)   \n4   Clinical Pathology     10994    Complete Urine Analysis (Urine R/E)   \n5   Clinical Pathology     10994    Complete Urine Analysis (Urine R/E)   \n6   Clinical Pathology     10994    Complete Urine Analysis (Urine R/E)   \n7   Clinical Pathology     10994    Complete Urine Analysis (Urine R/E)   \n8   Clinical Pathology     10994    Complete Urine Analysis (Urine R/E)   \n9   Clinical Pathology     10994    Complete Urine Analysis (Urine R/E)   \n10        Biochemistry     10937                     Electrolytes Serum   \n11        Biochemistry     10937                     Electrolytes Serum   \n12        Biochemistry     10816                                  HbA1c   \n13        Biochemistry     10626                Lipid Profile Serum (R)   \n14                 NaN     10626                Lipid Profile Serum (R)   \n15                 NaN     10626                Lipid Profile Serum (R)   \n16                 NaN     10626                Lipid Profile Serum (R)   \n17                 NaN     10057  Grouping + Cross Matching + Screening   \n18                 NaN     10057  Grouping + Cross Matching + Screening   \n19                 NaN     10057  Grouping + Cross Matching + Screening   \n20                 NaN     10057  Grouping + Cross Matching + Screening   \n21        Biochemistry     10693            FBG - Fasting blood glucose   \n22                 NaN     10057  Grouping + Cross Matching + Screening   \n\n    attribute_key            attr_name  snomad_name  snomed_ct_id     code  \\\n0           13387                  ESR          NaN           NaN    788-0   \n1           14491              Protein          NaN           NaN   5804-0   \n2           14498                Blood          NaN           NaN      NaN   \n3           14499           Appearance          NaN           NaN   5767-9   \n4           14501               Colour          NaN           NaN   5778-6   \n5           14512            Uric Acid          NaN           NaN      NaN   \n6           14517                Sugar          NaN           NaN  25428-4   \n7           14521                R B C          NaN           NaN  33051-4   \n8           14522                W B C          NaN           NaN  33052-2   \n9           14526            Bilirubin          NaN           NaN   5770-3   \n10          14366               Sodium          NaN           NaN   2951-2   \n11          14367            Potassium          NaN           NaN   2823-3   \n12          13952                HbA1c          NaN           NaN  86910-7   \n13          13070      LDL Cholesterol          NaN           NaN  57698-3   \n14          13069      HDL Cholesterol          NaN           NaN      NaN   \n15          13071        Triglycerides          NaN           NaN      NaN   \n16          13068    Total Cholesterol          NaN           NaN      NaN   \n17          10431        Blood Group :          NaN           NaN      NaN   \n18          10431        Blood Group :          NaN           NaN      NaN   \n19          10432            Rh Type :          NaN           NaN      NaN   \n20          10432            Rh Type :          NaN           NaN      NaN   \n21          13498  Blood glucose level          NaN           NaN  76629-5   \n22          10440            1.  HBsAg          NaN           NaN      NaN   \n\n                                           loinc_name  \\\n0   Erythrocyte distribution width [Ratio] by Auto...   \n1        Protein [Mass/volume] in Urine by Test strip   \n2                                                 NaN   \n3                                 Appearance of Urine   \n4                                      Color of Urine   \n5                                                 NaN   \n6           Glucose [Presence] in Urine by Test strip   \n7                    Erythrocytes [Presence] in Urine   \n8                      Leukocytes [Presence] in Urine   \n9   Bilirubin.total [Presence] in Urine by Test strip   \n10           Sodium [Moles/volume] in Serum or Plasma   \n11        Potassium [Moles/volume] in Serum or Plasma   \n12         Hemoglobin A1c/Hemoglobin.total goal Blood   \n13      Lipid panel with direct LDL - Serum or Plasma   \n14                                                NaN   \n15                                                NaN   \n16                                                NaN   \n17                                                NaN   \n18                                                NaN   \n19                                                NaN   \n20                                                NaN   \n21            Fasting glucose [Moles/volume] in Blood   \n22                                                NaN   \n\n                               component                       short_name  \\\n0         Erythrocyte distribution width                 RDW RBC Auto-Rto   \n1                                Protein               Prot Ur Strip-mCnc   \n2                                    NaN                              NaN   \n3                             Appearance                    Appearance Ur   \n4                                  Color                         Color Ur   \n5                                    NaN                              NaN   \n6                                Glucose              Glucose Ur Ql Strip   \n7                           Erythrocytes                        RBC Ur Ql   \n8                             Leukocytes                        WBC Ur Ql   \n9                              Bilirubin              Bilirub Ur Ql Strip   \n10                                Sodium                Sodium SerPl-sCnc   \n11                             Potassium             Potassium SerPl-sCnc   \n12  Hemoglobin A1c/Hemoglobin.total goal             Hgb A1c goal MFr Bld   \n13           Lipid panel with direct LDL  Lipid pnl with direct LDL SerPl   \n14                                   NaN                              NaN   \n15                                   NaN                              NaN   \n16                                   NaN                              NaN   \n17                                   NaN                              NaN   \n18                                   NaN                              NaN   \n19                                   NaN                              NaN   \n20                                   NaN                              NaN   \n21                     Glucose^post CFst          Glucose p fast Bld-sCnc   \n22                                   NaN                              NaN   \n\n    class_name unit(UCUM)  test_id  attr_id            unit  \n0       HEM/BC          %   101497   104291  mm in 1st hour  \n1           UA      mg/dL  5003345  3000003             NaN  \n2          NaN        NaN  5003345  3000016             NaN  \n3         SPEC        NaN  5003345  3000017             NaN  \n4         SPEC        NaN  5003345  3000020             NaN  \n5          NaN        NaN  5003345  3000031             NaN  \n6           UA        NaN  5003345  3000037             NaN  \n7           UA        NaN  5003345  3000042            /LPF  \n8           UA        NaN  5003345  3000043            /LPF  \n9           UA        NaN  5003345  3000067             NaN  \n10        CHEM     mmol/L   101304   101214          mmol/L  \n11        CHEM     mmol/L   101304   102050          mmol/L  \n12        CLIN          %   101305   102057               %  \n13  PANEL.CHEM      mg/dL   100921   103730           mg/dL  \n14         NaN        NaN   100921   103729           mg/dL  \n15         NaN        NaN   100921   103731           mg/dL  \n16         NaN        NaN   100921   102084           mg/dL  \n17         NaN        NaN   100824  3002195             NaN  \n18         NaN        NaN   100824  3002201             NaN  \n19         NaN        NaN   100824  3002196             NaN  \n20         NaN        NaN   100824  3002202             NaN  \n21        CHEM     mmol/L   103729   101211          mmol/L  \n22         NaN        NaN   100824  3002206             NaN  ",
      "text/html": "<div>\n<style scoped>\n    .dataframe tbody tr th:only-of-type {\n        vertical-align: middle;\n    }\n\n    .dataframe tbody tr th {\n        vertical-align: top;\n    }\n\n    .dataframe thead th {\n        text-align: right;\n    }\n</style>\n<table border=\"1\" class=\"dataframe\">\n  <thead>\n    <tr style=\"text-align: right;\">\n      <th></th>\n      <th>lab_name</th>\n      <th>test_key</th>\n      <th>test_name</th>\n      <th>attribute_key</th>\n      <th>attr_name</th>\n      <th>snomad_name</th>\n      <th>snomed_ct_id</th>\n      <th>code</th>\n      <th>loinc_name</th>\n      <th>component</th>\n      <th>short_name</th>\n      <th>class_name</th>\n      <th>unit(UCUM)</th>\n      <th>test_id</th>\n      <th>attr_id</th>\n      <th>unit</th>\n    </tr>\n  </thead>\n  <tbody>\n    <tr>\n      <th>0</th>\n      <td>Haematology</td>\n      <td>10655</td>\n      <td>CBC</td>\n      <td>13387</td>\n      <td>ESR</td>\n      <td>NaN</td>\n      <td>NaN</td>\n      <td>788-0</td>\n      <td>Erythrocyte distribution width [Ratio] by Auto...</td>\n      <td>Erythrocyte distribution width</td>\n      <td>RDW RBC Auto-Rto</td>\n      <td>HEM/BC</td>\n      <td>%</td>\n      <td>101497</td>\n      <td>104291</td>\n      <td>mm in 1st hour</td>\n    </tr>\n    <tr>\n      <th>1</th>\n      <td>Clinical Pathology</td>\n      <td>10994</td>\n      <td>Complete Urine Analysis (Urine R/E)</td>\n      <td>14491</td>\n      <td>Protein</td>\n      <td>NaN</td>\n      <td>NaN</td>\n      <td>5804-0</td>\n      <td>Protein [Mass/volume] in Urine by Test strip</td>\n      <td>Protein</td>\n      <td>Prot Ur Strip-mCnc</td>\n      <td>UA</td>\n      <td>mg/dL</td>\n      <td>5003345</td>\n      <td>3000003</td>\n      <td>NaN</td>\n    </tr>\n    <tr>\n      <th>2</th>\n      <td>Clinical Pathology</td>\n      <td>10994</td>\n      <td>Complete Urine Analysis (Urine R/E)</td>\n      <td>14498</td>\n      <td>Blood</td>\n      <td>NaN</td>\n      <td>NaN</td>\n      <td>NaN</td>\n      <td>NaN</td>\n      <td>NaN</td>\n      <td>NaN</td>\n      <td>NaN</td>\n      <td>NaN</td>\n      <td>5003345</td>\n      <td>3000016</td>\n      <td>NaN</td>\n    </tr>\n    <tr>\n      <th>3</th>\n      <td>Clinical Pathology</td>\n      <td>10994</td>\n      <td>Complete Urine Analysis (Urine R/E)</td>\n      <td>14499</td>\n      <td>Appearance</td>\n      <td>NaN</td>\n      <td>NaN</td>\n      <td>5767-9</td>\n      <td>Appearance of Urine</td>\n      <td>Appearance</td>\n      <td>Appearance Ur</td>\n      <td>SPEC</td>\n      <td>NaN</td>\n      <td>5003345</td>\n      <td>3000017</td>\n      <td>NaN</td>\n    </tr>\n    <tr>\n      <th>4</th>\n      <td>Clinical Pathology</td>\n      <td>10994</td>\n      <td>Complete Urine Analysis (Urine R/E)</td>\n      <td>14501</td>\n      <td>Colour</td>\n      <td>NaN</td>\n      <td>NaN</td>\n      <td>5778-6</td>\n      <td>Color of Urine</td>\n      <td>Color</td>\n      <td>Color Ur</td>\n      <td>SPEC</td>\n      <td>NaN</td>\n      <td>5003345</td>\n      <td>3000020</td>\n      <td>NaN</td>\n    </tr>\n    <tr>\n      <th>5</th>\n      <td>Clinical Pathology</td>\n      <td>10994</td>\n      <td>Complete Urine Analysis (Urine R/E)</td>\n      <td>14512</td>\n      <td>Uric Acid</td>\n      <td>NaN</td>\n      <td>NaN</td>\n      <td>NaN</td>\n      <td>NaN</td>\n      <td>NaN</td>\n      <td>NaN</td>\n      <td>NaN</td>\n      <td>NaN</td>\n      <td>5003345</td>\n      <td>3000031</td>\n      <td>NaN</td>\n    </tr>\n    <tr>\n      <th>6</th>\n      <td>Clinical Pathology</td>\n      <td>10994</td>\n      <td>Complete Urine Analysis (Urine R/E)</td>\n      <td>14517</td>\n      <td>Sugar</td>\n      <td>NaN</td>\n      <td>NaN</td>\n      <td>25428-4</td>\n      <td>Glucose [Presence] in Urine by Test strip</td>\n      <td>Glucose</td>\n      <td>Glucose Ur Ql Strip</td>\n      <td>UA</td>\n      <td>NaN</td>\n      <td>5003345</td>\n      <td>3000037</td>\n      <td>NaN</td>\n    </tr>\n    <tr>\n      <th>7</th>\n      <td>Clinical Pathology</td>\n      <td>10994</td>\n      <td>Complete Urine Analysis (Urine R/E)</td>\n      <td>14521</td>\n      <td>R B C</td>\n      <td>NaN</td>\n      <td>NaN</td>\n      <td>33051-4</td>\n      <td>Erythrocytes [Presence] in Urine</td>\n      <td>Erythrocytes</td>\n      <td>RBC Ur Ql</td>\n      <td>UA</td>\n      <td>NaN</td>\n      <td>5003345</td>\n      <td>3000042</td>\n      <td>/LPF</td>\n    </tr>\n    <tr>\n      <th>8</th>\n      <td>Clinical Pathology</td>\n      <td>10994</td>\n      <td>Complete Urine Analysis (Urine R/E)</td>\n      <td>14522</td>\n      <td>W B C</td>\n      <td>NaN</td>\n      <td>NaN</td>\n      <td>33052-2</td>\n      <td>Leukocytes [Presence] in Urine</td>\n      <td>Leukocytes</td>\n      <td>WBC Ur Ql</td>\n      <td>UA</td>\n      <td>NaN</td>\n      <td>5003345</td>\n      <td>3000043</td>\n      <td>/LPF</td>\n    </tr>\n    <tr>\n      <th>9</th>\n      <td>Clinical Pathology</td>\n      <td>10994</td>\n      <td>Complete Urine Analysis (Urine R/E)</td>\n      <td>14526</td>\n      <td>Bilirubin</td>\n      <td>NaN</td>\n      <td>NaN</td>\n      <td>5770-3</td>\n      <td>Bilirubin.total [Presence] in Urine by Test strip</td>\n      <td>Bilirubin</td>\n      <td>Bilirub Ur Ql Strip</td>\n      <td>UA</td>\n      <td>NaN</td>\n      <td>5003345</td>\n      <td>3000067</td>\n      <td>NaN</td>\n    </tr>\n    <tr>\n      <th>10</th>\n      <td>Biochemistry</td>\n      <td>10937</td>\n      <td>Electrolytes Serum</td>\n      <td>14366</td>\n      <td>Sodium</td>\n      <td>NaN</td>\n      <td>NaN</td>\n      <td>2951-2</td>\n      <td>Sodium [Moles/volume] in Serum or Plasma</td>\n      <td>Sodium</td>\n      <td>Sodium SerPl-sCnc</td>\n      <td>CHEM</td>\n      <td>mmol/L</td>\n      <td>101304</td>\n      <td>101214</td>\n      <td>mmol/L</td>\n    </tr>\n    <tr>\n      <th>11</th>\n      <td>Biochemistry</td>\n      <td>10937</td>\n      <td>Electrolytes Serum</td>\n      <td>14367</td>\n      <td>Potassium</td>\n      <td>NaN</td>\n      <td>NaN</td>\n      <td>2823-3</td>\n      <td>Potassium [Moles/volume] in Serum or Plasma</td>\n      <td>Potassium</td>\n      <td>Potassium SerPl-sCnc</td>\n      <td>CHEM</td>\n      <td>mmol/L</td>\n      <td>101304</td>\n      <td>102050</td>\n      <td>mmol/L</td>\n    </tr>\n    <tr>\n      <th>12</th>\n      <td>Biochemistry</td>\n      <td>10816</td>\n      <td>HbA1c</td>\n      <td>13952</td>\n      <td>HbA1c</td>\n      <td>NaN</td>\n      <td>NaN</td>\n      <td>86910-7</td>\n      <td>Hemoglobin A1c/Hemoglobin.total goal Blood</td>\n      <td>Hemoglobin A1c/Hemoglobin.total goal</td>\n      <td>Hgb A1c goal MFr Bld</td>\n      <td>CLIN</td>\n      <td>%</td>\n      <td>101305</td>\n      <td>102057</td>\n      <td>%</td>\n    </tr>\n    <tr>\n      <th>13</th>\n      <td>Biochemistry</td>\n      <td>10626</td>\n      <td>Lipid Profile Serum (R)</td>\n      <td>13070</td>\n      <td>LDL Cholesterol</td>\n      <td>NaN</td>\n      <td>NaN</td>\n      <td>57698-3</td>\n      <td>Lipid panel with direct LDL - Serum or Plasma</td>\n      <td>Lipid panel with direct LDL</td>\n      <td>Lipid pnl with direct LDL SerPl</td>\n      <td>PANEL.CHEM</td>\n      <td>mg/dL</td>\n      <td>100921</td>\n      <td>103730</td>\n      <td>mg/dL</td>\n    </tr>\n    <tr>\n      <th>14</th>\n      <td>NaN</td>\n      <td>10626</td>\n      <td>Lipid Profile Serum (R)</td>\n      <td>13069</td>\n      <td>HDL Cholesterol</td>\n      <td>NaN</td>\n      <td>NaN</td>\n      <td>NaN</td>\n      <td>NaN</td>\n      <td>NaN</td>\n      <td>NaN</td>\n      <td>NaN</td>\n      <td>NaN</td>\n      <td>100921</td>\n      <td>103729</td>\n      <td>mg/dL</td>\n    </tr>\n    <tr>\n      <th>15</th>\n      <td>NaN</td>\n      <td>10626</td>\n      <td>Lipid Profile Serum (R)</td>\n      <td>13071</td>\n      <td>Triglycerides</td>\n      <td>NaN</td>\n      <td>NaN</td>\n      <td>NaN</td>\n      <td>NaN</td>\n      <td>NaN</td>\n      <td>NaN</td>\n      <td>NaN</td>\n      <td>NaN</td>\n      <td>100921</td>\n      <td>103731</td>\n      <td>mg/dL</td>\n    </tr>\n    <tr>\n      <th>16</th>\n      <td>NaN</td>\n      <td>10626</td>\n      <td>Lipid Profile Serum (R)</td>\n      <td>13068</td>\n      <td>Total Cholesterol</td>\n      <td>NaN</td>\n      <td>NaN</td>\n      <td>NaN</td>\n      <td>NaN</td>\n      <td>NaN</td>\n      <td>NaN</td>\n      <td>NaN</td>\n      <td>NaN</td>\n      <td>100921</td>\n      <td>102084</td>\n      <td>mg/dL</td>\n    </tr>\n    <tr>\n      <th>17</th>\n      <td>NaN</td>\n      <td>10057</td>\n      <td>Grouping + Cross Matching + Screening</td>\n      <td>10431</td>\n      <td>Blood Group :</td>\n      <td>NaN</td>\n      <td>NaN</td>\n      <td>NaN</td>\n      <td>NaN</td>\n      <td>NaN</td>\n      <td>NaN</td>\n      <td>NaN</td>\n      <td>NaN</td>\n      <td>100824</td>\n      <td>3002195</td>\n      <td>NaN</td>\n    </tr>\n    <tr>\n      <th>18</th>\n      <td>NaN</td>\n      <td>10057</td>\n      <td>Grouping + Cross Matching + Screening</td>\n      <td>10431</td>\n      <td>Blood Group :</td>\n      <td>NaN</td>\n      <td>NaN</td>\n      <td>NaN</td>\n      <td>NaN</td>\n      <td>NaN</td>\n      <td>NaN</td>\n      <td>NaN</td>\n      <td>NaN</td>\n      <td>100824</td>\n      <td>3002201</td>\n      <td>NaN</td>\n    </tr>\n    <tr>\n      <th>19</th>\n      <td>NaN</td>\n      <td>10057</td>\n      <td>Grouping + Cross Matching + Screening</td>\n      <td>10432</td>\n      <td>Rh Type :</td>\n      <td>NaN</td>\n      <td>NaN</td>\n      <td>NaN</td>\n      <td>NaN</td>\n      <td>NaN</td>\n      <td>NaN</td>\n      <td>NaN</td>\n      <td>NaN</td>\n      <td>100824</td>\n      <td>3002196</td>\n      <td>NaN</td>\n    </tr>\n    <tr>\n      <th>20</th>\n      <td>NaN</td>\n      <td>10057</td>\n      <td>Grouping + Cross Matching + Screening</td>\n      <td>10432</td>\n      <td>Rh Type :</td>\n      <td>NaN</td>\n      <td>NaN</td>\n      <td>NaN</td>\n      <td>NaN</td>\n      <td>NaN</td>\n      <td>NaN</td>\n      <td>NaN</td>\n      <td>NaN</td>\n      <td>100824</td>\n      <td>3002202</td>\n      <td>NaN</td>\n    </tr>\n    <tr>\n      <th>21</th>\n      <td>Biochemistry</td>\n      <td>10693</td>\n      <td>FBG - Fasting blood glucose</td>\n      <td>13498</td>\n      <td>Blood glucose level</td>\n      <td>NaN</td>\n      <td>NaN</td>\n      <td>76629-5</td>\n      <td>Fasting glucose [Moles/volume] in Blood</td>\n      <td>Glucose^post CFst</td>\n      <td>Glucose p fast Bld-sCnc</td>\n      <td>CHEM</td>\n      <td>mmol/L</td>\n      <td>103729</td>\n      <td>101211</td>\n      <td>mmol/L</td>\n    </tr>\n    <tr>\n      <th>22</th>\n      <td>NaN</td>\n      <td>10057</td>\n      <td>Grouping + Cross Matching + Screening</td>\n      <td>10440</td>\n      <td>1.  HBsAg</td>\n      <td>NaN</td>\n      <td>NaN</td>\n      <td>NaN</td>\n      <td>NaN</td>\n      <td>NaN</td>\n      <td>NaN</td>\n      <td>NaN</td>\n      <td>NaN</td>\n      <td>100824</td>\n      <td>3002206</td>\n      <td>NaN</td>\n    </tr>\n  </tbody>\n</table>\n</div>"
     },
     "execution_count": 55,
     "metadata": {},
     "output_type": "execute_result"
    }
   ],
   "source": [
    "source2_attr"
   ]
  },
  {
   "cell_type": "code",
   "execution_count": 56,
   "id": "4b322e3d",
   "metadata": {},
   "outputs": [],
   "source": [
    "s2attr_l = source2_attr[\"attr_id\"].to_list()\n",
    "# s2attr_l"
   ]
  },
  {
   "cell_type": "markdown",
   "id": "07efc291",
   "metadata": {},
   "source": [
    "#### Read Test Results from Source-2 datasets "
   ]
  },
  {
   "cell_type": "code",
   "execution_count": 57,
   "id": "bcea1c62",
   "metadata": {},
   "outputs": [
    {
     "name": "stderr",
     "output_type": "stream",
     "text": [
      "C:\\Users\\ASUS\\AppData\\Local\\Temp\\ipykernel_17808\\5942919.py:4: DtypeWarning: Columns (14) have mixed types. Specify dtype option on import or set low_memory=False.\n",
      "  temp = pd.read_csv(S2_DATA_DIR + filename)\n",
      "C:\\Users\\ASUS\\AppData\\Local\\Temp\\ipykernel_17808\\5942919.py:4: DtypeWarning: Columns (14) have mixed types. Specify dtype option on import or set low_memory=False.\n",
      "  temp = pd.read_csv(S2_DATA_DIR + filename)\n",
      "C:\\Users\\ASUS\\AppData\\Local\\Temp\\ipykernel_17808\\5942919.py:4: DtypeWarning: Columns (8,14) have mixed types. Specify dtype option on import or set low_memory=False.\n",
      "  temp = pd.read_csv(S2_DATA_DIR + filename)\n",
      "C:\\Users\\ASUS\\AppData\\Local\\Temp\\ipykernel_17808\\5942919.py:4: DtypeWarning: Columns (8,14) have mixed types. Specify dtype option on import or set low_memory=False.\n",
      "  temp = pd.read_csv(S2_DATA_DIR + filename)\n",
      "C:\\Users\\ASUS\\AppData\\Local\\Temp\\ipykernel_17808\\5942919.py:4: DtypeWarning: Columns (8,14) have mixed types. Specify dtype option on import or set low_memory=False.\n",
      "  temp = pd.read_csv(S2_DATA_DIR + filename)\n",
      "C:\\Users\\ASUS\\AppData\\Local\\Temp\\ipykernel_17808\\5942919.py:4: DtypeWarning: Columns (8,14) have mixed types. Specify dtype option on import or set low_memory=False.\n",
      "  temp = pd.read_csv(S2_DATA_DIR + filename)\n"
     ]
    }
   ],
   "source": [
    "testres_df = pd.DataFrame()\n",
    "for i in range(1,7):\n",
    "    filename = '/testresult-'+str(i)+'.csv'\n",
    "    temp = pd.read_csv(S2_DATA_DIR + filename)\n",
    "    selected = temp[temp['attr_id'].isin(s2attr_l)]\n",
    "    testres_df = pd.concat([testres_df, selected])\n",
    "    del temp, selected\n"
   ]
  },
  {
   "cell_type": "code",
   "execution_count": 58,
   "id": "cd2439bf",
   "metadata": {},
   "outputs": [],
   "source": [
    "testres_df.to_csv(data_dir + \"/source-2/testresults.csv\", index=False)"
   ]
  },
  {
   "cell_type": "code",
   "execution_count": 59,
   "id": "3a1ac932",
   "metadata": {},
   "outputs": [
    {
     "data": {
      "text/plain": "Index(['PIK', 'address', 'age', 'age_yy', 'analyzer', 'attr_id', 'attr_name',\n       'blood_group', 'comments', 'district', 'division', 'gender', 'geocode',\n       'healthcare_id', 'interpretation', 'lab_id', 'm_status', 'machine_attr',\n       'noraml_range', 'note', 'plain_text', 'refrage_id', 'reg_date',\n       'report_date', 'result', 'result_type', 'test_group_id',\n       'test_group_name', 'test_id', 'unit', 'upazila', 'Unnamed: 31'],\n      dtype='object')"
     },
     "execution_count": 59,
     "metadata": {},
     "output_type": "execute_result"
    }
   ],
   "source": [
    "testres_df.columns"
   ]
  },
  {
   "cell_type": "code",
   "execution_count": 60,
   "id": "59558f12",
   "metadata": {},
   "outputs": [],
   "source": [
    "source2 = testres_df[['lab_id', 'test_id', 'attr_id', 'attr_name', 'result', 'unit']]"
   ]
  },
  {
   "cell_type": "code",
   "execution_count": 61,
   "id": "1e38e6d6",
   "metadata": {},
   "outputs": [
    {
     "name": "stderr",
     "output_type": "stream",
     "text": [
      "C:\\Users\\ASUS\\AppData\\Local\\Temp\\ipykernel_17808\\1323904666.py:1: SettingWithCopyWarning: \n",
      "A value is trying to be set on a copy of a slice from a DataFrame.\n",
      "Try using .loc[row_indexer,col_indexer] = value instead\n",
      "\n",
      "See the caveats in the documentation: https://pandas.pydata.org/pandas-docs/stable/user_guide/indexing.html#returning-a-view-versus-a-copy\n",
      "  source2['result'] = source2['result'].astype(str)\n",
      "C:\\Users\\ASUS\\AppData\\Local\\Temp\\ipykernel_17808\\1323904666.py:2: SettingWithCopyWarning: \n",
      "A value is trying to be set on a copy of a slice from a DataFrame.\n",
      "Try using .loc[row_indexer,col_indexer] = value instead\n",
      "\n",
      "See the caveats in the documentation: https://pandas.pydata.org/pandas-docs/stable/user_guide/indexing.html#returning-a-view-versus-a-copy\n",
      "  source2['result'] = source2['result'].apply(lambda x: x.strip())\n",
      "C:\\Users\\ASUS\\AppData\\Local\\Temp\\ipykernel_17808\\1323904666.py:3: SettingWithCopyWarning: \n",
      "A value is trying to be set on a copy of a slice from a DataFrame.\n",
      "Try using .loc[row_indexer,col_indexer] = value instead\n",
      "\n",
      "See the caveats in the documentation: https://pandas.pydata.org/pandas-docs/stable/user_guide/indexing.html#returning-a-view-versus-a-copy\n",
      "  source2['result'] = source2['result'].apply(lambda x: np.nan if x == 'Null' else x)\n"
     ]
    },
    {
     "name": "stdout",
     "output_type": "stream",
     "text": [
      "(242450, 6)\n",
      "(242450, 6)\n"
     ]
    },
    {
     "data": {
      "text/plain": "               lab_id test_id    attr_id      attr_name    result  \\\n15      1180000000009  101305   102057.0          HbA1c      10.3   \n38      1180000000008  101497   104291.0            ESR        76   \n42      1180000000010  101304   101214.0         Sodium       143   \n43      1180000000010  101304   102050.0      Potassium       3.0   \n62      1180000000123  101497   104291.0            ESR        25   \n...               ...     ...        ...            ...       ...   \n533938  1200000288212  100824  3002202.0      Rh Type :  Positive   \n533942  1200000288212  100824  3002206.0      1.  HBsAg  Negative   \n533952  1200000288307  101304   101214.0         Sodium       130   \n533953  1200000288307  101304   102050.0      Potassium       6.8   \n534022  1200000276289  101497   104291.0            ESR       nan   \n\n                  unit  \n15                   %  \n38      mm in 1st hour  \n42              mmol/L  \n43              mmol/L  \n62      mm in 1st hour  \n...                ...  \n533938             NaN  \n533942             NaN  \n533952          mmol/L  \n533953          mmol/L  \n534022  mm in 1st hour  \n\n[242450 rows x 6 columns]",
      "text/html": "<div>\n<style scoped>\n    .dataframe tbody tr th:only-of-type {\n        vertical-align: middle;\n    }\n\n    .dataframe tbody tr th {\n        vertical-align: top;\n    }\n\n    .dataframe thead th {\n        text-align: right;\n    }\n</style>\n<table border=\"1\" class=\"dataframe\">\n  <thead>\n    <tr style=\"text-align: right;\">\n      <th></th>\n      <th>lab_id</th>\n      <th>test_id</th>\n      <th>attr_id</th>\n      <th>attr_name</th>\n      <th>result</th>\n      <th>unit</th>\n    </tr>\n  </thead>\n  <tbody>\n    <tr>\n      <th>15</th>\n      <td>1180000000009</td>\n      <td>101305</td>\n      <td>102057.0</td>\n      <td>HbA1c</td>\n      <td>10.3</td>\n      <td>%</td>\n    </tr>\n    <tr>\n      <th>38</th>\n      <td>1180000000008</td>\n      <td>101497</td>\n      <td>104291.0</td>\n      <td>ESR</td>\n      <td>76</td>\n      <td>mm in 1st hour</td>\n    </tr>\n    <tr>\n      <th>42</th>\n      <td>1180000000010</td>\n      <td>101304</td>\n      <td>101214.0</td>\n      <td>Sodium</td>\n      <td>143</td>\n      <td>mmol/L</td>\n    </tr>\n    <tr>\n      <th>43</th>\n      <td>1180000000010</td>\n      <td>101304</td>\n      <td>102050.0</td>\n      <td>Potassium</td>\n      <td>3.0</td>\n      <td>mmol/L</td>\n    </tr>\n    <tr>\n      <th>62</th>\n      <td>1180000000123</td>\n      <td>101497</td>\n      <td>104291.0</td>\n      <td>ESR</td>\n      <td>25</td>\n      <td>mm in 1st hour</td>\n    </tr>\n    <tr>\n      <th>...</th>\n      <td>...</td>\n      <td>...</td>\n      <td>...</td>\n      <td>...</td>\n      <td>...</td>\n      <td>...</td>\n    </tr>\n    <tr>\n      <th>533938</th>\n      <td>1200000288212</td>\n      <td>100824</td>\n      <td>3002202.0</td>\n      <td>Rh Type :</td>\n      <td>Positive</td>\n      <td>NaN</td>\n    </tr>\n    <tr>\n      <th>533942</th>\n      <td>1200000288212</td>\n      <td>100824</td>\n      <td>3002206.0</td>\n      <td>1.  HBsAg</td>\n      <td>Negative</td>\n      <td>NaN</td>\n    </tr>\n    <tr>\n      <th>533952</th>\n      <td>1200000288307</td>\n      <td>101304</td>\n      <td>101214.0</td>\n      <td>Sodium</td>\n      <td>130</td>\n      <td>mmol/L</td>\n    </tr>\n    <tr>\n      <th>533953</th>\n      <td>1200000288307</td>\n      <td>101304</td>\n      <td>102050.0</td>\n      <td>Potassium</td>\n      <td>6.8</td>\n      <td>mmol/L</td>\n    </tr>\n    <tr>\n      <th>534022</th>\n      <td>1200000276289</td>\n      <td>101497</td>\n      <td>104291.0</td>\n      <td>ESR</td>\n      <td>nan</td>\n      <td>mm in 1st hour</td>\n    </tr>\n  </tbody>\n</table>\n<p>242450 rows × 6 columns</p>\n</div>"
     },
     "execution_count": 61,
     "metadata": {},
     "output_type": "execute_result"
    }
   ],
   "source": [
    "source2['result'] = source2['result'].astype(str)\n",
    "source2['result'] = source2['result'].apply(lambda x: x.strip())\n",
    "source2['result'] = source2['result'].apply(lambda x: np.nan if x == 'Null' else x)\n",
    "# source1['result'] = source1['result'].replace('Null', np.nan)\n",
    "# source1 = source1.replace('Null', np.nan)\n",
    "print(source2.shape)\n",
    "source2 = source2[source2['result'].notnull()]\n",
    "source2 = source2.dropna(axis=0, subset=('result'))\n",
    "print(source2.shape)\n",
    "# source2_df.index = np.arange(0, len(source2_df))\n",
    "source2"
   ]
  },
  {
   "cell_type": "code",
   "execution_count": 62,
   "outputs": [
    {
     "data": {
      "text/plain": "               lab_id test_id    attr_id      attr_name    result  \\\n15      1180000000009  101305   102057.0          HbA1c      10.3   \n38      1180000000008  101497   104291.0            ESR        76   \n42      1180000000010  101304   101214.0         Sodium       143   \n43      1180000000010  101304   102050.0      Potassium       3.0   \n62      1180000000123  101497   104291.0            ESR        25   \n...               ...     ...        ...            ...       ...   \n533938  1200000288212  100824  3002202.0      Rh Type :  Positive   \n533942  1200000288212  100824  3002206.0      1.  HBsAg  Negative   \n533952  1200000288307  101304   101214.0         Sodium       130   \n533953  1200000288307  101304   102050.0      Potassium       6.8   \n534022  1200000276289  101497   104291.0            ESR       nan   \n\n                  unit  \n15                   %  \n38      mm in 1st hour  \n42              mmol/L  \n43              mmol/L  \n62      mm in 1st hour  \n...                ...  \n533938             NaN  \n533942             NaN  \n533952          mmol/L  \n533953          mmol/L  \n534022  mm in 1st hour  \n\n[242450 rows x 6 columns]",
      "text/html": "<div>\n<style scoped>\n    .dataframe tbody tr th:only-of-type {\n        vertical-align: middle;\n    }\n\n    .dataframe tbody tr th {\n        vertical-align: top;\n    }\n\n    .dataframe thead th {\n        text-align: right;\n    }\n</style>\n<table border=\"1\" class=\"dataframe\">\n  <thead>\n    <tr style=\"text-align: right;\">\n      <th></th>\n      <th>lab_id</th>\n      <th>test_id</th>\n      <th>attr_id</th>\n      <th>attr_name</th>\n      <th>result</th>\n      <th>unit</th>\n    </tr>\n  </thead>\n  <tbody>\n    <tr>\n      <th>15</th>\n      <td>1180000000009</td>\n      <td>101305</td>\n      <td>102057.0</td>\n      <td>HbA1c</td>\n      <td>10.3</td>\n      <td>%</td>\n    </tr>\n    <tr>\n      <th>38</th>\n      <td>1180000000008</td>\n      <td>101497</td>\n      <td>104291.0</td>\n      <td>ESR</td>\n      <td>76</td>\n      <td>mm in 1st hour</td>\n    </tr>\n    <tr>\n      <th>42</th>\n      <td>1180000000010</td>\n      <td>101304</td>\n      <td>101214.0</td>\n      <td>Sodium</td>\n      <td>143</td>\n      <td>mmol/L</td>\n    </tr>\n    <tr>\n      <th>43</th>\n      <td>1180000000010</td>\n      <td>101304</td>\n      <td>102050.0</td>\n      <td>Potassium</td>\n      <td>3.0</td>\n      <td>mmol/L</td>\n    </tr>\n    <tr>\n      <th>62</th>\n      <td>1180000000123</td>\n      <td>101497</td>\n      <td>104291.0</td>\n      <td>ESR</td>\n      <td>25</td>\n      <td>mm in 1st hour</td>\n    </tr>\n    <tr>\n      <th>...</th>\n      <td>...</td>\n      <td>...</td>\n      <td>...</td>\n      <td>...</td>\n      <td>...</td>\n      <td>...</td>\n    </tr>\n    <tr>\n      <th>533938</th>\n      <td>1200000288212</td>\n      <td>100824</td>\n      <td>3002202.0</td>\n      <td>Rh Type :</td>\n      <td>Positive</td>\n      <td>NaN</td>\n    </tr>\n    <tr>\n      <th>533942</th>\n      <td>1200000288212</td>\n      <td>100824</td>\n      <td>3002206.0</td>\n      <td>1.  HBsAg</td>\n      <td>Negative</td>\n      <td>NaN</td>\n    </tr>\n    <tr>\n      <th>533952</th>\n      <td>1200000288307</td>\n      <td>101304</td>\n      <td>101214.0</td>\n      <td>Sodium</td>\n      <td>130</td>\n      <td>mmol/L</td>\n    </tr>\n    <tr>\n      <th>533953</th>\n      <td>1200000288307</td>\n      <td>101304</td>\n      <td>102050.0</td>\n      <td>Potassium</td>\n      <td>6.8</td>\n      <td>mmol/L</td>\n    </tr>\n    <tr>\n      <th>534022</th>\n      <td>1200000276289</td>\n      <td>101497</td>\n      <td>104291.0</td>\n      <td>ESR</td>\n      <td>nan</td>\n      <td>mm in 1st hour</td>\n    </tr>\n  </tbody>\n</table>\n<p>242450 rows × 6 columns</p>\n</div>"
     },
     "execution_count": 62,
     "metadata": {},
     "output_type": "execute_result"
    }
   ],
   "source": [
    "source2"
   ],
   "metadata": {
    "collapsed": false,
    "pycharm": {
     "name": "#%%\n"
    }
   }
  },
  {
   "cell_type": "code",
   "execution_count": 63,
   "id": "2322a4d7",
   "metadata": {},
   "outputs": [
    {
     "name": "stdout",
     "output_type": "stream",
     "text": [
      "242450 (242450, 6)\n",
      "               lab_id test_id    attr_id      attr_name    result  \\\n",
      "15      1180000000009  101305   102057.0          HbA1c      10.3   \n",
      "38      1180000000008  101497   104291.0            ESR        76   \n",
      "42      1180000000010  101304   101214.0         Sodium       143   \n",
      "43      1180000000010  101304   102050.0      Potassium       3.0   \n",
      "62      1180000000123  101497   104291.0            ESR        25   \n",
      "...               ...     ...        ...            ...       ...   \n",
      "533938  1200000288212  100824  3002202.0      Rh Type :  Positive   \n",
      "533942  1200000288212  100824  3002206.0      1.  HBsAg  Negative   \n",
      "533952  1200000288307  101304   101214.0         Sodium       130   \n",
      "533953  1200000288307  101304   102050.0      Potassium       6.8   \n",
      "534022  1200000276289  101497   104291.0            ESR       nan   \n",
      "\n",
      "                  unit   data_type  \n",
      "15                   %  Neumerical  \n",
      "38      mm in 1st hour  Neumerical  \n",
      "42              mmol/L  Neumerical  \n",
      "43              mmol/L  Neumerical  \n",
      "62      mm in 1st hour  Neumerical  \n",
      "...                ...         ...  \n",
      "533938             NaN         NaN  \n",
      "533942             NaN         NaN  \n",
      "533952          mmol/L         NaN  \n",
      "533953          mmol/L         NaN  \n",
      "534022  mm in 1st hour         NaN  \n",
      "\n",
      "[242450 rows x 7 columns]\n"
     ]
    }
   ],
   "source": [
    "types = []\n",
    "for index, row in source2.iterrows():\n",
    "#     print(row['test_name'], row['attribute'], row['result'], type(row['result']))\n",
    "    try:\n",
    "        val = float(row['result'])\n",
    "        types.append('Neumerical')\n",
    "    except:\n",
    "        types.append('Categorical')\n",
    "#         print(\"That's not an int!\")\n",
    "print(len(types), source2.shape)\n",
    "# print(types)\n",
    "source2['data_type'] = pd.DataFrame(types)\n",
    "print(source2)"
   ]
  },
  {
   "cell_type": "code",
   "execution_count": 64,
   "id": "a9f5c566",
   "metadata": {},
   "outputs": [
    {
     "data": {
      "text/plain": "      attr_id                                             unique\n0    101211.0  [5.3, 6.1, 13.1, 5.8, 4.7, 6.3, 6.7, 5.5, 5.9,...\n1    101214.0  [143, 146, 155, 140, 138, 177, 130, 147, 144, ...\n2    102050.0  [3.0, 3.3, 2.9, 4.1, 5.1, 2.8, 4.3, 4.4, 4.9, ...\n3    102057.0  [10.3, 7.1, 6.7, 7.6, 6.1, 8.2, 5.9, 6.9, 6.5,...\n4    102084.0  [238, 224, 152, 181, 173, 159, 677, 230, 113, ...\n5    103729.0  [36, 50.3, 38.2, 30.1, 51, 32.7, 20, 52.2, 41....\n6    103730.0  [158, 138, 76, 103, 99, 91, **, 134, 55, 68, n...\n7    103731.0  [218, 177, 186, 237, 131, 178, 5747, 79, 169, ...\n8    104291.0  [76, 25, 52, 32, 67, 03, 09, 64, 30, 04, 39, 2...\n9   3000003.0  [Trace, Nil, ++, +, nan, 0, Not Done, (+), (++...\n10  3000016.0  [nan, Nil, Not done, Trace, 3+, +++, (++), (++...\n11  3000017.0                         [nan, Clear, Hazy, Turbid]\n12  3000020.0  [L YELLOW, Straw, STRAW, Yellow, nan, AMBER, R...\n13  3000031.0        [nan, Nil, 0, (+), (++), Few, (+++), A few]\n14  3000037.0  [Nil, +++, nan, ++++, 0, Trace, Not Done, ++, ...\n15  3000042.0                                      [nan, Nil, 0]\n16  3000043.0                                      [nan, Nil, 0]\n17  3000067.0  [Nil, Not done, Not Done, nan, 0, +, Normal, (...\n18  3002195.0  [\"A\", nan, \"AB\", \"B\", \"O\", \"A', \"O \", ''B'', '...\n19  3002196.0                          [Negative, nan, Positive]\n20  3002201.0  [\"A\", nan, \"AB\", \"B\", \"O\", \"A', ''B'', ''O'', ...\n21  3002202.0    [Negative, nan, Positive, Positve, positive, p]\n22  3002206.0      [Negative, nan, Positive, Not done, Not Done]",
      "text/html": "<div>\n<style scoped>\n    .dataframe tbody tr th:only-of-type {\n        vertical-align: middle;\n    }\n\n    .dataframe tbody tr th {\n        vertical-align: top;\n    }\n\n    .dataframe thead th {\n        text-align: right;\n    }\n</style>\n<table border=\"1\" class=\"dataframe\">\n  <thead>\n    <tr style=\"text-align: right;\">\n      <th></th>\n      <th>attr_id</th>\n      <th>unique</th>\n    </tr>\n  </thead>\n  <tbody>\n    <tr>\n      <th>0</th>\n      <td>101211.0</td>\n      <td>[5.3, 6.1, 13.1, 5.8, 4.7, 6.3, 6.7, 5.5, 5.9,...</td>\n    </tr>\n    <tr>\n      <th>1</th>\n      <td>101214.0</td>\n      <td>[143, 146, 155, 140, 138, 177, 130, 147, 144, ...</td>\n    </tr>\n    <tr>\n      <th>2</th>\n      <td>102050.0</td>\n      <td>[3.0, 3.3, 2.9, 4.1, 5.1, 2.8, 4.3, 4.4, 4.9, ...</td>\n    </tr>\n    <tr>\n      <th>3</th>\n      <td>102057.0</td>\n      <td>[10.3, 7.1, 6.7, 7.6, 6.1, 8.2, 5.9, 6.9, 6.5,...</td>\n    </tr>\n    <tr>\n      <th>4</th>\n      <td>102084.0</td>\n      <td>[238, 224, 152, 181, 173, 159, 677, 230, 113, ...</td>\n    </tr>\n    <tr>\n      <th>5</th>\n      <td>103729.0</td>\n      <td>[36, 50.3, 38.2, 30.1, 51, 32.7, 20, 52.2, 41....</td>\n    </tr>\n    <tr>\n      <th>6</th>\n      <td>103730.0</td>\n      <td>[158, 138, 76, 103, 99, 91, **, 134, 55, 68, n...</td>\n    </tr>\n    <tr>\n      <th>7</th>\n      <td>103731.0</td>\n      <td>[218, 177, 186, 237, 131, 178, 5747, 79, 169, ...</td>\n    </tr>\n    <tr>\n      <th>8</th>\n      <td>104291.0</td>\n      <td>[76, 25, 52, 32, 67, 03, 09, 64, 30, 04, 39, 2...</td>\n    </tr>\n    <tr>\n      <th>9</th>\n      <td>3000003.0</td>\n      <td>[Trace, Nil, ++, +, nan, 0, Not Done, (+), (++...</td>\n    </tr>\n    <tr>\n      <th>10</th>\n      <td>3000016.0</td>\n      <td>[nan, Nil, Not done, Trace, 3+, +++, (++), (++...</td>\n    </tr>\n    <tr>\n      <th>11</th>\n      <td>3000017.0</td>\n      <td>[nan, Clear, Hazy, Turbid]</td>\n    </tr>\n    <tr>\n      <th>12</th>\n      <td>3000020.0</td>\n      <td>[L YELLOW, Straw, STRAW, Yellow, nan, AMBER, R...</td>\n    </tr>\n    <tr>\n      <th>13</th>\n      <td>3000031.0</td>\n      <td>[nan, Nil, 0, (+), (++), Few, (+++), A few]</td>\n    </tr>\n    <tr>\n      <th>14</th>\n      <td>3000037.0</td>\n      <td>[Nil, +++, nan, ++++, 0, Trace, Not Done, ++, ...</td>\n    </tr>\n    <tr>\n      <th>15</th>\n      <td>3000042.0</td>\n      <td>[nan, Nil, 0]</td>\n    </tr>\n    <tr>\n      <th>16</th>\n      <td>3000043.0</td>\n      <td>[nan, Nil, 0]</td>\n    </tr>\n    <tr>\n      <th>17</th>\n      <td>3000067.0</td>\n      <td>[Nil, Not done, Not Done, nan, 0, +, Normal, (...</td>\n    </tr>\n    <tr>\n      <th>18</th>\n      <td>3002195.0</td>\n      <td>[\"A\", nan, \"AB\", \"B\", \"O\", \"A', \"O \", ''B'', '...</td>\n    </tr>\n    <tr>\n      <th>19</th>\n      <td>3002196.0</td>\n      <td>[Negative, nan, Positive]</td>\n    </tr>\n    <tr>\n      <th>20</th>\n      <td>3002201.0</td>\n      <td>[\"A\", nan, \"AB\", \"B\", \"O\", \"A', ''B'', ''O'', ...</td>\n    </tr>\n    <tr>\n      <th>21</th>\n      <td>3002202.0</td>\n      <td>[Negative, nan, Positive, Positve, positive, p]</td>\n    </tr>\n    <tr>\n      <th>22</th>\n      <td>3002206.0</td>\n      <td>[Negative, nan, Positive, Not done, Not Done]</td>\n    </tr>\n  </tbody>\n</table>\n</div>"
     },
     "execution_count": 64,
     "metadata": {},
     "output_type": "execute_result"
    }
   ],
   "source": [
    "g = source2.groupby('attr_id', as_index = False)['result'].agg(['unique'])\n",
    "g = g.reset_index(level=0)\n",
    "g"
   ]
  },
  {
   "cell_type": "code",
   "execution_count": 65,
   "id": "c81417d8",
   "metadata": {},
   "outputs": [],
   "source": [
    "source2 = source2.merge(g, how='outer', on='attr_id')"
   ]
  },
  {
   "cell_type": "code",
   "execution_count": 66,
   "id": "36fdb7fe",
   "metadata": {},
   "outputs": [
    {
     "data": {
      "text/plain": "               lab_id  test_id    attr_id  attr_name result unit   data_type  \\\n0       1180000000009   101305   102057.0      HbA1c   10.3    %  Neumerical   \n1       1180000000181   101305   102057.0      HbA1c    7.1    %  Neumerical   \n2       1180000000184   101305   102057.0      HbA1c    6.7    %  Neumerical   \n3       1180000000242   101305   102057.0      HbA1c    7.6    %  Neumerical   \n4       1180000000300   101305   102057.0      HbA1c    6.1    %  Neumerical   \n...               ...      ...        ...        ...    ...  ...         ...   \n242445  1200000286048  5003345  3000067.0  Bilirubin    Nil  NaN         NaN   \n242446  1200000290822  5003345  3000067.0  Bilirubin    Nil  NaN         NaN   \n242447  1200000288709  5003345  3000067.0  Bilirubin    Nil  NaN         NaN   \n242448  1200000290364  5003345  3000067.0  Bilirubin    Nil  NaN         NaN   \n242449  1200000276801  5003345  3000067.0  Bilirubin    Nil  NaN         NaN   \n\n                                                   unique  \n0       [10.3, 7.1, 6.7, 7.6, 6.1, 8.2, 5.9, 6.9, 6.5,...  \n1       [10.3, 7.1, 6.7, 7.6, 6.1, 8.2, 5.9, 6.9, 6.5,...  \n2       [10.3, 7.1, 6.7, 7.6, 6.1, 8.2, 5.9, 6.9, 6.5,...  \n3       [10.3, 7.1, 6.7, 7.6, 6.1, 8.2, 5.9, 6.9, 6.5,...  \n4       [10.3, 7.1, 6.7, 7.6, 6.1, 8.2, 5.9, 6.9, 6.5,...  \n...                                                   ...  \n242445  [Nil, Not done, Not Done, nan, 0, +, Normal, (...  \n242446  [Nil, Not done, Not Done, nan, 0, +, Normal, (...  \n242447  [Nil, Not done, Not Done, nan, 0, +, Normal, (...  \n242448  [Nil, Not done, Not Done, nan, 0, +, Normal, (...  \n242449  [Nil, Not done, Not Done, nan, 0, +, Normal, (...  \n\n[242450 rows x 8 columns]",
      "text/html": "<div>\n<style scoped>\n    .dataframe tbody tr th:only-of-type {\n        vertical-align: middle;\n    }\n\n    .dataframe tbody tr th {\n        vertical-align: top;\n    }\n\n    .dataframe thead th {\n        text-align: right;\n    }\n</style>\n<table border=\"1\" class=\"dataframe\">\n  <thead>\n    <tr style=\"text-align: right;\">\n      <th></th>\n      <th>lab_id</th>\n      <th>test_id</th>\n      <th>attr_id</th>\n      <th>attr_name</th>\n      <th>result</th>\n      <th>unit</th>\n      <th>data_type</th>\n      <th>unique</th>\n    </tr>\n  </thead>\n  <tbody>\n    <tr>\n      <th>0</th>\n      <td>1180000000009</td>\n      <td>101305</td>\n      <td>102057.0</td>\n      <td>HbA1c</td>\n      <td>10.3</td>\n      <td>%</td>\n      <td>Neumerical</td>\n      <td>[10.3, 7.1, 6.7, 7.6, 6.1, 8.2, 5.9, 6.9, 6.5,...</td>\n    </tr>\n    <tr>\n      <th>1</th>\n      <td>1180000000181</td>\n      <td>101305</td>\n      <td>102057.0</td>\n      <td>HbA1c</td>\n      <td>7.1</td>\n      <td>%</td>\n      <td>Neumerical</td>\n      <td>[10.3, 7.1, 6.7, 7.6, 6.1, 8.2, 5.9, 6.9, 6.5,...</td>\n    </tr>\n    <tr>\n      <th>2</th>\n      <td>1180000000184</td>\n      <td>101305</td>\n      <td>102057.0</td>\n      <td>HbA1c</td>\n      <td>6.7</td>\n      <td>%</td>\n      <td>Neumerical</td>\n      <td>[10.3, 7.1, 6.7, 7.6, 6.1, 8.2, 5.9, 6.9, 6.5,...</td>\n    </tr>\n    <tr>\n      <th>3</th>\n      <td>1180000000242</td>\n      <td>101305</td>\n      <td>102057.0</td>\n      <td>HbA1c</td>\n      <td>7.6</td>\n      <td>%</td>\n      <td>Neumerical</td>\n      <td>[10.3, 7.1, 6.7, 7.6, 6.1, 8.2, 5.9, 6.9, 6.5,...</td>\n    </tr>\n    <tr>\n      <th>4</th>\n      <td>1180000000300</td>\n      <td>101305</td>\n      <td>102057.0</td>\n      <td>HbA1c</td>\n      <td>6.1</td>\n      <td>%</td>\n      <td>Neumerical</td>\n      <td>[10.3, 7.1, 6.7, 7.6, 6.1, 8.2, 5.9, 6.9, 6.5,...</td>\n    </tr>\n    <tr>\n      <th>...</th>\n      <td>...</td>\n      <td>...</td>\n      <td>...</td>\n      <td>...</td>\n      <td>...</td>\n      <td>...</td>\n      <td>...</td>\n      <td>...</td>\n    </tr>\n    <tr>\n      <th>242445</th>\n      <td>1200000286048</td>\n      <td>5003345</td>\n      <td>3000067.0</td>\n      <td>Bilirubin</td>\n      <td>Nil</td>\n      <td>NaN</td>\n      <td>NaN</td>\n      <td>[Nil, Not done, Not Done, nan, 0, +, Normal, (...</td>\n    </tr>\n    <tr>\n      <th>242446</th>\n      <td>1200000290822</td>\n      <td>5003345</td>\n      <td>3000067.0</td>\n      <td>Bilirubin</td>\n      <td>Nil</td>\n      <td>NaN</td>\n      <td>NaN</td>\n      <td>[Nil, Not done, Not Done, nan, 0, +, Normal, (...</td>\n    </tr>\n    <tr>\n      <th>242447</th>\n      <td>1200000288709</td>\n      <td>5003345</td>\n      <td>3000067.0</td>\n      <td>Bilirubin</td>\n      <td>Nil</td>\n      <td>NaN</td>\n      <td>NaN</td>\n      <td>[Nil, Not done, Not Done, nan, 0, +, Normal, (...</td>\n    </tr>\n    <tr>\n      <th>242448</th>\n      <td>1200000290364</td>\n      <td>5003345</td>\n      <td>3000067.0</td>\n      <td>Bilirubin</td>\n      <td>Nil</td>\n      <td>NaN</td>\n      <td>NaN</td>\n      <td>[Nil, Not done, Not Done, nan, 0, +, Normal, (...</td>\n    </tr>\n    <tr>\n      <th>242449</th>\n      <td>1200000276801</td>\n      <td>5003345</td>\n      <td>3000067.0</td>\n      <td>Bilirubin</td>\n      <td>Nil</td>\n      <td>NaN</td>\n      <td>NaN</td>\n      <td>[Nil, Not done, Not Done, nan, 0, +, Normal, (...</td>\n    </tr>\n  </tbody>\n</table>\n<p>242450 rows × 8 columns</p>\n</div>"
     },
     "execution_count": 66,
     "metadata": {},
     "output_type": "execute_result"
    }
   ],
   "source": [
    "source2"
   ]
  },
  {
   "cell_type": "code",
   "execution_count": 67,
   "id": "be0e5dc1",
   "metadata": {},
   "outputs": [],
   "source": [
    "source2_df=source2.drop_duplicates(['test_id','attr_id', 'data_type'])[['lab_id',\n",
    " 'test_id',\n",
    " 'attr_id',\n",
    " 'attr_name',\n",
    " 'data_type', 'unit',\n",
    " 'unique']]"
   ]
  },
  {
   "cell_type": "code",
   "execution_count": 68,
   "id": "65109c81",
   "metadata": {},
   "outputs": [
    {
     "data": {
      "text/plain": "               lab_id  test_id    attr_id  attr_name    data_type unit  \\\n0       1180000000009   101305   102057.0      HbA1c   Neumerical    %   \n8       1180000000336   101305   102057.0      HbA1c  Categorical    %   \n322     1190000012439   101305   102057.0      HbA1c   Neumerical    %   \n328     1190000012735   101305   102057.0      HbA1c  Categorical    %   \n782     1190000030098   101305   102057.0      HbA1c          NaN    %   \n...               ...      ...        ...        ...          ...  ...   \n217984  1190000075632  5003345  3000016.0      Blood          NaN  NaN   \n229132  1190000025616  5003345  3000067.0  Bilirubin          NaN  NaN   \n230338  1190000060189  5003345  3000067.0  Bilirubin   Neumerical  NaN   \n230339  1190000060565  5003345  3000067.0  Bilirubin  Categorical  NaN   \n231298  1190000075632  5003345  3000067.0  Bilirubin          NaN  NaN   \n\n                                                   unique  \n0       [10.3, 7.1, 6.7, 7.6, 6.1, 8.2, 5.9, 6.9, 6.5,...  \n8       [10.3, 7.1, 6.7, 7.6, 6.1, 8.2, 5.9, 6.9, 6.5,...  \n322     [10.3, 7.1, 6.7, 7.6, 6.1, 8.2, 5.9, 6.9, 6.5,...  \n328     [10.3, 7.1, 6.7, 7.6, 6.1, 8.2, 5.9, 6.9, 6.5,...  \n782     [10.3, 7.1, 6.7, 7.6, 6.1, 8.2, 5.9, 6.9, 6.5,...  \n...                                                   ...  \n217984  [nan, Nil, Not done, Trace, 3+, +++, (++), (++...  \n229132  [Nil, Not done, Not Done, nan, 0, +, Normal, (...  \n230338  [Nil, Not done, Not Done, nan, 0, +, Normal, (...  \n230339  [Nil, Not done, Not Done, nan, 0, +, Normal, (...  \n231298  [Nil, Not done, Not Done, nan, 0, +, Normal, (...  \n\n[114 rows x 7 columns]",
      "text/html": "<div>\n<style scoped>\n    .dataframe tbody tr th:only-of-type {\n        vertical-align: middle;\n    }\n\n    .dataframe tbody tr th {\n        vertical-align: top;\n    }\n\n    .dataframe thead th {\n        text-align: right;\n    }\n</style>\n<table border=\"1\" class=\"dataframe\">\n  <thead>\n    <tr style=\"text-align: right;\">\n      <th></th>\n      <th>lab_id</th>\n      <th>test_id</th>\n      <th>attr_id</th>\n      <th>attr_name</th>\n      <th>data_type</th>\n      <th>unit</th>\n      <th>unique</th>\n    </tr>\n  </thead>\n  <tbody>\n    <tr>\n      <th>0</th>\n      <td>1180000000009</td>\n      <td>101305</td>\n      <td>102057.0</td>\n      <td>HbA1c</td>\n      <td>Neumerical</td>\n      <td>%</td>\n      <td>[10.3, 7.1, 6.7, 7.6, 6.1, 8.2, 5.9, 6.9, 6.5,...</td>\n    </tr>\n    <tr>\n      <th>8</th>\n      <td>1180000000336</td>\n      <td>101305</td>\n      <td>102057.0</td>\n      <td>HbA1c</td>\n      <td>Categorical</td>\n      <td>%</td>\n      <td>[10.3, 7.1, 6.7, 7.6, 6.1, 8.2, 5.9, 6.9, 6.5,...</td>\n    </tr>\n    <tr>\n      <th>322</th>\n      <td>1190000012439</td>\n      <td>101305</td>\n      <td>102057.0</td>\n      <td>HbA1c</td>\n      <td>Neumerical</td>\n      <td>%</td>\n      <td>[10.3, 7.1, 6.7, 7.6, 6.1, 8.2, 5.9, 6.9, 6.5,...</td>\n    </tr>\n    <tr>\n      <th>328</th>\n      <td>1190000012735</td>\n      <td>101305</td>\n      <td>102057.0</td>\n      <td>HbA1c</td>\n      <td>Categorical</td>\n      <td>%</td>\n      <td>[10.3, 7.1, 6.7, 7.6, 6.1, 8.2, 5.9, 6.9, 6.5,...</td>\n    </tr>\n    <tr>\n      <th>782</th>\n      <td>1190000030098</td>\n      <td>101305</td>\n      <td>102057.0</td>\n      <td>HbA1c</td>\n      <td>NaN</td>\n      <td>%</td>\n      <td>[10.3, 7.1, 6.7, 7.6, 6.1, 8.2, 5.9, 6.9, 6.5,...</td>\n    </tr>\n    <tr>\n      <th>...</th>\n      <td>...</td>\n      <td>...</td>\n      <td>...</td>\n      <td>...</td>\n      <td>...</td>\n      <td>...</td>\n      <td>...</td>\n    </tr>\n    <tr>\n      <th>217984</th>\n      <td>1190000075632</td>\n      <td>5003345</td>\n      <td>3000016.0</td>\n      <td>Blood</td>\n      <td>NaN</td>\n      <td>NaN</td>\n      <td>[nan, Nil, Not done, Trace, 3+, +++, (++), (++...</td>\n    </tr>\n    <tr>\n      <th>229132</th>\n      <td>1190000025616</td>\n      <td>5003345</td>\n      <td>3000067.0</td>\n      <td>Bilirubin</td>\n      <td>NaN</td>\n      <td>NaN</td>\n      <td>[Nil, Not done, Not Done, nan, 0, +, Normal, (...</td>\n    </tr>\n    <tr>\n      <th>230338</th>\n      <td>1190000060189</td>\n      <td>5003345</td>\n      <td>3000067.0</td>\n      <td>Bilirubin</td>\n      <td>Neumerical</td>\n      <td>NaN</td>\n      <td>[Nil, Not done, Not Done, nan, 0, +, Normal, (...</td>\n    </tr>\n    <tr>\n      <th>230339</th>\n      <td>1190000060565</td>\n      <td>5003345</td>\n      <td>3000067.0</td>\n      <td>Bilirubin</td>\n      <td>Categorical</td>\n      <td>NaN</td>\n      <td>[Nil, Not done, Not Done, nan, 0, +, Normal, (...</td>\n    </tr>\n    <tr>\n      <th>231298</th>\n      <td>1190000075632</td>\n      <td>5003345</td>\n      <td>3000067.0</td>\n      <td>Bilirubin</td>\n      <td>NaN</td>\n      <td>NaN</td>\n      <td>[Nil, Not done, Not Done, nan, 0, +, Normal, (...</td>\n    </tr>\n  </tbody>\n</table>\n<p>114 rows × 7 columns</p>\n</div>"
     },
     "execution_count": 68,
     "metadata": {},
     "output_type": "execute_result"
    }
   ],
   "source": [
    "source2_df"
   ]
  },
  {
   "cell_type": "code",
   "execution_count": 69,
   "id": "ad4c66ae",
   "metadata": {},
   "outputs": [],
   "source": [
    "cat_df = test_attr_df.merge(g, how='inner', on='attr_id')"
   ]
  },
  {
   "cell_type": "code",
   "execution_count": 70,
   "id": "d18c82bc",
   "metadata": {},
   "outputs": [
    {
     "data": {
      "text/plain": "    test_id                              test_name  attr_id  \\\n0    101305                                  HbA1c   102057   \n1    101602              Fasting Blood Sugar (FBS)   101211   \n2    101304                     Electrolytes Serum   101214   \n3    101304                     Electrolytes Serum   102050   \n4    100824  Grouping + Cross Matching + Screening  3002195   \n5    100824  Grouping + Cross Matching + Screening  3002196   \n6    100824  Grouping + Cross Matching + Screening  3002201   \n7    100824  Grouping + Cross Matching + Screening  3002202   \n8    100824  Grouping + Cross Matching + Screening  3002206   \n9    101497                                    CBC   104291   \n10   100921                Lipid Profile Serum (R)   102084   \n11   100921                Lipid Profile Serum (R)   103729   \n12   100921                Lipid Profile Serum (R)   103730   \n13   100921                Lipid Profile Serum (R)   103731   \n14  5003345    Complete Urine Analysis (Urine R/E)  3000003   \n15  5003345    Complete Urine Analysis (Urine R/E)  3000016   \n16  5003345    Complete Urine Analysis (Urine R/E)  3000017   \n17  5003345    Complete Urine Analysis (Urine R/E)  3000020   \n18  5003345    Complete Urine Analysis (Urine R/E)  3000031   \n19  5003345    Complete Urine Analysis (Urine R/E)  3000037   \n20  5003345    Complete Urine Analysis (Urine R/E)  3000042   \n21  5003345    Complete Urine Analysis (Urine R/E)  3000043   \n22  5003345    Complete Urine Analysis (Urine R/E)  3000067   \n\n              attr_name            unit  \\\n0                 HbA1c               %   \n1   Fasting Blood Sugar          mmol/L   \n2                Sodium          mmol/L   \n3             Potassium          mmol/L   \n4         Blood Group :             NaN   \n5             Rh Type :             NaN   \n6         Blood Group :             NaN   \n7             Rh Type :             NaN   \n8             1.  HBsAg             NaN   \n9                   ESR  mm in 1st hour   \n10    Total Cholesterol           mg/dL   \n11      HDL Cholesterol           mg/dL   \n12      LDL Cholesterol           mg/dL   \n13        Triglycerides           mg/dL   \n14              Protein             NaN   \n15                Blood             NaN   \n16           Appearance             NaN   \n17               Colour             NaN   \n18            Uric Acid             NaN   \n19                Sugar             NaN   \n20                R B C            /LPF   \n21                W B C            /LPF   \n22            Bilirubin             NaN   \n\n                                               unique  \n0   [10.3, 7.1, 6.7, 7.6, 6.1, 8.2, 5.9, 6.9, 6.5,...  \n1   [5.3, 6.1, 13.1, 5.8, 4.7, 6.3, 6.7, 5.5, 5.9,...  \n2   [143, 146, 155, 140, 138, 177, 130, 147, 144, ...  \n3   [3.0, 3.3, 2.9, 4.1, 5.1, 2.8, 4.3, 4.4, 4.9, ...  \n4   [\"A\", nan, \"AB\", \"B\", \"O\", \"A', \"O \", ''B'', '...  \n5                           [Negative, nan, Positive]  \n6   [\"A\", nan, \"AB\", \"B\", \"O\", \"A', ''B'', ''O'', ...  \n7     [Negative, nan, Positive, Positve, positive, p]  \n8       [Negative, nan, Positive, Not done, Not Done]  \n9   [76, 25, 52, 32, 67, 03, 09, 64, 30, 04, 39, 2...  \n10  [238, 224, 152, 181, 173, 159, 677, 230, 113, ...  \n11  [36, 50.3, 38.2, 30.1, 51, 32.7, 20, 52.2, 41....  \n12  [158, 138, 76, 103, 99, 91, **, 134, 55, 68, n...  \n13  [218, 177, 186, 237, 131, 178, 5747, 79, 169, ...  \n14  [Trace, Nil, ++, +, nan, 0, Not Done, (+), (++...  \n15  [nan, Nil, Not done, Trace, 3+, +++, (++), (++...  \n16                         [nan, Clear, Hazy, Turbid]  \n17  [L YELLOW, Straw, STRAW, Yellow, nan, AMBER, R...  \n18        [nan, Nil, 0, (+), (++), Few, (+++), A few]  \n19  [Nil, +++, nan, ++++, 0, Trace, Not Done, ++, ...  \n20                                      [nan, Nil, 0]  \n21                                      [nan, Nil, 0]  \n22  [Nil, Not done, Not Done, nan, 0, +, Normal, (...  ",
      "text/html": "<div>\n<style scoped>\n    .dataframe tbody tr th:only-of-type {\n        vertical-align: middle;\n    }\n\n    .dataframe tbody tr th {\n        vertical-align: top;\n    }\n\n    .dataframe thead th {\n        text-align: right;\n    }\n</style>\n<table border=\"1\" class=\"dataframe\">\n  <thead>\n    <tr style=\"text-align: right;\">\n      <th></th>\n      <th>test_id</th>\n      <th>test_name</th>\n      <th>attr_id</th>\n      <th>attr_name</th>\n      <th>unit</th>\n      <th>unique</th>\n    </tr>\n  </thead>\n  <tbody>\n    <tr>\n      <th>0</th>\n      <td>101305</td>\n      <td>HbA1c</td>\n      <td>102057</td>\n      <td>HbA1c</td>\n      <td>%</td>\n      <td>[10.3, 7.1, 6.7, 7.6, 6.1, 8.2, 5.9, 6.9, 6.5,...</td>\n    </tr>\n    <tr>\n      <th>1</th>\n      <td>101602</td>\n      <td>Fasting Blood Sugar (FBS)</td>\n      <td>101211</td>\n      <td>Fasting Blood Sugar</td>\n      <td>mmol/L</td>\n      <td>[5.3, 6.1, 13.1, 5.8, 4.7, 6.3, 6.7, 5.5, 5.9,...</td>\n    </tr>\n    <tr>\n      <th>2</th>\n      <td>101304</td>\n      <td>Electrolytes Serum</td>\n      <td>101214</td>\n      <td>Sodium</td>\n      <td>mmol/L</td>\n      <td>[143, 146, 155, 140, 138, 177, 130, 147, 144, ...</td>\n    </tr>\n    <tr>\n      <th>3</th>\n      <td>101304</td>\n      <td>Electrolytes Serum</td>\n      <td>102050</td>\n      <td>Potassium</td>\n      <td>mmol/L</td>\n      <td>[3.0, 3.3, 2.9, 4.1, 5.1, 2.8, 4.3, 4.4, 4.9, ...</td>\n    </tr>\n    <tr>\n      <th>4</th>\n      <td>100824</td>\n      <td>Grouping + Cross Matching + Screening</td>\n      <td>3002195</td>\n      <td>Blood Group :</td>\n      <td>NaN</td>\n      <td>[\"A\", nan, \"AB\", \"B\", \"O\", \"A', \"O \", ''B'', '...</td>\n    </tr>\n    <tr>\n      <th>5</th>\n      <td>100824</td>\n      <td>Grouping + Cross Matching + Screening</td>\n      <td>3002196</td>\n      <td>Rh Type :</td>\n      <td>NaN</td>\n      <td>[Negative, nan, Positive]</td>\n    </tr>\n    <tr>\n      <th>6</th>\n      <td>100824</td>\n      <td>Grouping + Cross Matching + Screening</td>\n      <td>3002201</td>\n      <td>Blood Group :</td>\n      <td>NaN</td>\n      <td>[\"A\", nan, \"AB\", \"B\", \"O\", \"A', ''B'', ''O'', ...</td>\n    </tr>\n    <tr>\n      <th>7</th>\n      <td>100824</td>\n      <td>Grouping + Cross Matching + Screening</td>\n      <td>3002202</td>\n      <td>Rh Type :</td>\n      <td>NaN</td>\n      <td>[Negative, nan, Positive, Positve, positive, p]</td>\n    </tr>\n    <tr>\n      <th>8</th>\n      <td>100824</td>\n      <td>Grouping + Cross Matching + Screening</td>\n      <td>3002206</td>\n      <td>1.  HBsAg</td>\n      <td>NaN</td>\n      <td>[Negative, nan, Positive, Not done, Not Done]</td>\n    </tr>\n    <tr>\n      <th>9</th>\n      <td>101497</td>\n      <td>CBC</td>\n      <td>104291</td>\n      <td>ESR</td>\n      <td>mm in 1st hour</td>\n      <td>[76, 25, 52, 32, 67, 03, 09, 64, 30, 04, 39, 2...</td>\n    </tr>\n    <tr>\n      <th>10</th>\n      <td>100921</td>\n      <td>Lipid Profile Serum (R)</td>\n      <td>102084</td>\n      <td>Total Cholesterol</td>\n      <td>mg/dL</td>\n      <td>[238, 224, 152, 181, 173, 159, 677, 230, 113, ...</td>\n    </tr>\n    <tr>\n      <th>11</th>\n      <td>100921</td>\n      <td>Lipid Profile Serum (R)</td>\n      <td>103729</td>\n      <td>HDL Cholesterol</td>\n      <td>mg/dL</td>\n      <td>[36, 50.3, 38.2, 30.1, 51, 32.7, 20, 52.2, 41....</td>\n    </tr>\n    <tr>\n      <th>12</th>\n      <td>100921</td>\n      <td>Lipid Profile Serum (R)</td>\n      <td>103730</td>\n      <td>LDL Cholesterol</td>\n      <td>mg/dL</td>\n      <td>[158, 138, 76, 103, 99, 91, **, 134, 55, 68, n...</td>\n    </tr>\n    <tr>\n      <th>13</th>\n      <td>100921</td>\n      <td>Lipid Profile Serum (R)</td>\n      <td>103731</td>\n      <td>Triglycerides</td>\n      <td>mg/dL</td>\n      <td>[218, 177, 186, 237, 131, 178, 5747, 79, 169, ...</td>\n    </tr>\n    <tr>\n      <th>14</th>\n      <td>5003345</td>\n      <td>Complete Urine Analysis (Urine R/E)</td>\n      <td>3000003</td>\n      <td>Protein</td>\n      <td>NaN</td>\n      <td>[Trace, Nil, ++, +, nan, 0, Not Done, (+), (++...</td>\n    </tr>\n    <tr>\n      <th>15</th>\n      <td>5003345</td>\n      <td>Complete Urine Analysis (Urine R/E)</td>\n      <td>3000016</td>\n      <td>Blood</td>\n      <td>NaN</td>\n      <td>[nan, Nil, Not done, Trace, 3+, +++, (++), (++...</td>\n    </tr>\n    <tr>\n      <th>16</th>\n      <td>5003345</td>\n      <td>Complete Urine Analysis (Urine R/E)</td>\n      <td>3000017</td>\n      <td>Appearance</td>\n      <td>NaN</td>\n      <td>[nan, Clear, Hazy, Turbid]</td>\n    </tr>\n    <tr>\n      <th>17</th>\n      <td>5003345</td>\n      <td>Complete Urine Analysis (Urine R/E)</td>\n      <td>3000020</td>\n      <td>Colour</td>\n      <td>NaN</td>\n      <td>[L YELLOW, Straw, STRAW, Yellow, nan, AMBER, R...</td>\n    </tr>\n    <tr>\n      <th>18</th>\n      <td>5003345</td>\n      <td>Complete Urine Analysis (Urine R/E)</td>\n      <td>3000031</td>\n      <td>Uric Acid</td>\n      <td>NaN</td>\n      <td>[nan, Nil, 0, (+), (++), Few, (+++), A few]</td>\n    </tr>\n    <tr>\n      <th>19</th>\n      <td>5003345</td>\n      <td>Complete Urine Analysis (Urine R/E)</td>\n      <td>3000037</td>\n      <td>Sugar</td>\n      <td>NaN</td>\n      <td>[Nil, +++, nan, ++++, 0, Trace, Not Done, ++, ...</td>\n    </tr>\n    <tr>\n      <th>20</th>\n      <td>5003345</td>\n      <td>Complete Urine Analysis (Urine R/E)</td>\n      <td>3000042</td>\n      <td>R B C</td>\n      <td>/LPF</td>\n      <td>[nan, Nil, 0]</td>\n    </tr>\n    <tr>\n      <th>21</th>\n      <td>5003345</td>\n      <td>Complete Urine Analysis (Urine R/E)</td>\n      <td>3000043</td>\n      <td>W B C</td>\n      <td>/LPF</td>\n      <td>[nan, Nil, 0]</td>\n    </tr>\n    <tr>\n      <th>22</th>\n      <td>5003345</td>\n      <td>Complete Urine Analysis (Urine R/E)</td>\n      <td>3000067</td>\n      <td>Bilirubin</td>\n      <td>NaN</td>\n      <td>[Nil, Not done, Not Done, nan, 0, +, Normal, (...</td>\n    </tr>\n  </tbody>\n</table>\n</div>"
     },
     "execution_count": 70,
     "metadata": {},
     "output_type": "execute_result"
    }
   ],
   "source": [
    "cat_df"
   ]
  },
  {
   "cell_type": "code",
   "execution_count": 71,
   "id": "8668885c",
   "metadata": {},
   "outputs": [],
   "source": [
    "cat_df.to_csv(data_dir + \"/source-2/data_categories.csv\", index=False)"
   ]
  },
  {
   "cell_type": "markdown",
   "id": "6cb7ca64",
   "metadata": {},
   "source": [
    "#### Count result (group by) "
   ]
  },
  {
   "cell_type": "code",
   "execution_count": 72,
   "id": "51794fcf",
   "metadata": {},
   "outputs": [],
   "source": [
    "source3_test_df =pd.read_csv(data_dir+ \"/source-2/testresults.csv\")"
   ]
  },
  {
   "cell_type": "code",
   "execution_count": 73,
   "outputs": [
    {
     "data": {
      "text/plain": "                                                      PIK  \\\n0       0694a9758a8733b8cd51e4259d3235d30ad56b1bed19c1...   \n1       0694a9758a8733b8cd51e4259d3235d30ad56b1bed19c1...   \n2       0694a9758a8733b8cd51e4259d3235d30ad56b1bed19c1...   \n3       0694a9758a8733b8cd51e4259d3235d30ad56b1bed19c1...   \n4       0da2235b7e11c1b35c974a76cdb15b09f7547cf48205ff...   \n...                                                   ...   \n242445  f16c8675578b968b62d31f7ec2c1e66c5a26887b431fe7...   \n242446  f16c8675578b968b62d31f7ec2c1e66c5a26887b431fe7...   \n242447  0ed508309f6c9c796ead063e77a2683efabbe590062a96...   \n242448  0ed508309f6c9c796ead063e77a2683efabbe590062a96...   \n242449  0a669fdec42aa71f8de364ae52e18b9baeca67e816cf6e...   \n\n                                   address         age  age_yy     analyzer  \\\n0              KARANIGONJ, ATIBAZAR, DHAKA   76Y 7M 1D    76.0          NaN   \n1              KARANIGONJ, ATIBAZAR, DHAKA   76Y 7M 1D    76.0          NaN   \n2              KARANIGONJ, ATIBAZAR, DHAKA   76Y 7M 1D    76.0          NaN   \n3              KARANIGONJ, ATIBAZAR, DHAKA   76Y 7M 1D    76.0          NaN   \n4                                            6Y 5M 27D     6.0          NaN   \n...                                    ...         ...     ...          ...   \n242445  113/1/A,Shah Alibagh,Mirpur,Dhaka.  58Y 4M 18D    58.0          NaN   \n242446  113/1/A,Shah Alibagh,Mirpur,Dhaka.  58Y 4M 18D    58.0          NaN   \n242447               17/7, SHYAMOLI, DHAKA   56Y 2M 3D    56.0  Vitros 5600   \n242448               17/7, SHYAMOLI, DHAKA   56Y 2M 3D    56.0  Vitros 5600   \n242449                  BOALMARI, FARIDPUR      65Y 1D    65.0          NaN   \n\n          attr_id      attr_name blood_group  comments  district  ...  \\\n0        102057.0          HbA1c         NaN       NaN     DHAKA  ...   \n1        104291.0            ESR         NaN       NaN     DHAKA  ...   \n2        101214.0         Sodium         NaN       NaN     DHAKA  ...   \n3        102050.0      Potassium         NaN       NaN     DHAKA  ...   \n4        104291.0            ESR                   NaN       NaN  ...   \n...           ...            ...         ...       ...       ...  ...   \n242445  3002202.0      Rh Type :         NaN       NaN     DHAKA  ...   \n242446  3002206.0      1.  HBsAg         NaN       NaN     DHAKA  ...   \n242447   101214.0         Sodium         NaN       NaN     DHAKA  ...   \n242448   102050.0      Potassium         NaN       NaN     DHAKA  ...   \n242449   104291.0            ESR         NaN       NaN  FARIDPUR  ...   \n\n                   reg_date                    report_date    result  \\\n0       11/18/2018 12:29 PM  Sat, 01 Dec 2018 00:00:00 GMT      10.3   \n1       11/18/2018 12:29 PM  Sat, 01 Dec 2018 00:00:00 GMT        76   \n2       11/18/2018 12:29 PM  Sat, 01 Dec 2018 00:00:00 GMT       143   \n3       11/18/2018 12:29 PM  Sat, 01 Dec 2018 00:00:00 GMT       3.0   \n4                 12/1/2018  Sat, 01 Dec 2018 00:00:00 GMT        25   \n...                     ...                            ...       ...   \n242445  11/18/2018 12:29 PM  Sat, 29 Feb 2020 00:00:00 GMT  Positive   \n242446  11/18/2018 12:29 PM  Sat, 29 Feb 2020 00:00:00 GMT  Negative   \n242447     3/7/2019 4:38 PM  Sat, 29 Feb 2020 00:00:00 GMT       130   \n242448     3/7/2019 4:38 PM  Sat, 29 Feb 2020 00:00:00 GMT       6.8   \n242449    2/12/2020 6:24 PM  Thu, 13 Feb 2020 00:00:00 GMT       NaN   \n\n        result_type  test_group_id  test_group_name test_id            unit  \\\n0                 I            NaN              NaN  101305               %   \n1                 G            NaN              NaN  101497  mm in 1st hour   \n2                 G         1074.0  S. Electrolytes  101304          mmol/L   \n3                 G         1074.0  S. Electrolytes  101304          mmol/L   \n4                 G            NaN              NaN  101497  mm in 1st hour   \n...             ...            ...              ...     ...             ...   \n242445          NaN            NaN              NaN  100824             NaN   \n242446          NaN            NaN              NaN  100824             NaN   \n242447            G         1074.0  S. Electrolytes  101304          mmol/L   \n242448            G         1074.0  S. Electrolytes  101304          mmol/L   \n242449            G            NaN              NaN  101497  mm in 1st hour   \n\n          upazila Unnamed: 31  \n0       TATIBAZAR         NaN  \n1       TATIBAZAR         NaN  \n2       TATIBAZAR         NaN  \n3       TATIBAZAR         NaN  \n4             NaN         NaN  \n...           ...         ...  \n242445     MIRPUR         NaN  \n242446     MIRPUR         NaN  \n242447   SHYAMOLI         NaN  \n242448   SHYAMOLI         NaN  \n242449   BOALMARI         NaN  \n\n[242450 rows x 32 columns]",
      "text/html": "<div>\n<style scoped>\n    .dataframe tbody tr th:only-of-type {\n        vertical-align: middle;\n    }\n\n    .dataframe tbody tr th {\n        vertical-align: top;\n    }\n\n    .dataframe thead th {\n        text-align: right;\n    }\n</style>\n<table border=\"1\" class=\"dataframe\">\n  <thead>\n    <tr style=\"text-align: right;\">\n      <th></th>\n      <th>PIK</th>\n      <th>address</th>\n      <th>age</th>\n      <th>age_yy</th>\n      <th>analyzer</th>\n      <th>attr_id</th>\n      <th>attr_name</th>\n      <th>blood_group</th>\n      <th>comments</th>\n      <th>district</th>\n      <th>...</th>\n      <th>reg_date</th>\n      <th>report_date</th>\n      <th>result</th>\n      <th>result_type</th>\n      <th>test_group_id</th>\n      <th>test_group_name</th>\n      <th>test_id</th>\n      <th>unit</th>\n      <th>upazila</th>\n      <th>Unnamed: 31</th>\n    </tr>\n  </thead>\n  <tbody>\n    <tr>\n      <th>0</th>\n      <td>0694a9758a8733b8cd51e4259d3235d30ad56b1bed19c1...</td>\n      <td>KARANIGONJ, ATIBAZAR, DHAKA</td>\n      <td>76Y 7M 1D</td>\n      <td>76.0</td>\n      <td>NaN</td>\n      <td>102057.0</td>\n      <td>HbA1c</td>\n      <td>NaN</td>\n      <td>NaN</td>\n      <td>DHAKA</td>\n      <td>...</td>\n      <td>11/18/2018 12:29 PM</td>\n      <td>Sat, 01 Dec 2018 00:00:00 GMT</td>\n      <td>10.3</td>\n      <td>I</td>\n      <td>NaN</td>\n      <td>NaN</td>\n      <td>101305</td>\n      <td>%</td>\n      <td>TATIBAZAR</td>\n      <td>NaN</td>\n    </tr>\n    <tr>\n      <th>1</th>\n      <td>0694a9758a8733b8cd51e4259d3235d30ad56b1bed19c1...</td>\n      <td>KARANIGONJ, ATIBAZAR, DHAKA</td>\n      <td>76Y 7M 1D</td>\n      <td>76.0</td>\n      <td>NaN</td>\n      <td>104291.0</td>\n      <td>ESR</td>\n      <td>NaN</td>\n      <td>NaN</td>\n      <td>DHAKA</td>\n      <td>...</td>\n      <td>11/18/2018 12:29 PM</td>\n      <td>Sat, 01 Dec 2018 00:00:00 GMT</td>\n      <td>76</td>\n      <td>G</td>\n      <td>NaN</td>\n      <td>NaN</td>\n      <td>101497</td>\n      <td>mm in 1st hour</td>\n      <td>TATIBAZAR</td>\n      <td>NaN</td>\n    </tr>\n    <tr>\n      <th>2</th>\n      <td>0694a9758a8733b8cd51e4259d3235d30ad56b1bed19c1...</td>\n      <td>KARANIGONJ, ATIBAZAR, DHAKA</td>\n      <td>76Y 7M 1D</td>\n      <td>76.0</td>\n      <td>NaN</td>\n      <td>101214.0</td>\n      <td>Sodium</td>\n      <td>NaN</td>\n      <td>NaN</td>\n      <td>DHAKA</td>\n      <td>...</td>\n      <td>11/18/2018 12:29 PM</td>\n      <td>Sat, 01 Dec 2018 00:00:00 GMT</td>\n      <td>143</td>\n      <td>G</td>\n      <td>1074.0</td>\n      <td>S. Electrolytes</td>\n      <td>101304</td>\n      <td>mmol/L</td>\n      <td>TATIBAZAR</td>\n      <td>NaN</td>\n    </tr>\n    <tr>\n      <th>3</th>\n      <td>0694a9758a8733b8cd51e4259d3235d30ad56b1bed19c1...</td>\n      <td>KARANIGONJ, ATIBAZAR, DHAKA</td>\n      <td>76Y 7M 1D</td>\n      <td>76.0</td>\n      <td>NaN</td>\n      <td>102050.0</td>\n      <td>Potassium</td>\n      <td>NaN</td>\n      <td>NaN</td>\n      <td>DHAKA</td>\n      <td>...</td>\n      <td>11/18/2018 12:29 PM</td>\n      <td>Sat, 01 Dec 2018 00:00:00 GMT</td>\n      <td>3.0</td>\n      <td>G</td>\n      <td>1074.0</td>\n      <td>S. Electrolytes</td>\n      <td>101304</td>\n      <td>mmol/L</td>\n      <td>TATIBAZAR</td>\n      <td>NaN</td>\n    </tr>\n    <tr>\n      <th>4</th>\n      <td>0da2235b7e11c1b35c974a76cdb15b09f7547cf48205ff...</td>\n      <td></td>\n      <td>6Y 5M 27D</td>\n      <td>6.0</td>\n      <td>NaN</td>\n      <td>104291.0</td>\n      <td>ESR</td>\n      <td></td>\n      <td>NaN</td>\n      <td>NaN</td>\n      <td>...</td>\n      <td>12/1/2018</td>\n      <td>Sat, 01 Dec 2018 00:00:00 GMT</td>\n      <td>25</td>\n      <td>G</td>\n      <td>NaN</td>\n      <td>NaN</td>\n      <td>101497</td>\n      <td>mm in 1st hour</td>\n      <td>NaN</td>\n      <td>NaN</td>\n    </tr>\n    <tr>\n      <th>...</th>\n      <td>...</td>\n      <td>...</td>\n      <td>...</td>\n      <td>...</td>\n      <td>...</td>\n      <td>...</td>\n      <td>...</td>\n      <td>...</td>\n      <td>...</td>\n      <td>...</td>\n      <td>...</td>\n      <td>...</td>\n      <td>...</td>\n      <td>...</td>\n      <td>...</td>\n      <td>...</td>\n      <td>...</td>\n      <td>...</td>\n      <td>...</td>\n      <td>...</td>\n      <td>...</td>\n    </tr>\n    <tr>\n      <th>242445</th>\n      <td>f16c8675578b968b62d31f7ec2c1e66c5a26887b431fe7...</td>\n      <td>113/1/A,Shah Alibagh,Mirpur,Dhaka.</td>\n      <td>58Y 4M 18D</td>\n      <td>58.0</td>\n      <td>NaN</td>\n      <td>3002202.0</td>\n      <td>Rh Type :</td>\n      <td>NaN</td>\n      <td>NaN</td>\n      <td>DHAKA</td>\n      <td>...</td>\n      <td>11/18/2018 12:29 PM</td>\n      <td>Sat, 29 Feb 2020 00:00:00 GMT</td>\n      <td>Positive</td>\n      <td>NaN</td>\n      <td>NaN</td>\n      <td>NaN</td>\n      <td>100824</td>\n      <td>NaN</td>\n      <td>MIRPUR</td>\n      <td>NaN</td>\n    </tr>\n    <tr>\n      <th>242446</th>\n      <td>f16c8675578b968b62d31f7ec2c1e66c5a26887b431fe7...</td>\n      <td>113/1/A,Shah Alibagh,Mirpur,Dhaka.</td>\n      <td>58Y 4M 18D</td>\n      <td>58.0</td>\n      <td>NaN</td>\n      <td>3002206.0</td>\n      <td>1.  HBsAg</td>\n      <td>NaN</td>\n      <td>NaN</td>\n      <td>DHAKA</td>\n      <td>...</td>\n      <td>11/18/2018 12:29 PM</td>\n      <td>Sat, 29 Feb 2020 00:00:00 GMT</td>\n      <td>Negative</td>\n      <td>NaN</td>\n      <td>NaN</td>\n      <td>NaN</td>\n      <td>100824</td>\n      <td>NaN</td>\n      <td>MIRPUR</td>\n      <td>NaN</td>\n    </tr>\n    <tr>\n      <th>242447</th>\n      <td>0ed508309f6c9c796ead063e77a2683efabbe590062a96...</td>\n      <td>17/7, SHYAMOLI, DHAKA</td>\n      <td>56Y 2M 3D</td>\n      <td>56.0</td>\n      <td>Vitros 5600</td>\n      <td>101214.0</td>\n      <td>Sodium</td>\n      <td>NaN</td>\n      <td>NaN</td>\n      <td>DHAKA</td>\n      <td>...</td>\n      <td>3/7/2019 4:38 PM</td>\n      <td>Sat, 29 Feb 2020 00:00:00 GMT</td>\n      <td>130</td>\n      <td>G</td>\n      <td>1074.0</td>\n      <td>S. Electrolytes</td>\n      <td>101304</td>\n      <td>mmol/L</td>\n      <td>SHYAMOLI</td>\n      <td>NaN</td>\n    </tr>\n    <tr>\n      <th>242448</th>\n      <td>0ed508309f6c9c796ead063e77a2683efabbe590062a96...</td>\n      <td>17/7, SHYAMOLI, DHAKA</td>\n      <td>56Y 2M 3D</td>\n      <td>56.0</td>\n      <td>Vitros 5600</td>\n      <td>102050.0</td>\n      <td>Potassium</td>\n      <td>NaN</td>\n      <td>NaN</td>\n      <td>DHAKA</td>\n      <td>...</td>\n      <td>3/7/2019 4:38 PM</td>\n      <td>Sat, 29 Feb 2020 00:00:00 GMT</td>\n      <td>6.8</td>\n      <td>G</td>\n      <td>1074.0</td>\n      <td>S. Electrolytes</td>\n      <td>101304</td>\n      <td>mmol/L</td>\n      <td>SHYAMOLI</td>\n      <td>NaN</td>\n    </tr>\n    <tr>\n      <th>242449</th>\n      <td>0a669fdec42aa71f8de364ae52e18b9baeca67e816cf6e...</td>\n      <td>BOALMARI, FARIDPUR</td>\n      <td>65Y 1D</td>\n      <td>65.0</td>\n      <td>NaN</td>\n      <td>104291.0</td>\n      <td>ESR</td>\n      <td>NaN</td>\n      <td>NaN</td>\n      <td>FARIDPUR</td>\n      <td>...</td>\n      <td>2/12/2020 6:24 PM</td>\n      <td>Thu, 13 Feb 2020 00:00:00 GMT</td>\n      <td>NaN</td>\n      <td>G</td>\n      <td>NaN</td>\n      <td>NaN</td>\n      <td>101497</td>\n      <td>mm in 1st hour</td>\n      <td>BOALMARI</td>\n      <td>NaN</td>\n    </tr>\n  </tbody>\n</table>\n<p>242450 rows × 32 columns</p>\n</div>"
     },
     "execution_count": 73,
     "metadata": {},
     "output_type": "execute_result"
    }
   ],
   "source": [
    "source3_test_df"
   ],
   "metadata": {
    "collapsed": false,
    "pycharm": {
     "name": "#%%\n"
    }
   }
  },
  {
   "cell_type": "code",
   "execution_count": 79,
   "outputs": [
    {
     "data": {
      "text/plain": "Index(['PIK', 'address', 'age', 'age_yy', 'analyzer', 'attr_id', 'attr_name',\n       'blood_group', 'comments', 'district', 'division', 'gender', 'geocode',\n       'healthcare_id', 'interpretation', 'lab_id', 'm_status', 'machine_attr',\n       'noraml_range', 'note', 'plain_text', 'refrage_id', 'reg_date',\n       'report_date', 'result', 'result_type', 'test_group_id',\n       'test_group_name', 'test_id', 'unit', 'upazila', 'Unnamed: 31'],\n      dtype='object')"
     },
     "execution_count": 79,
     "metadata": {},
     "output_type": "execute_result"
    }
   ],
   "source": [
    "source3_test_df.columns"
   ],
   "metadata": {
    "collapsed": false,
    "pycharm": {
     "name": "#%%\n"
    }
   }
  },
  {
   "cell_type": "code",
   "execution_count": 80,
   "outputs": [],
   "source": [
    "source3 = source3_test_df[['attr_id','attr_name', 'result', 'result_type']]"
   ],
   "metadata": {
    "collapsed": false,
    "pycharm": {
     "name": "#%%\n"
    }
   }
  },
  {
   "cell_type": "code",
   "execution_count": 82,
   "outputs": [
    {
     "data": {
      "text/plain": "          attr_id      attr_name    result result_type\n0        102057.0          HbA1c      10.3           I\n1        104291.0            ESR        76           G\n2        101214.0         Sodium       143           G\n3        102050.0      Potassium       3.0           G\n4        104291.0            ESR        25           G\n...           ...            ...       ...         ...\n242445  3002202.0      Rh Type :  Positive         NaN\n242446  3002206.0      1.  HBsAg  Negative         NaN\n242447   101214.0         Sodium       130           G\n242448   102050.0      Potassium       6.8           G\n242449   104291.0            ESR       NaN           G\n\n[242450 rows x 4 columns]",
      "text/html": "<div>\n<style scoped>\n    .dataframe tbody tr th:only-of-type {\n        vertical-align: middle;\n    }\n\n    .dataframe tbody tr th {\n        vertical-align: top;\n    }\n\n    .dataframe thead th {\n        text-align: right;\n    }\n</style>\n<table border=\"1\" class=\"dataframe\">\n  <thead>\n    <tr style=\"text-align: right;\">\n      <th></th>\n      <th>attr_id</th>\n      <th>attr_name</th>\n      <th>result</th>\n      <th>result_type</th>\n    </tr>\n  </thead>\n  <tbody>\n    <tr>\n      <th>0</th>\n      <td>102057.0</td>\n      <td>HbA1c</td>\n      <td>10.3</td>\n      <td>I</td>\n    </tr>\n    <tr>\n      <th>1</th>\n      <td>104291.0</td>\n      <td>ESR</td>\n      <td>76</td>\n      <td>G</td>\n    </tr>\n    <tr>\n      <th>2</th>\n      <td>101214.0</td>\n      <td>Sodium</td>\n      <td>143</td>\n      <td>G</td>\n    </tr>\n    <tr>\n      <th>3</th>\n      <td>102050.0</td>\n      <td>Potassium</td>\n      <td>3.0</td>\n      <td>G</td>\n    </tr>\n    <tr>\n      <th>4</th>\n      <td>104291.0</td>\n      <td>ESR</td>\n      <td>25</td>\n      <td>G</td>\n    </tr>\n    <tr>\n      <th>...</th>\n      <td>...</td>\n      <td>...</td>\n      <td>...</td>\n      <td>...</td>\n    </tr>\n    <tr>\n      <th>242445</th>\n      <td>3002202.0</td>\n      <td>Rh Type :</td>\n      <td>Positive</td>\n      <td>NaN</td>\n    </tr>\n    <tr>\n      <th>242446</th>\n      <td>3002206.0</td>\n      <td>1.  HBsAg</td>\n      <td>Negative</td>\n      <td>NaN</td>\n    </tr>\n    <tr>\n      <th>242447</th>\n      <td>101214.0</td>\n      <td>Sodium</td>\n      <td>130</td>\n      <td>G</td>\n    </tr>\n    <tr>\n      <th>242448</th>\n      <td>102050.0</td>\n      <td>Potassium</td>\n      <td>6.8</td>\n      <td>G</td>\n    </tr>\n    <tr>\n      <th>242449</th>\n      <td>104291.0</td>\n      <td>ESR</td>\n      <td>NaN</td>\n      <td>G</td>\n    </tr>\n  </tbody>\n</table>\n<p>242450 rows × 4 columns</p>\n</div>"
     },
     "execution_count": 82,
     "metadata": {},
     "output_type": "execute_result"
    }
   ],
   "source": [
    "source3"
   ],
   "metadata": {
    "collapsed": false,
    "pycharm": {
     "name": "#%%\n"
    }
   }
  },
  {
   "cell_type": "code",
   "execution_count": 83,
   "outputs": [
    {
     "name": "stdout",
     "output_type": "stream",
     "text": [
      "242450 (242450, 4)\n"
     ]
    },
    {
     "name": "stderr",
     "output_type": "stream",
     "text": [
      "C:\\Users\\ASUS\\AppData\\Local\\Temp\\ipykernel_17808\\4074503978.py:13: SettingWithCopyWarning: \n",
      "A value is trying to be set on a copy of a slice from a DataFrame.\n",
      "Try using .loc[row_indexer,col_indexer] = value instead\n",
      "\n",
      "See the caveats in the documentation: https://pandas.pydata.org/pandas-docs/stable/user_guide/indexing.html#returning-a-view-versus-a-copy\n",
      "  source3['data_type'] = pd.DataFrame(types)\n"
     ]
    },
    {
     "data": {
      "text/plain": "          attr_id      attr_name    result result_type    data_type\n0        102057.0          HbA1c      10.3           I   Neumerical\n1        104291.0            ESR        76           G   Neumerical\n2        101214.0         Sodium       143           G   Neumerical\n3        102050.0      Potassium       3.0           G   Neumerical\n4        104291.0            ESR        25           G   Neumerical\n...           ...            ...       ...         ...          ...\n242445  3002202.0      Rh Type :  Positive         NaN  Categorical\n242446  3002206.0      1.  HBsAg  Negative         NaN  Categorical\n242447   101214.0         Sodium       130           G   Neumerical\n242448   102050.0      Potassium       6.8           G   Neumerical\n242449   104291.0            ESR       NaN           G   Neumerical\n\n[242450 rows x 5 columns]",
      "text/html": "<div>\n<style scoped>\n    .dataframe tbody tr th:only-of-type {\n        vertical-align: middle;\n    }\n\n    .dataframe tbody tr th {\n        vertical-align: top;\n    }\n\n    .dataframe thead th {\n        text-align: right;\n    }\n</style>\n<table border=\"1\" class=\"dataframe\">\n  <thead>\n    <tr style=\"text-align: right;\">\n      <th></th>\n      <th>attr_id</th>\n      <th>attr_name</th>\n      <th>result</th>\n      <th>result_type</th>\n      <th>data_type</th>\n    </tr>\n  </thead>\n  <tbody>\n    <tr>\n      <th>0</th>\n      <td>102057.0</td>\n      <td>HbA1c</td>\n      <td>10.3</td>\n      <td>I</td>\n      <td>Neumerical</td>\n    </tr>\n    <tr>\n      <th>1</th>\n      <td>104291.0</td>\n      <td>ESR</td>\n      <td>76</td>\n      <td>G</td>\n      <td>Neumerical</td>\n    </tr>\n    <tr>\n      <th>2</th>\n      <td>101214.0</td>\n      <td>Sodium</td>\n      <td>143</td>\n      <td>G</td>\n      <td>Neumerical</td>\n    </tr>\n    <tr>\n      <th>3</th>\n      <td>102050.0</td>\n      <td>Potassium</td>\n      <td>3.0</td>\n      <td>G</td>\n      <td>Neumerical</td>\n    </tr>\n    <tr>\n      <th>4</th>\n      <td>104291.0</td>\n      <td>ESR</td>\n      <td>25</td>\n      <td>G</td>\n      <td>Neumerical</td>\n    </tr>\n    <tr>\n      <th>...</th>\n      <td>...</td>\n      <td>...</td>\n      <td>...</td>\n      <td>...</td>\n      <td>...</td>\n    </tr>\n    <tr>\n      <th>242445</th>\n      <td>3002202.0</td>\n      <td>Rh Type :</td>\n      <td>Positive</td>\n      <td>NaN</td>\n      <td>Categorical</td>\n    </tr>\n    <tr>\n      <th>242446</th>\n      <td>3002206.0</td>\n      <td>1.  HBsAg</td>\n      <td>Negative</td>\n      <td>NaN</td>\n      <td>Categorical</td>\n    </tr>\n    <tr>\n      <th>242447</th>\n      <td>101214.0</td>\n      <td>Sodium</td>\n      <td>130</td>\n      <td>G</td>\n      <td>Neumerical</td>\n    </tr>\n    <tr>\n      <th>242448</th>\n      <td>102050.0</td>\n      <td>Potassium</td>\n      <td>6.8</td>\n      <td>G</td>\n      <td>Neumerical</td>\n    </tr>\n    <tr>\n      <th>242449</th>\n      <td>104291.0</td>\n      <td>ESR</td>\n      <td>NaN</td>\n      <td>G</td>\n      <td>Neumerical</td>\n    </tr>\n  </tbody>\n</table>\n<p>242450 rows × 5 columns</p>\n</div>"
     },
     "execution_count": 83,
     "metadata": {},
     "output_type": "execute_result"
    }
   ],
   "source": [
    "types = []\n",
    "for index, row in source3.iterrows():\n",
    "    try:\n",
    "        val = float(row['result'])\n",
    "        types.append('Neumerical')\n",
    "    except:\n",
    "        types.append('Categorical')\n",
    "#         print(\"That's not an int!\")\n",
    "print(len(types), source3.shape)\n",
    "# print(types)\n",
    "source3['data_type'] = pd.DataFrame(types)\n",
    "source3"
   ],
   "metadata": {
    "collapsed": false,
    "pycharm": {
     "name": "#%%\n"
    }
   }
  },
  {
   "cell_type": "code",
   "execution_count": 93,
   "outputs": [],
   "source": [
    "index_name = source3[source3['data_type'] == 'Neumerical'].index"
   ],
   "metadata": {
    "collapsed": false,
    "pycharm": {
     "name": "#%%\n"
    }
   }
  },
  {
   "cell_type": "code",
   "execution_count": 94,
   "outputs": [
    {
     "data": {
      "text/plain": "Int64Index([     0,      1,      2,      3,      4,      5,      6,      7,\n                 8,      9,\n            ...\n            242435, 242436, 242437, 242438, 242439, 242440, 242441, 242447,\n            242448, 242449],\n           dtype='int64', length=138126)"
     },
     "execution_count": 94,
     "metadata": {},
     "output_type": "execute_result"
    }
   ],
   "source": [
    "index_name"
   ],
   "metadata": {
    "collapsed": false,
    "pycharm": {
     "name": "#%%\n"
    }
   }
  },
  {
   "cell_type": "code",
   "execution_count": 95,
   "outputs": [
    {
     "name": "stderr",
     "output_type": "stream",
     "text": [
      "C:\\Users\\ASUS\\AppData\\Local\\Temp\\ipykernel_17808\\278777585.py:1: SettingWithCopyWarning: \n",
      "A value is trying to be set on a copy of a slice from a DataFrame\n",
      "\n",
      "See the caveats in the documentation: https://pandas.pydata.org/pandas-docs/stable/user_guide/indexing.html#returning-a-view-versus-a-copy\n",
      "  source3.drop(index_name , inplace = True)\n"
     ]
    }
   ],
   "source": [
    "source3.drop(index_name , inplace = True)"
   ],
   "metadata": {
    "collapsed": false,
    "pycharm": {
     "name": "#%%\n"
    }
   }
  },
  {
   "cell_type": "code",
   "execution_count": 96,
   "outputs": [
    {
     "data": {
      "text/plain": "          attr_id        attr_name    result result_type    data_type\n106      104291.0              ESR       QNS           G  Categorical\n235      103730.0  LDL Cholesterol        **           G  Categorical\n423      104291.0              ESR       QNS           G  Categorical\n1320    3002195.0    Blood Group :       \"A\"         NaN  Categorical\n1321    3002196.0        Rh Type :  Negative         NaN  Categorical\n...           ...              ...       ...         ...          ...\n242442  3002195.0    Blood Group :       \"O\"         NaN  Categorical\n242443  3002196.0        Rh Type :  Positive         NaN  Categorical\n242444  3002201.0    Blood Group :       \"O\"         NaN  Categorical\n242445  3002202.0        Rh Type :  Positive         NaN  Categorical\n242446  3002206.0        1.  HBsAg  Negative         NaN  Categorical\n\n[104324 rows x 5 columns]",
      "text/html": "<div>\n<style scoped>\n    .dataframe tbody tr th:only-of-type {\n        vertical-align: middle;\n    }\n\n    .dataframe tbody tr th {\n        vertical-align: top;\n    }\n\n    .dataframe thead th {\n        text-align: right;\n    }\n</style>\n<table border=\"1\" class=\"dataframe\">\n  <thead>\n    <tr style=\"text-align: right;\">\n      <th></th>\n      <th>attr_id</th>\n      <th>attr_name</th>\n      <th>result</th>\n      <th>result_type</th>\n      <th>data_type</th>\n    </tr>\n  </thead>\n  <tbody>\n    <tr>\n      <th>106</th>\n      <td>104291.0</td>\n      <td>ESR</td>\n      <td>QNS</td>\n      <td>G</td>\n      <td>Categorical</td>\n    </tr>\n    <tr>\n      <th>235</th>\n      <td>103730.0</td>\n      <td>LDL Cholesterol</td>\n      <td>**</td>\n      <td>G</td>\n      <td>Categorical</td>\n    </tr>\n    <tr>\n      <th>423</th>\n      <td>104291.0</td>\n      <td>ESR</td>\n      <td>QNS</td>\n      <td>G</td>\n      <td>Categorical</td>\n    </tr>\n    <tr>\n      <th>1320</th>\n      <td>3002195.0</td>\n      <td>Blood Group :</td>\n      <td>\"A\"</td>\n      <td>NaN</td>\n      <td>Categorical</td>\n    </tr>\n    <tr>\n      <th>1321</th>\n      <td>3002196.0</td>\n      <td>Rh Type :</td>\n      <td>Negative</td>\n      <td>NaN</td>\n      <td>Categorical</td>\n    </tr>\n    <tr>\n      <th>...</th>\n      <td>...</td>\n      <td>...</td>\n      <td>...</td>\n      <td>...</td>\n      <td>...</td>\n    </tr>\n    <tr>\n      <th>242442</th>\n      <td>3002195.0</td>\n      <td>Blood Group :</td>\n      <td>\"O\"</td>\n      <td>NaN</td>\n      <td>Categorical</td>\n    </tr>\n    <tr>\n      <th>242443</th>\n      <td>3002196.0</td>\n      <td>Rh Type :</td>\n      <td>Positive</td>\n      <td>NaN</td>\n      <td>Categorical</td>\n    </tr>\n    <tr>\n      <th>242444</th>\n      <td>3002201.0</td>\n      <td>Blood Group :</td>\n      <td>\"O\"</td>\n      <td>NaN</td>\n      <td>Categorical</td>\n    </tr>\n    <tr>\n      <th>242445</th>\n      <td>3002202.0</td>\n      <td>Rh Type :</td>\n      <td>Positive</td>\n      <td>NaN</td>\n      <td>Categorical</td>\n    </tr>\n    <tr>\n      <th>242446</th>\n      <td>3002206.0</td>\n      <td>1.  HBsAg</td>\n      <td>Negative</td>\n      <td>NaN</td>\n      <td>Categorical</td>\n    </tr>\n  </tbody>\n</table>\n<p>104324 rows × 5 columns</p>\n</div>"
     },
     "execution_count": 96,
     "metadata": {},
     "output_type": "execute_result"
    }
   ],
   "source": [
    "source3"
   ],
   "metadata": {
    "collapsed": false,
    "pycharm": {
     "name": "#%%\n"
    }
   }
  },
  {
   "cell_type": "code",
   "execution_count": 102,
   "outputs": [],
   "source": [
    "df_catagorical = source3[source3['data_type'] == 'Categorical']"
   ],
   "metadata": {
    "collapsed": false,
    "pycharm": {
     "name": "#%%\n"
    }
   }
  },
  {
   "cell_type": "code",
   "execution_count": 103,
   "outputs": [
    {
     "data": {
      "text/plain": "          attr_id      attr_name result result_type    data_type\n1320    3002195.0  Blood Group :    \"A\"         NaN  Categorical\n1322    3002201.0  Blood Group :    \"A\"         NaN  Categorical\n1342    3002195.0  Blood Group :    \"A\"         NaN  Categorical\n1344    3002201.0  Blood Group :    \"A\"         NaN  Categorical\n1467    3002201.0  Blood Group :   \"AB\"         NaN  Categorical\n...           ...            ...    ...         ...          ...\n242420  3000017.0     Appearance  Clear           G  Categorical\n242430  3002195.0  Blood Group :   \"AB\"         NaN  Categorical\n242432  3002201.0  Blood Group :   \"AB\"         NaN  Categorical\n242442  3002195.0  Blood Group :    \"O\"         NaN  Categorical\n242444  3002201.0  Blood Group :    \"O\"         NaN  Categorical\n\n[22818 rows x 5 columns]",
      "text/html": "<div>\n<style scoped>\n    .dataframe tbody tr th:only-of-type {\n        vertical-align: middle;\n    }\n\n    .dataframe tbody tr th {\n        vertical-align: top;\n    }\n\n    .dataframe thead th {\n        text-align: right;\n    }\n</style>\n<table border=\"1\" class=\"dataframe\">\n  <thead>\n    <tr style=\"text-align: right;\">\n      <th></th>\n      <th>attr_id</th>\n      <th>attr_name</th>\n      <th>result</th>\n      <th>result_type</th>\n      <th>data_type</th>\n    </tr>\n  </thead>\n  <tbody>\n    <tr>\n      <th>1320</th>\n      <td>3002195.0</td>\n      <td>Blood Group :</td>\n      <td>\"A\"</td>\n      <td>NaN</td>\n      <td>Categorical</td>\n    </tr>\n    <tr>\n      <th>1322</th>\n      <td>3002201.0</td>\n      <td>Blood Group :</td>\n      <td>\"A\"</td>\n      <td>NaN</td>\n      <td>Categorical</td>\n    </tr>\n    <tr>\n      <th>1342</th>\n      <td>3002195.0</td>\n      <td>Blood Group :</td>\n      <td>\"A\"</td>\n      <td>NaN</td>\n      <td>Categorical</td>\n    </tr>\n    <tr>\n      <th>1344</th>\n      <td>3002201.0</td>\n      <td>Blood Group :</td>\n      <td>\"A\"</td>\n      <td>NaN</td>\n      <td>Categorical</td>\n    </tr>\n    <tr>\n      <th>1467</th>\n      <td>3002201.0</td>\n      <td>Blood Group :</td>\n      <td>\"AB\"</td>\n      <td>NaN</td>\n      <td>Categorical</td>\n    </tr>\n    <tr>\n      <th>...</th>\n      <td>...</td>\n      <td>...</td>\n      <td>...</td>\n      <td>...</td>\n      <td>...</td>\n    </tr>\n    <tr>\n      <th>242420</th>\n      <td>3000017.0</td>\n      <td>Appearance</td>\n      <td>Clear</td>\n      <td>G</td>\n      <td>Categorical</td>\n    </tr>\n    <tr>\n      <th>242430</th>\n      <td>3002195.0</td>\n      <td>Blood Group :</td>\n      <td>\"AB\"</td>\n      <td>NaN</td>\n      <td>Categorical</td>\n    </tr>\n    <tr>\n      <th>242432</th>\n      <td>3002201.0</td>\n      <td>Blood Group :</td>\n      <td>\"AB\"</td>\n      <td>NaN</td>\n      <td>Categorical</td>\n    </tr>\n    <tr>\n      <th>242442</th>\n      <td>3002195.0</td>\n      <td>Blood Group :</td>\n      <td>\"O\"</td>\n      <td>NaN</td>\n      <td>Categorical</td>\n    </tr>\n    <tr>\n      <th>242444</th>\n      <td>3002201.0</td>\n      <td>Blood Group :</td>\n      <td>\"O\"</td>\n      <td>NaN</td>\n      <td>Categorical</td>\n    </tr>\n  </tbody>\n</table>\n<p>22818 rows × 5 columns</p>\n</div>"
     },
     "execution_count": 103,
     "metadata": {},
     "output_type": "execute_result"
    }
   ],
   "source": [
    "df_catagorical.loc[df_catagorical['attr_name'].isin(['Anti-HAV IgM','Anti-HBe' ,'Blood Group :','Blood Group','Blood Group: ABO','Anti-HCV','HBs Ag','1.  HBsAg',   'Fat Globules','Toxoplasma IgM','M.P.V','Mucus','Albumin','Appearance','Anti-HCV','Anti-HBc Total','Dengue Ag NS1 (ICT)'])]\n"
   ],
   "metadata": {
    "collapsed": false,
    "pycharm": {
     "name": "#%%\n"
    }
   }
  },
  {
   "cell_type": "code",
   "execution_count": 97,
   "outputs": [
    {
     "data": {
      "text/plain": "                                                                      unique\nattr_name                                                                   \n    1.  HBsAg                       [Negative, Positive, Not done, Not Done]\nAlbumin                                  [+, Trace, Nil, (+++), (++++), (+)]\nAppearance                                             [Clear, Hazy, Turbid]\nB.J. Protein                                                 [Nil, Not done]\nBilirubin                  [Nil, Not done, Not Done, +, Normal, (+), (+++...\nBlood                      [Nil, Trace, 3+, +++, (++), (+++), ++, +, (+),...\nBlood Group :              [\"A\", \"AB\", \"B\", \"O\", \"A', \"O \", ''B'', ''O'',...\nCandida                                                                [Few]\nColour                     [L YELLOW, Straw, STRAW, Yellow, AMBER, Reddis...\nCorresponding urine sugar                                              [N/S]\nESR                                                          [QNS, Q.N.S, .]\nHbA1c                                                                 [7..3]\nLDL Cholesterol                                     [**, --, ---, -, *, ***]\nPotassium                                                             [3..5]\nProtein                    [Trace, Nil, ++, Not Done, (+), (+++), +++, +,...\nR B C                                                                  [Nil]\nRh Type :                         [Negative, Positive, Positve, positive, p]\nSugar                      [Nil, +++, ++++, Trace, Not Done, ++, (++), (+...\nUric Acid                               [Nil, (+), (++), Few,  A few, A few]\nUric Acid Crystal                                    [(+), (++), (+++), Few]\nUric Acid crystal                                                     [(++)]\nUric acid crystal                                                [(++), Few]\nW B C                                                                  [Nil]",
      "text/html": "<div>\n<style scoped>\n    .dataframe tbody tr th:only-of-type {\n        vertical-align: middle;\n    }\n\n    .dataframe tbody tr th {\n        vertical-align: top;\n    }\n\n    .dataframe thead th {\n        text-align: right;\n    }\n</style>\n<table border=\"1\" class=\"dataframe\">\n  <thead>\n    <tr style=\"text-align: right;\">\n      <th></th>\n      <th>unique</th>\n    </tr>\n    <tr>\n      <th>attr_name</th>\n      <th></th>\n    </tr>\n  </thead>\n  <tbody>\n    <tr>\n      <th>1.  HBsAg</th>\n      <td>[Negative, Positive, Not done, Not Done]</td>\n    </tr>\n    <tr>\n      <th>Albumin</th>\n      <td>[+, Trace, Nil, (+++), (++++), (+)]</td>\n    </tr>\n    <tr>\n      <th>Appearance</th>\n      <td>[Clear, Hazy, Turbid]</td>\n    </tr>\n    <tr>\n      <th>B.J. Protein</th>\n      <td>[Nil, Not done]</td>\n    </tr>\n    <tr>\n      <th>Bilirubin</th>\n      <td>[Nil, Not done, Not Done, +, Normal, (+), (+++...</td>\n    </tr>\n    <tr>\n      <th>Blood</th>\n      <td>[Nil, Trace, 3+, +++, (++), (+++), ++, +, (+),...</td>\n    </tr>\n    <tr>\n      <th>Blood Group :</th>\n      <td>[\"A\", \"AB\", \"B\", \"O\", \"A', \"O \", ''B'', ''O'',...</td>\n    </tr>\n    <tr>\n      <th>Candida</th>\n      <td>[Few]</td>\n    </tr>\n    <tr>\n      <th>Colour</th>\n      <td>[L YELLOW, Straw, STRAW, Yellow, AMBER, Reddis...</td>\n    </tr>\n    <tr>\n      <th>Corresponding urine sugar</th>\n      <td>[N/S]</td>\n    </tr>\n    <tr>\n      <th>ESR</th>\n      <td>[QNS, Q.N.S, .]</td>\n    </tr>\n    <tr>\n      <th>HbA1c</th>\n      <td>[7..3]</td>\n    </tr>\n    <tr>\n      <th>LDL Cholesterol</th>\n      <td>[**, --, ---, -, *, ***]</td>\n    </tr>\n    <tr>\n      <th>Potassium</th>\n      <td>[3..5]</td>\n    </tr>\n    <tr>\n      <th>Protein</th>\n      <td>[Trace, Nil, ++, Not Done, (+), (+++), +++, +,...</td>\n    </tr>\n    <tr>\n      <th>R B C</th>\n      <td>[Nil]</td>\n    </tr>\n    <tr>\n      <th>Rh Type :</th>\n      <td>[Negative, Positive, Positve, positive, p]</td>\n    </tr>\n    <tr>\n      <th>Sugar</th>\n      <td>[Nil, +++, ++++, Trace, Not Done, ++, (++), (+...</td>\n    </tr>\n    <tr>\n      <th>Uric Acid</th>\n      <td>[Nil, (+), (++), Few,  A few, A few]</td>\n    </tr>\n    <tr>\n      <th>Uric Acid Crystal</th>\n      <td>[(+), (++), (+++), Few]</td>\n    </tr>\n    <tr>\n      <th>Uric Acid crystal</th>\n      <td>[(++)]</td>\n    </tr>\n    <tr>\n      <th>Uric acid crystal</th>\n      <td>[(++), Few]</td>\n    </tr>\n    <tr>\n      <th>W B C</th>\n      <td>[Nil]</td>\n    </tr>\n  </tbody>\n</table>\n</div>"
     },
     "execution_count": 97,
     "metadata": {},
     "output_type": "execute_result"
    }
   ],
   "source": [
    "g = source3.groupby('attr_name', as_index = False)['result'].agg(['unique'])\n",
    "g"
   ],
   "metadata": {
    "collapsed": false,
    "pycharm": {
     "name": "#%%\n"
    }
   }
  },
  {
   "cell_type": "code",
   "execution_count": 100,
   "outputs": [
    {
     "data": {
      "text/plain": "                                                          unique\nattr_name                                                       \n    1.  HBsAg           [Negative, Positive, Not done, Not Done]\nAlbumin                      [+, Trace, Nil, (+++), (++++), (+)]\nAppearance                                 [Clear, Hazy, Turbid]\nB.J. Protein                                     [Nil, Not done]\nBilirubin      [Nil, Not done, Not Done, +, Normal, (+), (+++...",
      "text/html": "<div>\n<style scoped>\n    .dataframe tbody tr th:only-of-type {\n        vertical-align: middle;\n    }\n\n    .dataframe tbody tr th {\n        vertical-align: top;\n    }\n\n    .dataframe thead th {\n        text-align: right;\n    }\n</style>\n<table border=\"1\" class=\"dataframe\">\n  <thead>\n    <tr style=\"text-align: right;\">\n      <th></th>\n      <th>unique</th>\n    </tr>\n    <tr>\n      <th>attr_name</th>\n      <th></th>\n    </tr>\n  </thead>\n  <tbody>\n    <tr>\n      <th>1.  HBsAg</th>\n      <td>[Negative, Positive, Not done, Not Done]</td>\n    </tr>\n    <tr>\n      <th>Albumin</th>\n      <td>[+, Trace, Nil, (+++), (++++), (+)]</td>\n    </tr>\n    <tr>\n      <th>Appearance</th>\n      <td>[Clear, Hazy, Turbid]</td>\n    </tr>\n    <tr>\n      <th>B.J. Protein</th>\n      <td>[Nil, Not done]</td>\n    </tr>\n    <tr>\n      <th>Bilirubin</th>\n      <td>[Nil, Not done, Not Done, +, Normal, (+), (+++...</td>\n    </tr>\n  </tbody>\n</table>\n</div>"
     },
     "execution_count": 100,
     "metadata": {},
     "output_type": "execute_result"
    }
   ],
   "source": [],
   "metadata": {
    "collapsed": false,
    "pycharm": {
     "name": "#%%\n"
    }
   }
  },
  {
   "cell_type": "code",
   "execution_count": 101,
   "outputs": [
    {
     "data": {
      "text/plain": "attr_name\n    1.  HBsAg                         [Negative, Positive, Not done, Not Done]\nAlbumin                                    [+, Trace, Nil, (+++), (++++), (+)]\nAppearance                                               [Clear, Hazy, Turbid]\nB.J. Protein                                                   [Nil, Not done]\nBilirubin                    [Nil, Not done, Not Done, +, Normal, (+), (+++...\nBlood                        [Nil, Trace, 3+, +++, (++), (+++), ++, +, (+),...\nBlood Group :                [\"A\", \"AB\", \"B\", \"O\", \"A', \"O \", ''B'', ''O'',...\nCandida                                                                  [Few]\nColour                       [L YELLOW, Straw, STRAW, Yellow, AMBER, Reddis...\nCorresponding urine sugar                                                [N/S]\nESR                                                            [QNS, Q.N.S, .]\nHbA1c                                                                   [7..3]\nLDL Cholesterol                                       [**, --, ---, -, *, ***]\nPotassium                                                               [3..5]\nProtein                      [Trace, Nil, ++, Not Done, (+), (+++), +++, +,...\nR B C                                                                    [Nil]\nRh Type :                           [Negative, Positive, Positve, positive, p]\nSugar                        [Nil, +++, ++++, Trace, Not Done, ++, (++), (+...\nUric Acid                                 [Nil, (+), (++), Few,  A few, A few]\nUric Acid Crystal                                      [(+), (++), (+++), Few]\nUric Acid crystal                                                       [(++)]\nUric acid crystal                                                  [(++), Few]\nW B C                                                                    [Nil]\nName: unique, dtype: object"
     },
     "execution_count": 101,
     "metadata": {},
     "output_type": "execute_result"
    }
   ],
   "source": [],
   "metadata": {
    "collapsed": false,
    "pycharm": {
     "name": "#%%\n"
    }
   }
  },
  {
   "cell_type": "code",
   "execution_count": 81,
   "outputs": [
    {
     "data": {
      "text/plain": "[nan,\n nan,\n 'S. Electrolytes',\n 'S. Electrolytes',\n nan,\n 'S. Electrolytes',\n 'S. Electrolytes',\n nan,\n nan,\n nan,\n nan,\n 'S. Electrolytes',\n 'S. Electrolytes',\n nan,\n nan,\n 'S. Electrolytes',\n 'S. Electrolytes',\n nan,\n 'S. Electrolytes',\n 'S. Electrolytes',\n nan,\n 'Lipid Profile Serum',\n 'Lipid Profile Serum',\n 'Lipid Profile Serum',\n 'Lipid Profile Serum',\n nan,\n 'Blood Sugar',\n 'S. Electrolytes',\n 'S. Electrolytes',\n nan,\n nan,\n 'Blood Sugar',\n nan,\n nan,\n 'S. Electrolytes',\n 'S. Electrolytes',\n nan,\n 'S. Electrolytes',\n 'S. Electrolytes',\n nan,\n nan,\n nan,\n 'S. Electrolytes',\n 'S. Electrolytes',\n nan,\n nan,\n nan,\n 'Blood Sugar',\n 'Blood Sugar',\n nan,\n 'S. Electrolytes',\n 'S. Electrolytes',\n nan,\n nan,\n nan,\n 'S. Electrolytes',\n 'S. Electrolytes',\n nan,\n nan,\n 'S. Electrolytes',\n 'S. Electrolytes',\n nan,\n nan,\n 'S. Electrolytes',\n 'S. Electrolytes',\n 'S. Electrolytes',\n 'S. Electrolytes',\n 'S. Electrolytes',\n 'S. Electrolytes',\n 'S. Electrolytes',\n 'S. Electrolytes',\n 'S. Electrolytes',\n 'S. Electrolytes',\n 'S. Electrolytes',\n 'S. Electrolytes',\n nan,\n 'S. Electrolytes',\n 'S. Electrolytes',\n nan,\n 'S. Electrolytes',\n 'S. Electrolytes',\n nan,\n nan,\n nan,\n 'S. Electrolytes',\n 'S. Electrolytes',\n nan,\n nan,\n nan,\n nan,\n 'Lipid Profile Serum',\n 'Lipid Profile Serum',\n 'Lipid Profile Serum',\n 'Lipid Profile Serum',\n nan,\n 'S. Electrolytes',\n 'S. Electrolytes',\n nan,\n 'S. Electrolytes',\n 'S. Electrolytes',\n nan,\n 'S. Electrolytes',\n 'S. Electrolytes',\n nan,\n 'S. Electrolytes',\n 'S. Electrolytes',\n nan,\n nan,\n nan,\n 'S. Electrolytes',\n 'S. Electrolytes',\n nan,\n 'S. Electrolytes',\n 'S. Electrolytes',\n nan,\n 'S. Electrolytes',\n 'S. Electrolytes',\n nan,\n nan,\n 'S. Electrolytes',\n 'S. Electrolytes',\n nan,\n nan,\n 'S. Electrolytes',\n 'S. Electrolytes',\n nan,\n 'S. Electrolytes',\n 'S. Electrolytes',\n nan,\n 'S. Electrolytes',\n 'S. Electrolytes',\n nan,\n nan,\n 'Lipid Profile Serum',\n 'Lipid Profile Serum',\n 'Lipid Profile Serum',\n 'Lipid Profile Serum',\n 'S. Electrolytes',\n 'S. Electrolytes',\n nan,\n nan,\n 'Lipid Profile Serum',\n 'Lipid Profile Serum',\n 'Lipid Profile Serum',\n 'Lipid Profile Serum',\n nan,\n nan,\n nan,\n nan,\n 'Lipid Profile Serum',\n 'Lipid Profile Serum',\n 'Lipid Profile Serum',\n 'Lipid Profile Serum',\n 'S. Electrolytes',\n 'S. Electrolytes',\n nan,\n 'Lipid Profile Serum',\n 'Lipid Profile Serum',\n 'Lipid Profile Serum',\n 'Lipid Profile Serum',\n 'S. Electrolytes',\n 'S. Electrolytes',\n nan,\n 'S. Electrolytes',\n 'S. Electrolytes',\n 'S. Electrolytes',\n 'S. Electrolytes',\n nan,\n nan,\n 'S. Electrolytes',\n 'S. Electrolytes',\n nan,\n nan,\n nan,\n 'S. Electrolytes',\n 'S. Electrolytes',\n nan,\n nan,\n nan,\n 'S. Electrolytes',\n 'S. Electrolytes',\n nan,\n 'S. Electrolytes',\n 'S. Electrolytes',\n nan,\n 'S. Electrolytes',\n 'S. Electrolytes',\n nan,\n 'S. Electrolytes',\n 'S. Electrolytes',\n nan,\n 'S. Electrolytes',\n 'S. Electrolytes',\n nan,\n nan,\n 'S. Electrolytes',\n 'S. Electrolytes',\n nan,\n 'S. Electrolytes',\n 'S. Electrolytes',\n nan,\n nan,\n 'S. Electrolytes',\n 'S. Electrolytes',\n 'Blood Sugar',\n nan,\n nan,\n 'Blood Sugar',\n 'Blood Sugar',\n 'Blood Sugar',\n nan,\n 'S. Electrolytes',\n 'S. Electrolytes',\n nan,\n 'S. Electrolytes',\n 'S. Electrolytes',\n 'Blood Sugar',\n nan,\n nan,\n nan,\n nan,\n nan,\n nan,\n 'S. Electrolytes',\n 'S. Electrolytes',\n nan,\n nan,\n 'S. Electrolytes',\n 'S. Electrolytes',\n 'S. Electrolytes',\n 'S. Electrolytes',\n nan,\n 'S. Electrolytes',\n 'S. Electrolytes',\n 'Lipid Profile Serum',\n 'Lipid Profile Serum',\n 'Lipid Profile Serum',\n 'Lipid Profile Serum',\n 'S. Electrolytes',\n 'S. Electrolytes',\n 'Blood Sugar',\n nan,\n nan,\n 'S. Electrolytes',\n 'S. Electrolytes',\n nan,\n nan,\n 'S. Electrolytes',\n 'S. Electrolytes',\n nan,\n nan,\n 'S. Electrolytes',\n 'S. Electrolytes',\n nan,\n 'S. Electrolytes',\n 'S. Electrolytes',\n nan,\n 'Blood Sugar',\n 'S. Electrolytes',\n 'S. Electrolytes',\n 'Blood Sugar',\n nan,\n nan,\n nan,\n 'S. Electrolytes',\n 'S. Electrolytes',\n nan,\n 'S. Electrolytes',\n 'S. Electrolytes',\n nan,\n nan,\n 'S. Electrolytes',\n 'S. Electrolytes',\n 'S. Electrolytes',\n 'S. Electrolytes',\n 'S. Electrolytes',\n 'S. Electrolytes',\n nan,\n 'S. Electrolytes',\n 'S. Electrolytes',\n nan,\n 'S. Electrolytes',\n 'S. Electrolytes',\n 'S. Electrolytes',\n 'S. Electrolytes',\n nan,\n 'S. Electrolytes',\n 'S. Electrolytes',\n nan,\n 'S. Electrolytes',\n 'S. Electrolytes',\n nan,\n nan,\n 'S. Electrolytes',\n 'S. Electrolytes',\n nan,\n nan,\n 'S. Electrolytes',\n 'S. Electrolytes',\n nan,\n nan,\n 'Lipid Profile Serum',\n 'Lipid Profile Serum',\n 'Lipid Profile Serum',\n 'Lipid Profile Serum',\n nan,\n nan,\n 'S. Electrolytes',\n 'S. Electrolytes',\n nan,\n nan,\n nan,\n 'S. Electrolytes',\n 'S. Electrolytes',\n nan,\n 'S. Electrolytes',\n 'S. Electrolytes',\n nan,\n nan,\n nan,\n 'Lipid Profile Serum',\n 'Lipid Profile Serum',\n 'Lipid Profile Serum',\n 'Lipid Profile Serum',\n 'S. Electrolytes',\n 'S. Electrolytes',\n nan,\n nan,\n 'S. Electrolytes',\n 'S. Electrolytes',\n nan,\n nan,\n nan,\n 'S. Electrolytes',\n 'S. Electrolytes',\n nan,\n nan,\n 'S. Electrolytes',\n 'S. Electrolytes',\n nan,\n nan,\n nan,\n nan,\n nan,\n nan,\n nan,\n nan,\n 'S. Electrolytes',\n 'S. Electrolytes',\n nan,\n nan,\n nan,\n nan,\n 'S. Electrolytes',\n 'S. Electrolytes',\n 'S. Electrolytes',\n 'S. Electrolytes',\n nan,\n 'S. Electrolytes',\n 'S. Electrolytes',\n nan,\n 'Blood Sugar',\n nan,\n 'S. Electrolytes',\n 'S. Electrolytes',\n nan,\n nan,\n 'S. Electrolytes',\n 'S. Electrolytes',\n nan,\n nan,\n 'S. Electrolytes',\n 'S. Electrolytes',\n nan,\n 'S. Electrolytes',\n 'S. Electrolytes',\n nan,\n nan,\n nan,\n nan,\n 'S. Electrolytes',\n 'S. Electrolytes',\n nan,\n nan,\n nan,\n nan,\n nan,\n nan,\n 'S. Electrolytes',\n 'S. Electrolytes',\n nan,\n nan,\n nan,\n nan,\n nan,\n 'S. Electrolytes',\n 'S. Electrolytes',\n nan,\n nan,\n 'S. Electrolytes',\n 'S. Electrolytes',\n nan,\n nan,\n 'S. Electrolytes',\n 'S. Electrolytes',\n 'S. Electrolytes',\n 'S. Electrolytes',\n 'S. Electrolytes',\n 'S. Electrolytes',\n nan,\n nan,\n 'S. Electrolytes',\n 'S. Electrolytes',\n nan,\n nan,\n nan,\n nan,\n 'Lipid Profile Serum',\n 'Lipid Profile Serum',\n 'Lipid Profile Serum',\n 'Lipid Profile Serum',\n 'S. Electrolytes',\n 'S. Electrolytes',\n nan,\n 'S. Electrolytes',\n 'S. Electrolytes',\n nan,\n nan,\n 'S. Electrolytes',\n 'S. Electrolytes',\n nan,\n nan,\n 'Lipid Profile Serum',\n 'Lipid Profile Serum',\n 'Lipid Profile Serum',\n 'Lipid Profile Serum',\n 'S. Electrolytes',\n 'S. Electrolytes',\n nan,\n 'S. Electrolytes',\n 'S. Electrolytes',\n nan,\n 'Blood Sugar',\n nan,\n nan,\n 'Blood Sugar',\n 'S. Electrolytes',\n 'S. Electrolytes',\n nan,\n 'S. Electrolytes',\n 'S. Electrolytes',\n nan,\n nan,\n 'Blood Sugar',\n 'S. Electrolytes',\n 'S. Electrolytes',\n nan,\n 'S. Electrolytes',\n 'S. Electrolytes',\n nan,\n 'S. Electrolytes',\n 'S. Electrolytes',\n 'Blood Sugar',\n 'Blood Sugar',\n nan,\n 'S. Electrolytes',\n 'S. Electrolytes',\n 'Blood Sugar',\n nan,\n 'Blood Sugar',\n nan,\n 'S. Electrolytes',\n 'S. Electrolytes',\n nan,\n nan,\n 'S. Electrolytes',\n 'S. Electrolytes',\n 'Blood Sugar',\n nan,\n 'Blood Sugar',\n nan,\n nan,\n 'S. Electrolytes',\n 'S. Electrolytes',\n nan,\n 'S. Electrolytes',\n 'S. Electrolytes',\n nan,\n nan,\n 'S. Electrolytes',\n 'S. Electrolytes',\n nan,\n 'S. Electrolytes',\n 'S. Electrolytes',\n nan,\n nan,\n 'Blood Sugar',\n 'S. Electrolytes',\n 'S. Electrolytes',\n 'S. Electrolytes',\n 'S. Electrolytes',\n nan,\n nan,\n nan,\n nan,\n nan,\n 'Lipid Profile Serum',\n 'Lipid Profile Serum',\n 'Lipid Profile Serum',\n 'Lipid Profile Serum',\n nan,\n 'Lipid Profile Serum',\n 'Lipid Profile Serum',\n 'Lipid Profile Serum',\n 'Lipid Profile Serum',\n nan,\n 'S. Electrolytes',\n 'S. Electrolytes',\n nan,\n 'Lipid Profile Serum',\n 'Lipid Profile Serum',\n 'Lipid Profile Serum',\n 'Lipid Profile Serum',\n nan,\n 'S. Electrolytes',\n 'S. Electrolytes',\n nan,\n nan,\n 'S. Electrolytes',\n 'S. Electrolytes',\n 'S. Electrolytes',\n 'S. Electrolytes',\n nan,\n nan,\n nan,\n 'Lipid Profile Serum',\n 'Lipid Profile Serum',\n 'Lipid Profile Serum',\n 'Lipid Profile Serum',\n 'Lipid Profile Serum',\n 'Lipid Profile Serum',\n 'Lipid Profile Serum',\n 'Lipid Profile Serum',\n 'S. Electrolytes',\n 'S. Electrolytes',\n 'S. Electrolytes',\n 'S. Electrolytes',\n nan,\n nan,\n nan,\n nan,\n 'Lipid Profile Serum',\n 'Lipid Profile Serum',\n 'Lipid Profile Serum',\n 'Lipid Profile Serum',\n nan,\n 'Lipid Profile Serum',\n 'Lipid Profile Serum',\n 'Lipid Profile Serum',\n 'Lipid Profile Serum',\n nan,\n nan,\n 'S. Electrolytes',\n 'S. Electrolytes',\n nan,\n nan,\n 'S. Electrolytes',\n 'S. Electrolytes',\n nan,\n nan,\n nan,\n 'S. Electrolytes',\n 'S. Electrolytes',\n nan,\n nan,\n 'S. Electrolytes',\n 'S. Electrolytes',\n nan,\n nan,\n nan,\n 'Lipid Profile Serum',\n 'Lipid Profile Serum',\n 'Lipid Profile Serum',\n 'Lipid Profile Serum',\n 'Lipid Profile Serum',\n 'Lipid Profile Serum',\n 'Lipid Profile Serum',\n 'Lipid Profile Serum',\n nan,\n nan,\n nan,\n nan,\n nan,\n nan,\n nan,\n 'Lipid Profile Serum',\n 'Lipid Profile Serum',\n 'Lipid Profile Serum',\n 'Lipid Profile Serum',\n nan,\n nan,\n nan,\n 'S. Electrolytes',\n 'S. Electrolytes',\n nan,\n nan,\n 'S. Electrolytes',\n 'S. Electrolytes',\n 'S. Electrolytes',\n 'S. Electrolytes',\n nan,\n 'S. Electrolytes',\n 'S. Electrolytes',\n 'S. Electrolytes',\n 'S. Electrolytes',\n nan,\n nan,\n 'S. Electrolytes',\n 'S. Electrolytes',\n nan,\n nan,\n nan,\n 'S. Electrolytes',\n 'S. Electrolytes',\n nan,\n nan,\n nan,\n 'S. Electrolytes',\n 'S. Electrolytes',\n nan,\n nan,\n nan,\n 'S. Electrolytes',\n 'S. Electrolytes',\n nan,\n nan,\n 'S. Electrolytes',\n 'S. Electrolytes',\n 'S. Electrolytes',\n 'S. Electrolytes',\n 'Lipid Profile Serum',\n 'Lipid Profile Serum',\n 'Lipid Profile Serum',\n 'Lipid Profile Serum',\n 'Lipid Profile Serum',\n 'Lipid Profile Serum',\n 'Lipid Profile Serum',\n 'Lipid Profile Serum',\n nan,\n nan,\n 'S. Electrolytes',\n 'S. Electrolytes',\n nan,\n nan,\n 'S. Electrolytes',\n 'S. Electrolytes',\n nan,\n nan,\n nan,\n nan,\n nan,\n nan,\n 'S. Electrolytes',\n 'S. Electrolytes',\n nan,\n 'S. Electrolytes',\n 'S. Electrolytes',\n 'S. Electrolytes',\n 'S. Electrolytes',\n nan,\n nan,\n nan,\n 'S. Electrolytes',\n 'S. Electrolytes',\n nan,\n nan,\n 'S. Electrolytes',\n 'S. Electrolytes',\n nan,\n nan,\n 'S. Electrolytes',\n 'S. Electrolytes',\n nan,\n nan,\n nan,\n 'S. Electrolytes',\n 'S. Electrolytes',\n nan,\n 'S. Electrolytes',\n 'S. Electrolytes',\n 'Lipid Profile Serum',\n 'Lipid Profile Serum',\n 'Lipid Profile Serum',\n 'Lipid Profile Serum',\n nan,\n nan,\n 'S. Electrolytes',\n 'S. Electrolytes',\n nan,\n nan,\n 'S. Electrolytes',\n 'S. Electrolytes',\n nan,\n nan,\n 'Lipid Profile Serum',\n 'Lipid Profile Serum',\n 'Lipid Profile Serum',\n 'Lipid Profile Serum',\n nan,\n 'S. Electrolytes',\n 'S. Electrolytes',\n nan,\n nan,\n 'Blood Sugar',\n nan,\n nan,\n 'S. Electrolytes',\n 'S. Electrolytes',\n nan,\n 'S. Electrolytes',\n 'S. Electrolytes',\n 'Blood Sugar',\n nan,\n nan,\n 'S. Electrolytes',\n 'S. Electrolytes',\n nan,\n 'S. Electrolytes',\n 'S. Electrolytes',\n nan,\n 'S. Electrolytes',\n 'S. Electrolytes',\n nan,\n nan,\n nan,\n 'S. Electrolytes',\n 'S. Electrolytes',\n 'S. Electrolytes',\n 'S. Electrolytes',\n nan,\n 'S. Electrolytes',\n 'S. Electrolytes',\n nan,\n nan,\n nan,\n nan,\n 'S. Electrolytes',\n 'S. Electrolytes',\n nan,\n 'S. Electrolytes',\n 'S. Electrolytes',\n nan,\n 'S. Electrolytes',\n 'S. Electrolytes',\n nan,\n 'S. Electrolytes',\n 'S. Electrolytes',\n nan,\n nan,\n nan,\n 'S. Electrolytes',\n 'S. Electrolytes',\n nan,\n nan,\n 'S. Electrolytes',\n 'S. Electrolytes',\n 'S. Electrolytes',\n 'S. Electrolytes',\n nan,\n 'S. Electrolytes',\n 'S. Electrolytes',\n nan,\n nan,\n 'S. Electrolytes',\n 'S. Electrolytes',\n nan,\n 'S. Electrolytes',\n 'S. Electrolytes',\n nan,\n 'S. Electrolytes',\n 'S. Electrolytes',\n nan,\n nan,\n 'S. Electrolytes',\n 'S. Electrolytes',\n nan,\n nan,\n 'S. Electrolytes',\n 'S. Electrolytes',\n 'Lipid Profile Serum',\n 'Lipid Profile Serum',\n 'Lipid Profile Serum',\n 'Lipid Profile Serum',\n nan,\n 'S. Electrolytes',\n 'S. Electrolytes',\n nan,\n nan,\n 'Blood Sugar',\n nan,\n nan,\n nan,\n 'S. Electrolytes',\n 'S. Electrolytes',\n nan,\n 'S. Electrolytes',\n 'S. Electrolytes',\n nan,\n 'S. Electrolytes',\n 'S. Electrolytes',\n nan,\n 'S. Electrolytes',\n 'S. Electrolytes',\n nan,\n nan,\n 'S. Electrolytes',\n 'S. Electrolytes',\n nan,\n 'S. Electrolytes',\n 'S. Electrolytes',\n 'Lipid Profile Serum',\n 'Lipid Profile Serum',\n 'Lipid Profile Serum',\n 'Lipid Profile Serum',\n 'S. Electrolytes',\n 'S. Electrolytes',\n 'Blood Sugar',\n 'Blood Sugar',\n 'S. Electrolytes',\n 'S. Electrolytes',\n nan,\n nan,\n 'S. Electrolytes',\n 'S. Electrolytes',\n 'S. Electrolytes',\n 'S. Electrolytes',\n nan,\n 'Lipid Profile Serum',\n 'Lipid Profile Serum',\n 'Lipid Profile Serum',\n 'Lipid Profile Serum',\n 'S. Electrolytes',\n 'S. Electrolytes',\n nan,\n nan,\n nan,\n nan,\n 'Blood Sugar',\n nan,\n nan,\n nan,\n 'Blood Sugar',\n nan,\n 'Blood Sugar',\n 'S. Electrolytes',\n 'S. Electrolytes',\n nan,\n 'S. Electrolytes',\n 'S. Electrolytes',\n nan,\n 'S. Electrolytes',\n 'S. Electrolytes',\n nan,\n nan,\n nan,\n nan,\n 'Lipid Profile Serum',\n 'Lipid Profile Serum',\n 'Lipid Profile Serum',\n 'Lipid Profile Serum',\n 'S. Electrolytes',\n 'S. Electrolytes',\n nan,\n 'Blood Sugar',\n nan,\n 'S. Electrolytes',\n 'S. Electrolytes',\n nan,\n nan,\n nan,\n nan,\n nan,\n 'Lipid Profile Serum',\n 'Lipid Profile Serum',\n 'Lipid Profile Serum',\n 'Lipid Profile Serum',\n nan,\n nan,\n 'S. Electrolytes',\n 'S. Electrolytes',\n nan,\n nan,\n 'S. Electrolytes',\n 'S. Electrolytes',\n nan,\n 'S. Electrolytes',\n 'S. Electrolytes',\n 'Lipid Profile Serum',\n 'Lipid Profile Serum',\n 'Lipid Profile Serum',\n 'Lipid Profile Serum',\n nan,\n nan,\n nan,\n nan,\n 'S. Electrolytes',\n 'S. Electrolytes',\n nan,\n nan,\n nan,\n 'Lipid Profile Serum',\n 'Lipid Profile Serum',\n 'Lipid Profile Serum',\n 'Lipid Profile Serum',\n nan,\n nan,\n 'S. Electrolytes',\n 'S. Electrolytes',\n 'Lipid Profile Serum',\n 'Lipid Profile Serum',\n 'Lipid Profile Serum',\n 'Lipid Profile Serum',\n nan,\n 'S. Electrolytes',\n 'S. Electrolytes',\n 'S. Electrolytes',\n 'S. Electrolytes',\n nan,\n nan,\n nan,\n 'S. Electrolytes',\n 'S. Electrolytes',\n nan,\n nan,\n 'Blood Sugar',\n nan,\n nan,\n 'S. Electrolytes',\n 'S. Electrolytes',\n nan,\n nan,\n nan,\n 'S. Electrolytes',\n 'S. Electrolytes',\n nan,\n nan,\n nan,\n 'Lipid Profile Serum',\n 'Lipid Profile Serum',\n 'Lipid Profile Serum',\n 'Lipid Profile Serum',\n 'S. Electrolytes',\n 'S. Electrolytes',\n nan,\n nan,\n nan,\n 'S. Electrolytes',\n 'Blood Sugar',\n nan,\n 'S. Electrolytes',\n 'S. Electrolytes',\n 'S. Electrolytes',\n nan,\n 'S. Electrolytes',\n 'S. Electrolytes',\n nan,\n nan,\n nan,\n 'S. Electrolytes',\n 'S. Electrolytes',\n nan,\n nan,\n nan,\n 'S. Electrolytes',\n 'S. Electrolytes',\n nan,\n nan,\n nan,\n nan,\n 'S. Electrolytes',\n 'S. Electrolytes',\n nan,\n nan,\n 'S. Electrolytes',\n 'S. Electrolytes',\n nan,\n 'Blood Sugar',\n nan,\n 'S. Electrolytes',\n 'S. Electrolytes',\n nan,\n 'Blood Sugar',\n 'S. Electrolytes',\n 'S. Electrolytes',\n nan,\n 'S. Electrolytes',\n 'S. Electrolytes',\n nan,\n 'S. Electrolytes',\n 'S. Electrolytes',\n ...]"
     },
     "execution_count": 81,
     "metadata": {},
     "output_type": "execute_result"
    }
   ],
   "source": [
    "source3_test_df['test_group_name'].to_list()"
   ],
   "metadata": {
    "collapsed": false,
    "pycharm": {
     "name": "#%%\n"
    }
   }
  },
  {
   "cell_type": "code",
   "execution_count": 74,
   "outputs": [],
   "source": [],
   "metadata": {
    "collapsed": false,
    "pycharm": {
     "name": "#%%\n"
    }
   }
  },
  {
   "cell_type": "markdown",
   "source": [
    "Unique Value Check"
   ],
   "metadata": {
    "collapsed": false
   }
  },
  {
   "cell_type": "code",
   "execution_count": 75,
   "outputs": [],
   "source": [
    "attr_exp = g.explode(\"unique\")"
   ],
   "metadata": {
    "collapsed": false,
    "pycharm": {
     "name": "#%%\n"
    }
   }
  },
  {
   "cell_type": "code",
   "execution_count": 76,
   "outputs": [
    {
     "data": {
      "text/plain": "      attr_id    unique\n0    101211.0       5.3\n0    101211.0       6.1\n0    101211.0      13.1\n0    101211.0       5.8\n0    101211.0       4.7\n..        ...       ...\n22  3002206.0  Negative\n22  3002206.0       nan\n22  3002206.0  Positive\n22  3002206.0  Not done\n22  3002206.0  Not Done\n\n[2374 rows x 2 columns]",
      "text/html": "<div>\n<style scoped>\n    .dataframe tbody tr th:only-of-type {\n        vertical-align: middle;\n    }\n\n    .dataframe tbody tr th {\n        vertical-align: top;\n    }\n\n    .dataframe thead th {\n        text-align: right;\n    }\n</style>\n<table border=\"1\" class=\"dataframe\">\n  <thead>\n    <tr style=\"text-align: right;\">\n      <th></th>\n      <th>attr_id</th>\n      <th>unique</th>\n    </tr>\n  </thead>\n  <tbody>\n    <tr>\n      <th>0</th>\n      <td>101211.0</td>\n      <td>5.3</td>\n    </tr>\n    <tr>\n      <th>0</th>\n      <td>101211.0</td>\n      <td>6.1</td>\n    </tr>\n    <tr>\n      <th>0</th>\n      <td>101211.0</td>\n      <td>13.1</td>\n    </tr>\n    <tr>\n      <th>0</th>\n      <td>101211.0</td>\n      <td>5.8</td>\n    </tr>\n    <tr>\n      <th>0</th>\n      <td>101211.0</td>\n      <td>4.7</td>\n    </tr>\n    <tr>\n      <th>...</th>\n      <td>...</td>\n      <td>...</td>\n    </tr>\n    <tr>\n      <th>22</th>\n      <td>3002206.0</td>\n      <td>Negative</td>\n    </tr>\n    <tr>\n      <th>22</th>\n      <td>3002206.0</td>\n      <td>nan</td>\n    </tr>\n    <tr>\n      <th>22</th>\n      <td>3002206.0</td>\n      <td>Positive</td>\n    </tr>\n    <tr>\n      <th>22</th>\n      <td>3002206.0</td>\n      <td>Not done</td>\n    </tr>\n    <tr>\n      <th>22</th>\n      <td>3002206.0</td>\n      <td>Not Done</td>\n    </tr>\n  </tbody>\n</table>\n<p>2374 rows × 2 columns</p>\n</div>"
     },
     "execution_count": 76,
     "metadata": {},
     "output_type": "execute_result"
    }
   ],
   "source": [
    "attr_exp"
   ],
   "metadata": {
    "collapsed": false,
    "pycharm": {
     "name": "#%%\n"
    }
   }
  },
  {
   "cell_type": "code",
   "execution_count": 34,
   "outputs": [
    {
     "name": "stdout",
     "output_type": "stream",
     "text": [
      "<class 'pandas.core.frame.DataFrame'>\n",
      "Int64Index: 16032 entries, 0 to 285\n",
      "Data columns (total 2 columns):\n",
      " #   Column    Non-Null Count  Dtype \n",
      "---  ------    --------------  ----- \n",
      " 0   attr_key  16032 non-null  int64 \n",
      " 1   unique    16032 non-null  object\n",
      "dtypes: int64(1), object(1)\n",
      "memory usage: 375.8+ KB\n"
     ]
    }
   ],
   "source": [
    "attr_exp.info()"
   ],
   "metadata": {
    "collapsed": false,
    "pycharm": {
     "name": "#%%\n"
    }
   }
  },
  {
   "cell_type": "code",
   "execution_count": 35,
   "outputs": [
    {
     "data": {
      "text/plain": "           attr_key\ncount  16032.000000\nmean   12864.349800\nstd     1272.843296\nmin    10428.000000\n25%    12447.000000\n50%    13361.000000\n75%    13381.000000\nmax    15130.000000",
      "text/html": "<div>\n<style scoped>\n    .dataframe tbody tr th:only-of-type {\n        vertical-align: middle;\n    }\n\n    .dataframe tbody tr th {\n        vertical-align: top;\n    }\n\n    .dataframe thead th {\n        text-align: right;\n    }\n</style>\n<table border=\"1\" class=\"dataframe\">\n  <thead>\n    <tr style=\"text-align: right;\">\n      <th></th>\n      <th>attr_key</th>\n    </tr>\n  </thead>\n  <tbody>\n    <tr>\n      <th>count</th>\n      <td>16032.000000</td>\n    </tr>\n    <tr>\n      <th>mean</th>\n      <td>12864.349800</td>\n    </tr>\n    <tr>\n      <th>std</th>\n      <td>1272.843296</td>\n    </tr>\n    <tr>\n      <th>min</th>\n      <td>10428.000000</td>\n    </tr>\n    <tr>\n      <th>25%</th>\n      <td>12447.000000</td>\n    </tr>\n    <tr>\n      <th>50%</th>\n      <td>13361.000000</td>\n    </tr>\n    <tr>\n      <th>75%</th>\n      <td>13381.000000</td>\n    </tr>\n    <tr>\n      <th>max</th>\n      <td>15130.000000</td>\n    </tr>\n  </tbody>\n</table>\n</div>"
     },
     "execution_count": 35,
     "metadata": {},
     "output_type": "execute_result"
    }
   ],
   "source": [
    "attr_exp.describe()"
   ],
   "metadata": {
    "collapsed": false,
    "pycharm": {
     "name": "#%%\n"
    }
   }
  },
  {
   "cell_type": "code",
   "execution_count": 37,
   "outputs": [
    {
     "name": "stdout",
     "output_type": "stream",
     "text": [
      "object\n"
     ]
    }
   ],
   "source": [
    "print(attr_exp['unique'].dtypes)"
   ],
   "metadata": {
    "collapsed": false,
    "pycharm": {
     "name": "#%%\n"
    }
   }
  },
  {
   "cell_type": "code",
   "execution_count": 40,
   "outputs": [],
   "source": [
    "attr_exp_coversion = attr_exp['unique'].astype(str)"
   ],
   "metadata": {
    "collapsed": false,
    "pycharm": {
     "name": "#%%\n"
    }
   }
  },
  {
   "cell_type": "code",
   "execution_count": 49,
   "outputs": [
    {
     "data": {
      "text/plain": "dtype('O')"
     },
     "execution_count": 49,
     "metadata": {},
     "output_type": "execute_result"
    }
   ],
   "source": [
    "attr_exp_coversion.dtypes"
   ],
   "metadata": {
    "collapsed": false,
    "pycharm": {
     "name": "#%%\n"
    }
   }
  },
  {
   "cell_type": "code",
   "execution_count": 45,
   "outputs": [
    {
     "data": {
      "text/plain": "<bound method Series.count of 0       00\n0       02\n0       03\n0       10\n0      101\n      ... \n285     36\n285     37\n285     38\n285     39\n285     40\nName: unique, Length: 16032, dtype: object>"
     },
     "execution_count": 45,
     "metadata": {},
     "output_type": "execute_result"
    }
   ],
   "source": [
    "attr_exp_coversion.count"
   ],
   "metadata": {
    "collapsed": false,
    "pycharm": {
     "name": "#%%\n"
    }
   }
  },
  {
   "cell_type": "code",
   "execution_count": 50,
   "outputs": [
    {
     "data": {
      "text/plain": "Nil      65\nR        49\n(+)      44\n(++)     30\nS        30\n         ..\n497       1\n493       1\n488       1\n476       1\n99.73     1\nName: unique, Length: 6735, dtype: int64"
     },
     "execution_count": 50,
     "metadata": {},
     "output_type": "execute_result"
    }
   ],
   "source": [
    "attr_exp.unique.value_counts()"
   ],
   "metadata": {
    "collapsed": false,
    "pycharm": {
     "name": "#%%\n"
    }
   }
  },
  {
   "cell_type": "code",
   "execution_count": 54,
   "outputs": [
    {
     "ename": "OSError",
     "evalue": "[Errno 22] Invalid argument: 'D:\\\\My New Project Workplace\\\\VIS-eSRD-LAB\\\\SALT_C\\\\data\\\\my_data\\x07ttr_explode.csv'",
     "output_type": "error",
     "traceback": [
      "\u001B[1;31m---------------------------------------------------------------------------\u001B[0m",
      "\u001B[1;31mOSError\u001B[0m                                   Traceback (most recent call last)",
      "Input \u001B[1;32mIn [54]\u001B[0m, in \u001B[0;36m<cell line: 1>\u001B[1;34m()\u001B[0m\n\u001B[1;32m----> 1\u001B[0m \u001B[43mattr_exp\u001B[49m\u001B[38;5;241;43m.\u001B[39;49m\u001B[43mto_csv\u001B[49m\u001B[43m(\u001B[49m\u001B[38;5;124;43m'\u001B[39;49m\u001B[38;5;124;43mD:\u001B[39;49m\u001B[38;5;124;43m\\\u001B[39;49m\u001B[38;5;124;43mMy New Project Workplace\u001B[39;49m\u001B[38;5;124;43m\\\u001B[39;49m\u001B[38;5;124;43mVIS-eSRD-LAB\u001B[39;49m\u001B[38;5;124;43m\\\u001B[39;49m\u001B[38;5;124;43mSALT_C\u001B[39;49m\u001B[38;5;124;43m\\\u001B[39;49m\u001B[38;5;124;43mdata\u001B[39;49m\u001B[38;5;124;43m\\\u001B[39;49m\u001B[38;5;124;43mmy_data\u001B[39;49m\u001B[38;5;130;43;01m\\a\u001B[39;49;00m\u001B[38;5;124;43mttr_explode.csv\u001B[39;49m\u001B[38;5;124;43m'\u001B[39;49m\u001B[43m)\u001B[49m\n",
      "File \u001B[1;32me:\\workspace\\std-clinical\\lib\\site-packages\\pandas\\core\\generic.py:3563\u001B[0m, in \u001B[0;36mNDFrame.to_csv\u001B[1;34m(self, path_or_buf, sep, na_rep, float_format, columns, header, index, index_label, mode, encoding, compression, quoting, quotechar, line_terminator, chunksize, date_format, doublequote, escapechar, decimal, errors, storage_options)\u001B[0m\n\u001B[0;32m   3552\u001B[0m df \u001B[38;5;241m=\u001B[39m \u001B[38;5;28mself\u001B[39m \u001B[38;5;28;01mif\u001B[39;00m \u001B[38;5;28misinstance\u001B[39m(\u001B[38;5;28mself\u001B[39m, ABCDataFrame) \u001B[38;5;28;01melse\u001B[39;00m \u001B[38;5;28mself\u001B[39m\u001B[38;5;241m.\u001B[39mto_frame()\n\u001B[0;32m   3554\u001B[0m formatter \u001B[38;5;241m=\u001B[39m DataFrameFormatter(\n\u001B[0;32m   3555\u001B[0m     frame\u001B[38;5;241m=\u001B[39mdf,\n\u001B[0;32m   3556\u001B[0m     header\u001B[38;5;241m=\u001B[39mheader,\n\u001B[1;32m   (...)\u001B[0m\n\u001B[0;32m   3560\u001B[0m     decimal\u001B[38;5;241m=\u001B[39mdecimal,\n\u001B[0;32m   3561\u001B[0m )\n\u001B[1;32m-> 3563\u001B[0m \u001B[38;5;28;01mreturn\u001B[39;00m \u001B[43mDataFrameRenderer\u001B[49m\u001B[43m(\u001B[49m\u001B[43mformatter\u001B[49m\u001B[43m)\u001B[49m\u001B[38;5;241;43m.\u001B[39;49m\u001B[43mto_csv\u001B[49m\u001B[43m(\u001B[49m\n\u001B[0;32m   3564\u001B[0m \u001B[43m    \u001B[49m\u001B[43mpath_or_buf\u001B[49m\u001B[43m,\u001B[49m\n\u001B[0;32m   3565\u001B[0m \u001B[43m    \u001B[49m\u001B[43mline_terminator\u001B[49m\u001B[38;5;241;43m=\u001B[39;49m\u001B[43mline_terminator\u001B[49m\u001B[43m,\u001B[49m\n\u001B[0;32m   3566\u001B[0m \u001B[43m    \u001B[49m\u001B[43msep\u001B[49m\u001B[38;5;241;43m=\u001B[39;49m\u001B[43msep\u001B[49m\u001B[43m,\u001B[49m\n\u001B[0;32m   3567\u001B[0m \u001B[43m    \u001B[49m\u001B[43mencoding\u001B[49m\u001B[38;5;241;43m=\u001B[39;49m\u001B[43mencoding\u001B[49m\u001B[43m,\u001B[49m\n\u001B[0;32m   3568\u001B[0m \u001B[43m    \u001B[49m\u001B[43merrors\u001B[49m\u001B[38;5;241;43m=\u001B[39;49m\u001B[43merrors\u001B[49m\u001B[43m,\u001B[49m\n\u001B[0;32m   3569\u001B[0m \u001B[43m    \u001B[49m\u001B[43mcompression\u001B[49m\u001B[38;5;241;43m=\u001B[39;49m\u001B[43mcompression\u001B[49m\u001B[43m,\u001B[49m\n\u001B[0;32m   3570\u001B[0m \u001B[43m    \u001B[49m\u001B[43mquoting\u001B[49m\u001B[38;5;241;43m=\u001B[39;49m\u001B[43mquoting\u001B[49m\u001B[43m,\u001B[49m\n\u001B[0;32m   3571\u001B[0m \u001B[43m    \u001B[49m\u001B[43mcolumns\u001B[49m\u001B[38;5;241;43m=\u001B[39;49m\u001B[43mcolumns\u001B[49m\u001B[43m,\u001B[49m\n\u001B[0;32m   3572\u001B[0m \u001B[43m    \u001B[49m\u001B[43mindex_label\u001B[49m\u001B[38;5;241;43m=\u001B[39;49m\u001B[43mindex_label\u001B[49m\u001B[43m,\u001B[49m\n\u001B[0;32m   3573\u001B[0m \u001B[43m    \u001B[49m\u001B[43mmode\u001B[49m\u001B[38;5;241;43m=\u001B[39;49m\u001B[43mmode\u001B[49m\u001B[43m,\u001B[49m\n\u001B[0;32m   3574\u001B[0m \u001B[43m    \u001B[49m\u001B[43mchunksize\u001B[49m\u001B[38;5;241;43m=\u001B[39;49m\u001B[43mchunksize\u001B[49m\u001B[43m,\u001B[49m\n\u001B[0;32m   3575\u001B[0m \u001B[43m    \u001B[49m\u001B[43mquotechar\u001B[49m\u001B[38;5;241;43m=\u001B[39;49m\u001B[43mquotechar\u001B[49m\u001B[43m,\u001B[49m\n\u001B[0;32m   3576\u001B[0m \u001B[43m    \u001B[49m\u001B[43mdate_format\u001B[49m\u001B[38;5;241;43m=\u001B[39;49m\u001B[43mdate_format\u001B[49m\u001B[43m,\u001B[49m\n\u001B[0;32m   3577\u001B[0m \u001B[43m    \u001B[49m\u001B[43mdoublequote\u001B[49m\u001B[38;5;241;43m=\u001B[39;49m\u001B[43mdoublequote\u001B[49m\u001B[43m,\u001B[49m\n\u001B[0;32m   3578\u001B[0m \u001B[43m    \u001B[49m\u001B[43mescapechar\u001B[49m\u001B[38;5;241;43m=\u001B[39;49m\u001B[43mescapechar\u001B[49m\u001B[43m,\u001B[49m\n\u001B[0;32m   3579\u001B[0m \u001B[43m    \u001B[49m\u001B[43mstorage_options\u001B[49m\u001B[38;5;241;43m=\u001B[39;49m\u001B[43mstorage_options\u001B[49m\u001B[43m,\u001B[49m\n\u001B[0;32m   3580\u001B[0m \u001B[43m\u001B[49m\u001B[43m)\u001B[49m\n",
      "File \u001B[1;32me:\\workspace\\std-clinical\\lib\\site-packages\\pandas\\io\\formats\\format.py:1180\u001B[0m, in \u001B[0;36mDataFrameRenderer.to_csv\u001B[1;34m(self, path_or_buf, encoding, sep, columns, index_label, mode, compression, quoting, quotechar, line_terminator, chunksize, date_format, doublequote, escapechar, errors, storage_options)\u001B[0m\n\u001B[0;32m   1159\u001B[0m     created_buffer \u001B[38;5;241m=\u001B[39m \u001B[38;5;28;01mFalse\u001B[39;00m\n\u001B[0;32m   1161\u001B[0m csv_formatter \u001B[38;5;241m=\u001B[39m CSVFormatter(\n\u001B[0;32m   1162\u001B[0m     path_or_buf\u001B[38;5;241m=\u001B[39mpath_or_buf,\n\u001B[0;32m   1163\u001B[0m     line_terminator\u001B[38;5;241m=\u001B[39mline_terminator,\n\u001B[1;32m   (...)\u001B[0m\n\u001B[0;32m   1178\u001B[0m     formatter\u001B[38;5;241m=\u001B[39m\u001B[38;5;28mself\u001B[39m\u001B[38;5;241m.\u001B[39mfmt,\n\u001B[0;32m   1179\u001B[0m )\n\u001B[1;32m-> 1180\u001B[0m \u001B[43mcsv_formatter\u001B[49m\u001B[38;5;241;43m.\u001B[39;49m\u001B[43msave\u001B[49m\u001B[43m(\u001B[49m\u001B[43m)\u001B[49m\n\u001B[0;32m   1182\u001B[0m \u001B[38;5;28;01mif\u001B[39;00m created_buffer:\n\u001B[0;32m   1183\u001B[0m     \u001B[38;5;28;01massert\u001B[39;00m \u001B[38;5;28misinstance\u001B[39m(path_or_buf, StringIO)\n",
      "File \u001B[1;32me:\\workspace\\std-clinical\\lib\\site-packages\\pandas\\io\\formats\\csvs.py:241\u001B[0m, in \u001B[0;36mCSVFormatter.save\u001B[1;34m(self)\u001B[0m\n\u001B[0;32m    237\u001B[0m \u001B[38;5;124;03m\"\"\"\u001B[39;00m\n\u001B[0;32m    238\u001B[0m \u001B[38;5;124;03mCreate the writer & save.\u001B[39;00m\n\u001B[0;32m    239\u001B[0m \u001B[38;5;124;03m\"\"\"\u001B[39;00m\n\u001B[0;32m    240\u001B[0m \u001B[38;5;66;03m# apply compression and byte/text conversion\u001B[39;00m\n\u001B[1;32m--> 241\u001B[0m \u001B[38;5;28;01mwith\u001B[39;00m \u001B[43mget_handle\u001B[49m\u001B[43m(\u001B[49m\n\u001B[0;32m    242\u001B[0m \u001B[43m    \u001B[49m\u001B[38;5;28;43mself\u001B[39;49m\u001B[38;5;241;43m.\u001B[39;49m\u001B[43mfilepath_or_buffer\u001B[49m\u001B[43m,\u001B[49m\n\u001B[0;32m    243\u001B[0m \u001B[43m    \u001B[49m\u001B[38;5;28;43mself\u001B[39;49m\u001B[38;5;241;43m.\u001B[39;49m\u001B[43mmode\u001B[49m\u001B[43m,\u001B[49m\n\u001B[0;32m    244\u001B[0m \u001B[43m    \u001B[49m\u001B[43mencoding\u001B[49m\u001B[38;5;241;43m=\u001B[39;49m\u001B[38;5;28;43mself\u001B[39;49m\u001B[38;5;241;43m.\u001B[39;49m\u001B[43mencoding\u001B[49m\u001B[43m,\u001B[49m\n\u001B[0;32m    245\u001B[0m \u001B[43m    \u001B[49m\u001B[43merrors\u001B[49m\u001B[38;5;241;43m=\u001B[39;49m\u001B[38;5;28;43mself\u001B[39;49m\u001B[38;5;241;43m.\u001B[39;49m\u001B[43merrors\u001B[49m\u001B[43m,\u001B[49m\n\u001B[0;32m    246\u001B[0m \u001B[43m    \u001B[49m\u001B[43mcompression\u001B[49m\u001B[38;5;241;43m=\u001B[39;49m\u001B[38;5;28;43mself\u001B[39;49m\u001B[38;5;241;43m.\u001B[39;49m\u001B[43mcompression\u001B[49m\u001B[43m,\u001B[49m\n\u001B[0;32m    247\u001B[0m \u001B[43m    \u001B[49m\u001B[43mstorage_options\u001B[49m\u001B[38;5;241;43m=\u001B[39;49m\u001B[38;5;28;43mself\u001B[39;49m\u001B[38;5;241;43m.\u001B[39;49m\u001B[43mstorage_options\u001B[49m\u001B[43m,\u001B[49m\n\u001B[0;32m    248\u001B[0m \u001B[43m\u001B[49m\u001B[43m)\u001B[49m \u001B[38;5;28;01mas\u001B[39;00m handles:\n\u001B[0;32m    249\u001B[0m \n\u001B[0;32m    250\u001B[0m     \u001B[38;5;66;03m# Note: self.encoding is irrelevant here\u001B[39;00m\n\u001B[0;32m    251\u001B[0m     \u001B[38;5;28mself\u001B[39m\u001B[38;5;241m.\u001B[39mwriter \u001B[38;5;241m=\u001B[39m csvlib\u001B[38;5;241m.\u001B[39mwriter(\n\u001B[0;32m    252\u001B[0m         handles\u001B[38;5;241m.\u001B[39mhandle,\n\u001B[0;32m    253\u001B[0m         lineterminator\u001B[38;5;241m=\u001B[39m\u001B[38;5;28mself\u001B[39m\u001B[38;5;241m.\u001B[39mline_terminator,\n\u001B[1;32m   (...)\u001B[0m\n\u001B[0;32m    258\u001B[0m         quotechar\u001B[38;5;241m=\u001B[39m\u001B[38;5;28mself\u001B[39m\u001B[38;5;241m.\u001B[39mquotechar,\n\u001B[0;32m    259\u001B[0m     )\n\u001B[0;32m    261\u001B[0m     \u001B[38;5;28mself\u001B[39m\u001B[38;5;241m.\u001B[39m_save()\n",
      "File \u001B[1;32me:\\workspace\\std-clinical\\lib\\site-packages\\pandas\\io\\common.py:789\u001B[0m, in \u001B[0;36mget_handle\u001B[1;34m(path_or_buf, mode, encoding, compression, memory_map, is_text, errors, storage_options)\u001B[0m\n\u001B[0;32m    784\u001B[0m \u001B[38;5;28;01melif\u001B[39;00m \u001B[38;5;28misinstance\u001B[39m(handle, \u001B[38;5;28mstr\u001B[39m):\n\u001B[0;32m    785\u001B[0m     \u001B[38;5;66;03m# Check whether the filename is to be opened in binary mode.\u001B[39;00m\n\u001B[0;32m    786\u001B[0m     \u001B[38;5;66;03m# Binary mode does not support 'encoding' and 'newline'.\u001B[39;00m\n\u001B[0;32m    787\u001B[0m     \u001B[38;5;28;01mif\u001B[39;00m ioargs\u001B[38;5;241m.\u001B[39mencoding \u001B[38;5;129;01mand\u001B[39;00m \u001B[38;5;124m\"\u001B[39m\u001B[38;5;124mb\u001B[39m\u001B[38;5;124m\"\u001B[39m \u001B[38;5;129;01mnot\u001B[39;00m \u001B[38;5;129;01min\u001B[39;00m ioargs\u001B[38;5;241m.\u001B[39mmode:\n\u001B[0;32m    788\u001B[0m         \u001B[38;5;66;03m# Encoding\u001B[39;00m\n\u001B[1;32m--> 789\u001B[0m         handle \u001B[38;5;241m=\u001B[39m \u001B[38;5;28;43mopen\u001B[39;49m\u001B[43m(\u001B[49m\n\u001B[0;32m    790\u001B[0m \u001B[43m            \u001B[49m\u001B[43mhandle\u001B[49m\u001B[43m,\u001B[49m\n\u001B[0;32m    791\u001B[0m \u001B[43m            \u001B[49m\u001B[43mioargs\u001B[49m\u001B[38;5;241;43m.\u001B[39;49m\u001B[43mmode\u001B[49m\u001B[43m,\u001B[49m\n\u001B[0;32m    792\u001B[0m \u001B[43m            \u001B[49m\u001B[43mencoding\u001B[49m\u001B[38;5;241;43m=\u001B[39;49m\u001B[43mioargs\u001B[49m\u001B[38;5;241;43m.\u001B[39;49m\u001B[43mencoding\u001B[49m\u001B[43m,\u001B[49m\n\u001B[0;32m    793\u001B[0m \u001B[43m            \u001B[49m\u001B[43merrors\u001B[49m\u001B[38;5;241;43m=\u001B[39;49m\u001B[43merrors\u001B[49m\u001B[43m,\u001B[49m\n\u001B[0;32m    794\u001B[0m \u001B[43m            \u001B[49m\u001B[43mnewline\u001B[49m\u001B[38;5;241;43m=\u001B[39;49m\u001B[38;5;124;43m\"\u001B[39;49m\u001B[38;5;124;43m\"\u001B[39;49m\u001B[43m,\u001B[49m\n\u001B[0;32m    795\u001B[0m \u001B[43m        \u001B[49m\u001B[43m)\u001B[49m\n\u001B[0;32m    796\u001B[0m     \u001B[38;5;28;01melse\u001B[39;00m:\n\u001B[0;32m    797\u001B[0m         \u001B[38;5;66;03m# Binary mode\u001B[39;00m\n\u001B[0;32m    798\u001B[0m         handle \u001B[38;5;241m=\u001B[39m \u001B[38;5;28mopen\u001B[39m(handle, ioargs\u001B[38;5;241m.\u001B[39mmode)\n",
      "\u001B[1;31mOSError\u001B[0m: [Errno 22] Invalid argument: 'D:\\\\My New Project Workplace\\\\VIS-eSRD-LAB\\\\SALT_C\\\\data\\\\my_data\\x07ttr_explode.csv'"
     ]
    }
   ],
   "source": [
    "attr_exp.to_csv('D:\\My New Project Workplace\\VIS-eSRD-LAB\\SALT_C\\data\\my_data\\attr_explode.csv');"
   ],
   "metadata": {
    "collapsed": false,
    "pycharm": {
     "name": "#%%\n"
    }
   }
  },
  {
   "cell_type": "markdown",
   "source": [
    "Source1\n"
   ],
   "metadata": {
    "collapsed": false
   }
  },
  {
   "cell_type": "code",
   "execution_count": 59,
   "outputs": [
    {
     "data": {
      "text/plain": "       test_key        test_name  attr_key    attribute result  unit  \\\n0         10921  ALT(SGPT) Serum     14344   ALT (SGPT)     10   U/L   \n1         10921  ALT(SGPT) Serum     14344   ALT (SGPT)    100   U/L   \n2         10921  ALT(SGPT) Serum     14344   ALT (SGPT)   10.0   U/L   \n3         10921  ALT(SGPT) Serum     14344   ALT (SGPT)   1000   U/L   \n4         10921  ALT(SGPT) Serum     14344   ALT (SGPT)    101   U/L   \n...         ...              ...       ...          ...    ...   ...   \n16027     10616      Urine R/M/E     13028        Yeast  Trace  Null   \n16028     10616      Urine R/M/E     13029  Spermatozoa    (+)  Null   \n16029     10616      Urine R/M/E     13029  Spermatozoa   (++)  Null   \n16030     10616      Urine R/M/E     13029  Spermatozoa    Few  Null   \n16031     10616      Urine R/M/E     13029  Spermatozoa    Nil  Null   \n\n       record_count    data_type  \\\n0                14   Neumerical   \n1                 6   Neumerical   \n2                 1   Neumerical   \n3                 2   Neumerical   \n4                 3   Neumerical   \n...             ...          ...   \n16027             3  Categorical   \n16028             7  Categorical   \n16029             3  Categorical   \n16030             1  Categorical   \n16031           420  Categorical   \n\n                                                  unique  \n0      [10, 100, 10.0, 1000, 101, 102, 103, 104, 105,...  \n1      [10, 100, 10.0, 1000, 101, 102, 103, 104, 105,...  \n2      [10, 100, 10.0, 1000, 101, 102, 103, 104, 105,...  \n3      [10, 100, 10.0, 1000, 101, 102, 103, 104, 105,...  \n4      [10, 100, 10.0, 1000, 101, 102, 103, 104, 105,...  \n...                                                  ...  \n16027                            [(+), (++), Nil, Trace]  \n16028                              [(+), (++), Few, Nil]  \n16029                              [(+), (++), Few, Nil]  \n16030                              [(+), (++), Few, Nil]  \n16031                              [(+), (++), Few, Nil]  \n\n[16032 rows x 9 columns]",
      "text/html": "<div>\n<style scoped>\n    .dataframe tbody tr th:only-of-type {\n        vertical-align: middle;\n    }\n\n    .dataframe tbody tr th {\n        vertical-align: top;\n    }\n\n    .dataframe thead th {\n        text-align: right;\n    }\n</style>\n<table border=\"1\" class=\"dataframe\">\n  <thead>\n    <tr style=\"text-align: right;\">\n      <th></th>\n      <th>test_key</th>\n      <th>test_name</th>\n      <th>attr_key</th>\n      <th>attribute</th>\n      <th>result</th>\n      <th>unit</th>\n      <th>record_count</th>\n      <th>data_type</th>\n      <th>unique</th>\n    </tr>\n  </thead>\n  <tbody>\n    <tr>\n      <th>0</th>\n      <td>10921</td>\n      <td>ALT(SGPT) Serum</td>\n      <td>14344</td>\n      <td>ALT (SGPT)</td>\n      <td>10</td>\n      <td>U/L</td>\n      <td>14</td>\n      <td>Neumerical</td>\n      <td>[10, 100, 10.0, 1000, 101, 102, 103, 104, 105,...</td>\n    </tr>\n    <tr>\n      <th>1</th>\n      <td>10921</td>\n      <td>ALT(SGPT) Serum</td>\n      <td>14344</td>\n      <td>ALT (SGPT)</td>\n      <td>100</td>\n      <td>U/L</td>\n      <td>6</td>\n      <td>Neumerical</td>\n      <td>[10, 100, 10.0, 1000, 101, 102, 103, 104, 105,...</td>\n    </tr>\n    <tr>\n      <th>2</th>\n      <td>10921</td>\n      <td>ALT(SGPT) Serum</td>\n      <td>14344</td>\n      <td>ALT (SGPT)</td>\n      <td>10.0</td>\n      <td>U/L</td>\n      <td>1</td>\n      <td>Neumerical</td>\n      <td>[10, 100, 10.0, 1000, 101, 102, 103, 104, 105,...</td>\n    </tr>\n    <tr>\n      <th>3</th>\n      <td>10921</td>\n      <td>ALT(SGPT) Serum</td>\n      <td>14344</td>\n      <td>ALT (SGPT)</td>\n      <td>1000</td>\n      <td>U/L</td>\n      <td>2</td>\n      <td>Neumerical</td>\n      <td>[10, 100, 10.0, 1000, 101, 102, 103, 104, 105,...</td>\n    </tr>\n    <tr>\n      <th>4</th>\n      <td>10921</td>\n      <td>ALT(SGPT) Serum</td>\n      <td>14344</td>\n      <td>ALT (SGPT)</td>\n      <td>101</td>\n      <td>U/L</td>\n      <td>3</td>\n      <td>Neumerical</td>\n      <td>[10, 100, 10.0, 1000, 101, 102, 103, 104, 105,...</td>\n    </tr>\n    <tr>\n      <th>...</th>\n      <td>...</td>\n      <td>...</td>\n      <td>...</td>\n      <td>...</td>\n      <td>...</td>\n      <td>...</td>\n      <td>...</td>\n      <td>...</td>\n      <td>...</td>\n    </tr>\n    <tr>\n      <th>16027</th>\n      <td>10616</td>\n      <td>Urine R/M/E</td>\n      <td>13028</td>\n      <td>Yeast</td>\n      <td>Trace</td>\n      <td>Null</td>\n      <td>3</td>\n      <td>Categorical</td>\n      <td>[(+), (++), Nil, Trace]</td>\n    </tr>\n    <tr>\n      <th>16028</th>\n      <td>10616</td>\n      <td>Urine R/M/E</td>\n      <td>13029</td>\n      <td>Spermatozoa</td>\n      <td>(+)</td>\n      <td>Null</td>\n      <td>7</td>\n      <td>Categorical</td>\n      <td>[(+), (++), Few, Nil]</td>\n    </tr>\n    <tr>\n      <th>16029</th>\n      <td>10616</td>\n      <td>Urine R/M/E</td>\n      <td>13029</td>\n      <td>Spermatozoa</td>\n      <td>(++)</td>\n      <td>Null</td>\n      <td>3</td>\n      <td>Categorical</td>\n      <td>[(+), (++), Few, Nil]</td>\n    </tr>\n    <tr>\n      <th>16030</th>\n      <td>10616</td>\n      <td>Urine R/M/E</td>\n      <td>13029</td>\n      <td>Spermatozoa</td>\n      <td>Few</td>\n      <td>Null</td>\n      <td>1</td>\n      <td>Categorical</td>\n      <td>[(+), (++), Few, Nil]</td>\n    </tr>\n    <tr>\n      <th>16031</th>\n      <td>10616</td>\n      <td>Urine R/M/E</td>\n      <td>13029</td>\n      <td>Spermatozoa</td>\n      <td>Nil</td>\n      <td>Null</td>\n      <td>420</td>\n      <td>Categorical</td>\n      <td>[(+), (++), Few, Nil]</td>\n    </tr>\n  </tbody>\n</table>\n<p>16032 rows × 9 columns</p>\n</div>"
     },
     "execution_count": 59,
     "metadata": {},
     "output_type": "execute_result"
    }
   ],
   "source": [
    "source1"
   ],
   "metadata": {
    "collapsed": false,
    "pycharm": {
     "name": "#%%\n"
    }
   }
  },
  {
   "cell_type": "code",
   "execution_count": 62,
   "outputs": [],
   "source": [
    "source1_mod_atr = source1[['attr_key', 'attribute', 'result']]"
   ],
   "metadata": {
    "collapsed": false,
    "pycharm": {
     "name": "#%%\n"
    }
   }
  },
  {
   "cell_type": "code",
   "execution_count": 63,
   "outputs": [
    {
     "data": {
      "text/plain": "       attr_key    attribute result\n0         14344   ALT (SGPT)     10\n1         14344   ALT (SGPT)    100\n2         14344   ALT (SGPT)   10.0\n3         14344   ALT (SGPT)   1000\n4         14344   ALT (SGPT)    101\n...         ...          ...    ...\n16027     13028        Yeast  Trace\n16028     13029  Spermatozoa    (+)\n16029     13029  Spermatozoa   (++)\n16030     13029  Spermatozoa    Few\n16031     13029  Spermatozoa    Nil\n\n[16032 rows x 3 columns]",
      "text/html": "<div>\n<style scoped>\n    .dataframe tbody tr th:only-of-type {\n        vertical-align: middle;\n    }\n\n    .dataframe tbody tr th {\n        vertical-align: top;\n    }\n\n    .dataframe thead th {\n        text-align: right;\n    }\n</style>\n<table border=\"1\" class=\"dataframe\">\n  <thead>\n    <tr style=\"text-align: right;\">\n      <th></th>\n      <th>attr_key</th>\n      <th>attribute</th>\n      <th>result</th>\n    </tr>\n  </thead>\n  <tbody>\n    <tr>\n      <th>0</th>\n      <td>14344</td>\n      <td>ALT (SGPT)</td>\n      <td>10</td>\n    </tr>\n    <tr>\n      <th>1</th>\n      <td>14344</td>\n      <td>ALT (SGPT)</td>\n      <td>100</td>\n    </tr>\n    <tr>\n      <th>2</th>\n      <td>14344</td>\n      <td>ALT (SGPT)</td>\n      <td>10.0</td>\n    </tr>\n    <tr>\n      <th>3</th>\n      <td>14344</td>\n      <td>ALT (SGPT)</td>\n      <td>1000</td>\n    </tr>\n    <tr>\n      <th>4</th>\n      <td>14344</td>\n      <td>ALT (SGPT)</td>\n      <td>101</td>\n    </tr>\n    <tr>\n      <th>...</th>\n      <td>...</td>\n      <td>...</td>\n      <td>...</td>\n    </tr>\n    <tr>\n      <th>16027</th>\n      <td>13028</td>\n      <td>Yeast</td>\n      <td>Trace</td>\n    </tr>\n    <tr>\n      <th>16028</th>\n      <td>13029</td>\n      <td>Spermatozoa</td>\n      <td>(+)</td>\n    </tr>\n    <tr>\n      <th>16029</th>\n      <td>13029</td>\n      <td>Spermatozoa</td>\n      <td>(++)</td>\n    </tr>\n    <tr>\n      <th>16030</th>\n      <td>13029</td>\n      <td>Spermatozoa</td>\n      <td>Few</td>\n    </tr>\n    <tr>\n      <th>16031</th>\n      <td>13029</td>\n      <td>Spermatozoa</td>\n      <td>Nil</td>\n    </tr>\n  </tbody>\n</table>\n<p>16032 rows × 3 columns</p>\n</div>"
     },
     "execution_count": 63,
     "metadata": {},
     "output_type": "execute_result"
    }
   ],
   "source": [
    "source1_mod_atr"
   ],
   "metadata": {
    "collapsed": false,
    "pycharm": {
     "name": "#%%\n"
    }
   }
  },
  {
   "cell_type": "code",
   "execution_count": null,
   "outputs": [],
   "source": [],
   "metadata": {
    "collapsed": false,
    "pycharm": {
     "name": "#%%\n"
    }
   }
  },
  {
   "cell_type": "code",
   "execution_count": 64,
   "outputs": [],
   "source": [
    "source1_mod_atr.to_csv(\"D:\\My New Project Workplace\\VIS-eSRD-LAB\\SALT_C\\data\\my_data\\source1_attr.csv\")"
   ],
   "metadata": {
    "collapsed": false,
    "pycharm": {
     "name": "#%%\n"
    }
   }
  },
  {
   "cell_type": "code",
   "execution_count": null,
   "outputs": [],
   "source": [],
   "metadata": {
    "collapsed": false,
    "pycharm": {
     "name": "#%%\n"
    }
   }
  }
 ],
 "metadata": {
  "kernelspec": {
   "display_name": "Python 3 (ipykernel)",
   "language": "python",
   "name": "python3"
  },
  "language_info": {
   "codemirror_mode": {
    "name": "ipython",
    "version": 3
   },
   "file_extension": ".py",
   "mimetype": "text/x-python",
   "name": "python",
   "nbconvert_exporter": "python",
   "pygments_lexer": "ipython3",
   "version": "3.8.10"
  }
 },
 "nbformat": 4,
 "nbformat_minor": 5
}