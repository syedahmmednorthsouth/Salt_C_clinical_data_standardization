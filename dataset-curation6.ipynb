{
 "cells": [
  {
   "cell_type": "code",
   "execution_count": 28,
   "metadata": {
    "collapsed": true
   },
   "outputs": [],
   "source": [
    "import pandas as pd\n",
    "\n",
    "import numpy as np"
   ]
  },
  {
   "cell_type": "code",
   "execution_count": 29,
   "outputs": [
    {
     "name": "stderr",
     "output_type": "stream",
     "text": [
      "C:\\Users\\ASUS\\AppData\\Local\\Temp\\ipykernel_16664\\4011507011.py:1: DtypeWarning: Columns (8,14) have mixed types. Specify dtype option on import or set low_memory=False.\n",
      "  df = pd.read_csv(\"./dataset/APItoStaging/testresult-6.csv\")\n"
     ]
    }
   ],
   "source": [
    "df = pd.read_csv(\"./dataset/APItoStaging/testresult-6.csv\")"
   ],
   "metadata": {
    "collapsed": false,
    "pycharm": {
     "name": "#%%\n"
    }
   }
  },
  {
   "cell_type": "code",
   "execution_count": 30,
   "outputs": [],
   "source": [
    "df = df[['attr_id', 'attr_name', 'result', 'test_group_name']]"
   ],
   "metadata": {
    "collapsed": false,
    "pycharm": {
     "name": "#%%\n"
    }
   }
  },
  {
   "cell_type": "code",
   "execution_count": 31,
   "outputs": [],
   "source": [
    "df['result'] = df['result'].astype(str);"
   ],
   "metadata": {
    "collapsed": false,
    "pycharm": {
     "name": "#%%\n"
    }
   }
  },
  {
   "cell_type": "code",
   "execution_count": 32,
   "outputs": [
    {
     "data": {
      "text/plain": "         attr_id                attr_name result     test_group_name\n0       100083.0              Others (DC)    nan  Differential Count\n1       104291.0                      ESR    nan                 NaN\n2       104387.0                      LUC     00  Differential Count\n3       104442.0      Blast+ Promyelocyte    nan  Differential Count\n4       104443.0     Blast+ Prolymphocyte    nan  Differential Count\n...          ...                      ...    ...                 ...\n534120  102218.0  ESR (Westergren Method)     25                 NaN\n534121  102220.0          Red Blood Cells    5.2         Total Count\n534122  102221.0                Platelets    390         Total Count\n534123  102223.0        White Blood Cells    8.1         Total Count\n534124  102224.0               Neutrophil     58  Differential Count\n\n[534125 rows x 4 columns]",
      "text/html": "<div>\n<style scoped>\n    .dataframe tbody tr th:only-of-type {\n        vertical-align: middle;\n    }\n\n    .dataframe tbody tr th {\n        vertical-align: top;\n    }\n\n    .dataframe thead th {\n        text-align: right;\n    }\n</style>\n<table border=\"1\" class=\"dataframe\">\n  <thead>\n    <tr style=\"text-align: right;\">\n      <th></th>\n      <th>attr_id</th>\n      <th>attr_name</th>\n      <th>result</th>\n      <th>test_group_name</th>\n    </tr>\n  </thead>\n  <tbody>\n    <tr>\n      <th>0</th>\n      <td>100083.0</td>\n      <td>Others (DC)</td>\n      <td>nan</td>\n      <td>Differential Count</td>\n    </tr>\n    <tr>\n      <th>1</th>\n      <td>104291.0</td>\n      <td>ESR</td>\n      <td>nan</td>\n      <td>NaN</td>\n    </tr>\n    <tr>\n      <th>2</th>\n      <td>104387.0</td>\n      <td>LUC</td>\n      <td>00</td>\n      <td>Differential Count</td>\n    </tr>\n    <tr>\n      <th>3</th>\n      <td>104442.0</td>\n      <td>Blast+ Promyelocyte</td>\n      <td>nan</td>\n      <td>Differential Count</td>\n    </tr>\n    <tr>\n      <th>4</th>\n      <td>104443.0</td>\n      <td>Blast+ Prolymphocyte</td>\n      <td>nan</td>\n      <td>Differential Count</td>\n    </tr>\n    <tr>\n      <th>...</th>\n      <td>...</td>\n      <td>...</td>\n      <td>...</td>\n      <td>...</td>\n    </tr>\n    <tr>\n      <th>534120</th>\n      <td>102218.0</td>\n      <td>ESR (Westergren Method)</td>\n      <td>25</td>\n      <td>NaN</td>\n    </tr>\n    <tr>\n      <th>534121</th>\n      <td>102220.0</td>\n      <td>Red Blood Cells</td>\n      <td>5.2</td>\n      <td>Total Count</td>\n    </tr>\n    <tr>\n      <th>534122</th>\n      <td>102221.0</td>\n      <td>Platelets</td>\n      <td>390</td>\n      <td>Total Count</td>\n    </tr>\n    <tr>\n      <th>534123</th>\n      <td>102223.0</td>\n      <td>White Blood Cells</td>\n      <td>8.1</td>\n      <td>Total Count</td>\n    </tr>\n    <tr>\n      <th>534124</th>\n      <td>102224.0</td>\n      <td>Neutrophil</td>\n      <td>58</td>\n      <td>Differential Count</td>\n    </tr>\n  </tbody>\n</table>\n<p>534125 rows × 4 columns</p>\n</div>"
     },
     "execution_count": 32,
     "metadata": {},
     "output_type": "execute_result"
    }
   ],
   "source": [
    "df"
   ],
   "metadata": {
    "collapsed": false,
    "pycharm": {
     "name": "#%%\n"
    }
   }
  },
  {
   "cell_type": "code",
   "execution_count": 33,
   "outputs": [
    {
     "name": "stdout",
     "output_type": "stream",
     "text": [
      "534125 (534125, 4)\n"
     ]
    },
    {
     "data": {
      "text/plain": "         attr_id                attr_name result     test_group_name  \\\n0       100083.0              Others (DC)    nan  Differential Count   \n1       104291.0                      ESR    nan                 NaN   \n2       104387.0                      LUC     00  Differential Count   \n3       104442.0      Blast+ Promyelocyte    nan  Differential Count   \n4       104443.0     Blast+ Prolymphocyte    nan  Differential Count   \n...          ...                      ...    ...                 ...   \n534120  102218.0  ESR (Westergren Method)     25                 NaN   \n534121  102220.0          Red Blood Cells    5.2         Total Count   \n534122  102221.0                Platelets    390         Total Count   \n534123  102223.0        White Blood Cells    8.1         Total Count   \n534124  102224.0               Neutrophil     58  Differential Count   \n\n         data_type  \n0       Neumerical  \n1       Neumerical  \n2       Neumerical  \n3       Neumerical  \n4       Neumerical  \n...            ...  \n534120  Neumerical  \n534121  Neumerical  \n534122  Neumerical  \n534123  Neumerical  \n534124  Neumerical  \n\n[534125 rows x 5 columns]",
      "text/html": "<div>\n<style scoped>\n    .dataframe tbody tr th:only-of-type {\n        vertical-align: middle;\n    }\n\n    .dataframe tbody tr th {\n        vertical-align: top;\n    }\n\n    .dataframe thead th {\n        text-align: right;\n    }\n</style>\n<table border=\"1\" class=\"dataframe\">\n  <thead>\n    <tr style=\"text-align: right;\">\n      <th></th>\n      <th>attr_id</th>\n      <th>attr_name</th>\n      <th>result</th>\n      <th>test_group_name</th>\n      <th>data_type</th>\n    </tr>\n  </thead>\n  <tbody>\n    <tr>\n      <th>0</th>\n      <td>100083.0</td>\n      <td>Others (DC)</td>\n      <td>nan</td>\n      <td>Differential Count</td>\n      <td>Neumerical</td>\n    </tr>\n    <tr>\n      <th>1</th>\n      <td>104291.0</td>\n      <td>ESR</td>\n      <td>nan</td>\n      <td>NaN</td>\n      <td>Neumerical</td>\n    </tr>\n    <tr>\n      <th>2</th>\n      <td>104387.0</td>\n      <td>LUC</td>\n      <td>00</td>\n      <td>Differential Count</td>\n      <td>Neumerical</td>\n    </tr>\n    <tr>\n      <th>3</th>\n      <td>104442.0</td>\n      <td>Blast+ Promyelocyte</td>\n      <td>nan</td>\n      <td>Differential Count</td>\n      <td>Neumerical</td>\n    </tr>\n    <tr>\n      <th>4</th>\n      <td>104443.0</td>\n      <td>Blast+ Prolymphocyte</td>\n      <td>nan</td>\n      <td>Differential Count</td>\n      <td>Neumerical</td>\n    </tr>\n    <tr>\n      <th>...</th>\n      <td>...</td>\n      <td>...</td>\n      <td>...</td>\n      <td>...</td>\n      <td>...</td>\n    </tr>\n    <tr>\n      <th>534120</th>\n      <td>102218.0</td>\n      <td>ESR (Westergren Method)</td>\n      <td>25</td>\n      <td>NaN</td>\n      <td>Neumerical</td>\n    </tr>\n    <tr>\n      <th>534121</th>\n      <td>102220.0</td>\n      <td>Red Blood Cells</td>\n      <td>5.2</td>\n      <td>Total Count</td>\n      <td>Neumerical</td>\n    </tr>\n    <tr>\n      <th>534122</th>\n      <td>102221.0</td>\n      <td>Platelets</td>\n      <td>390</td>\n      <td>Total Count</td>\n      <td>Neumerical</td>\n    </tr>\n    <tr>\n      <th>534123</th>\n      <td>102223.0</td>\n      <td>White Blood Cells</td>\n      <td>8.1</td>\n      <td>Total Count</td>\n      <td>Neumerical</td>\n    </tr>\n    <tr>\n      <th>534124</th>\n      <td>102224.0</td>\n      <td>Neutrophil</td>\n      <td>58</td>\n      <td>Differential Count</td>\n      <td>Neumerical</td>\n    </tr>\n  </tbody>\n</table>\n<p>534125 rows × 5 columns</p>\n</div>"
     },
     "execution_count": 33,
     "metadata": {},
     "output_type": "execute_result"
    }
   ],
   "source": [
    "types = []\n",
    "for index, row in df.iterrows():\n",
    "\n",
    "#     print(row['test_name'], row['attribute'], row['result'], type(row['result']))\n",
    "    try:\n",
    "        val = float(row['result'])\n",
    "        types.append('Neumerical')\n",
    "    except:\n",
    "        types.append('Categorical')\n",
    "#         print(\"That's not an int!\")\n",
    "print(len(types), df.shape)\n",
    "# print(types)\n",
    "df['data_type'] = pd.DataFrame(types)\n",
    "df"
   ],
   "metadata": {
    "collapsed": false,
    "pycharm": {
     "name": "#%%\n"
    }
   }
  },
  {
   "cell_type": "code",
   "execution_count": 34,
   "outputs": [],
   "source": [
    "df_catagorical = df[df['data_type'] == 'Categorical']"
   ],
   "metadata": {
    "collapsed": false,
    "pycharm": {
     "name": "#%%\n"
    }
   }
  },
  {
   "cell_type": "code",
   "execution_count": 35,
   "outputs": [
    {
     "data": {
      "text/plain": "          attr_id      attr_name    result       test_group_name    data_type\n232     3000017.0     Appearance     Clear  PHYSICAL EXAMINATION  Categorical\n234     3000020.0         Colour     Straw  PHYSICAL EXAMINATION  Categorical\n528     3000017.0     Appearance     Clear  PHYSICAL EXAMINATION  Categorical\n530     3000020.0         Colour     Straw  PHYSICAL EXAMINATION  Categorical\n629      102197.0   Fat Globules       (+)                OTHERS  Categorical\n...           ...            ...       ...                   ...          ...\n533972  3002611.0      Rh Type :  Positive                   NaN  Categorical\n533984  3002604.0  Blood Group :       \"B\"                   NaN  Categorical\n533985  3002605.0      Rh Type :  Positive                   NaN  Categorical\n533990  3002610.0  Blood Group :       \"B\"                   NaN  Categorical\n533991  3002611.0      Rh Type :  Positive                   NaN  Categorical\n\n[11998 rows x 5 columns]",
      "text/html": "<div>\n<style scoped>\n    .dataframe tbody tr th:only-of-type {\n        vertical-align: middle;\n    }\n\n    .dataframe tbody tr th {\n        vertical-align: top;\n    }\n\n    .dataframe thead th {\n        text-align: right;\n    }\n</style>\n<table border=\"1\" class=\"dataframe\">\n  <thead>\n    <tr style=\"text-align: right;\">\n      <th></th>\n      <th>attr_id</th>\n      <th>attr_name</th>\n      <th>result</th>\n      <th>test_group_name</th>\n      <th>data_type</th>\n    </tr>\n  </thead>\n  <tbody>\n    <tr>\n      <th>232</th>\n      <td>3000017.0</td>\n      <td>Appearance</td>\n      <td>Clear</td>\n      <td>PHYSICAL EXAMINATION</td>\n      <td>Categorical</td>\n    </tr>\n    <tr>\n      <th>234</th>\n      <td>3000020.0</td>\n      <td>Colour</td>\n      <td>Straw</td>\n      <td>PHYSICAL EXAMINATION</td>\n      <td>Categorical</td>\n    </tr>\n    <tr>\n      <th>528</th>\n      <td>3000017.0</td>\n      <td>Appearance</td>\n      <td>Clear</td>\n      <td>PHYSICAL EXAMINATION</td>\n      <td>Categorical</td>\n    </tr>\n    <tr>\n      <th>530</th>\n      <td>3000020.0</td>\n      <td>Colour</td>\n      <td>Straw</td>\n      <td>PHYSICAL EXAMINATION</td>\n      <td>Categorical</td>\n    </tr>\n    <tr>\n      <th>629</th>\n      <td>102197.0</td>\n      <td>Fat Globules</td>\n      <td>(+)</td>\n      <td>OTHERS</td>\n      <td>Categorical</td>\n    </tr>\n    <tr>\n      <th>...</th>\n      <td>...</td>\n      <td>...</td>\n      <td>...</td>\n      <td>...</td>\n      <td>...</td>\n    </tr>\n    <tr>\n      <th>533972</th>\n      <td>3002611.0</td>\n      <td>Rh Type :</td>\n      <td>Positive</td>\n      <td>NaN</td>\n      <td>Categorical</td>\n    </tr>\n    <tr>\n      <th>533984</th>\n      <td>3002604.0</td>\n      <td>Blood Group :</td>\n      <td>\"B\"</td>\n      <td>NaN</td>\n      <td>Categorical</td>\n    </tr>\n    <tr>\n      <th>533985</th>\n      <td>3002605.0</td>\n      <td>Rh Type :</td>\n      <td>Positive</td>\n      <td>NaN</td>\n      <td>Categorical</td>\n    </tr>\n    <tr>\n      <th>533990</th>\n      <td>3002610.0</td>\n      <td>Blood Group :</td>\n      <td>\"B\"</td>\n      <td>NaN</td>\n      <td>Categorical</td>\n    </tr>\n    <tr>\n      <th>533991</th>\n      <td>3002611.0</td>\n      <td>Rh Type :</td>\n      <td>Positive</td>\n      <td>NaN</td>\n      <td>Categorical</td>\n    </tr>\n  </tbody>\n</table>\n<p>11998 rows × 5 columns</p>\n</div>"
     },
     "execution_count": 35,
     "metadata": {},
     "output_type": "execute_result"
    }
   ],
   "source": [
    "df_cat =df_catagorical.loc[df_catagorical['attr_name'].isin(['Anti-HAV IgM','Anti-HBe' ,'Blood Group :','Blood Group','Blood Group: ABO','Chikungunya Antibody IgM','Color','Colour','Anti-HCV','HBs Ag',  'Fat Globules','Toxoplasma IgM','M.P.V','Mucus','Albumin','Appearance','Anti-HCV','Anti-HBc Total','Dengue Ag NS1 (ICT)','Malaria Ag (ICT)','IgG Against Dengue Virus','Rh (D)','Rh Type :','VDRL',])]\n",
    "df_cat\n",
    "\n",
    "\n"
   ],
   "metadata": {
    "collapsed": false,
    "pycharm": {
     "name": "#%%\n"
    }
   }
  },
  {
   "cell_type": "code",
   "execution_count": 36,
   "outputs": [],
   "source": [
    "df_cat.to_csv(\"./dataset/Choose_Atribute/attribute_6.csv\")"
   ],
   "metadata": {
    "collapsed": false,
    "pycharm": {
     "name": "#%%\n"
    }
   }
  },
  {
   "cell_type": "code",
   "execution_count": 8,
   "outputs": [
    {
     "data": {
      "text/plain": "                                                                   unique\nattr_name                                                                \n         H. influenzae type b                                  [Negative]\n         N. meningitidis ACYW135                               [Negative]\n         N. meningitidis B/E. coli\\t                           [Negative]\n         S. pneumoniae                                         [Negative]\n         Streptococcus group B                                 [Negative]\n...                                                                   ...\nYeast                                 [Nil, Trace, (++), (+), 0-1, (+++)]\nYeasts                                                  [Nil, Trace, (+)]\na. Normal     :                                                     [Nil]\nb. Abnormal :                                                       [Nil]\n�hCG                                                      [< 1.20, <1.20]\n\n[277 rows x 1 columns]",
      "text/html": "<div>\n<style scoped>\n    .dataframe tbody tr th:only-of-type {\n        vertical-align: middle;\n    }\n\n    .dataframe tbody tr th {\n        vertical-align: top;\n    }\n\n    .dataframe thead th {\n        text-align: right;\n    }\n</style>\n<table border=\"1\" class=\"dataframe\">\n  <thead>\n    <tr style=\"text-align: right;\">\n      <th></th>\n      <th>unique</th>\n    </tr>\n    <tr>\n      <th>attr_name</th>\n      <th></th>\n    </tr>\n  </thead>\n  <tbody>\n    <tr>\n      <th>H. influenzae type b</th>\n      <td>[Negative]</td>\n    </tr>\n    <tr>\n      <th>N. meningitidis ACYW135</th>\n      <td>[Negative]</td>\n    </tr>\n    <tr>\n      <th>N. meningitidis B/E. coli\\t</th>\n      <td>[Negative]</td>\n    </tr>\n    <tr>\n      <th>S. pneumoniae</th>\n      <td>[Negative]</td>\n    </tr>\n    <tr>\n      <th>Streptococcus group B</th>\n      <td>[Negative]</td>\n    </tr>\n    <tr>\n      <th>...</th>\n      <td>...</td>\n    </tr>\n    <tr>\n      <th>Yeast</th>\n      <td>[Nil, Trace, (++), (+), 0-1, (+++)]</td>\n    </tr>\n    <tr>\n      <th>Yeasts</th>\n      <td>[Nil, Trace, (+)]</td>\n    </tr>\n    <tr>\n      <th>a. Normal     :</th>\n      <td>[Nil]</td>\n    </tr>\n    <tr>\n      <th>b. Abnormal :</th>\n      <td>[Nil]</td>\n    </tr>\n    <tr>\n      <th>�hCG</th>\n      <td>[&lt; 1.20, &lt;1.20]</td>\n    </tr>\n  </tbody>\n</table>\n<p>277 rows × 1 columns</p>\n</div>"
     },
     "execution_count": 8,
     "metadata": {},
     "output_type": "execute_result"
    }
   ],
   "source": [
    "g = df_catagorical.groupby('attr_name', as_index = False)['result'].agg(['unique'])\n",
    "g"
   ],
   "metadata": {
    "collapsed": false,
    "pycharm": {
     "name": "#%%\n"
    }
   }
  },
  {
   "cell_type": "code",
   "execution_count": 9,
   "outputs": [
    {
     "data": {
      "text/plain": "attr_name                result      \n    1.  HBsAg            Negative        1043\n                         Positive           3\n    2.  Anti HCV         Negative        1046\n    3.  HIV I & II       Negative        1046\n    4.  Syphilis (VDRL)  Non Reactive    1045\n                                         ... \nYeasts                   Trace              3\npH                       .                  1\n�hCG                     < 1.20            50\n                         <1.20              2\n                         > 225000.00        1\nName: attr_name, Length: 3164, dtype: int64"
     },
     "execution_count": 9,
     "metadata": {},
     "output_type": "execute_result"
    }
   ],
   "source": [],
   "metadata": {
    "collapsed": false,
    "pycharm": {
     "name": "#%%\n"
    }
   }
  },
  {
   "cell_type": "code",
   "execution_count": null,
   "outputs": [],
   "source": [],
   "metadata": {
    "collapsed": false,
    "pycharm": {
     "name": "#%%\n"
    }
   }
  },
  {
   "cell_type": "code",
   "execution_count": 11,
   "outputs": [],
   "source": [
    "df = (df['attr_name'].unique())"
   ],
   "metadata": {
    "collapsed": false,
    "pycharm": {
     "name": "#%%\n"
    }
   }
  },
  {
   "cell_type": "code",
   "execution_count": 12,
   "outputs": [
    {
     "data": {
      "text/plain": "array(['Uric Acid', 'Nitrate', 'Urates', 'Sugar', 'Amor. Phos',\n       'Triple Phos', 'Amor. Urates', 'Epithelial', 'Granular', 'Hyaline',\n       'Bilirubin', 'Sp. Gravity', 'VDRL', 'Method: Precipitation',\n       'HBs Ag', 'Blood Group: ABO', 'Rh (D)', 'TSH', 'F-T4', 'HCT (PCV)',\n       'M.C.V.', 'M.C.H.', 'M.C.H.C.', 'ESR (Westergren Method)',\n       'Red Blood Cells', 'Platelets', 'White Blood Cells', 'Neutrophil',\n       'Lymphocyte', 'Monocyte', 'Eosinophil', 'Basophil', 'Myeloblast',\n       'Haemoglobin', 'Lymphoblast', 'Myelocyte', 'Myelo + Metamyelocyte',\n       'Atypical Cells', 'R.D.W.-C.V.', 'R.D.W.-S.D.', 'M.P.V',\n       'Meta Myelocyte', 'Blast', 'Atypical and hairy looking cells',\n       'Others (DC)', 'ESR', 'LUC', 'Blast+ Promyelocyte',\n       'Blast+ Prolymphocyte', 'Immature  Cells', 'Prolymphocyte',\n       'Myelomonocyte', 'Promyelocyte', 'P-LCR', 'Neut', 'Lymph', 'mono',\n       'eo', 'baso', 'NRBC', 'NEUT', 'PDW', 'PCT', 'Protein',\n       'Ketones body', nan, 'Reaction(PH)', 'Urobilinogen', 'Pus Cell',\n       'Sediment', 'Blood', 'Appearance', 'Cellular', 'Colour',\n       'Epithelial Cells', 'RBC', 'CELLS /HPF', 'Trichomonas Vaginalis',\n       'Yeast', 'Fungus', 'Casts', 'Cal. Oxalate', 'Leukocyte Esterase',\n       'Quantity', 'CEA', 'Serum PSA',\n       'Vitamin D (25, OH Cholecalciferol)', 'Cholesterol', 'Sodium',\n       'Potassium', 'Chloride', 'T-CO2 (Venous)', 'Urinary Creatinine',\n       'Albumin Creatinine Ratio', 'Urinary Micro Albumin',\n       'Random Blood Sugar', 'Corresponding urine sugar', 'HbA1c',\n       'Creatinine', 'Stercobilinogen', 'A. lumbricoides', 'Hook Worm',\n       'T. trichiura', 'R B C', 'Pus Cells', 'Vegetable Cells', 'Starch',\n       'Muscle Fibres', 'Fat Globules', 'Yeasts', 'Floatation method',\n       'Consistency', 'Mucus', 'PROTOZOA', 'Ent. histolytica',\n       'Ent. coli', 'Reaction', 'Reducing Substance', 'Color', 'Odor',\n       'Giardia intest', 'Occult Blood Test', 'Macrophage', 'Cyst', 'Ova',\n       'Occult Blood Test (OBT)', 'ALT (SGPT)', 'Serum Vit. B-12',\n       'Comment', 'Ferritin', 'Total Iron Binding Capacity (TIBC)',\n       'Iron', '*S. Creatinine', '** Age', 'Weight', 'Gender', '*** eGFR',\n       'WBC', 'Malarial Parasite', 'Total Cholesterol', 'HDL Cholesterol',\n       'LDL Cholesterol', 'Triglycerides', 'Bleeding time',\n       'Clotting time', 'Anti-HCV', 'HIV Ab I&II', 'Ceftriaxone',\n       'Cefuroxime', 'Cephradine', 'Ciprofloxacin', 'Cloxacillin',\n       'Co-trimoxazole', 'Erythromycin', 'Gentamicin', 'Levofloxacin',\n       'Linezolid', 'Mecillinam', 'Neomycin', 'Netilmicin',\n       'Nitrofurantoin', 'Penicillin', 'Amoxyclave', 'Azithromycin',\n       'Aztreonam', 'Polymyxin B', 'Meropenem', 'Piperacillin/Tazobactum',\n       'Colistin', 'Polymyxin B(300U) PB', 'Cefoxitin', 'Clindamycin',\n       'Tigecycline', 'Teicoplanin', 'Mupirocin', 'Cefpodoxime',\n       'Ampicillin', 'Cefoperazone/Sulbactam', 'Tobramycin', 'Doripenem',\n       '*Colistin', 'Gentamicin HGM', '*Polymyxin B', '*Azithromycin',\n       'Cefalexin', 'Amikacin', 'Cefotaxime', 'Chloramphenicol',\n       'Doxycycline', 'Imipenem', 'Nalidixic Acid', 'Piperacillin',\n       'Tetracycline', 'Vancomycin', 'Amoxycillin', 'Cefaclor',\n       'Cefepime', 'Cefixime', 'Ceftazidime', 'Alkaline Phosphatase',\n       'Serum CA 19-9', 'Albumin', 'Control', 'Index', 'Ratio', 'INR',\n       'Patient', 'Spermatozoa', 'Paps Smear', 'Candida', 'W B C',\n       'Bile Pigment', 'Ketones', 'B.J. Protein', 'Bacteria', 'Volume',\n       'Bile Salt', 'Ex. Phosphate', '#', 'Dead Sperm', 'Cystine crystal',\n       'Fasting Blood Sugar', 'Corresponding Urine Suger', '2 hrs ABF',\n       'Calcium', 'RubellA IgM', 'Urea', 'CRP (C-Reactive Protein)',\n       'Blood Bag No :', 'Unit :', \"Patient's Blood Grouping Report :\",\n       'Blood Group :', 'Rh Type :', 'Donor information :',\n       'Donor Name :', 'Age :', 'Gender :', 'Blood Component :',\n       'Cross Match with donor :', 'Screening Test Done :', '1. HBsAg',\n       '2. Anti HCV', '3. HIV I & II', '4. Syphilis (VDRL)',\n       '5. Malarial Parasite (ICT)', 'Ceftriaxone (30 �g)',\n       'Imipenem (10 �g)', 'Meropenem (10 �g)', 'Ceftazidime (30 �g)',\n       'Pipercillin/Tazobactam (110 �g)', 'Oxacillin', 'Rifampicin',\n       'Cefixime (5  �g)', 'Azithromycin (15 �g)', 'Levofloxacin (5 �g)',\n       'Amikacin (30 �g)', 'Polymyxin B (300 U)', 'Pipercillin (100 �g)',\n       'Nalidixic Acid (30 �g)', 'Amoxycillin (10 �g)',\n       'Amoxycillin/Clavulanic Acid (30 �g)',\n       'Trimethoprim/Sulfamethoxazole', 'Azithromycin (15�g)',\n       'Gentamicin High', 'Daptomycin', 'Ertapenem', '*Aztreonam',\n       '*Cefixime', '*Ceftriaxone', '*Ceftazidime',\n       'Corresponding urine sougar', 'IgM Against Dengue Virus',\n       'Cannabinoids', 'Blast/Atypical Cells', 'Micro Filaria', 'Note',\n       'P.C.V. (Hct)', 'Adenosine Deaminase (ADA)', 'Plasma Ammonia',\n       'Urinary Protein (Spot)', 'Bilirubin Total', 'HCV RNA',\n       'Serum IgE', 'Magnesium', 'Widal Test', 'TO :', 'AO :', 'BO :',\n       'Potassium (K+)', 'ASO Titre', 'Pregnancy Test', 'Testosterone',\n       'Serum Lipase', 'Amylase', 'Serum Urea', 'Serum Creatinine',\n       'Sodium (Na+)', 'TCO2', 'Bleeding Time(BT)', 'Endoscopic Biopsy',\n       'F-T3', 'CPK', 'Anti-HEV IgM (ELISA)', 'Procalcitonin', 'Pro BNP',\n       'GAMMA-GT', 'Anti CCP Antibody', 'pCO2', 'pO2', 'HCO3', 'O2 Sat',\n       'BE (Base Excess)', 'pH', 'Rose Waaler Test', 'ANA', 'RA/RF',\n       'AFB', 'Epithelial cell', 'Serum CA 15-3', 'Anti B. Melitensis :',\n       'Anti-Brucella Ab',\n       '(Titer of >= 1:160 is considered significant)',\n       'Method: Agglutination', 'OX2 :', 'OX19 :', 'Anti-Rickettsia  Ab',\n       'Anti B. Abortus :', 'Febrile Antigen', 'Serum Iron', 'TIBC',\n       'Serum Ferritin', 'Total Protein', 'U. Amylase', 'CFT-Filaria',\n       '2 hrs after 75gms of oral glucose', 'Corresponding urine sugar\\n',\n       'LDH', 'AST (SGOT)', 'ESR (Capillary Method - Alifax)',\n       'Hb Electrophoresis', 'Gram Stain', 'Gram Positive Bacilli',\n       'Epithelial cells', 'Yeast cell',\n       'Gram negative extracellular diplococci', 'Gram Positive Cocci',\n       'Pus cells', 'Gram Negative Bacilli',\n       'Gram negative intracellular diplococci', 'Lactobacilli',\n       'Troponin I', 'Urinary Total Protein (UTP) 24hrs',\n       '24hrs Urine Volume', 'Anti-HBs', 'Alk Phosphate', '�hCG',\n       'Sulfonamide', ' Anti H. Pylori IgG', 'Gram Positive cocci',\n       'Gram stain', 'Gram negative extracellur diplococci',\n       'BAL for Malignant Cell', 'Fungus (GMS) Stain',\n       'BAL fluid for Genexpert', 'Lab No :', 'Physical examination :',\n       'Specimen :', 'Volume :', 'Colour :', 'Appearance :', 'Sedimen :',\n       'Clot :', 'Microscopy :', 'a. Wet film :', 'RBC :', 'WBC :',\n       \"b. Leishman's stain :\", 'Total count :', 'Differential count :',\n       'Lymphocytes :', 'Polymorphs :', 'Histiocytes :',\n       'Other Mononuclear cells :', 'Ascitic Fluid for Biochemisry',\n       'Ascitic fluid for Glucose', 'Ascitic fluid for Protein',\n       '2 hrs After Lunch', 'AFP (Alpha-Feto-Protein)',\n       'Anti-Rickettsia Ab', 'Triple Antigen',\n       '(Titer of > 1:80 is considered significant)',\n       \"Coomb's Test (Direct)\", \"Coomb's Test (Indirect)\", 'D-Dimer',\n       'Reticulocyte Count', 'Reticulocyte  Haemoglobin', 'Serum CA-125',\n       'Gram negative diplococci', 'Ceruloplasmin', 'HBc Total',\n       'Phosphate', 'Cortisol Morning-(Cortisol Morning)',\n       'Serum Prolactin', '*Triglycerides', 'Blood Osmolality',\n       'Urine Osmolality', 'Anti-HBc Total',\n       '1 hr after 75gms of oral glucose',\n       'Corresponding urine sugar 1h 75gm\\n', 'Inorganic Phosphate(PO4)',\n       'FSH', 'P-ANCA', 'C-ANCA', 'Lithium', 'HBe Ag', 'HBV DNA',\n       'i-STAT cTnl (Troponin I)', 'LH',\n       'Total Circulatory Esonophil Count', 'IgG Against Dengue Virus',\n       ' ACTH', 'Cortisol', 'Ascitic Fluid for Malignant Cell',\n       'Dengue Ag NS1 (ICT)', 'FDP', 'Direct', 'Indirect',\n       'Vivax Malaria Ag', 'Kala Azar Ab', 'Ascitic Fluid for ADA',\n       'Ascitic Fulid for Albumin', 'Ascitic  Fluid For Amylase',\n       'Glucose', 'BAL for Cytology', 'BAL for TV C/S', 'CK-MB', 'T4',\n       'T3', 'CSF for Malignant Cell', 'Schedule date of observation',\n       'But the patient reported on', 'Date of injection',\n       'Dose of injection', 'Date of observation', 'On observation',\n       'Diameter', 'Interpretation', 'Site', 'Serum Folate',\n       'Mesothelial cell', 'Pleural fluid for ADA', 'Total count (WBC) :',\n       'Other Mononuclear cell :', 'Pleural Fluid for Malignant Cell',\n       'Globulin', 'A/G Ratio', 'Rh-Antibody Detection',\n       'Myelomonocytic blast', 'Reactive Lymphocyte', '2 hrs After Meal',\n       'Ketone Bodies', 'Creatinine Clearance Rate', 'Urine Creatinine',\n       '24 hrs Urine Creatinine', 'Progesterone', 'Wound Swab for AFB',\n       'Anti-Thyroid Peroxidase', 'Anti-Thyroglobulin',\n       \"Patient's Blood Grouping Report:\", 'Donor  information :',\n       'Cross Match with donor', '    1.  HBsAg', '    2.  Anti HCV',\n       '    3.  HIV I & II', '    4.  Syphilis (VDRL)',\n       '    5.  Malarial Parasite(ICT)', ' Colour :',\n       'Total count Of WBC :', 'Fungal (GMS) stain:', 'Neutrophil :',\n       'Eosinophil :', 'Gram Reactive Organism', 'Appendymal cell',\n       'HSV I & II PCR (CSF)', 'Bence Jones Protein',\n       'BAL for fungus culture', 'Anti-Phospholipid AB', 'Anti-ds DNA',\n       'GeneXpert MTB/RIF (TISSUE)', 'Parathyroid Hormone (PTH)',\n       'Immuno Electrophoresis', 'Pus for Fungus C/S', 'Sample Rate',\n       'Cut Off Rate', 'Opinion', 'Anti-HBe', 'Microalbumin',\n       'Anti-HAV IgM', 'VDRL Qualitative', 'VDRL Quantitative',\n       'Salmonella typhi IgG', 'Salmonella typhi IgM', 'Malaria Ag (ICT)',\n       'Trichomonas vaginalis', 'Clue cell', 'Fungal Hyphae',\n       'Hooklets of Hydatid Cyst', 'Lactate', 'Uric Acid - Urine',\n       'Method of collection', 'Date and time of examination',\n       'Marrital Status', 'Period of Abstinance',\n       'Date and time of collection', 'Appearance/Color', 'Viscosity',\n       'Liquefaction', 'Sperm count', 'Actively Motile',\n       'Sperm viability', 'Sperm clumping', 'Weakly Motile', 'Non Motile',\n       'a. Normal     :', 'b. Abnormal :', 'Germ cells',\n       'Clotting Time(CT)', 'Sputum for GeneXpert', 'Uric Acid Crystal',\n       'Estradiol/Oestrogen', 'Anti Mullerian Hormone (AMH)', 'TPHA',\n       'Herpes Simplex Virus (II) IgG', 'Herpes Simplex Virus (I) IgG',\n       'Fibrinogen Level', 'Sulphonamide crystal', 'Free Testosteron',\n       'Gram Negative rods', 'Valproic Acid', 'S. Homocysteine',\n       'Protein-C', 'Protein-S', 'Anti-HBc IgM', ' LDH',\n       'Pleural fluid for GeneXpert', 'Chikungunya Antibody IgM', '.',\n       'Ascitic Fluid for Genexpert', 'Floatation Method - Stool',\n       'Protein Electrophoresis', 'Fasting Insulin',\n       'Venous Blood Gas (VBG)', 'CSF for Gram stain',\n       'Cortisol Evening-(Cortisol Evening)', 'KOH Preparation',\n       'Rubella IgG', 'Chikungunya Antibody IgG', 'Sodium 24hrs',\n       '24Hrs Urine Volume', 'Histopathology',\n       'CSF for Bacterial Antigen', 'TSH Receptor Antibody (TRAB)',\n       'Cephalexin', 'Protein Creatinine Ratio', 'Urinary Protein',\n       'Free cortisol in Salivary (11 PM/Midnight)',\n       'Anti-Phospholipid IgG', 'Turbidity', 'Deposit', 'Blood Clot',\n       'TC of WBC', 'Lymphocytes', 'Neutrophils', 'Mononuclear cell',\n       'Candida/Fungal Hyphae', 'Lacto Bacilli', 'Spot Urine for Sodium',\n       'HBsAg', 'Anti HCV', 'HIV I & II', 'Syphilis (VDRL)',\n       'Urine For OBT', 'Wet film\\t', 'Tisssue for Culture', 'Cytology',\n       'Fluid Adenosine Deaminase (Fluid for ADA)', 'Gram Negative Rods',\n       'Sodium - Urine', 'BUN', 'Sputum R/E', 'Pus cell', 'Stool R/S',\n       'Hyaline Cast', 'Rh-Antibody Titre', 'Immunoglobulins Panel',\n       'Serum IgM', 'Serum IgA', 'Serum IgG', 'Growth Hormone',\n       'Serum IgA Level', 'Tissue Transglutaminase -IgA',\n       'Urine  Amphetamine', 'Opiates', 'U. Benzodiazepines',\n       'Histopathology - Small', 'Fluid for C/S', 'Urine Lipase',\n       'Wet Film', 'Dengue Antibody IgM:', 'Dengue Antibody IgG:',\n       'Malaria Parasite', 'Renin in plasma', 'Factor IX Activity',\n       'Factor VIII Activity', 'Fungus (GMS) stain', 'Aldolase',\n       'Fungal hyphae', 'Herpes Simplex Virus (I) IgM',\n       'Herpes Simplex Virus (II) IgM', '2 hrs P.P.', 'Anti TPO',\n       '17-a OH Progesterone', 'DHEA-SO4', 'Gum Biopsy tissue',\n       'Filaria Ab-IgM', 'Filaria Ab-IgG', 'Serum Epinephrine',\n       'Serum Nor- Epinephrine', 'Review report (more than 2 slides)',\n       'ER,PR & HER 2 (NEU)', 'Cytomegalo Virus IgG',\n       'Cytomegalo Virus IgM', 'TTF1', 'P63', 'Serum  C3  Level',\n       'Serum  C4  Level', 'Pericardial Fluid for Cytology', 'Serum ADA',\n       'KLB', '*HDL Cholesterol', 'HLA-B-27 (PCR Method)',\n       'Serum IgG Level', 'Anti-Phospholipid -IgG',\n       'Anti-Phospholipid-IgM', 'Gram negetive intracellular diplococci',\n       'Sulfonamides', 'Bile for C/S',\n       'Angiotensin Converting enzyme (ACE)', 'HBs Ab', 'CK',\n       'Dermatophytes', 'Calcium Urine 24hrs', 'Acetone', 'HSV 1 & 2 IgM',\n       'Oral Biopsy tissue', 'Pleural  Fluid For Amylase',\n       \"Leishman's stain :\", 'Herpes Simplex Virus-I IgM',\n       'Herpes Simplex Virus-I IgG', 'Herpes Simplex Virus-II IgM',\n       'Herpes Simplex Virus-II IgG',\n       'Fractional Excreation of Sodium (FENa)', 'Serum Na+',\n       'Serum creatinine', 'Urine Na+', 'Urine creatinine', 'CSF for ADA',\n       'HCV Genotyping', 'Urinary Albumin 24hrs', 'Urinary Total Volume',\n       'C- Peptide', 'AFB (Ziehl-Neelsen Stain)', 'Tissue For AFB',\n       'Microscopic Examination', 'Acid Phosphatase', \"Coomb's test\",\n       \"Direct Coomb's test\", \"Indirect Coomb's test\",\n       'Body Composition Analysis', 'Urine Potassium (K+)',\n       'Urine for Potassium Creatinine Ratio (Spot)',\n       'Drain fluid for Bilirubin', 'Serum Aldosterone', 'AFP',\n       'Anti-Thyroglobulin Ab', 'Chlamydia antibody', 'Serum Insulin',\n       'Insulin-like Grouth Factor- 1 (IGF-1)', 'Total Acid Phosphatase',\n       'Non Prostatic Acid Phosphatase', 'Prostatic Acid Phosphatase',\n       'Anti-DNA Antibody', 'Stellar Phos', 'P.C.V.',\n       'Leptospiral ab (ICT)', 'Spot Urine for Potasium',\n       'Gram negetive extracellur diplococci',\n       'Insulin-like Growth Factor- 1 (IGF-1)', 'Atypical blast cells',\n       'Blood Flowcytometry', 'Gastric Larvage for Genexpert',\n       'Sputum for TB C/S', 'Z. N. Stain', 'Glutamic Acid',\n       'Nail Scraping for Fungus Culture', 'Uric Acid crystal',\n       '24 hrs Urinary Cortisol', 'Urine volume', '2 hrs After Dinner',\n       'Before Lunch', 'Before Dinner', '24hrs Urine Sodium',\n       '24hrs Urine Potassium', '24hrs Urine Chloride', 'ANTI-CMV IgG',\n       'H.C.T.', 'Mesothelial cell :', 'Cervical for Cytology',\n       'Valporic Acid', 'Before', 'After', 'BAL for fungus (GMS) stain',\n       'PGx of Aspirin', 'PGx of Clopidogrel', 'Mesothelial cells :',\n       'VMA 24hrs Urine', '24 Hrs Urine Volume', \"a. Leishman's stain :\",\n       'Urine Specific Gravity', 'Mesothelial cell:',\n       'Anti-smooth muscle antibody'], dtype=object)"
     },
     "execution_count": 12,
     "metadata": {},
     "output_type": "execute_result"
    }
   ],
   "source": [
    "df"
   ],
   "metadata": {
    "collapsed": false,
    "pycharm": {
     "name": "#%%\n"
    }
   }
  },
  {
   "cell_type": "code",
   "execution_count": 15,
   "outputs": [
    {
     "ename": "AttributeError",
     "evalue": "'numpy.ndarray' object has no attribute 'groupby'",
     "output_type": "error",
     "traceback": [
      "\u001B[1;31m---------------------------------------------------------------------------\u001B[0m",
      "\u001B[1;31mAttributeError\u001B[0m                            Traceback (most recent call last)",
      "Input \u001B[1;32mIn [15]\u001B[0m, in \u001B[0;36m<cell line: 1>\u001B[1;34m()\u001B[0m\n\u001B[1;32m----> 1\u001B[0m g \u001B[38;5;241m=\u001B[39m \u001B[43mdf\u001B[49m\u001B[38;5;241;43m.\u001B[39;49m\u001B[43mgroupby\u001B[49m(\u001B[38;5;124m'\u001B[39m\u001B[38;5;124mattr_name\u001B[39m\u001B[38;5;124m'\u001B[39m, as_index \u001B[38;5;241m=\u001B[39m \u001B[38;5;28;01mFalse\u001B[39;00m)[\u001B[38;5;124m'\u001B[39m\u001B[38;5;124mresult\u001B[39m\u001B[38;5;124m'\u001B[39m]\u001B[38;5;241m.\u001B[39magg([\u001B[38;5;124m'\u001B[39m\u001B[38;5;124munique\u001B[39m\u001B[38;5;124m'\u001B[39m])\n",
      "\u001B[1;31mAttributeError\u001B[0m: 'numpy.ndarray' object has no attribute 'groupby'"
     ]
    }
   ],
   "source": [
    "g = df.groupby('attr_name', as_index = False)['result'].agg(['unique'])"
   ],
   "metadata": {
    "collapsed": false,
    "pycharm": {
     "name": "#%%\n"
    }
   }
  },
  {
   "cell_type": "code",
   "execution_count": 8,
   "outputs": [
    {
     "data": {
      "text/plain": "                                                                           unique\nattr_name                                                                        \n    1.  HBsAg                                                [Negative, Positive]\n    2.  Anti HCV                                                       [Negative]\n    3.  HIV I & II                                                     [Negative]\n    4.  Syphilis (VDRL)                                  [Non Reactive, Positive]\n    5.  Malarial Parasite(ICT)                                         [Negative]\n...                                                                           ...\nmono                                                                        [nan]\npCO2                                                                        [nan]\npH                                                                       [nan, .]\npO2                                                                         [nan]\n�hCG                            [49192.02, < 1.20, 99139.07, 17.24, 961.09, 23...\n\n[730 rows x 1 columns]",
      "text/html": "<div>\n<style scoped>\n    .dataframe tbody tr th:only-of-type {\n        vertical-align: middle;\n    }\n\n    .dataframe tbody tr th {\n        vertical-align: top;\n    }\n\n    .dataframe thead th {\n        text-align: right;\n    }\n</style>\n<table border=\"1\" class=\"dataframe\">\n  <thead>\n    <tr style=\"text-align: right;\">\n      <th></th>\n      <th>unique</th>\n    </tr>\n    <tr>\n      <th>attr_name</th>\n      <th></th>\n    </tr>\n  </thead>\n  <tbody>\n    <tr>\n      <th>1.  HBsAg</th>\n      <td>[Negative, Positive]</td>\n    </tr>\n    <tr>\n      <th>2.  Anti HCV</th>\n      <td>[Negative]</td>\n    </tr>\n    <tr>\n      <th>3.  HIV I &amp; II</th>\n      <td>[Negative]</td>\n    </tr>\n    <tr>\n      <th>4.  Syphilis (VDRL)</th>\n      <td>[Non Reactive, Positive]</td>\n    </tr>\n    <tr>\n      <th>5.  Malarial Parasite(ICT)</th>\n      <td>[Negative]</td>\n    </tr>\n    <tr>\n      <th>...</th>\n      <td>...</td>\n    </tr>\n    <tr>\n      <th>mono</th>\n      <td>[nan]</td>\n    </tr>\n    <tr>\n      <th>pCO2</th>\n      <td>[nan]</td>\n    </tr>\n    <tr>\n      <th>pH</th>\n      <td>[nan, .]</td>\n    </tr>\n    <tr>\n      <th>pO2</th>\n      <td>[nan]</td>\n    </tr>\n    <tr>\n      <th>�hCG</th>\n      <td>[49192.02, &lt; 1.20, 99139.07, 17.24, 961.09, 23...</td>\n    </tr>\n  </tbody>\n</table>\n<p>730 rows × 1 columns</p>\n</div>"
     },
     "execution_count": 8,
     "metadata": {},
     "output_type": "execute_result"
    }
   ],
   "source": [
    "g"
   ],
   "metadata": {
    "collapsed": false,
    "pycharm": {
     "name": "#%%\n"
    }
   }
  },
  {
   "cell_type": "code",
   "execution_count": 10,
   "outputs": [
    {
     "data": {
      "text/plain": "          attr_id                       attr_name    result  \\\n0       3000031.0                       Uric Acid       nan   \n1       3000032.0                         Nitrate    Absent   \n2       3000034.0                          Urates       nan   \n3       3000037.0                           Sugar       Nil   \n4       3000039.0                      Amor. Phos       Nil   \n...           ...                             ...       ...   \n755710  3002210.0      5.  Malarial Parasite(ICT)  Negative   \n755711   101214.0                          Sodium       159   \n755712   102050.0                       Potassium       3.9   \n755713   102051.0                        Chloride       115   \n755714   102052.0                  T-CO2 (Venous)        34   \n\n             test_group_name  \n0          CRYSTALS & OTHERS  \n1       CHEMICAL EXAMINATION  \n2          Crystals & Others  \n3       CHEMICAL EXAMINATION  \n4          CRYSTALS & OTHERS  \n...                      ...  \n755710                   NaN  \n755711       S. Electrolytes  \n755712       S. Electrolytes  \n755713       S. Electrolytes  \n755714       S. Electrolytes  \n\n[755715 rows x 4 columns]",
      "text/html": "<div>\n<style scoped>\n    .dataframe tbody tr th:only-of-type {\n        vertical-align: middle;\n    }\n\n    .dataframe tbody tr th {\n        vertical-align: top;\n    }\n\n    .dataframe thead th {\n        text-align: right;\n    }\n</style>\n<table border=\"1\" class=\"dataframe\">\n  <thead>\n    <tr style=\"text-align: right;\">\n      <th></th>\n      <th>attr_id</th>\n      <th>attr_name</th>\n      <th>result</th>\n      <th>test_group_name</th>\n    </tr>\n  </thead>\n  <tbody>\n    <tr>\n      <th>0</th>\n      <td>3000031.0</td>\n      <td>Uric Acid</td>\n      <td>nan</td>\n      <td>CRYSTALS &amp; OTHERS</td>\n    </tr>\n    <tr>\n      <th>1</th>\n      <td>3000032.0</td>\n      <td>Nitrate</td>\n      <td>Absent</td>\n      <td>CHEMICAL EXAMINATION</td>\n    </tr>\n    <tr>\n      <th>2</th>\n      <td>3000034.0</td>\n      <td>Urates</td>\n      <td>nan</td>\n      <td>Crystals &amp; Others</td>\n    </tr>\n    <tr>\n      <th>3</th>\n      <td>3000037.0</td>\n      <td>Sugar</td>\n      <td>Nil</td>\n      <td>CHEMICAL EXAMINATION</td>\n    </tr>\n    <tr>\n      <th>4</th>\n      <td>3000039.0</td>\n      <td>Amor. Phos</td>\n      <td>Nil</td>\n      <td>CRYSTALS &amp; OTHERS</td>\n    </tr>\n    <tr>\n      <th>...</th>\n      <td>...</td>\n      <td>...</td>\n      <td>...</td>\n      <td>...</td>\n    </tr>\n    <tr>\n      <th>755710</th>\n      <td>3002210.0</td>\n      <td>5.  Malarial Parasite(ICT)</td>\n      <td>Negative</td>\n      <td>NaN</td>\n    </tr>\n    <tr>\n      <th>755711</th>\n      <td>101214.0</td>\n      <td>Sodium</td>\n      <td>159</td>\n      <td>S. Electrolytes</td>\n    </tr>\n    <tr>\n      <th>755712</th>\n      <td>102050.0</td>\n      <td>Potassium</td>\n      <td>3.9</td>\n      <td>S. Electrolytes</td>\n    </tr>\n    <tr>\n      <th>755713</th>\n      <td>102051.0</td>\n      <td>Chloride</td>\n      <td>115</td>\n      <td>S. Electrolytes</td>\n    </tr>\n    <tr>\n      <th>755714</th>\n      <td>102052.0</td>\n      <td>T-CO2 (Venous)</td>\n      <td>34</td>\n      <td>S. Electrolytes</td>\n    </tr>\n  </tbody>\n</table>\n<p>755715 rows × 4 columns</p>\n</div>"
     },
     "execution_count": 10,
     "metadata": {},
     "output_type": "execute_result"
    }
   ],
   "source": [
    "df"
   ],
   "metadata": {
    "collapsed": false,
    "pycharm": {
     "name": "#%%\n"
    }
   }
  },
  {
   "cell_type": "code",
   "execution_count": 10,
   "outputs": [],
   "source": [],
   "metadata": {
    "collapsed": false,
    "pycharm": {
     "name": "#%%\n"
    }
   }
  },
  {
   "cell_type": "code",
   "execution_count": null,
   "outputs": [],
   "source": [],
   "metadata": {
    "collapsed": false,
    "pycharm": {
     "name": "#%%\n"
    }
   }
  }
 ],
 "metadata": {
  "kernelspec": {
   "display_name": "Python 3",
   "language": "python",
   "name": "python3"
  },
  "language_info": {
   "codemirror_mode": {
    "name": "ipython",
    "version": 2
   },
   "file_extension": ".py",
   "mimetype": "text/x-python",
   "name": "python",
   "nbconvert_exporter": "python",
   "pygments_lexer": "ipython2",
   "version": "2.7.6"
  }
 },
 "nbformat": 4,
 "nbformat_minor": 0
}