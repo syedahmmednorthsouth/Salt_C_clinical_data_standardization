{
 "cells": [
  {
   "cell_type": "code",
   "execution_count": 1,
   "id": "b7ed47d1",
   "metadata": {},
   "outputs": [],
   "source": [
    "import pandas as pd\n",
    "import numpy as np\n",
    "\n",
    "import psycopg2\n",
    "import psycopg2.extras"
   ]
  },
  {
   "cell_type": "code",
   "execution_count": 2,
   "id": "ad729abb",
   "metadata": {},
   "outputs": [],
   "source": [
    "data_dir = \"./dataset/\""
   ]
  },
  {
   "cell_type": "markdown",
   "id": "e0a65ed7",
   "metadata": {},
   "source": [
    "### Retrieve data from ncdw database\n",
    "* Data source: Bangladesh Eye Hospital \n",
    "* Data size:1161654 "
   ]
  },
  {
   "cell_type": "code",
   "execution_count": 3,
   "id": "b7ff4cbd",
   "metadata": {},
   "outputs": [],
   "source": [
    "class PostgresConnection(object):\n",
    "    def __init__(self):\n",
    "        self.connection = psycopg2.connect(database=\"ncdw_dev\",\n",
    "                                           user = \"raihan\",\n",
    "                                           password = \"NCDW@4321*\",\n",
    "                                           host = \"103.94.135.217\",\n",
    "                                           port = \"5454\")\n",
    "\n",
    "    def getConnection(self):\n",
    "        print(\"successfully connected to database\")\n",
    "        return self.connection"
   ]
  },
  {
   "cell_type": "code",
   "execution_count": 4,
   "id": "da9b76fd",
   "metadata": {},
   "outputs": [
    {
     "name": "stdout",
     "output_type": "stream",
     "text": [
      "successfully connected to database\n"
     ]
    }
   ],
   "source": [
    "conn = PostgresConnection().getConnection()"
   ]
  },
  {
   "cell_type": "markdown",
   "id": "06bf2c15",
   "metadata": {},
   "source": [
    "### Select top 25 Test"
   ]
  },
  {
   "cell_type": "code",
   "execution_count": 5,
   "id": "a33835cb",
   "metadata": {},
   "outputs": [
    {
     "name": "stdout",
     "output_type": "stream",
     "text": [
      "successfully connected to database\n"
     ]
    }
   ],
   "source": [
    "conn = PostgresConnection().getConnection()\n",
    "query = \"SELECT lab.lab_name, t.test_key, test.test_name, test.specimen, count(*) total_records \" \\\n",
    "        \"FROM centraldw.fact_testresult t \" \\\n",
    "        \"JOIN centraldw.dim_testitem test on test.test_key=t.test_key \" \\\n",
    "        \"JOIN centraldw.dim_lab lab on lab.lab_key=t.lab_key \" \\\n",
    "        \"GROUP BY lab.lab_name, test.specimen, t.test_key, test.test_name \" \\\n",
    "        \"ORDER BY total_records DESC \" \\\n",
    "        \"LIMIT 25 \"\n",
    "cur = conn.cursor()\n",
    "cur.execute(query)\n",
    "res = cur.fetchall()\n",
    "cur.close()\n",
    "test_df = pd.DataFrame(list(res), columns=['lab_name', \"test_key\", \"test_name\", \"specimen\", \"total_records\" ])"
   ]
  },
  {
   "cell_type": "code",
   "execution_count": 8,
   "id": "ce95e40b",
   "metadata": {},
   "outputs": [],
   "source": [
    "test_df.to_csv(data_dir + \"source-1/labtest.csv\", index=False)"
   ]
  },
  {
   "cell_type": "code",
   "execution_count": 9,
   "outputs": [
    {
     "data": {
      "text/plain": "              lab_name  test_key  \\\n0          Haematology     10655   \n1   Clinical Pathology     10994   \n2         Microbiology     10252   \n3         Microbiology     10217   \n4   Clinical Pathology     10616   \n5         Biochemistry     10937   \n6    BLOOD TRANSFUSION     10057   \n7   Clinical Pathology     10617   \n8         Microbiology     10157   \n9         Biochemistry     10899   \n10        Biochemistry     11079   \n11        Biochemistry     10191   \n12            Serology     10550   \n13        Biochemistry     10453   \n14         Haematology     10664   \n15        Biochemistry     10921   \n16        Microbiology     10577   \n17        Biochemistry     10626   \n18        Microbiology     10735   \n19        Biochemistry     10914   \n20          Immunology     10531   \n21   BLOOD TRANSFUSION     10793   \n22          Immunology     10309   \n23        Biochemistry     10693   \n24        Biochemistry     10816   \n\n                                            test_name           specimen  \\\n0                                                 CBC              BLOOD   \n1                 Complete Urine Analysis (Urine R/E)              URINE   \n2                                       Urine for C/S              URINE   \n3                                       Blood for C/S              BLOOD   \n4                                         Urine R/M/E              URINE   \n5                                  Electrolytes Serum             BLOOD.   \n6               Grouping + Cross Matching + Screening              BLOOD   \n7                                           Stool R/E              STOOL   \n8                                       Stool for C/S              STOOL   \n9                              Serum creatinine level              BLOOD   \n10  Renal Function Test (Urea, Creatinine, Electro...              BLOOD   \n11                            Lipid Profile Serum (F)             BLOOD.   \n12                              Prothrombin Time (PT)              BLOOD   \n13                         RBG - Random blood glucose              BLOOD   \n14                                   Blood Film (PBF)        WHOLE BLOOD   \n15                                    ALT(SGPT) Serum              BLOOD   \n16                                     Sputum for C/S            SPUTUM.   \n17                            Lipid Profile Serum (R)              BLOOD   \n18                          Tracheal Aspirate for C/S  TRACHEAL ASPIRATE   \n19                  Blood Gas Analysis Arterial (ABG)             BLOOD.   \n20                           CRP (C-Reactive Protein)              BLOOD   \n21            Grouping+ICT+Cross Matching + Screening              BLOOD   \n22                                                TSH              BLOOD   \n23                        FBG - Fasting blood glucose              BLOOD   \n24                                              HbA1c        WHOLE BLOOD   \n\n    total_records  \n0          627690  \n1          121310  \n2          110052  \n3           77688  \n4           29287  \n5           24024  \n6           16965  \n7           12854  \n8            9328  \n9            7647  \n10           6186  \n11           5248  \n12           5065  \n13           4648  \n14           4545  \n15           4205  \n16           3666  \n17           3644  \n18           3619  \n19           3594  \n20           3233  \n21           3097  \n22           2959  \n23           2938  \n24           2466  ",
      "text/html": "<div>\n<style scoped>\n    .dataframe tbody tr th:only-of-type {\n        vertical-align: middle;\n    }\n\n    .dataframe tbody tr th {\n        vertical-align: top;\n    }\n\n    .dataframe thead th {\n        text-align: right;\n    }\n</style>\n<table border=\"1\" class=\"dataframe\">\n  <thead>\n    <tr style=\"text-align: right;\">\n      <th></th>\n      <th>lab_name</th>\n      <th>test_key</th>\n      <th>test_name</th>\n      <th>specimen</th>\n      <th>total_records</th>\n    </tr>\n  </thead>\n  <tbody>\n    <tr>\n      <th>0</th>\n      <td>Haematology</td>\n      <td>10655</td>\n      <td>CBC</td>\n      <td>BLOOD</td>\n      <td>627690</td>\n    </tr>\n    <tr>\n      <th>1</th>\n      <td>Clinical Pathology</td>\n      <td>10994</td>\n      <td>Complete Urine Analysis (Urine R/E)</td>\n      <td>URINE</td>\n      <td>121310</td>\n    </tr>\n    <tr>\n      <th>2</th>\n      <td>Microbiology</td>\n      <td>10252</td>\n      <td>Urine for C/S</td>\n      <td>URINE</td>\n      <td>110052</td>\n    </tr>\n    <tr>\n      <th>3</th>\n      <td>Microbiology</td>\n      <td>10217</td>\n      <td>Blood for C/S</td>\n      <td>BLOOD</td>\n      <td>77688</td>\n    </tr>\n    <tr>\n      <th>4</th>\n      <td>Clinical Pathology</td>\n      <td>10616</td>\n      <td>Urine R/M/E</td>\n      <td>URINE</td>\n      <td>29287</td>\n    </tr>\n    <tr>\n      <th>5</th>\n      <td>Biochemistry</td>\n      <td>10937</td>\n      <td>Electrolytes Serum</td>\n      <td>BLOOD.</td>\n      <td>24024</td>\n    </tr>\n    <tr>\n      <th>6</th>\n      <td>BLOOD TRANSFUSION</td>\n      <td>10057</td>\n      <td>Grouping + Cross Matching + Screening</td>\n      <td>BLOOD</td>\n      <td>16965</td>\n    </tr>\n    <tr>\n      <th>7</th>\n      <td>Clinical Pathology</td>\n      <td>10617</td>\n      <td>Stool R/E</td>\n      <td>STOOL</td>\n      <td>12854</td>\n    </tr>\n    <tr>\n      <th>8</th>\n      <td>Microbiology</td>\n      <td>10157</td>\n      <td>Stool for C/S</td>\n      <td>STOOL</td>\n      <td>9328</td>\n    </tr>\n    <tr>\n      <th>9</th>\n      <td>Biochemistry</td>\n      <td>10899</td>\n      <td>Serum creatinine level</td>\n      <td>BLOOD</td>\n      <td>7647</td>\n    </tr>\n    <tr>\n      <th>10</th>\n      <td>Biochemistry</td>\n      <td>11079</td>\n      <td>Renal Function Test (Urea, Creatinine, Electro...</td>\n      <td>BLOOD</td>\n      <td>6186</td>\n    </tr>\n    <tr>\n      <th>11</th>\n      <td>Biochemistry</td>\n      <td>10191</td>\n      <td>Lipid Profile Serum (F)</td>\n      <td>BLOOD.</td>\n      <td>5248</td>\n    </tr>\n    <tr>\n      <th>12</th>\n      <td>Serology</td>\n      <td>10550</td>\n      <td>Prothrombin Time (PT)</td>\n      <td>BLOOD</td>\n      <td>5065</td>\n    </tr>\n    <tr>\n      <th>13</th>\n      <td>Biochemistry</td>\n      <td>10453</td>\n      <td>RBG - Random blood glucose</td>\n      <td>BLOOD</td>\n      <td>4648</td>\n    </tr>\n    <tr>\n      <th>14</th>\n      <td>Haematology</td>\n      <td>10664</td>\n      <td>Blood Film (PBF)</td>\n      <td>WHOLE BLOOD</td>\n      <td>4545</td>\n    </tr>\n    <tr>\n      <th>15</th>\n      <td>Biochemistry</td>\n      <td>10921</td>\n      <td>ALT(SGPT) Serum</td>\n      <td>BLOOD</td>\n      <td>4205</td>\n    </tr>\n    <tr>\n      <th>16</th>\n      <td>Microbiology</td>\n      <td>10577</td>\n      <td>Sputum for C/S</td>\n      <td>SPUTUM.</td>\n      <td>3666</td>\n    </tr>\n    <tr>\n      <th>17</th>\n      <td>Biochemistry</td>\n      <td>10626</td>\n      <td>Lipid Profile Serum (R)</td>\n      <td>BLOOD</td>\n      <td>3644</td>\n    </tr>\n    <tr>\n      <th>18</th>\n      <td>Microbiology</td>\n      <td>10735</td>\n      <td>Tracheal Aspirate for C/S</td>\n      <td>TRACHEAL ASPIRATE</td>\n      <td>3619</td>\n    </tr>\n    <tr>\n      <th>19</th>\n      <td>Biochemistry</td>\n      <td>10914</td>\n      <td>Blood Gas Analysis Arterial (ABG)</td>\n      <td>BLOOD.</td>\n      <td>3594</td>\n    </tr>\n    <tr>\n      <th>20</th>\n      <td>Immunology</td>\n      <td>10531</td>\n      <td>CRP (C-Reactive Protein)</td>\n      <td>BLOOD</td>\n      <td>3233</td>\n    </tr>\n    <tr>\n      <th>21</th>\n      <td>BLOOD TRANSFUSION</td>\n      <td>10793</td>\n      <td>Grouping+ICT+Cross Matching + Screening</td>\n      <td>BLOOD</td>\n      <td>3097</td>\n    </tr>\n    <tr>\n      <th>22</th>\n      <td>Immunology</td>\n      <td>10309</td>\n      <td>TSH</td>\n      <td>BLOOD</td>\n      <td>2959</td>\n    </tr>\n    <tr>\n      <th>23</th>\n      <td>Biochemistry</td>\n      <td>10693</td>\n      <td>FBG - Fasting blood glucose</td>\n      <td>BLOOD</td>\n      <td>2938</td>\n    </tr>\n    <tr>\n      <th>24</th>\n      <td>Biochemistry</td>\n      <td>10816</td>\n      <td>HbA1c</td>\n      <td>WHOLE BLOOD</td>\n      <td>2466</td>\n    </tr>\n  </tbody>\n</table>\n</div>"
     },
     "execution_count": 9,
     "metadata": {},
     "output_type": "execute_result"
    }
   ],
   "source": [
    "test_df"
   ],
   "metadata": {
    "collapsed": false,
    "pycharm": {
     "name": "#%%\n"
    }
   }
  },
  {
   "cell_type": "code",
   "execution_count": 10,
   "id": "52a5a9d4",
   "metadata": {},
   "outputs": [
    {
     "data": {
      "text/plain": "lab_name         object\ntest_key          int64\ntest_name        object\nspecimen         object\ntotal_records     int64\ndtype: object"
     },
     "execution_count": 10,
     "metadata": {},
     "output_type": "execute_result"
    }
   ],
   "source": [
    "test_df.dtypes"
   ]
  },
  {
   "cell_type": "code",
   "execution_count": 11,
   "outputs": [
    {
     "data": {
      "text/plain": "              lab_name  test_key  \\\n0          Haematology     10655   \n1   Clinical Pathology     10994   \n2         Microbiology     10252   \n3         Microbiology     10217   \n4   Clinical Pathology     10616   \n5         Biochemistry     10937   \n6    BLOOD TRANSFUSION     10057   \n7   Clinical Pathology     10617   \n8         Microbiology     10157   \n9         Biochemistry     10899   \n10        Biochemistry     11079   \n11        Biochemistry     10191   \n12            Serology     10550   \n13        Biochemistry     10453   \n14         Haematology     10664   \n15        Biochemistry     10921   \n16        Microbiology     10577   \n17        Biochemistry     10626   \n18        Microbiology     10735   \n19        Biochemistry     10914   \n20          Immunology     10531   \n21   BLOOD TRANSFUSION     10793   \n22          Immunology     10309   \n23        Biochemistry     10693   \n24        Biochemistry     10816   \n\n                                            test_name           specimen  \\\n0                                                 CBC              BLOOD   \n1                 Complete Urine Analysis (Urine R/E)              URINE   \n2                                       Urine for C/S              URINE   \n3                                       Blood for C/S              BLOOD   \n4                                         Urine R/M/E              URINE   \n5                                  Electrolytes Serum             BLOOD.   \n6               Grouping + Cross Matching + Screening              BLOOD   \n7                                           Stool R/E              STOOL   \n8                                       Stool for C/S              STOOL   \n9                              Serum creatinine level              BLOOD   \n10  Renal Function Test (Urea, Creatinine, Electro...              BLOOD   \n11                            Lipid Profile Serum (F)             BLOOD.   \n12                              Prothrombin Time (PT)              BLOOD   \n13                         RBG - Random blood glucose              BLOOD   \n14                                   Blood Film (PBF)        WHOLE BLOOD   \n15                                    ALT(SGPT) Serum              BLOOD   \n16                                     Sputum for C/S            SPUTUM.   \n17                            Lipid Profile Serum (R)              BLOOD   \n18                          Tracheal Aspirate for C/S  TRACHEAL ASPIRATE   \n19                  Blood Gas Analysis Arterial (ABG)             BLOOD.   \n20                           CRP (C-Reactive Protein)              BLOOD   \n21            Grouping+ICT+Cross Matching + Screening              BLOOD   \n22                                                TSH              BLOOD   \n23                        FBG - Fasting blood glucose              BLOOD   \n24                                              HbA1c        WHOLE BLOOD   \n\n    total_records  \n0          627690  \n1          121310  \n2          110052  \n3           77688  \n4           29287  \n5           24024  \n6           16965  \n7           12854  \n8            9328  \n9            7647  \n10           6186  \n11           5248  \n12           5065  \n13           4648  \n14           4545  \n15           4205  \n16           3666  \n17           3644  \n18           3619  \n19           3594  \n20           3233  \n21           3097  \n22           2959  \n23           2938  \n24           2466  ",
      "text/html": "<div>\n<style scoped>\n    .dataframe tbody tr th:only-of-type {\n        vertical-align: middle;\n    }\n\n    .dataframe tbody tr th {\n        vertical-align: top;\n    }\n\n    .dataframe thead th {\n        text-align: right;\n    }\n</style>\n<table border=\"1\" class=\"dataframe\">\n  <thead>\n    <tr style=\"text-align: right;\">\n      <th></th>\n      <th>lab_name</th>\n      <th>test_key</th>\n      <th>test_name</th>\n      <th>specimen</th>\n      <th>total_records</th>\n    </tr>\n  </thead>\n  <tbody>\n    <tr>\n      <th>0</th>\n      <td>Haematology</td>\n      <td>10655</td>\n      <td>CBC</td>\n      <td>BLOOD</td>\n      <td>627690</td>\n    </tr>\n    <tr>\n      <th>1</th>\n      <td>Clinical Pathology</td>\n      <td>10994</td>\n      <td>Complete Urine Analysis (Urine R/E)</td>\n      <td>URINE</td>\n      <td>121310</td>\n    </tr>\n    <tr>\n      <th>2</th>\n      <td>Microbiology</td>\n      <td>10252</td>\n      <td>Urine for C/S</td>\n      <td>URINE</td>\n      <td>110052</td>\n    </tr>\n    <tr>\n      <th>3</th>\n      <td>Microbiology</td>\n      <td>10217</td>\n      <td>Blood for C/S</td>\n      <td>BLOOD</td>\n      <td>77688</td>\n    </tr>\n    <tr>\n      <th>4</th>\n      <td>Clinical Pathology</td>\n      <td>10616</td>\n      <td>Urine R/M/E</td>\n      <td>URINE</td>\n      <td>29287</td>\n    </tr>\n    <tr>\n      <th>5</th>\n      <td>Biochemistry</td>\n      <td>10937</td>\n      <td>Electrolytes Serum</td>\n      <td>BLOOD.</td>\n      <td>24024</td>\n    </tr>\n    <tr>\n      <th>6</th>\n      <td>BLOOD TRANSFUSION</td>\n      <td>10057</td>\n      <td>Grouping + Cross Matching + Screening</td>\n      <td>BLOOD</td>\n      <td>16965</td>\n    </tr>\n    <tr>\n      <th>7</th>\n      <td>Clinical Pathology</td>\n      <td>10617</td>\n      <td>Stool R/E</td>\n      <td>STOOL</td>\n      <td>12854</td>\n    </tr>\n    <tr>\n      <th>8</th>\n      <td>Microbiology</td>\n      <td>10157</td>\n      <td>Stool for C/S</td>\n      <td>STOOL</td>\n      <td>9328</td>\n    </tr>\n    <tr>\n      <th>9</th>\n      <td>Biochemistry</td>\n      <td>10899</td>\n      <td>Serum creatinine level</td>\n      <td>BLOOD</td>\n      <td>7647</td>\n    </tr>\n    <tr>\n      <th>10</th>\n      <td>Biochemistry</td>\n      <td>11079</td>\n      <td>Renal Function Test (Urea, Creatinine, Electro...</td>\n      <td>BLOOD</td>\n      <td>6186</td>\n    </tr>\n    <tr>\n      <th>11</th>\n      <td>Biochemistry</td>\n      <td>10191</td>\n      <td>Lipid Profile Serum (F)</td>\n      <td>BLOOD.</td>\n      <td>5248</td>\n    </tr>\n    <tr>\n      <th>12</th>\n      <td>Serology</td>\n      <td>10550</td>\n      <td>Prothrombin Time (PT)</td>\n      <td>BLOOD</td>\n      <td>5065</td>\n    </tr>\n    <tr>\n      <th>13</th>\n      <td>Biochemistry</td>\n      <td>10453</td>\n      <td>RBG - Random blood glucose</td>\n      <td>BLOOD</td>\n      <td>4648</td>\n    </tr>\n    <tr>\n      <th>14</th>\n      <td>Haematology</td>\n      <td>10664</td>\n      <td>Blood Film (PBF)</td>\n      <td>WHOLE BLOOD</td>\n      <td>4545</td>\n    </tr>\n    <tr>\n      <th>15</th>\n      <td>Biochemistry</td>\n      <td>10921</td>\n      <td>ALT(SGPT) Serum</td>\n      <td>BLOOD</td>\n      <td>4205</td>\n    </tr>\n    <tr>\n      <th>16</th>\n      <td>Microbiology</td>\n      <td>10577</td>\n      <td>Sputum for C/S</td>\n      <td>SPUTUM.</td>\n      <td>3666</td>\n    </tr>\n    <tr>\n      <th>17</th>\n      <td>Biochemistry</td>\n      <td>10626</td>\n      <td>Lipid Profile Serum (R)</td>\n      <td>BLOOD</td>\n      <td>3644</td>\n    </tr>\n    <tr>\n      <th>18</th>\n      <td>Microbiology</td>\n      <td>10735</td>\n      <td>Tracheal Aspirate for C/S</td>\n      <td>TRACHEAL ASPIRATE</td>\n      <td>3619</td>\n    </tr>\n    <tr>\n      <th>19</th>\n      <td>Biochemistry</td>\n      <td>10914</td>\n      <td>Blood Gas Analysis Arterial (ABG)</td>\n      <td>BLOOD.</td>\n      <td>3594</td>\n    </tr>\n    <tr>\n      <th>20</th>\n      <td>Immunology</td>\n      <td>10531</td>\n      <td>CRP (C-Reactive Protein)</td>\n      <td>BLOOD</td>\n      <td>3233</td>\n    </tr>\n    <tr>\n      <th>21</th>\n      <td>BLOOD TRANSFUSION</td>\n      <td>10793</td>\n      <td>Grouping+ICT+Cross Matching + Screening</td>\n      <td>BLOOD</td>\n      <td>3097</td>\n    </tr>\n    <tr>\n      <th>22</th>\n      <td>Immunology</td>\n      <td>10309</td>\n      <td>TSH</td>\n      <td>BLOOD</td>\n      <td>2959</td>\n    </tr>\n    <tr>\n      <th>23</th>\n      <td>Biochemistry</td>\n      <td>10693</td>\n      <td>FBG - Fasting blood glucose</td>\n      <td>BLOOD</td>\n      <td>2938</td>\n    </tr>\n    <tr>\n      <th>24</th>\n      <td>Biochemistry</td>\n      <td>10816</td>\n      <td>HbA1c</td>\n      <td>WHOLE BLOOD</td>\n      <td>2466</td>\n    </tr>\n  </tbody>\n</table>\n</div>"
     },
     "execution_count": 11,
     "metadata": {},
     "output_type": "execute_result"
    }
   ],
   "source": [
    "test_df"
   ],
   "metadata": {
    "collapsed": false,
    "pycharm": {
     "name": "#%%\n"
    }
   }
  },
  {
   "cell_type": "markdown",
   "id": "cf93db02",
   "metadata": {},
   "source": [
    "### All data types of the attribute of selected test"
   ]
  },
  {
   "cell_type": "markdown",
   "source": [],
   "metadata": {
    "collapsed": false
   }
  },
  {
   "cell_type": "code",
   "execution_count": 12,
   "id": "669fb5ce",
   "metadata": {},
   "outputs": [
    {
     "name": "stdout",
     "output_type": "stream",
     "text": [
      "successfully connected to database\n"
     ]
    },
    {
     "data": {
      "text/plain": "       test_key        test_name  attr_key    attribute result  unit  \\\n0         10921  ALT(SGPT) Serum     14344   ALT (SGPT)     10   U/L   \n1         10921  ALT(SGPT) Serum     14344   ALT (SGPT)    100   U/L   \n2         10921  ALT(SGPT) Serum     14344   ALT (SGPT)   10.0   U/L   \n3         10921  ALT(SGPT) Serum     14344   ALT (SGPT)   1000   U/L   \n4         10921  ALT(SGPT) Serum     14344   ALT (SGPT)    101   U/L   \n...         ...              ...       ...          ...    ...   ...   \n16449     10616      Urine R/M/E     13029  Spermatozoa    (+)  Null   \n16450     10616      Urine R/M/E     13029  Spermatozoa   (++)  Null   \n16451     10616      Urine R/M/E     13029  Spermatozoa    Few  Null   \n16452     10616      Urine R/M/E     13029  Spermatozoa    Nil  Null   \n16453     10616      Urine R/M/E     13029  Spermatozoa   Null  Null   \n\n       record_count  \n0                14  \n1                 6  \n2                 1  \n3                 2  \n4                 3  \n...             ...  \n16449             7  \n16450             3  \n16451             1  \n16452           420  \n16453           289  \n\n[16454 rows x 7 columns]",
      "text/html": "<div>\n<style scoped>\n    .dataframe tbody tr th:only-of-type {\n        vertical-align: middle;\n    }\n\n    .dataframe tbody tr th {\n        vertical-align: top;\n    }\n\n    .dataframe thead th {\n        text-align: right;\n    }\n</style>\n<table border=\"1\" class=\"dataframe\">\n  <thead>\n    <tr style=\"text-align: right;\">\n      <th></th>\n      <th>test_key</th>\n      <th>test_name</th>\n      <th>attr_key</th>\n      <th>attribute</th>\n      <th>result</th>\n      <th>unit</th>\n      <th>record_count</th>\n    </tr>\n  </thead>\n  <tbody>\n    <tr>\n      <th>0</th>\n      <td>10921</td>\n      <td>ALT(SGPT) Serum</td>\n      <td>14344</td>\n      <td>ALT (SGPT)</td>\n      <td>10</td>\n      <td>U/L</td>\n      <td>14</td>\n    </tr>\n    <tr>\n      <th>1</th>\n      <td>10921</td>\n      <td>ALT(SGPT) Serum</td>\n      <td>14344</td>\n      <td>ALT (SGPT)</td>\n      <td>100</td>\n      <td>U/L</td>\n      <td>6</td>\n    </tr>\n    <tr>\n      <th>2</th>\n      <td>10921</td>\n      <td>ALT(SGPT) Serum</td>\n      <td>14344</td>\n      <td>ALT (SGPT)</td>\n      <td>10.0</td>\n      <td>U/L</td>\n      <td>1</td>\n    </tr>\n    <tr>\n      <th>3</th>\n      <td>10921</td>\n      <td>ALT(SGPT) Serum</td>\n      <td>14344</td>\n      <td>ALT (SGPT)</td>\n      <td>1000</td>\n      <td>U/L</td>\n      <td>2</td>\n    </tr>\n    <tr>\n      <th>4</th>\n      <td>10921</td>\n      <td>ALT(SGPT) Serum</td>\n      <td>14344</td>\n      <td>ALT (SGPT)</td>\n      <td>101</td>\n      <td>U/L</td>\n      <td>3</td>\n    </tr>\n    <tr>\n      <th>...</th>\n      <td>...</td>\n      <td>...</td>\n      <td>...</td>\n      <td>...</td>\n      <td>...</td>\n      <td>...</td>\n      <td>...</td>\n    </tr>\n    <tr>\n      <th>16449</th>\n      <td>10616</td>\n      <td>Urine R/M/E</td>\n      <td>13029</td>\n      <td>Spermatozoa</td>\n      <td>(+)</td>\n      <td>Null</td>\n      <td>7</td>\n    </tr>\n    <tr>\n      <th>16450</th>\n      <td>10616</td>\n      <td>Urine R/M/E</td>\n      <td>13029</td>\n      <td>Spermatozoa</td>\n      <td>(++)</td>\n      <td>Null</td>\n      <td>3</td>\n    </tr>\n    <tr>\n      <th>16451</th>\n      <td>10616</td>\n      <td>Urine R/M/E</td>\n      <td>13029</td>\n      <td>Spermatozoa</td>\n      <td>Few</td>\n      <td>Null</td>\n      <td>1</td>\n    </tr>\n    <tr>\n      <th>16452</th>\n      <td>10616</td>\n      <td>Urine R/M/E</td>\n      <td>13029</td>\n      <td>Spermatozoa</td>\n      <td>Nil</td>\n      <td>Null</td>\n      <td>420</td>\n    </tr>\n    <tr>\n      <th>16453</th>\n      <td>10616</td>\n      <td>Urine R/M/E</td>\n      <td>13029</td>\n      <td>Spermatozoa</td>\n      <td>Null</td>\n      <td>Null</td>\n      <td>289</td>\n    </tr>\n  </tbody>\n</table>\n<p>16454 rows × 7 columns</p>\n</div>"
     },
     "execution_count": 12,
     "metadata": {},
     "output_type": "execute_result"
    }
   ],
   "source": [
    "conn = PostgresConnection().getConnection()\n",
    "values = tuple(list(test_df['test_key']))\n",
    "query = \"SELECT t.test_key, test.test_name, t.attr_key, attr.attr_name, t.test_result, attr.unit, count(*) as record_count \" \\\n",
    "        \"FROM centraldw.fact_testresult t \" \\\n",
    "        \"JOIN centraldw.dim_hospital h on h.hospital_key=t.hospital_key \" \\\n",
    "        \"JOIN centraldw.dim_lab lab on lab.lab_key=t.lab_key \" \\\n",
    "        \"JOIN centraldw.dim_testitem test on test.test_key=t.test_key \" \\\n",
    "        \"JOIN centraldw.dim_attribute attr on attr.attr_key=t.attr_key \" \\\n",
    "        \"WHERE t.test_key IN {} \" \\\n",
    "        \"GROUP BY t.test_key, test.test_name, t.attr_key, attr.attr_name, t.test_result, attr.unit \" \\\n",
    "        \"ORDER BY test.test_name\".format(values)\n",
    "cur = conn.cursor()\n",
    "cur.execute(query)\n",
    "res = cur.fetchall()\n",
    "cur.close()\n",
    "data_df = pd.DataFrame(list(res), columns=[\"test_key\", \"test_name\", 'attr_key', \"attribute\", \"result\", 'unit', \"record_count\" ])\n",
    "data_df"
   ]
  },
  {
   "cell_type": "code",
   "execution_count": 13,
   "id": "d9dbd447",
   "metadata": {},
   "outputs": [],
   "source": [
    "data_df.to_csv(data_dir + \"source-1/attribute.csv\", index=False)"
   ]
  },
  {
   "cell_type": "code",
   "execution_count": 14,
   "id": "8586687c",
   "metadata": {},
   "outputs": [
    {
     "data": {
      "text/plain": "              lab_name  test_key  \\\n0          Haematology     10655   \n1   Clinical Pathology     10994   \n2         Microbiology     10252   \n3         Microbiology     10217   \n4   Clinical Pathology     10616   \n5         Biochemistry     10937   \n6    BLOOD TRANSFUSION     10057   \n7   Clinical Pathology     10617   \n8         Microbiology     10157   \n9         Biochemistry     10899   \n10        Biochemistry     11079   \n11        Biochemistry     10191   \n12            Serology     10550   \n13        Biochemistry     10453   \n14         Haematology     10664   \n15        Biochemistry     10921   \n16        Microbiology     10577   \n17        Biochemistry     10626   \n18        Microbiology     10735   \n19        Biochemistry     10914   \n20          Immunology     10531   \n21   BLOOD TRANSFUSION     10793   \n22          Immunology     10309   \n23        Biochemistry     10693   \n24        Biochemistry     10816   \n\n                                            test_name           specimen  \\\n0                                                 CBC              BLOOD   \n1                 Complete Urine Analysis (Urine R/E)              URINE   \n2                                       Urine for C/S              URINE   \n3                                       Blood for C/S              BLOOD   \n4                                         Urine R/M/E              URINE   \n5                                  Electrolytes Serum             BLOOD.   \n6               Grouping + Cross Matching + Screening              BLOOD   \n7                                           Stool R/E              STOOL   \n8                                       Stool for C/S              STOOL   \n9                              Serum creatinine level              BLOOD   \n10  Renal Function Test (Urea, Creatinine, Electro...              BLOOD   \n11                            Lipid Profile Serum (F)             BLOOD.   \n12                              Prothrombin Time (PT)              BLOOD   \n13                         RBG - Random blood glucose              BLOOD   \n14                                   Blood Film (PBF)        WHOLE BLOOD   \n15                                    ALT(SGPT) Serum              BLOOD   \n16                                     Sputum for C/S            SPUTUM.   \n17                            Lipid Profile Serum (R)              BLOOD   \n18                          Tracheal Aspirate for C/S  TRACHEAL ASPIRATE   \n19                  Blood Gas Analysis Arterial (ABG)             BLOOD.   \n20                           CRP (C-Reactive Protein)              BLOOD   \n21            Grouping+ICT+Cross Matching + Screening              BLOOD   \n22                                                TSH              BLOOD   \n23                        FBG - Fasting blood glucose              BLOOD   \n24                                              HbA1c        WHOLE BLOOD   \n\n    total_records  \n0          627690  \n1          121310  \n2          110052  \n3           77688  \n4           29287  \n5           24024  \n6           16965  \n7           12854  \n8            9328  \n9            7647  \n10           6186  \n11           5248  \n12           5065  \n13           4648  \n14           4545  \n15           4205  \n16           3666  \n17           3644  \n18           3619  \n19           3594  \n20           3233  \n21           3097  \n22           2959  \n23           2938  \n24           2466  ",
      "text/html": "<div>\n<style scoped>\n    .dataframe tbody tr th:only-of-type {\n        vertical-align: middle;\n    }\n\n    .dataframe tbody tr th {\n        vertical-align: top;\n    }\n\n    .dataframe thead th {\n        text-align: right;\n    }\n</style>\n<table border=\"1\" class=\"dataframe\">\n  <thead>\n    <tr style=\"text-align: right;\">\n      <th></th>\n      <th>lab_name</th>\n      <th>test_key</th>\n      <th>test_name</th>\n      <th>specimen</th>\n      <th>total_records</th>\n    </tr>\n  </thead>\n  <tbody>\n    <tr>\n      <th>0</th>\n      <td>Haematology</td>\n      <td>10655</td>\n      <td>CBC</td>\n      <td>BLOOD</td>\n      <td>627690</td>\n    </tr>\n    <tr>\n      <th>1</th>\n      <td>Clinical Pathology</td>\n      <td>10994</td>\n      <td>Complete Urine Analysis (Urine R/E)</td>\n      <td>URINE</td>\n      <td>121310</td>\n    </tr>\n    <tr>\n      <th>2</th>\n      <td>Microbiology</td>\n      <td>10252</td>\n      <td>Urine for C/S</td>\n      <td>URINE</td>\n      <td>110052</td>\n    </tr>\n    <tr>\n      <th>3</th>\n      <td>Microbiology</td>\n      <td>10217</td>\n      <td>Blood for C/S</td>\n      <td>BLOOD</td>\n      <td>77688</td>\n    </tr>\n    <tr>\n      <th>4</th>\n      <td>Clinical Pathology</td>\n      <td>10616</td>\n      <td>Urine R/M/E</td>\n      <td>URINE</td>\n      <td>29287</td>\n    </tr>\n    <tr>\n      <th>5</th>\n      <td>Biochemistry</td>\n      <td>10937</td>\n      <td>Electrolytes Serum</td>\n      <td>BLOOD.</td>\n      <td>24024</td>\n    </tr>\n    <tr>\n      <th>6</th>\n      <td>BLOOD TRANSFUSION</td>\n      <td>10057</td>\n      <td>Grouping + Cross Matching + Screening</td>\n      <td>BLOOD</td>\n      <td>16965</td>\n    </tr>\n    <tr>\n      <th>7</th>\n      <td>Clinical Pathology</td>\n      <td>10617</td>\n      <td>Stool R/E</td>\n      <td>STOOL</td>\n      <td>12854</td>\n    </tr>\n    <tr>\n      <th>8</th>\n      <td>Microbiology</td>\n      <td>10157</td>\n      <td>Stool for C/S</td>\n      <td>STOOL</td>\n      <td>9328</td>\n    </tr>\n    <tr>\n      <th>9</th>\n      <td>Biochemistry</td>\n      <td>10899</td>\n      <td>Serum creatinine level</td>\n      <td>BLOOD</td>\n      <td>7647</td>\n    </tr>\n    <tr>\n      <th>10</th>\n      <td>Biochemistry</td>\n      <td>11079</td>\n      <td>Renal Function Test (Urea, Creatinine, Electro...</td>\n      <td>BLOOD</td>\n      <td>6186</td>\n    </tr>\n    <tr>\n      <th>11</th>\n      <td>Biochemistry</td>\n      <td>10191</td>\n      <td>Lipid Profile Serum (F)</td>\n      <td>BLOOD.</td>\n      <td>5248</td>\n    </tr>\n    <tr>\n      <th>12</th>\n      <td>Serology</td>\n      <td>10550</td>\n      <td>Prothrombin Time (PT)</td>\n      <td>BLOOD</td>\n      <td>5065</td>\n    </tr>\n    <tr>\n      <th>13</th>\n      <td>Biochemistry</td>\n      <td>10453</td>\n      <td>RBG - Random blood glucose</td>\n      <td>BLOOD</td>\n      <td>4648</td>\n    </tr>\n    <tr>\n      <th>14</th>\n      <td>Haematology</td>\n      <td>10664</td>\n      <td>Blood Film (PBF)</td>\n      <td>WHOLE BLOOD</td>\n      <td>4545</td>\n    </tr>\n    <tr>\n      <th>15</th>\n      <td>Biochemistry</td>\n      <td>10921</td>\n      <td>ALT(SGPT) Serum</td>\n      <td>BLOOD</td>\n      <td>4205</td>\n    </tr>\n    <tr>\n      <th>16</th>\n      <td>Microbiology</td>\n      <td>10577</td>\n      <td>Sputum for C/S</td>\n      <td>SPUTUM.</td>\n      <td>3666</td>\n    </tr>\n    <tr>\n      <th>17</th>\n      <td>Biochemistry</td>\n      <td>10626</td>\n      <td>Lipid Profile Serum (R)</td>\n      <td>BLOOD</td>\n      <td>3644</td>\n    </tr>\n    <tr>\n      <th>18</th>\n      <td>Microbiology</td>\n      <td>10735</td>\n      <td>Tracheal Aspirate for C/S</td>\n      <td>TRACHEAL ASPIRATE</td>\n      <td>3619</td>\n    </tr>\n    <tr>\n      <th>19</th>\n      <td>Biochemistry</td>\n      <td>10914</td>\n      <td>Blood Gas Analysis Arterial (ABG)</td>\n      <td>BLOOD.</td>\n      <td>3594</td>\n    </tr>\n    <tr>\n      <th>20</th>\n      <td>Immunology</td>\n      <td>10531</td>\n      <td>CRP (C-Reactive Protein)</td>\n      <td>BLOOD</td>\n      <td>3233</td>\n    </tr>\n    <tr>\n      <th>21</th>\n      <td>BLOOD TRANSFUSION</td>\n      <td>10793</td>\n      <td>Grouping+ICT+Cross Matching + Screening</td>\n      <td>BLOOD</td>\n      <td>3097</td>\n    </tr>\n    <tr>\n      <th>22</th>\n      <td>Immunology</td>\n      <td>10309</td>\n      <td>TSH</td>\n      <td>BLOOD</td>\n      <td>2959</td>\n    </tr>\n    <tr>\n      <th>23</th>\n      <td>Biochemistry</td>\n      <td>10693</td>\n      <td>FBG - Fasting blood glucose</td>\n      <td>BLOOD</td>\n      <td>2938</td>\n    </tr>\n    <tr>\n      <th>24</th>\n      <td>Biochemistry</td>\n      <td>10816</td>\n      <td>HbA1c</td>\n      <td>WHOLE BLOOD</td>\n      <td>2466</td>\n    </tr>\n  </tbody>\n</table>\n</div>"
     },
     "execution_count": 14,
     "metadata": {},
     "output_type": "execute_result"
    }
   ],
   "source": [
    "test_df"
   ]
  },
  {
   "cell_type": "code",
   "execution_count": null,
   "outputs": [],
   "source": [],
   "metadata": {
    "collapsed": false,
    "pycharm": {
     "name": "#%%\n"
    }
   }
  }
 ],
 "metadata": {
  "kernelspec": {
   "display_name": "Python 3 (ipykernel)",
   "language": "python",
   "name": "python3"
  },
  "language_info": {
   "codemirror_mode": {
    "name": "ipython",
    "version": 3
   },
   "file_extension": ".py",
   "mimetype": "text/x-python",
   "name": "python",
   "nbconvert_exporter": "python",
   "pygments_lexer": "ipython3",
   "version": "3.8.10"
  }
 },
 "nbformat": 4,
 "nbformat_minor": 5
}