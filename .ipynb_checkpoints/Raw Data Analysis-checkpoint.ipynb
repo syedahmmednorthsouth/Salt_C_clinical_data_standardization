{
 "cells": [
  {
   "cell_type": "code",
   "execution_count": 10,
   "id": "b9e9745b",
   "metadata": {},
   "outputs": [],
   "source": [
    "import pandas as pd\n",
    "import numpy as np\n",
    "\n",
    "import psycopg2\n",
    "import psycopg2.extras\n",
    "\n",
    "data_dir = \"/home/raihan/NCDW/standardization/std-notebook/dataset/\""
   ]
  },
  {
   "cell_type": "code",
   "execution_count": 3,
   "id": "2fd924c5",
   "metadata": {},
   "outputs": [
    {
     "name": "stdout",
     "output_type": "stream",
     "text": [
      "successfully connected to database\n"
     ]
    }
   ],
   "source": [
    "class PostgresConnection(object):\n",
    "    def __init__(self):\n",
    "        self.connection = psycopg2.connect(database=\"ncdw_dev\",\n",
    "                                           user = \"raihan\",\n",
    "                                           password = \"NCDW@4321*\",\n",
    "                                           host = \"103.94.135.217\",\n",
    "                                           port = \"5454\")\n",
    "\n",
    "    def getConnection(self):\n",
    "        print(\"successfully connected to database\")\n",
    "        return self.connection\n",
    "conn = PostgresConnection().getConnection()"
   ]
  },
  {
   "cell_type": "markdown",
   "id": "794efab2",
   "metadata": {},
   "source": [
    "### Snomed Clinical Term for Lab tests"
   ]
  },
  {
   "cell_type": "code",
   "execution_count": 13,
   "id": "6c05f855",
   "metadata": {},
   "outputs": [
    {
     "data": {
      "text/html": [
       "<div>\n",
       "<style scoped>\n",
       "    .dataframe tbody tr th:only-of-type {\n",
       "        vertical-align: middle;\n",
       "    }\n",
       "\n",
       "    .dataframe tbody tr th {\n",
       "        vertical-align: top;\n",
       "    }\n",
       "\n",
       "    .dataframe thead th {\n",
       "        text-align: right;\n",
       "    }\n",
       "</style>\n",
       "<table border=\"1\" class=\"dataframe\">\n",
       "  <thead>\n",
       "    <tr style=\"text-align: right;\">\n",
       "      <th></th>\n",
       "      <th>lab_name</th>\n",
       "      <th>test_key</th>\n",
       "      <th>test_name</th>\n",
       "      <th>specimen</th>\n",
       "      <th>snomed_name</th>\n",
       "      <th>snomed_ct_id</th>\n",
       "      <th>iccdrb_name</th>\n",
       "      <th>@</th>\n",
       "    </tr>\n",
       "  </thead>\n",
       "  <tbody>\n",
       "    <tr>\n",
       "      <th>0</th>\n",
       "      <td>Haematology</td>\n",
       "      <td>10655</td>\n",
       "      <td>CBC</td>\n",
       "      <td>BLOOD</td>\n",
       "      <td>[Complete blood count,  CBC,  FBC - Full blood...</td>\n",
       "      <td>26604007</td>\n",
       "      <td>Complete Blood Count</td>\n",
       "      <td>NaN</td>\n",
       "    </tr>\n",
       "    <tr>\n",
       "      <th>1</th>\n",
       "      <td>Clinical Pathology</td>\n",
       "      <td>10994</td>\n",
       "      <td>Complete Urine Analysis (Urine R/E)</td>\n",
       "      <td>URINE</td>\n",
       "      <td>[Urinalysis,  Urinalysis procedure]</td>\n",
       "      <td>27171005</td>\n",
       "      <td>Urine Analysis</td>\n",
       "      <td>NaN</td>\n",
       "    </tr>\n",
       "    <tr>\n",
       "      <th>2</th>\n",
       "      <td>Microbiology</td>\n",
       "      <td>10252</td>\n",
       "      <td>Urine for C/S</td>\n",
       "      <td>URINE</td>\n",
       "      <td>[Urine culture,  Microbial urine culture]</td>\n",
       "      <td>117010004</td>\n",
       "      <td>Urine for CS</td>\n",
       "      <td>NaN</td>\n",
       "    </tr>\n",
       "    <tr>\n",
       "      <th>3</th>\n",
       "      <td>Microbiology</td>\n",
       "      <td>10217</td>\n",
       "      <td>Blood for C/S</td>\n",
       "      <td>BLOOD</td>\n",
       "      <td>[Blood culture,  BC - Blood culture]</td>\n",
       "      <td>30088009</td>\n",
       "      <td>Blood for CS</td>\n",
       "      <td>NaN</td>\n",
       "    </tr>\n",
       "    <tr>\n",
       "      <th>4</th>\n",
       "      <td>Clinical Pathology</td>\n",
       "      <td>10616</td>\n",
       "      <td>Urine R/M/E</td>\n",
       "      <td>URINE</td>\n",
       "      <td>[Urine examination]</td>\n",
       "      <td>167217005</td>\n",
       "      <td>Urine RME</td>\n",
       "      <td>NaN</td>\n",
       "    </tr>\n",
       "    <tr>\n",
       "      <th>5</th>\n",
       "      <td>Biochemistry</td>\n",
       "      <td>10937</td>\n",
       "      <td>Electrolytes Serum</td>\n",
       "      <td>BLOOD.</td>\n",
       "      <td>[Electrolytes measurement,  serum,  Serum elec...</td>\n",
       "      <td>20109005</td>\n",
       "      <td>Electrolyte</td>\n",
       "      <td>NaN</td>\n",
       "    </tr>\n",
       "    <tr>\n",
       "      <th>6</th>\n",
       "      <td>BLOOD TRANSFUSION</td>\n",
       "      <td>10057</td>\n",
       "      <td>Grouping + Cross Matching + Screening</td>\n",
       "      <td>BLOOD</td>\n",
       "      <td>[Blood group typing,  Antigen typing,  blood g...</td>\n",
       "      <td>44608003</td>\n",
       "      <td>Blood Grouping &amp; Rh Typing</td>\n",
       "      <td>NaN</td>\n",
       "    </tr>\n",
       "    <tr>\n",
       "      <th>7</th>\n",
       "      <td>Clinical Pathology</td>\n",
       "      <td>10617</td>\n",
       "      <td>Stool R/E</td>\n",
       "      <td>STOOL</td>\n",
       "      <td>[Stool microscopy,  Microscopic examination of...</td>\n",
       "      <td>252393000</td>\n",
       "      <td>Stool RME</td>\n",
       "      <td>NaN</td>\n",
       "    </tr>\n",
       "    <tr>\n",
       "      <th>8</th>\n",
       "      <td>Microbiology</td>\n",
       "      <td>10157</td>\n",
       "      <td>Stool for C/S</td>\n",
       "      <td>STOOL</td>\n",
       "      <td>[Stool culture,   Feces culture,  Microbial st...</td>\n",
       "      <td>117028002</td>\n",
       "      <td>Stool CS for Sal., Shig. &amp; Campy spp</td>\n",
       "      <td>NaN</td>\n",
       "    </tr>\n",
       "    <tr>\n",
       "      <th>9</th>\n",
       "      <td>Biochemistry</td>\n",
       "      <td>10899</td>\n",
       "      <td>Serum creatinine level</td>\n",
       "      <td>BLOOD</td>\n",
       "      <td>[ Serum creatinine level - finding,  Finding o...</td>\n",
       "      <td>365757006</td>\n",
       "      <td>Creatinine</td>\n",
       "      <td>NaN</td>\n",
       "    </tr>\n",
       "    <tr>\n",
       "      <th>10</th>\n",
       "      <td>Biochemistry</td>\n",
       "      <td>11079</td>\n",
       "      <td>Renal Function Test (Urea, Creatinine, Electro...</td>\n",
       "      <td>BLOOD</td>\n",
       "      <td>[Renal function study,  Renal function study (...</td>\n",
       "      <td>44277000</td>\n",
       "      <td>NaN</td>\n",
       "      <td>NaN</td>\n",
       "    </tr>\n",
       "    <tr>\n",
       "      <th>11</th>\n",
       "      <td>Biochemistry</td>\n",
       "      <td>10191</td>\n",
       "      <td>Lipid Profile Serum (F)</td>\n",
       "      <td>BLOOD.</td>\n",
       "      <td>[Fasting lipid profile,  FLP - Fasting lipid p...</td>\n",
       "      <td>252150008</td>\n",
       "      <td>Lipid Profile</td>\n",
       "      <td>NaN</td>\n",
       "    </tr>\n",
       "    <tr>\n",
       "      <th>12</th>\n",
       "      <td>Serology</td>\n",
       "      <td>10550</td>\n",
       "      <td>Prothrombin Time (PT)</td>\n",
       "      <td>BLOOD</td>\n",
       "      <td>[Prothrombin time,  PT - Prothrombin time,   P...</td>\n",
       "      <td>396451008</td>\n",
       "      <td>Prothrombin Time (PT/INR)</td>\n",
       "      <td>NaN</td>\n",
       "    </tr>\n",
       "    <tr>\n",
       "      <th>13</th>\n",
       "      <td>Biochemistry</td>\n",
       "      <td>10453</td>\n",
       "      <td>RBG - Random blood glucose</td>\n",
       "      <td>BLOOD</td>\n",
       "      <td>[Random blood glucose measurement,   RBG - Ran...</td>\n",
       "      <td>271061004</td>\n",
       "      <td>Glucose ( R)</td>\n",
       "      <td>NaN</td>\n",
       "    </tr>\n",
       "    <tr>\n",
       "      <th>14</th>\n",
       "      <td>Haematology</td>\n",
       "      <td>10664</td>\n",
       "      <td>Blood Film (PBF)</td>\n",
       "      <td>WHOLE BLOOD</td>\n",
       "      <td>[Peripheral blood smear interpretation,  Perip...</td>\n",
       "      <td>14768001</td>\n",
       "      <td>Cell Morphology (PBF)</td>\n",
       "      <td>NaN</td>\n",
       "    </tr>\n",
       "    <tr>\n",
       "      <th>15</th>\n",
       "      <td>Biochemistry</td>\n",
       "      <td>10921</td>\n",
       "      <td>ALT(SGPT) Serum</td>\n",
       "      <td>BLOOD</td>\n",
       "      <td>[ Alanine aminotransferase (serum glutamic-pyr...</td>\n",
       "      <td>166645004</td>\n",
       "      <td>ALT (SGPT)</td>\n",
       "      <td>NaN</td>\n",
       "    </tr>\n",
       "    <tr>\n",
       "      <th>16</th>\n",
       "      <td>Microbiology</td>\n",
       "      <td>10577</td>\n",
       "      <td>Sputum for C/S</td>\n",
       "      <td>SPUTUM.</td>\n",
       "      <td>[Sputum sent for C/S,  Sputum sent for culture...</td>\n",
       "      <td>168302007</td>\n",
       "      <td>Sputum for CS</td>\n",
       "      <td>NaN</td>\n",
       "    </tr>\n",
       "    <tr>\n",
       "      <th>17</th>\n",
       "      <td>Biochemistry</td>\n",
       "      <td>10626</td>\n",
       "      <td>Lipid Profile Serum (R)</td>\n",
       "      <td>BLOOD</td>\n",
       "      <td>[Lipid panel]</td>\n",
       "      <td>16254007</td>\n",
       "      <td>Lipid Profile</td>\n",
       "      <td>NaN</td>\n",
       "    </tr>\n",
       "    <tr>\n",
       "      <th>18</th>\n",
       "      <td>Microbiology</td>\n",
       "      <td>10735</td>\n",
       "      <td>Tracheal Aspirate for C/S</td>\n",
       "      <td>TRACHEAL ASPIRATE</td>\n",
       "      <td>[Specimen from trachea obtained by aspiration,...</td>\n",
       "      <td>445447003</td>\n",
       "      <td>Tracheal aspirate for CS</td>\n",
       "      <td>NaN</td>\n",
       "    </tr>\n",
       "    <tr>\n",
       "      <th>19</th>\n",
       "      <td>Biochemistry</td>\n",
       "      <td>10914</td>\n",
       "      <td>Blood Gas Analysis Arterial (ABG)</td>\n",
       "      <td>BLOOD.</td>\n",
       "      <td>[Analysis of arterial blood gases and pH,  ABG...</td>\n",
       "      <td>60170009</td>\n",
       "      <td>-</td>\n",
       "      <td>NaN</td>\n",
       "    </tr>\n",
       "    <tr>\n",
       "      <th>20</th>\n",
       "      <td>Immunology</td>\n",
       "      <td>10531</td>\n",
       "      <td>CRP (C-Reactive Protein)</td>\n",
       "      <td>BLOOD</td>\n",
       "      <td>[ C reactive protein,    C-reactive protein,  ...</td>\n",
       "      <td>61425002</td>\n",
       "      <td>CRP (Quantitative)</td>\n",
       "      <td>NaN</td>\n",
       "    </tr>\n",
       "    <tr>\n",
       "      <th>21</th>\n",
       "      <td>BLOOD TRANSFUSION</td>\n",
       "      <td>10793</td>\n",
       "      <td>Grouping+ICT+Cross Matching + Screening</td>\n",
       "      <td>BLOOD</td>\n",
       "      <td>[Blood group typing,  Antigen typing,  blood g...</td>\n",
       "      <td>44608003</td>\n",
       "      <td>Blood Grouping &amp; Rh Typing</td>\n",
       "      <td>NaN</td>\n",
       "    </tr>\n",
       "    <tr>\n",
       "      <th>22</th>\n",
       "      <td>Immunology</td>\n",
       "      <td>10309</td>\n",
       "      <td>TSH</td>\n",
       "      <td>BLOOD</td>\n",
       "      <td>[Thyrotrophin,  TSH,   Thyroid stimulating hor...</td>\n",
       "      <td>65428006</td>\n",
       "      <td>TSH</td>\n",
       "      <td>NaN</td>\n",
       "    </tr>\n",
       "    <tr>\n",
       "      <th>23</th>\n",
       "      <td>Biochemistry</td>\n",
       "      <td>10693</td>\n",
       "      <td>FBG - Fasting blood glucose</td>\n",
       "      <td>BLOOD</td>\n",
       "      <td>[Fasting blood glucose measurement,  Fasting b...</td>\n",
       "      <td>271062006</td>\n",
       "      <td>Glucose (F)</td>\n",
       "      <td>NaN</td>\n",
       "    </tr>\n",
       "    <tr>\n",
       "      <th>24</th>\n",
       "      <td>Biochemistry</td>\n",
       "      <td>10816</td>\n",
       "      <td>HbA1c</td>\n",
       "      <td>WHOLE BLOOD</td>\n",
       "      <td>[HBA1c target,  Hemoglobin A1c (HBA1c) target,...</td>\n",
       "      <td>408591000</td>\n",
       "      <td>HbA1C</td>\n",
       "      <td>NaN</td>\n",
       "    </tr>\n",
       "  </tbody>\n",
       "</table>\n",
       "</div>"
      ],
      "text/plain": [
       "              lab_name  test_key  \\\n",
       "0          Haematology     10655   \n",
       "1   Clinical Pathology     10994   \n",
       "2         Microbiology     10252   \n",
       "3         Microbiology     10217   \n",
       "4   Clinical Pathology     10616   \n",
       "5         Biochemistry     10937   \n",
       "6    BLOOD TRANSFUSION     10057   \n",
       "7   Clinical Pathology     10617   \n",
       "8         Microbiology     10157   \n",
       "9         Biochemistry     10899   \n",
       "10        Biochemistry     11079   \n",
       "11        Biochemistry     10191   \n",
       "12            Serology     10550   \n",
       "13        Biochemistry     10453   \n",
       "14         Haematology     10664   \n",
       "15        Biochemistry     10921   \n",
       "16        Microbiology     10577   \n",
       "17        Biochemistry     10626   \n",
       "18        Microbiology     10735   \n",
       "19        Biochemistry     10914   \n",
       "20          Immunology     10531   \n",
       "21   BLOOD TRANSFUSION     10793   \n",
       "22          Immunology     10309   \n",
       "23        Biochemistry     10693   \n",
       "24        Biochemistry     10816   \n",
       "\n",
       "                                            test_name           specimen  \\\n",
       "0                                                 CBC              BLOOD   \n",
       "1                 Complete Urine Analysis (Urine R/E)              URINE   \n",
       "2                                       Urine for C/S              URINE   \n",
       "3                                       Blood for C/S              BLOOD   \n",
       "4                                         Urine R/M/E              URINE   \n",
       "5                                  Electrolytes Serum             BLOOD.   \n",
       "6               Grouping + Cross Matching + Screening              BLOOD   \n",
       "7                                           Stool R/E              STOOL   \n",
       "8                                       Stool for C/S              STOOL   \n",
       "9                              Serum creatinine level              BLOOD   \n",
       "10  Renal Function Test (Urea, Creatinine, Electro...              BLOOD   \n",
       "11                            Lipid Profile Serum (F)             BLOOD.   \n",
       "12                              Prothrombin Time (PT)              BLOOD   \n",
       "13                         RBG - Random blood glucose              BLOOD   \n",
       "14                                   Blood Film (PBF)        WHOLE BLOOD   \n",
       "15                                    ALT(SGPT) Serum              BLOOD   \n",
       "16                                     Sputum for C/S            SPUTUM.   \n",
       "17                            Lipid Profile Serum (R)              BLOOD   \n",
       "18                          Tracheal Aspirate for C/S  TRACHEAL ASPIRATE   \n",
       "19                  Blood Gas Analysis Arterial (ABG)             BLOOD.   \n",
       "20                           CRP (C-Reactive Protein)              BLOOD   \n",
       "21            Grouping+ICT+Cross Matching + Screening              BLOOD   \n",
       "22                                                TSH              BLOOD   \n",
       "23                        FBG - Fasting blood glucose              BLOOD   \n",
       "24                                              HbA1c        WHOLE BLOOD   \n",
       "\n",
       "                                          snomed_name  snomed_ct_id  \\\n",
       "0   [Complete blood count,  CBC,  FBC - Full blood...      26604007   \n",
       "1                 [Urinalysis,  Urinalysis procedure]      27171005   \n",
       "2           [Urine culture,  Microbial urine culture]     117010004   \n",
       "3                [Blood culture,  BC - Blood culture]      30088009   \n",
       "4                                 [Urine examination]     167217005   \n",
       "5   [Electrolytes measurement,  serum,  Serum elec...      20109005   \n",
       "6   [Blood group typing,  Antigen typing,  blood g...      44608003   \n",
       "7   [Stool microscopy,  Microscopic examination of...     252393000   \n",
       "8   [Stool culture,   Feces culture,  Microbial st...     117028002   \n",
       "9   [ Serum creatinine level - finding,  Finding o...     365757006   \n",
       "10  [Renal function study,  Renal function study (...      44277000   \n",
       "11  [Fasting lipid profile,  FLP - Fasting lipid p...     252150008   \n",
       "12  [Prothrombin time,  PT - Prothrombin time,   P...     396451008   \n",
       "13  [Random blood glucose measurement,   RBG - Ran...     271061004   \n",
       "14  [Peripheral blood smear interpretation,  Perip...      14768001   \n",
       "15  [ Alanine aminotransferase (serum glutamic-pyr...     166645004   \n",
       "16  [Sputum sent for C/S,  Sputum sent for culture...     168302007   \n",
       "17                                      [Lipid panel]      16254007   \n",
       "18  [Specimen from trachea obtained by aspiration,...     445447003   \n",
       "19  [Analysis of arterial blood gases and pH,  ABG...      60170009   \n",
       "20  [ C reactive protein,    C-reactive protein,  ...      61425002   \n",
       "21  [Blood group typing,  Antigen typing,  blood g...      44608003   \n",
       "22  [Thyrotrophin,  TSH,   Thyroid stimulating hor...      65428006   \n",
       "23  [Fasting blood glucose measurement,  Fasting b...     271062006   \n",
       "24  [HBA1c target,  Hemoglobin A1c (HBA1c) target,...     408591000   \n",
       "\n",
       "                             iccdrb_name   @  \n",
       "0                  Complete Blood Count  NaN  \n",
       "1                         Urine Analysis NaN  \n",
       "2                           Urine for CS NaN  \n",
       "3                           Blood for CS NaN  \n",
       "4                              Urine RME NaN  \n",
       "5                            Electrolyte NaN  \n",
       "6             Blood Grouping & Rh Typing NaN  \n",
       "7                              Stool RME NaN  \n",
       "8   Stool CS for Sal., Shig. & Campy spp NaN  \n",
       "9                             Creatinine NaN  \n",
       "10                                   NaN NaN  \n",
       "11                         Lipid Profile NaN  \n",
       "12             Prothrombin Time (PT/INR) NaN  \n",
       "13                          Glucose ( R) NaN  \n",
       "14                 Cell Morphology (PBF) NaN  \n",
       "15                            ALT (SGPT) NaN  \n",
       "16                         Sputum for CS NaN  \n",
       "17                         Lipid Profile NaN  \n",
       "18              Tracheal aspirate for CS NaN  \n",
       "19                                     - NaN  \n",
       "20                    CRP (Quantitative) NaN  \n",
       "21            Blood Grouping & Rh Typing NaN  \n",
       "22                                   TSH NaN  \n",
       "23                           Glucose (F) NaN  \n",
       "24                                 HbA1C NaN  "
      ]
     },
     "execution_count": 13,
     "metadata": {},
     "output_type": "execute_result"
    }
   ],
   "source": [
    "std_test = pd.read_csv(data_dir + \"std/LabtestStd.csv\")\n",
    "std_test[\"snomed_name\"] = std_test[\"snomed_name\"].apply(lambda x: x.split(','))\n",
    "std_test"
   ]
  },
  {
   "cell_type": "code",
   "execution_count": null,
   "id": "9d4b18ab",
   "metadata": {},
   "outputs": [],
   "source": []
  },
  {
   "cell_type": "markdown",
   "id": "6708d2ae",
   "metadata": {},
   "source": [
    "### Fetch source-1 data"
   ]
  },
  {
   "cell_type": "markdown",
   "id": "e33707fe",
   "metadata": {},
   "source": [
    "## Lab tests records % distribution"
   ]
  },
  {
   "cell_type": "markdown",
   "id": "630131be",
   "metadata": {},
   "source": [
    "## Source 1"
   ]
  },
  {
   "cell_type": "code",
   "execution_count": 5,
   "id": "10c0f05b",
   "metadata": {},
   "outputs": [
    {
     "name": "stdout",
     "output_type": "stream",
     "text": [
      "successfully connected to database\n"
     ]
    }
   ],
   "source": [
    "conn = PostgresConnection().getConnection()\n",
    "query = \"SELECT t.test_key, test.test_name, count(*) total_records \" \\\n",
    "        \"FROM centraldw.fact_testresult t \" \\\n",
    "        \"JOIN centraldw.dim_testitem test on test.test_key=t.test_key \" \\\n",
    "        \"GROUP BY t.test_key, test.test_name \" \\\n",
    "        \"ORDER BY total_records DESC \" \\\n",
    "        \"LIMIT 25 \"\n",
    "cur = conn.cursor()\n",
    "cur.execute(query)\n",
    "res = cur.fetchall()\n",
    "cur.close()\n",
    "test_df = pd.DataFrame(list(res), columns=[\"test_key\", \"test_name\", \"total_records\" ])"
   ]
  },
  {
   "cell_type": "code",
   "execution_count": 14,
   "id": "83e2f636",
   "metadata": {},
   "outputs": [
    {
     "data": {
      "text/html": [
       "<div>\n",
       "<style scoped>\n",
       "    .dataframe tbody tr th:only-of-type {\n",
       "        vertical-align: middle;\n",
       "    }\n",
       "\n",
       "    .dataframe tbody tr th {\n",
       "        vertical-align: top;\n",
       "    }\n",
       "\n",
       "    .dataframe thead th {\n",
       "        text-align: right;\n",
       "    }\n",
       "</style>\n",
       "<table border=\"1\" class=\"dataframe\">\n",
       "  <thead>\n",
       "    <tr style=\"text-align: right;\">\n",
       "      <th></th>\n",
       "      <th>test_key</th>\n",
       "      <th>test_name</th>\n",
       "      <th>total_records</th>\n",
       "      <th>ratio</th>\n",
       "    </tr>\n",
       "  </thead>\n",
       "  <tbody>\n",
       "    <tr>\n",
       "      <th>0</th>\n",
       "      <td>10655</td>\n",
       "      <td>CBC</td>\n",
       "      <td>627690</td>\n",
       "      <td>54.034162</td>\n",
       "    </tr>\n",
       "    <tr>\n",
       "      <th>1</th>\n",
       "      <td>10994</td>\n",
       "      <td>Complete Urine Analysis (Urine R/E)</td>\n",
       "      <td>121310</td>\n",
       "      <td>10.442869</td>\n",
       "    </tr>\n",
       "    <tr>\n",
       "      <th>2</th>\n",
       "      <td>10252</td>\n",
       "      <td>Urine for C/S</td>\n",
       "      <td>110052</td>\n",
       "      <td>9.473733</td>\n",
       "    </tr>\n",
       "    <tr>\n",
       "      <th>3</th>\n",
       "      <td>10217</td>\n",
       "      <td>Blood for C/S</td>\n",
       "      <td>77688</td>\n",
       "      <td>6.687706</td>\n",
       "    </tr>\n",
       "    <tr>\n",
       "      <th>4</th>\n",
       "      <td>10616</td>\n",
       "      <td>Urine R/M/E</td>\n",
       "      <td>29287</td>\n",
       "      <td>2.521147</td>\n",
       "    </tr>\n",
       "    <tr>\n",
       "      <th>5</th>\n",
       "      <td>10937</td>\n",
       "      <td>Electrolytes Serum</td>\n",
       "      <td>24024</td>\n",
       "      <td>2.068086</td>\n",
       "    </tr>\n",
       "    <tr>\n",
       "      <th>6</th>\n",
       "      <td>10057</td>\n",
       "      <td>Grouping + Cross Matching + Screening</td>\n",
       "      <td>16965</td>\n",
       "      <td>1.460418</td>\n",
       "    </tr>\n",
       "    <tr>\n",
       "      <th>7</th>\n",
       "      <td>10617</td>\n",
       "      <td>Stool R/E</td>\n",
       "      <td>12854</td>\n",
       "      <td>1.106526</td>\n",
       "    </tr>\n",
       "    <tr>\n",
       "      <th>8</th>\n",
       "      <td>10157</td>\n",
       "      <td>Stool for C/S</td>\n",
       "      <td>9328</td>\n",
       "      <td>0.802993</td>\n",
       "    </tr>\n",
       "    <tr>\n",
       "      <th>9</th>\n",
       "      <td>10899</td>\n",
       "      <td>Serum creatinine level</td>\n",
       "      <td>7647</td>\n",
       "      <td>0.658286</td>\n",
       "    </tr>\n",
       "    <tr>\n",
       "      <th>10</th>\n",
       "      <td>11079</td>\n",
       "      <td>Renal Function Test (Urea, Creatinine, Electro...</td>\n",
       "      <td>6186</td>\n",
       "      <td>0.532517</td>\n",
       "    </tr>\n",
       "    <tr>\n",
       "      <th>11</th>\n",
       "      <td>10191</td>\n",
       "      <td>Lipid Profile Serum (F)</td>\n",
       "      <td>5248</td>\n",
       "      <td>0.451770</td>\n",
       "    </tr>\n",
       "    <tr>\n",
       "      <th>12</th>\n",
       "      <td>10550</td>\n",
       "      <td>Prothrombin Time (PT)</td>\n",
       "      <td>5065</td>\n",
       "      <td>0.436016</td>\n",
       "    </tr>\n",
       "    <tr>\n",
       "      <th>13</th>\n",
       "      <td>10453</td>\n",
       "      <td>RBG - Random blood glucose</td>\n",
       "      <td>4648</td>\n",
       "      <td>0.400119</td>\n",
       "    </tr>\n",
       "    <tr>\n",
       "      <th>14</th>\n",
       "      <td>10664</td>\n",
       "      <td>Blood Film (PBF)</td>\n",
       "      <td>4545</td>\n",
       "      <td>0.391252</td>\n",
       "    </tr>\n",
       "    <tr>\n",
       "      <th>15</th>\n",
       "      <td>10921</td>\n",
       "      <td>ALT(SGPT) Serum</td>\n",
       "      <td>4205</td>\n",
       "      <td>0.361984</td>\n",
       "    </tr>\n",
       "    <tr>\n",
       "      <th>16</th>\n",
       "      <td>10577</td>\n",
       "      <td>Sputum for C/S</td>\n",
       "      <td>3666</td>\n",
       "      <td>0.315585</td>\n",
       "    </tr>\n",
       "    <tr>\n",
       "      <th>17</th>\n",
       "      <td>10626</td>\n",
       "      <td>Lipid Profile Serum (R)</td>\n",
       "      <td>3644</td>\n",
       "      <td>0.313691</td>\n",
       "    </tr>\n",
       "    <tr>\n",
       "      <th>18</th>\n",
       "      <td>10735</td>\n",
       "      <td>Tracheal Aspirate for C/S</td>\n",
       "      <td>3619</td>\n",
       "      <td>0.311539</td>\n",
       "    </tr>\n",
       "    <tr>\n",
       "      <th>19</th>\n",
       "      <td>10914</td>\n",
       "      <td>Blood Gas Analysis Arterial (ABG)</td>\n",
       "      <td>3594</td>\n",
       "      <td>0.309386</td>\n",
       "    </tr>\n",
       "    <tr>\n",
       "      <th>20</th>\n",
       "      <td>10531</td>\n",
       "      <td>CRP (C-Reactive Protein)</td>\n",
       "      <td>3233</td>\n",
       "      <td>0.278310</td>\n",
       "    </tr>\n",
       "    <tr>\n",
       "      <th>21</th>\n",
       "      <td>10793</td>\n",
       "      <td>Grouping+ICT+Cross Matching + Screening</td>\n",
       "      <td>3097</td>\n",
       "      <td>0.266603</td>\n",
       "    </tr>\n",
       "    <tr>\n",
       "      <th>22</th>\n",
       "      <td>10309</td>\n",
       "      <td>TSH</td>\n",
       "      <td>2959</td>\n",
       "      <td>0.254723</td>\n",
       "    </tr>\n",
       "    <tr>\n",
       "      <th>23</th>\n",
       "      <td>10693</td>\n",
       "      <td>FBG - Fasting blood glucose</td>\n",
       "      <td>2938</td>\n",
       "      <td>0.252915</td>\n",
       "    </tr>\n",
       "    <tr>\n",
       "      <th>24</th>\n",
       "      <td>10816</td>\n",
       "      <td>HbA1c</td>\n",
       "      <td>2466</td>\n",
       "      <td>0.212284</td>\n",
       "    </tr>\n",
       "  </tbody>\n",
       "</table>\n",
       "</div>"
      ],
      "text/plain": [
       "    test_key                                          test_name  \\\n",
       "0      10655                                                CBC   \n",
       "1      10994                Complete Urine Analysis (Urine R/E)   \n",
       "2      10252                                      Urine for C/S   \n",
       "3      10217                                      Blood for C/S   \n",
       "4      10616                                        Urine R/M/E   \n",
       "5      10937                                 Electrolytes Serum   \n",
       "6      10057              Grouping + Cross Matching + Screening   \n",
       "7      10617                                          Stool R/E   \n",
       "8      10157                                      Stool for C/S   \n",
       "9      10899                             Serum creatinine level   \n",
       "10     11079  Renal Function Test (Urea, Creatinine, Electro...   \n",
       "11     10191                            Lipid Profile Serum (F)   \n",
       "12     10550                              Prothrombin Time (PT)   \n",
       "13     10453                         RBG - Random blood glucose   \n",
       "14     10664                                   Blood Film (PBF)   \n",
       "15     10921                                    ALT(SGPT) Serum   \n",
       "16     10577                                     Sputum for C/S   \n",
       "17     10626                            Lipid Profile Serum (R)   \n",
       "18     10735                          Tracheal Aspirate for C/S   \n",
       "19     10914                  Blood Gas Analysis Arterial (ABG)   \n",
       "20     10531                           CRP (C-Reactive Protein)   \n",
       "21     10793            Grouping+ICT+Cross Matching + Screening   \n",
       "22     10309                                                TSH   \n",
       "23     10693                        FBG - Fasting blood glucose   \n",
       "24     10816                                              HbA1c   \n",
       "\n",
       "    total_records      ratio  \n",
       "0          627690  54.034162  \n",
       "1          121310  10.442869  \n",
       "2          110052   9.473733  \n",
       "3           77688   6.687706  \n",
       "4           29287   2.521147  \n",
       "5           24024   2.068086  \n",
       "6           16965   1.460418  \n",
       "7           12854   1.106526  \n",
       "8            9328   0.802993  \n",
       "9            7647   0.658286  \n",
       "10           6186   0.532517  \n",
       "11           5248   0.451770  \n",
       "12           5065   0.436016  \n",
       "13           4648   0.400119  \n",
       "14           4545   0.391252  \n",
       "15           4205   0.361984  \n",
       "16           3666   0.315585  \n",
       "17           3644   0.313691  \n",
       "18           3619   0.311539  \n",
       "19           3594   0.309386  \n",
       "20           3233   0.278310  \n",
       "21           3097   0.266603  \n",
       "22           2959   0.254723  \n",
       "23           2938   0.252915  \n",
       "24           2466   0.212284  "
      ]
     },
     "execution_count": 14,
     "metadata": {},
     "output_type": "execute_result"
    }
   ],
   "source": [
    "total_records = 1161654\n",
    "test_df['ratio'] = test_df['total_records'].apply(lambda x: (x/total_records)*100.00)\n",
    "test_df"
   ]
  },
  {
   "cell_type": "code",
   "execution_count": 17,
   "id": "cefa611b",
   "metadata": {},
   "outputs": [
    {
     "data": {
      "text/plain": [
       "94.34461552235003"
      ]
     },
     "execution_count": 17,
     "metadata": {},
     "output_type": "execute_result"
    }
   ],
   "source": [
    "r_total = test_df['ratio'].sum()\n",
    "r_total"
   ]
  },
  {
   "cell_type": "code",
   "execution_count": 30,
   "id": "f2314ef8",
   "metadata": {},
   "outputs": [
    {
     "data": {
      "application/vnd.plotly.v1+json": {
       "config": {
        "plotlyServerURL": "https://plot.ly"
       },
       "data": [
        {
         "domain": {
          "x": [
           0,
           1
          ],
          "y": [
           0,
           1
          ]
         },
         "hovertemplate": "test_name=%{label}<br>ratio=%{value}<extra></extra>",
         "labels": [
          "CBC",
          "Complete Urine Analysis (Urine R/E)",
          "Urine for C/S",
          "Blood for C/S",
          "Urine R/M/E",
          "Electrolytes Serum",
          "Grouping + Cross Matching + Screening",
          "Stool R/E",
          "Stool for C/S",
          "Serum creatinine level",
          "Renal Function Test (Urea, Creatinine, Electrolytes)",
          "Lipid Profile Serum (F)",
          "Prothrombin Time (PT)",
          "RBG - Random blood glucose",
          "Blood Film (PBF)",
          "ALT(SGPT) Serum",
          "Sputum for C/S",
          "Lipid Profile Serum (R)",
          "Tracheal Aspirate for C/S",
          "Blood Gas Analysis Arterial (ABG)",
          "CRP (C-Reactive Protein)",
          "Grouping+ICT+Cross Matching + Screening",
          "TSH",
          "FBG - Fasting blood glucose",
          "HbA1c"
         ],
         "legendgroup": "",
         "name": "",
         "showlegend": true,
         "type": "pie",
         "values": [
          54.03416163504796,
          10.442868530560736,
          9.473733142570852,
          6.687705633519103,
          2.521146572042966,
          2.0680856778352243,
          1.4604176458739004,
          1.106525695258657,
          0.8029929738114792,
          0.6582855135866618,
          0.532516566895134,
          0.4517696319213811,
          0.4360162320277811,
          0.4001191404669549,
          0.39125247276727837,
          0.36198386094310353,
          0.315584502786544,
          0.31369065143321506,
          0.31153854762261396,
          0.30938644381201286,
          0.2783100647869331,
          0.26660262005726315,
          0.25472300702274514,
          0.2529152398218403,
          0.21228351987769165
         ]
        }
       ],
       "layout": {
        "legend": {
         "tracegroupgap": 0
        },
        "template": {
         "data": {
          "bar": [
           {
            "error_x": {
             "color": "#2a3f5f"
            },
            "error_y": {
             "color": "#2a3f5f"
            },
            "marker": {
             "line": {
              "color": "#E5ECF6",
              "width": 0.5
             },
             "pattern": {
              "fillmode": "overlay",
              "size": 10,
              "solidity": 0.2
             }
            },
            "type": "bar"
           }
          ],
          "barpolar": [
           {
            "marker": {
             "line": {
              "color": "#E5ECF6",
              "width": 0.5
             },
             "pattern": {
              "fillmode": "overlay",
              "size": 10,
              "solidity": 0.2
             }
            },
            "type": "barpolar"
           }
          ],
          "carpet": [
           {
            "aaxis": {
             "endlinecolor": "#2a3f5f",
             "gridcolor": "white",
             "linecolor": "white",
             "minorgridcolor": "white",
             "startlinecolor": "#2a3f5f"
            },
            "baxis": {
             "endlinecolor": "#2a3f5f",
             "gridcolor": "white",
             "linecolor": "white",
             "minorgridcolor": "white",
             "startlinecolor": "#2a3f5f"
            },
            "type": "carpet"
           }
          ],
          "choropleth": [
           {
            "colorbar": {
             "outlinewidth": 0,
             "ticks": ""
            },
            "type": "choropleth"
           }
          ],
          "contour": [
           {
            "colorbar": {
             "outlinewidth": 0,
             "ticks": ""
            },
            "colorscale": [
             [
              0,
              "#0d0887"
             ],
             [
              0.1111111111111111,
              "#46039f"
             ],
             [
              0.2222222222222222,
              "#7201a8"
             ],
             [
              0.3333333333333333,
              "#9c179e"
             ],
             [
              0.4444444444444444,
              "#bd3786"
             ],
             [
              0.5555555555555556,
              "#d8576b"
             ],
             [
              0.6666666666666666,
              "#ed7953"
             ],
             [
              0.7777777777777778,
              "#fb9f3a"
             ],
             [
              0.8888888888888888,
              "#fdca26"
             ],
             [
              1,
              "#f0f921"
             ]
            ],
            "type": "contour"
           }
          ],
          "contourcarpet": [
           {
            "colorbar": {
             "outlinewidth": 0,
             "ticks": ""
            },
            "type": "contourcarpet"
           }
          ],
          "heatmap": [
           {
            "colorbar": {
             "outlinewidth": 0,
             "ticks": ""
            },
            "colorscale": [
             [
              0,
              "#0d0887"
             ],
             [
              0.1111111111111111,
              "#46039f"
             ],
             [
              0.2222222222222222,
              "#7201a8"
             ],
             [
              0.3333333333333333,
              "#9c179e"
             ],
             [
              0.4444444444444444,
              "#bd3786"
             ],
             [
              0.5555555555555556,
              "#d8576b"
             ],
             [
              0.6666666666666666,
              "#ed7953"
             ],
             [
              0.7777777777777778,
              "#fb9f3a"
             ],
             [
              0.8888888888888888,
              "#fdca26"
             ],
             [
              1,
              "#f0f921"
             ]
            ],
            "type": "heatmap"
           }
          ],
          "heatmapgl": [
           {
            "colorbar": {
             "outlinewidth": 0,
             "ticks": ""
            },
            "colorscale": [
             [
              0,
              "#0d0887"
             ],
             [
              0.1111111111111111,
              "#46039f"
             ],
             [
              0.2222222222222222,
              "#7201a8"
             ],
             [
              0.3333333333333333,
              "#9c179e"
             ],
             [
              0.4444444444444444,
              "#bd3786"
             ],
             [
              0.5555555555555556,
              "#d8576b"
             ],
             [
              0.6666666666666666,
              "#ed7953"
             ],
             [
              0.7777777777777778,
              "#fb9f3a"
             ],
             [
              0.8888888888888888,
              "#fdca26"
             ],
             [
              1,
              "#f0f921"
             ]
            ],
            "type": "heatmapgl"
           }
          ],
          "histogram": [
           {
            "marker": {
             "pattern": {
              "fillmode": "overlay",
              "size": 10,
              "solidity": 0.2
             }
            },
            "type": "histogram"
           }
          ],
          "histogram2d": [
           {
            "colorbar": {
             "outlinewidth": 0,
             "ticks": ""
            },
            "colorscale": [
             [
              0,
              "#0d0887"
             ],
             [
              0.1111111111111111,
              "#46039f"
             ],
             [
              0.2222222222222222,
              "#7201a8"
             ],
             [
              0.3333333333333333,
              "#9c179e"
             ],
             [
              0.4444444444444444,
              "#bd3786"
             ],
             [
              0.5555555555555556,
              "#d8576b"
             ],
             [
              0.6666666666666666,
              "#ed7953"
             ],
             [
              0.7777777777777778,
              "#fb9f3a"
             ],
             [
              0.8888888888888888,
              "#fdca26"
             ],
             [
              1,
              "#f0f921"
             ]
            ],
            "type": "histogram2d"
           }
          ],
          "histogram2dcontour": [
           {
            "colorbar": {
             "outlinewidth": 0,
             "ticks": ""
            },
            "colorscale": [
             [
              0,
              "#0d0887"
             ],
             [
              0.1111111111111111,
              "#46039f"
             ],
             [
              0.2222222222222222,
              "#7201a8"
             ],
             [
              0.3333333333333333,
              "#9c179e"
             ],
             [
              0.4444444444444444,
              "#bd3786"
             ],
             [
              0.5555555555555556,
              "#d8576b"
             ],
             [
              0.6666666666666666,
              "#ed7953"
             ],
             [
              0.7777777777777778,
              "#fb9f3a"
             ],
             [
              0.8888888888888888,
              "#fdca26"
             ],
             [
              1,
              "#f0f921"
             ]
            ],
            "type": "histogram2dcontour"
           }
          ],
          "mesh3d": [
           {
            "colorbar": {
             "outlinewidth": 0,
             "ticks": ""
            },
            "type": "mesh3d"
           }
          ],
          "parcoords": [
           {
            "line": {
             "colorbar": {
              "outlinewidth": 0,
              "ticks": ""
             }
            },
            "type": "parcoords"
           }
          ],
          "pie": [
           {
            "automargin": true,
            "type": "pie"
           }
          ],
          "scatter": [
           {
            "fillpattern": {
             "fillmode": "overlay",
             "size": 10,
             "solidity": 0.2
            },
            "type": "scatter"
           }
          ],
          "scatter3d": [
           {
            "line": {
             "colorbar": {
              "outlinewidth": 0,
              "ticks": ""
             }
            },
            "marker": {
             "colorbar": {
              "outlinewidth": 0,
              "ticks": ""
             }
            },
            "type": "scatter3d"
           }
          ],
          "scattercarpet": [
           {
            "marker": {
             "colorbar": {
              "outlinewidth": 0,
              "ticks": ""
             }
            },
            "type": "scattercarpet"
           }
          ],
          "scattergeo": [
           {
            "marker": {
             "colorbar": {
              "outlinewidth": 0,
              "ticks": ""
             }
            },
            "type": "scattergeo"
           }
          ],
          "scattergl": [
           {
            "marker": {
             "colorbar": {
              "outlinewidth": 0,
              "ticks": ""
             }
            },
            "type": "scattergl"
           }
          ],
          "scattermapbox": [
           {
            "marker": {
             "colorbar": {
              "outlinewidth": 0,
              "ticks": ""
             }
            },
            "type": "scattermapbox"
           }
          ],
          "scatterpolar": [
           {
            "marker": {
             "colorbar": {
              "outlinewidth": 0,
              "ticks": ""
             }
            },
            "type": "scatterpolar"
           }
          ],
          "scatterpolargl": [
           {
            "marker": {
             "colorbar": {
              "outlinewidth": 0,
              "ticks": ""
             }
            },
            "type": "scatterpolargl"
           }
          ],
          "scatterternary": [
           {
            "marker": {
             "colorbar": {
              "outlinewidth": 0,
              "ticks": ""
             }
            },
            "type": "scatterternary"
           }
          ],
          "surface": [
           {
            "colorbar": {
             "outlinewidth": 0,
             "ticks": ""
            },
            "colorscale": [
             [
              0,
              "#0d0887"
             ],
             [
              0.1111111111111111,
              "#46039f"
             ],
             [
              0.2222222222222222,
              "#7201a8"
             ],
             [
              0.3333333333333333,
              "#9c179e"
             ],
             [
              0.4444444444444444,
              "#bd3786"
             ],
             [
              0.5555555555555556,
              "#d8576b"
             ],
             [
              0.6666666666666666,
              "#ed7953"
             ],
             [
              0.7777777777777778,
              "#fb9f3a"
             ],
             [
              0.8888888888888888,
              "#fdca26"
             ],
             [
              1,
              "#f0f921"
             ]
            ],
            "type": "surface"
           }
          ],
          "table": [
           {
            "cells": {
             "fill": {
              "color": "#EBF0F8"
             },
             "line": {
              "color": "white"
             }
            },
            "header": {
             "fill": {
              "color": "#C8D4E3"
             },
             "line": {
              "color": "white"
             }
            },
            "type": "table"
           }
          ]
         },
         "layout": {
          "annotationdefaults": {
           "arrowcolor": "#2a3f5f",
           "arrowhead": 0,
           "arrowwidth": 1
          },
          "autotypenumbers": "strict",
          "coloraxis": {
           "colorbar": {
            "outlinewidth": 0,
            "ticks": ""
           }
          },
          "colorscale": {
           "diverging": [
            [
             0,
             "#8e0152"
            ],
            [
             0.1,
             "#c51b7d"
            ],
            [
             0.2,
             "#de77ae"
            ],
            [
             0.3,
             "#f1b6da"
            ],
            [
             0.4,
             "#fde0ef"
            ],
            [
             0.5,
             "#f7f7f7"
            ],
            [
             0.6,
             "#e6f5d0"
            ],
            [
             0.7,
             "#b8e186"
            ],
            [
             0.8,
             "#7fbc41"
            ],
            [
             0.9,
             "#4d9221"
            ],
            [
             1,
             "#276419"
            ]
           ],
           "sequential": [
            [
             0,
             "#0d0887"
            ],
            [
             0.1111111111111111,
             "#46039f"
            ],
            [
             0.2222222222222222,
             "#7201a8"
            ],
            [
             0.3333333333333333,
             "#9c179e"
            ],
            [
             0.4444444444444444,
             "#bd3786"
            ],
            [
             0.5555555555555556,
             "#d8576b"
            ],
            [
             0.6666666666666666,
             "#ed7953"
            ],
            [
             0.7777777777777778,
             "#fb9f3a"
            ],
            [
             0.8888888888888888,
             "#fdca26"
            ],
            [
             1,
             "#f0f921"
            ]
           ],
           "sequentialminus": [
            [
             0,
             "#0d0887"
            ],
            [
             0.1111111111111111,
             "#46039f"
            ],
            [
             0.2222222222222222,
             "#7201a8"
            ],
            [
             0.3333333333333333,
             "#9c179e"
            ],
            [
             0.4444444444444444,
             "#bd3786"
            ],
            [
             0.5555555555555556,
             "#d8576b"
            ],
            [
             0.6666666666666666,
             "#ed7953"
            ],
            [
             0.7777777777777778,
             "#fb9f3a"
            ],
            [
             0.8888888888888888,
             "#fdca26"
            ],
            [
             1,
             "#f0f921"
            ]
           ]
          },
          "colorway": [
           "#636efa",
           "#EF553B",
           "#00cc96",
           "#ab63fa",
           "#FFA15A",
           "#19d3f3",
           "#FF6692",
           "#B6E880",
           "#FF97FF",
           "#FECB52"
          ],
          "font": {
           "color": "#2a3f5f"
          },
          "geo": {
           "bgcolor": "white",
           "lakecolor": "white",
           "landcolor": "#E5ECF6",
           "showlakes": true,
           "showland": true,
           "subunitcolor": "white"
          },
          "hoverlabel": {
           "align": "left"
          },
          "hovermode": "closest",
          "mapbox": {
           "style": "light"
          },
          "paper_bgcolor": "white",
          "plot_bgcolor": "#E5ECF6",
          "polar": {
           "angularaxis": {
            "gridcolor": "white",
            "linecolor": "white",
            "ticks": ""
           },
           "bgcolor": "#E5ECF6",
           "radialaxis": {
            "gridcolor": "white",
            "linecolor": "white",
            "ticks": ""
           }
          },
          "scene": {
           "xaxis": {
            "backgroundcolor": "#E5ECF6",
            "gridcolor": "white",
            "gridwidth": 2,
            "linecolor": "white",
            "showbackground": true,
            "ticks": "",
            "zerolinecolor": "white"
           },
           "yaxis": {
            "backgroundcolor": "#E5ECF6",
            "gridcolor": "white",
            "gridwidth": 2,
            "linecolor": "white",
            "showbackground": true,
            "ticks": "",
            "zerolinecolor": "white"
           },
           "zaxis": {
            "backgroundcolor": "#E5ECF6",
            "gridcolor": "white",
            "gridwidth": 2,
            "linecolor": "white",
            "showbackground": true,
            "ticks": "",
            "zerolinecolor": "white"
           }
          },
          "shapedefaults": {
           "line": {
            "color": "#2a3f5f"
           }
          },
          "ternary": {
           "aaxis": {
            "gridcolor": "white",
            "linecolor": "white",
            "ticks": ""
           },
           "baxis": {
            "gridcolor": "white",
            "linecolor": "white",
            "ticks": ""
           },
           "bgcolor": "#E5ECF6",
           "caxis": {
            "gridcolor": "white",
            "linecolor": "white",
            "ticks": ""
           }
          },
          "title": {
           "x": 0.05
          },
          "xaxis": {
           "automargin": true,
           "gridcolor": "white",
           "linecolor": "white",
           "ticks": "",
           "title": {
            "standoff": 15
           },
           "zerolinecolor": "white",
           "zerolinewidth": 2
          },
          "yaxis": {
           "automargin": true,
           "gridcolor": "white",
           "linecolor": "white",
           "ticks": "",
           "title": {
            "standoff": 15
           },
           "zerolinecolor": "white",
           "zerolinewidth": 2
          }
         }
        },
        "title": {
         "text": "Source-1 Lab Tests Results Record %"
        }
       }
      },
      "text/html": [
       "<div>                            <div id=\"92e514ce-d92a-4d4b-ac05-f574c95d5fb2\" class=\"plotly-graph-div\" style=\"height:525px; width:100%;\"></div>            <script type=\"text/javascript\">                require([\"plotly\"], function(Plotly) {                    window.PLOTLYENV=window.PLOTLYENV || {};                                    if (document.getElementById(\"92e514ce-d92a-4d4b-ac05-f574c95d5fb2\")) {                    Plotly.newPlot(                        \"92e514ce-d92a-4d4b-ac05-f574c95d5fb2\",                        [{\"domain\":{\"x\":[0.0,1.0],\"y\":[0.0,1.0]},\"hovertemplate\":\"test_name=%{label}<br>ratio=%{value}<extra></extra>\",\"labels\":[\"CBC\",\"Complete Urine Analysis (Urine R/E)\",\"Urine for C/S\",\"Blood for C/S\",\"Urine R/M/E\",\"Electrolytes Serum\",\"Grouping + Cross Matching + Screening\",\"Stool R/E\",\"Stool for C/S\",\"Serum creatinine level\",\"Renal Function Test (Urea, Creatinine, Electrolytes)\",\"Lipid Profile Serum (F)\",\"Prothrombin Time (PT)\",\"RBG - Random blood glucose\",\"Blood Film (PBF)\",\"ALT(SGPT) Serum\",\"Sputum for C/S\",\"Lipid Profile Serum (R)\",\"Tracheal Aspirate for C/S\",\"Blood Gas Analysis Arterial (ABG)\",\"CRP (C-Reactive Protein)\",\"Grouping+ICT+Cross Matching + Screening\",\"TSH\",\"FBG - Fasting blood glucose\",\"HbA1c\"],\"legendgroup\":\"\",\"name\":\"\",\"showlegend\":true,\"values\":[54.03416163504796,10.442868530560736,9.473733142570852,6.687705633519103,2.521146572042966,2.0680856778352243,1.4604176458739004,1.106525695258657,0.8029929738114792,0.6582855135866618,0.532516566895134,0.4517696319213811,0.4360162320277811,0.4001191404669549,0.39125247276727837,0.36198386094310353,0.315584502786544,0.31369065143321506,0.31153854762261396,0.30938644381201286,0.2783100647869331,0.26660262005726315,0.25472300702274514,0.2529152398218403,0.21228351987769165],\"type\":\"pie\"}],                        {\"template\":{\"data\":{\"histogram2dcontour\":[{\"type\":\"histogram2dcontour\",\"colorbar\":{\"outlinewidth\":0,\"ticks\":\"\"},\"colorscale\":[[0.0,\"#0d0887\"],[0.1111111111111111,\"#46039f\"],[0.2222222222222222,\"#7201a8\"],[0.3333333333333333,\"#9c179e\"],[0.4444444444444444,\"#bd3786\"],[0.5555555555555556,\"#d8576b\"],[0.6666666666666666,\"#ed7953\"],[0.7777777777777778,\"#fb9f3a\"],[0.8888888888888888,\"#fdca26\"],[1.0,\"#f0f921\"]]}],\"choropleth\":[{\"type\":\"choropleth\",\"colorbar\":{\"outlinewidth\":0,\"ticks\":\"\"}}],\"histogram2d\":[{\"type\":\"histogram2d\",\"colorbar\":{\"outlinewidth\":0,\"ticks\":\"\"},\"colorscale\":[[0.0,\"#0d0887\"],[0.1111111111111111,\"#46039f\"],[0.2222222222222222,\"#7201a8\"],[0.3333333333333333,\"#9c179e\"],[0.4444444444444444,\"#bd3786\"],[0.5555555555555556,\"#d8576b\"],[0.6666666666666666,\"#ed7953\"],[0.7777777777777778,\"#fb9f3a\"],[0.8888888888888888,\"#fdca26\"],[1.0,\"#f0f921\"]]}],\"heatmap\":[{\"type\":\"heatmap\",\"colorbar\":{\"outlinewidth\":0,\"ticks\":\"\"},\"colorscale\":[[0.0,\"#0d0887\"],[0.1111111111111111,\"#46039f\"],[0.2222222222222222,\"#7201a8\"],[0.3333333333333333,\"#9c179e\"],[0.4444444444444444,\"#bd3786\"],[0.5555555555555556,\"#d8576b\"],[0.6666666666666666,\"#ed7953\"],[0.7777777777777778,\"#fb9f3a\"],[0.8888888888888888,\"#fdca26\"],[1.0,\"#f0f921\"]]}],\"heatmapgl\":[{\"type\":\"heatmapgl\",\"colorbar\":{\"outlinewidth\":0,\"ticks\":\"\"},\"colorscale\":[[0.0,\"#0d0887\"],[0.1111111111111111,\"#46039f\"],[0.2222222222222222,\"#7201a8\"],[0.3333333333333333,\"#9c179e\"],[0.4444444444444444,\"#bd3786\"],[0.5555555555555556,\"#d8576b\"],[0.6666666666666666,\"#ed7953\"],[0.7777777777777778,\"#fb9f3a\"],[0.8888888888888888,\"#fdca26\"],[1.0,\"#f0f921\"]]}],\"contourcarpet\":[{\"type\":\"contourcarpet\",\"colorbar\":{\"outlinewidth\":0,\"ticks\":\"\"}}],\"contour\":[{\"type\":\"contour\",\"colorbar\":{\"outlinewidth\":0,\"ticks\":\"\"},\"colorscale\":[[0.0,\"#0d0887\"],[0.1111111111111111,\"#46039f\"],[0.2222222222222222,\"#7201a8\"],[0.3333333333333333,\"#9c179e\"],[0.4444444444444444,\"#bd3786\"],[0.5555555555555556,\"#d8576b\"],[0.6666666666666666,\"#ed7953\"],[0.7777777777777778,\"#fb9f3a\"],[0.8888888888888888,\"#fdca26\"],[1.0,\"#f0f921\"]]}],\"surface\":[{\"type\":\"surface\",\"colorbar\":{\"outlinewidth\":0,\"ticks\":\"\"},\"colorscale\":[[0.0,\"#0d0887\"],[0.1111111111111111,\"#46039f\"],[0.2222222222222222,\"#7201a8\"],[0.3333333333333333,\"#9c179e\"],[0.4444444444444444,\"#bd3786\"],[0.5555555555555556,\"#d8576b\"],[0.6666666666666666,\"#ed7953\"],[0.7777777777777778,\"#fb9f3a\"],[0.8888888888888888,\"#fdca26\"],[1.0,\"#f0f921\"]]}],\"mesh3d\":[{\"type\":\"mesh3d\",\"colorbar\":{\"outlinewidth\":0,\"ticks\":\"\"}}],\"scatter\":[{\"fillpattern\":{\"fillmode\":\"overlay\",\"size\":10,\"solidity\":0.2},\"type\":\"scatter\"}],\"parcoords\":[{\"type\":\"parcoords\",\"line\":{\"colorbar\":{\"outlinewidth\":0,\"ticks\":\"\"}}}],\"scatterpolargl\":[{\"type\":\"scatterpolargl\",\"marker\":{\"colorbar\":{\"outlinewidth\":0,\"ticks\":\"\"}}}],\"bar\":[{\"error_x\":{\"color\":\"#2a3f5f\"},\"error_y\":{\"color\":\"#2a3f5f\"},\"marker\":{\"line\":{\"color\":\"#E5ECF6\",\"width\":0.5},\"pattern\":{\"fillmode\":\"overlay\",\"size\":10,\"solidity\":0.2}},\"type\":\"bar\"}],\"scattergeo\":[{\"type\":\"scattergeo\",\"marker\":{\"colorbar\":{\"outlinewidth\":0,\"ticks\":\"\"}}}],\"scatterpolar\":[{\"type\":\"scatterpolar\",\"marker\":{\"colorbar\":{\"outlinewidth\":0,\"ticks\":\"\"}}}],\"histogram\":[{\"marker\":{\"pattern\":{\"fillmode\":\"overlay\",\"size\":10,\"solidity\":0.2}},\"type\":\"histogram\"}],\"scattergl\":[{\"type\":\"scattergl\",\"marker\":{\"colorbar\":{\"outlinewidth\":0,\"ticks\":\"\"}}}],\"scatter3d\":[{\"type\":\"scatter3d\",\"line\":{\"colorbar\":{\"outlinewidth\":0,\"ticks\":\"\"}},\"marker\":{\"colorbar\":{\"outlinewidth\":0,\"ticks\":\"\"}}}],\"scattermapbox\":[{\"type\":\"scattermapbox\",\"marker\":{\"colorbar\":{\"outlinewidth\":0,\"ticks\":\"\"}}}],\"scatterternary\":[{\"type\":\"scatterternary\",\"marker\":{\"colorbar\":{\"outlinewidth\":0,\"ticks\":\"\"}}}],\"scattercarpet\":[{\"type\":\"scattercarpet\",\"marker\":{\"colorbar\":{\"outlinewidth\":0,\"ticks\":\"\"}}}],\"carpet\":[{\"aaxis\":{\"endlinecolor\":\"#2a3f5f\",\"gridcolor\":\"white\",\"linecolor\":\"white\",\"minorgridcolor\":\"white\",\"startlinecolor\":\"#2a3f5f\"},\"baxis\":{\"endlinecolor\":\"#2a3f5f\",\"gridcolor\":\"white\",\"linecolor\":\"white\",\"minorgridcolor\":\"white\",\"startlinecolor\":\"#2a3f5f\"},\"type\":\"carpet\"}],\"table\":[{\"cells\":{\"fill\":{\"color\":\"#EBF0F8\"},\"line\":{\"color\":\"white\"}},\"header\":{\"fill\":{\"color\":\"#C8D4E3\"},\"line\":{\"color\":\"white\"}},\"type\":\"table\"}],\"barpolar\":[{\"marker\":{\"line\":{\"color\":\"#E5ECF6\",\"width\":0.5},\"pattern\":{\"fillmode\":\"overlay\",\"size\":10,\"solidity\":0.2}},\"type\":\"barpolar\"}],\"pie\":[{\"automargin\":true,\"type\":\"pie\"}]},\"layout\":{\"autotypenumbers\":\"strict\",\"colorway\":[\"#636efa\",\"#EF553B\",\"#00cc96\",\"#ab63fa\",\"#FFA15A\",\"#19d3f3\",\"#FF6692\",\"#B6E880\",\"#FF97FF\",\"#FECB52\"],\"font\":{\"color\":\"#2a3f5f\"},\"hovermode\":\"closest\",\"hoverlabel\":{\"align\":\"left\"},\"paper_bgcolor\":\"white\",\"plot_bgcolor\":\"#E5ECF6\",\"polar\":{\"bgcolor\":\"#E5ECF6\",\"angularaxis\":{\"gridcolor\":\"white\",\"linecolor\":\"white\",\"ticks\":\"\"},\"radialaxis\":{\"gridcolor\":\"white\",\"linecolor\":\"white\",\"ticks\":\"\"}},\"ternary\":{\"bgcolor\":\"#E5ECF6\",\"aaxis\":{\"gridcolor\":\"white\",\"linecolor\":\"white\",\"ticks\":\"\"},\"baxis\":{\"gridcolor\":\"white\",\"linecolor\":\"white\",\"ticks\":\"\"},\"caxis\":{\"gridcolor\":\"white\",\"linecolor\":\"white\",\"ticks\":\"\"}},\"coloraxis\":{\"colorbar\":{\"outlinewidth\":0,\"ticks\":\"\"}},\"colorscale\":{\"sequential\":[[0.0,\"#0d0887\"],[0.1111111111111111,\"#46039f\"],[0.2222222222222222,\"#7201a8\"],[0.3333333333333333,\"#9c179e\"],[0.4444444444444444,\"#bd3786\"],[0.5555555555555556,\"#d8576b\"],[0.6666666666666666,\"#ed7953\"],[0.7777777777777778,\"#fb9f3a\"],[0.8888888888888888,\"#fdca26\"],[1.0,\"#f0f921\"]],\"sequentialminus\":[[0.0,\"#0d0887\"],[0.1111111111111111,\"#46039f\"],[0.2222222222222222,\"#7201a8\"],[0.3333333333333333,\"#9c179e\"],[0.4444444444444444,\"#bd3786\"],[0.5555555555555556,\"#d8576b\"],[0.6666666666666666,\"#ed7953\"],[0.7777777777777778,\"#fb9f3a\"],[0.8888888888888888,\"#fdca26\"],[1.0,\"#f0f921\"]],\"diverging\":[[0,\"#8e0152\"],[0.1,\"#c51b7d\"],[0.2,\"#de77ae\"],[0.3,\"#f1b6da\"],[0.4,\"#fde0ef\"],[0.5,\"#f7f7f7\"],[0.6,\"#e6f5d0\"],[0.7,\"#b8e186\"],[0.8,\"#7fbc41\"],[0.9,\"#4d9221\"],[1,\"#276419\"]]},\"xaxis\":{\"gridcolor\":\"white\",\"linecolor\":\"white\",\"ticks\":\"\",\"title\":{\"standoff\":15},\"zerolinecolor\":\"white\",\"automargin\":true,\"zerolinewidth\":2},\"yaxis\":{\"gridcolor\":\"white\",\"linecolor\":\"white\",\"ticks\":\"\",\"title\":{\"standoff\":15},\"zerolinecolor\":\"white\",\"automargin\":true,\"zerolinewidth\":2},\"scene\":{\"xaxis\":{\"backgroundcolor\":\"#E5ECF6\",\"gridcolor\":\"white\",\"linecolor\":\"white\",\"showbackground\":true,\"ticks\":\"\",\"zerolinecolor\":\"white\",\"gridwidth\":2},\"yaxis\":{\"backgroundcolor\":\"#E5ECF6\",\"gridcolor\":\"white\",\"linecolor\":\"white\",\"showbackground\":true,\"ticks\":\"\",\"zerolinecolor\":\"white\",\"gridwidth\":2},\"zaxis\":{\"backgroundcolor\":\"#E5ECF6\",\"gridcolor\":\"white\",\"linecolor\":\"white\",\"showbackground\":true,\"ticks\":\"\",\"zerolinecolor\":\"white\",\"gridwidth\":2}},\"shapedefaults\":{\"line\":{\"color\":\"#2a3f5f\"}},\"annotationdefaults\":{\"arrowcolor\":\"#2a3f5f\",\"arrowhead\":0,\"arrowwidth\":1},\"geo\":{\"bgcolor\":\"white\",\"landcolor\":\"#E5ECF6\",\"subunitcolor\":\"white\",\"showland\":true,\"showlakes\":true,\"lakecolor\":\"white\"},\"title\":{\"x\":0.05},\"mapbox\":{\"style\":\"light\"}}},\"legend\":{\"tracegroupgap\":0},\"title\":{\"text\":\"Source-1 Lab Tests Results Record %\"}},                        {\"responsive\": true}                    ).then(function(){\n",
       "                            \n",
       "var gd = document.getElementById('92e514ce-d92a-4d4b-ac05-f574c95d5fb2');\n",
       "var x = new MutationObserver(function (mutations, observer) {{\n",
       "        var display = window.getComputedStyle(gd).display;\n",
       "        if (!display || display === 'none') {{\n",
       "            console.log([gd, 'removed!']);\n",
       "            Plotly.purge(gd);\n",
       "            observer.disconnect();\n",
       "        }}\n",
       "}});\n",
       "\n",
       "// Listen for the removal of the full notebook cells\n",
       "var notebookContainer = gd.closest('#notebook-container');\n",
       "if (notebookContainer) {{\n",
       "    x.observe(notebookContainer, {childList: true});\n",
       "}}\n",
       "\n",
       "// Listen for the clearing of the current output cell\n",
       "var outputEl = gd.closest('.output');\n",
       "if (outputEl) {{\n",
       "    x.observe(outputEl, {childList: true});\n",
       "}}\n",
       "\n",
       "                        })                };                });            </script>        </div>"
      ]
     },
     "metadata": {},
     "output_type": "display_data"
    },
    {
     "ename": "ValueError",
     "evalue": "\nImage export using the \"kaleido\" engine requires the kaleido package,\nwhich can be installed using pip:\n    $ pip install -U kaleido\n",
     "output_type": "error",
     "traceback": [
      "\u001b[0;31m---------------------------------------------------------------------------\u001b[0m",
      "\u001b[0;31mValueError\u001b[0m                                Traceback (most recent call last)",
      "Input \u001b[0;32mIn [30]\u001b[0m, in \u001b[0;36m<cell line: 10>\u001b[0;34m()\u001b[0m\n\u001b[1;32m      8\u001b[0m \u001b[38;5;66;03m# explode = (0, 0.1, 0, 0)  # only \"explode\" the 2nd slice (i.e. 'Hogs')\u001b[39;00m\n\u001b[1;32m      9\u001b[0m fig\u001b[38;5;241m.\u001b[39mshow()\n\u001b[0;32m---> 10\u001b[0m \u001b[43mfig\u001b[49m\u001b[38;5;241;43m.\u001b[39;49m\u001b[43mwrite_image\u001b[49m\u001b[43m(\u001b[49m\u001b[43mdata_dir\u001b[49m\u001b[43m \u001b[49m\u001b[38;5;241;43m+\u001b[39;49m\u001b[43m \u001b[49m\u001b[38;5;124;43m\"\u001b[39;49m\u001b[38;5;124;43mgraphs/source-1.png\u001b[39;49m\u001b[38;5;124;43m\"\u001b[39;49m\u001b[43m)\u001b[49m\n",
      "File \u001b[0;32m~/NCDW/standardization/stdenv/lib/python3.8/site-packages/plotly/basedatatypes.py:3831\u001b[0m, in \u001b[0;36mBaseFigure.write_image\u001b[0;34m(self, *args, **kwargs)\u001b[0m\n\u001b[1;32m   3771\u001b[0m \u001b[38;5;124;03m\"\"\"\u001b[39;00m\n\u001b[1;32m   3772\u001b[0m \u001b[38;5;124;03mConvert a figure to a static image and write it to a file or writeable\u001b[39;00m\n\u001b[1;32m   3773\u001b[0m \u001b[38;5;124;03mobject\u001b[39;00m\n\u001b[0;32m   (...)\u001b[0m\n\u001b[1;32m   3827\u001b[0m \u001b[38;5;124;03mNone\u001b[39;00m\n\u001b[1;32m   3828\u001b[0m \u001b[38;5;124;03m\"\"\"\u001b[39;00m\n\u001b[1;32m   3829\u001b[0m \u001b[38;5;28;01mimport\u001b[39;00m \u001b[38;5;21;01mplotly\u001b[39;00m\u001b[38;5;21;01m.\u001b[39;00m\u001b[38;5;21;01mio\u001b[39;00m \u001b[38;5;28;01mas\u001b[39;00m \u001b[38;5;21;01mpio\u001b[39;00m\n\u001b[0;32m-> 3831\u001b[0m \u001b[38;5;28;01mreturn\u001b[39;00m \u001b[43mpio\u001b[49m\u001b[38;5;241;43m.\u001b[39;49m\u001b[43mwrite_image\u001b[49m\u001b[43m(\u001b[49m\u001b[38;5;28;43mself\u001b[39;49m\u001b[43m,\u001b[49m\u001b[43m \u001b[49m\u001b[38;5;241;43m*\u001b[39;49m\u001b[43margs\u001b[49m\u001b[43m,\u001b[49m\u001b[43m \u001b[49m\u001b[38;5;241;43m*\u001b[39;49m\u001b[38;5;241;43m*\u001b[39;49m\u001b[43mkwargs\u001b[49m\u001b[43m)\u001b[49m\n",
      "File \u001b[0;32m~/NCDW/standardization/stdenv/lib/python3.8/site-packages/plotly/io/_kaleido.py:268\u001b[0m, in \u001b[0;36mwrite_image\u001b[0;34m(fig, file, format, scale, width, height, validate, engine)\u001b[0m\n\u001b[1;32m    252\u001b[0m             \u001b[38;5;28;01mraise\u001b[39;00m \u001b[38;5;167;01mValueError\u001b[39;00m(\n\u001b[1;32m    253\u001b[0m                 \u001b[38;5;124;03m\"\"\"\u001b[39;00m\n\u001b[1;32m    254\u001b[0m \u001b[38;5;124;03mCannot infer image type from output path '{file}'.\u001b[39;00m\n\u001b[0;32m   (...)\u001b[0m\n\u001b[1;32m    262\u001b[0m                 )\n\u001b[1;32m    263\u001b[0m             )\n\u001b[1;32m    265\u001b[0m     \u001b[38;5;66;03m# Request image\u001b[39;00m\n\u001b[1;32m    266\u001b[0m     \u001b[38;5;66;03m# -------------\u001b[39;00m\n\u001b[1;32m    267\u001b[0m     \u001b[38;5;66;03m# Do this first so we don't create a file if image conversion fails\u001b[39;00m\n\u001b[0;32m--> 268\u001b[0m     img_data \u001b[38;5;241m=\u001b[39m \u001b[43mto_image\u001b[49m\u001b[43m(\u001b[49m\n\u001b[1;32m    269\u001b[0m \u001b[43m        \u001b[49m\u001b[43mfig\u001b[49m\u001b[43m,\u001b[49m\n\u001b[1;32m    270\u001b[0m \u001b[43m        \u001b[49m\u001b[38;5;28;43mformat\u001b[39;49m\u001b[38;5;241;43m=\u001b[39;49m\u001b[38;5;28;43mformat\u001b[39;49m\u001b[43m,\u001b[49m\n\u001b[1;32m    271\u001b[0m \u001b[43m        \u001b[49m\u001b[43mscale\u001b[49m\u001b[38;5;241;43m=\u001b[39;49m\u001b[43mscale\u001b[49m\u001b[43m,\u001b[49m\n\u001b[1;32m    272\u001b[0m \u001b[43m        \u001b[49m\u001b[43mwidth\u001b[49m\u001b[38;5;241;43m=\u001b[39;49m\u001b[43mwidth\u001b[49m\u001b[43m,\u001b[49m\n\u001b[1;32m    273\u001b[0m \u001b[43m        \u001b[49m\u001b[43mheight\u001b[49m\u001b[38;5;241;43m=\u001b[39;49m\u001b[43mheight\u001b[49m\u001b[43m,\u001b[49m\n\u001b[1;32m    274\u001b[0m \u001b[43m        \u001b[49m\u001b[43mvalidate\u001b[49m\u001b[38;5;241;43m=\u001b[39;49m\u001b[43mvalidate\u001b[49m\u001b[43m,\u001b[49m\n\u001b[1;32m    275\u001b[0m \u001b[43m        \u001b[49m\u001b[43mengine\u001b[49m\u001b[38;5;241;43m=\u001b[39;49m\u001b[43mengine\u001b[49m\u001b[43m,\u001b[49m\n\u001b[1;32m    276\u001b[0m \u001b[43m    \u001b[49m\u001b[43m)\u001b[49m\n\u001b[1;32m    278\u001b[0m     \u001b[38;5;66;03m# Open file\u001b[39;00m\n\u001b[1;32m    279\u001b[0m     \u001b[38;5;66;03m# ---------\u001b[39;00m\n\u001b[1;32m    280\u001b[0m     \u001b[38;5;28;01mif\u001b[39;00m path \u001b[38;5;129;01mis\u001b[39;00m \u001b[38;5;28;01mNone\u001b[39;00m:\n\u001b[1;32m    281\u001b[0m         \u001b[38;5;66;03m# We previously failed to make sense of `file` as a pathlib object.\u001b[39;00m\n\u001b[1;32m    282\u001b[0m         \u001b[38;5;66;03m# Attempt to write to `file` as an open file descriptor.\u001b[39;00m\n",
      "File \u001b[0;32m~/NCDW/standardization/stdenv/lib/python3.8/site-packages/plotly/io/_kaleido.py:134\u001b[0m, in \u001b[0;36mto_image\u001b[0;34m(fig, format, width, height, scale, validate, engine)\u001b[0m\n\u001b[1;32m    132\u001b[0m     \u001b[38;5;66;03m# Raise informative error message if Kaleido is not installed\u001b[39;00m\n\u001b[1;32m    133\u001b[0m     \u001b[38;5;28;01mif\u001b[39;00m scope \u001b[38;5;129;01mis\u001b[39;00m \u001b[38;5;28;01mNone\u001b[39;00m:\n\u001b[0;32m--> 134\u001b[0m         \u001b[38;5;28;01mraise\u001b[39;00m \u001b[38;5;167;01mValueError\u001b[39;00m(\n\u001b[1;32m    135\u001b[0m             \u001b[38;5;124;03m\"\"\"\u001b[39;00m\n\u001b[1;32m    136\u001b[0m \u001b[38;5;124;03mImage export using the \"kaleido\" engine requires the kaleido package,\u001b[39;00m\n\u001b[1;32m    137\u001b[0m \u001b[38;5;124;03mwhich can be installed using pip:\u001b[39;00m\n\u001b[1;32m    138\u001b[0m \u001b[38;5;124;03m    $ pip install -U kaleido\u001b[39;00m\n\u001b[1;32m    139\u001b[0m \u001b[38;5;124;03m\"\"\"\u001b[39;00m\n\u001b[1;32m    140\u001b[0m         )\n\u001b[1;32m    142\u001b[0m     \u001b[38;5;66;03m# Validate figure\u001b[39;00m\n\u001b[1;32m    143\u001b[0m     \u001b[38;5;66;03m# ---------------\u001b[39;00m\n\u001b[1;32m    144\u001b[0m     fig_dict \u001b[38;5;241m=\u001b[39m validate_coerce_fig_to_dict(fig, validate)\n",
      "\u001b[0;31mValueError\u001b[0m: \nImage export using the \"kaleido\" engine requires the kaleido package,\nwhich can be installed using pip:\n    $ pip install -U kaleido\n"
     ]
    }
   ],
   "source": [
    "import plotly.express as px\n",
    "\n",
    "# Pie chart, where the slices will be ordered and plotted counter-clockwise:\n",
    "labels = test_df['test_name'].tolist()\n",
    "sizes = test_df['ratio'].tolist()\n",
    "# print(labels)\n",
    "fig = px.pie(test_df, values='ratio', names='test_name', title='Source-1 Lab Tests Results Record %')\n",
    "# explode = (0, 0.1, 0, 0)  # only \"explode\" the 2nd slice (i.e. 'Hogs')\n",
    "fig.show()\n",
    "fig.write_image(data_dir + \"graphs/source-1.png\")\n",
    "# fig1, ax1 = plt.subplots()\n",
    "# ax1.pie(sizes, explode=explode, labels=labels,\n",
    "#         shadow=True, startangle=90)\n",
    "# ax1.axis('equal')  # Equal aspect ratio ensures that pie is drawn as a circle.\n",
    "\n",
    "# plt.show()"
   ]
  },
  {
   "cell_type": "code",
   "execution_count": null,
   "id": "5eaaac0a",
   "metadata": {},
   "outputs": [],
   "source": []
  }
 ],
 "metadata": {
  "kernelspec": {
   "display_name": "Python 3 (ipykernel)",
   "language": "python",
   "name": "python3"
  },
  "language_info": {
   "codemirror_mode": {
    "name": "ipython",
    "version": 3
   },
   "file_extension": ".py",
   "mimetype": "text/x-python",
   "name": "python",
   "nbconvert_exporter": "python",
   "pygments_lexer": "ipython3",
   "version": "3.8.10"
  }
 },
 "nbformat": 4,
 "nbformat_minor": 5
}
